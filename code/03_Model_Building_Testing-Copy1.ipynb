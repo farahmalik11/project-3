{
 "cells": [
  {
   "cell_type": "markdown",
   "id": "596d0ffb-c7f4-4c6a-a586-b42a576ce37b",
   "metadata": {},
   "source": [
    "# NLP and Reddit Subcommunities - Modeling\n",
    "---"
   ]
  },
  {
   "cell_type": "markdown",
   "id": "878f7860-91f9-4598-98ab-a3a8dc52c80c",
   "metadata": {},
   "source": [
    "In this notebook, our objective is to build models that can accurately classify the subreddit from which a given post originates. To achieve this, we will employ pipelines, grid-searching (GridSearchCV) and randomized-searching (RandomizedSearchCV), and iterating through different hyperparameters to evaluate the performance of various machine learning algorithms. Our focus will be on testing classification models such as Logistic Regression, Multinomial Naive Bayes, and Support Vector Machines. Additionally, we will address the challenges of overfitting and underfitting by considering approaches like Random Forest and Gradient Boosting, respectively.\n",
    "\n",
    "1. <s>Linear Regression <u>**Without**</u> Log-Transformed Target Variable</s>\n",
    "2. <s>Linear Regression <u>**With**</u> Log-Transformed Target Variable</s>\n",
    "3. <s>Linear Regression <u>**With**</u> Log-Transformed Target Variable and RidgeCV Regularization</s>\n",
    "4. <s>Linear Regression <u>**With**</u> Log-Transformed Target Variable and LassoCV Regularization</s>\n",
    "\n",
    "For more information on the initial data cleaning, exploration, and visualization see the [initial notebook](../code/01_EDA_and_Cleaning.ipynb) of this analysis. For transforming our variables into model-ready form, see the [second notebook](../code/02_Feature_Engineering.ipynb) of this analysis.\n",
    "\n",
    "For more information on the background, [data](https://jse.amstat.org/v19n3/decock/DataDocumentation.txt), and a summary of methods and findings, please see the associated [README](../Farah_Malik_Proj2_README.md) for this analysis.\n",
    "\n",
    "### Contents:\n",
    "- [I. Model Building and Testing](#I.-Model-Building-and-Testing)\n",
    "    - [Sales Price - Not Log Transformed](#Modeling-Sale-Price-Modeling-(Not-Log-Transformed))\n",
    "    - [Sales Price - Log Transformed](#Modeling-Sale-Price-Modeling-(Log-Transformed))\n",
    "- [II. Regularization](#II.-Regularization)\n",
    "    - [Ridge CV](#Ridge-CV)\n",
    "    - [Lasso CV](#Lasso-CV)\n",
    "---"
   ]
  },
  {
   "cell_type": "code",
   "execution_count": null,
   "id": "297df2bd-6f08-4b31-90d5-da1d78caf63e",
   "metadata": {},
   "outputs": [],
   "source": [
    "import warnings\n",
    "warnings.filterwarnings('ignore') # Notebook was run with warnings enabled and significant ones have been addressed, remaining warnings are insignificant and have been suppressed"
   ]
  },
  {
   "cell_type": "code",
   "execution_count": 163,
   "id": "c48f2112-dd49-4d66-bd5d-91f13511d611",
   "metadata": {},
   "outputs": [],
   "source": [
    "import pandas as pd\n",
    "import numpy as np\n",
    "import matplotlib.pyplot as plt\n",
    "import seaborn as sns\n",
    "\n",
    "from nltk.stem import WordNetLemmatizer\n",
    "from nltk.stem import PorterStemmer\n",
    "from nltk.corpus import stopwords\n",
    "from nltk.tokenize import sent_tokenize, word_tokenize, RegexpTokenizer\n",
    "\n",
    "from sklearn.linear_model import LogisticRegression\n",
    "from sklearn.naive_bayes import MultinomialNB\n",
    "from sklearn.model_selection import train_test_split, cross_val_score, GridSearchCV, RandomizedSearchCV\n",
    "from sklearn.feature_extraction.text import CountVectorizer, TfidfVectorizer\n",
    "from sklearn.pipeline import Pipeline\n",
    "from sklearn.metrics import ConfusionMatrixDisplay, classification_report, RocCurveDisplay, roc_auc_score\n",
    "from sklearn.svm import LinearSVC, SVC\n",
    "from sklearn import datasets\n",
    "from sklearn.ensemble import RandomForestClassifier, ExtraTreesClassifier, BaggingClassifier, VotingClassifier"
   ]
  },
  {
   "cell_type": "code",
   "execution_count": 2,
   "id": "c71b8cac-022c-42d3-b0e0-9ce0743fb63a",
   "metadata": {},
   "outputs": [
    {
     "data": {
      "text/html": [
       "<div>\n",
       "<style scoped>\n",
       "    .dataframe tbody tr th:only-of-type {\n",
       "        vertical-align: middle;\n",
       "    }\n",
       "\n",
       "    .dataframe tbody tr th {\n",
       "        vertical-align: top;\n",
       "    }\n",
       "\n",
       "    .dataframe thead th {\n",
       "        text-align: right;\n",
       "    }\n",
       "</style>\n",
       "<table border=\"1\" class=\"dataframe\">\n",
       "  <thead>\n",
       "    <tr style=\"text-align: right;\">\n",
       "      <th></th>\n",
       "      <th>created_utc</th>\n",
       "      <th>author</th>\n",
       "      <th>score</th>\n",
       "      <th>upvote_ratio</th>\n",
       "      <th>num_comments</th>\n",
       "      <th>subreddit</th>\n",
       "      <th>text</th>\n",
       "      <th>lem_text</th>\n",
       "      <th>stem_text</th>\n",
       "      <th>post_length</th>\n",
       "      <th>post_word_count</th>\n",
       "    </tr>\n",
       "  </thead>\n",
       "  <tbody>\n",
       "    <tr>\n",
       "      <th>0</th>\n",
       "      <td>1.686844e+09</td>\n",
       "      <td>bas1cred</td>\n",
       "      <td>26</td>\n",
       "      <td>0.91</td>\n",
       "      <td>19</td>\n",
       "      <td>snowboardingnoobs</td>\n",
       "      <td>my first board. ready for the upcoming season!!</td>\n",
       "      <td>my first board ready for the upcoming season</td>\n",
       "      <td>my first board readi for the upcom season</td>\n",
       "      <td>48</td>\n",
       "      <td>8</td>\n",
       "    </tr>\n",
       "    <tr>\n",
       "      <th>1</th>\n",
       "      <td>1.686786e+09</td>\n",
       "      <td>Pooffios</td>\n",
       "      <td>3</td>\n",
       "      <td>1.00</td>\n",
       "      <td>12</td>\n",
       "      <td>snowboardingnoobs</td>\n",
       "      <td>outer side foot pain hi all, i was hoping to g...</td>\n",
       "      <td>outer side foot pain hi all i wa hoping to get...</td>\n",
       "      <td>outer side foot pain hi all i wa hope to get s...</td>\n",
       "      <td>301</td>\n",
       "      <td>60</td>\n",
       "    </tr>\n",
       "    <tr>\n",
       "      <th>2</th>\n",
       "      <td>1.686781e+09</td>\n",
       "      <td>trips69420</td>\n",
       "      <td>2</td>\n",
       "      <td>0.75</td>\n",
       "      <td>15</td>\n",
       "      <td>snowboardingnoobs</td>\n",
       "      <td>first board? looking to probably grab this as ...</td>\n",
       "      <td>first board looking to probably grab this a my...</td>\n",
       "      <td>first board look to probabl grab thi as my fir...</td>\n",
       "      <td>274</td>\n",
       "      <td>53</td>\n",
       "    </tr>\n",
       "    <tr>\n",
       "      <th>3</th>\n",
       "      <td>1.686779e+09</td>\n",
       "      <td>twinbee</td>\n",
       "      <td>11</td>\n",
       "      <td>0.87</td>\n",
       "      <td>0</td>\n",
       "      <td>snowboardingnoobs</td>\n",
       "      <td>i did a front-side 180 today! more than one in...</td>\n",
       "      <td>i did a front side 180 today more than one in ...</td>\n",
       "      <td>i did a front side 180 today more than one in ...</td>\n",
       "      <td>1565</td>\n",
       "      <td>289</td>\n",
       "    </tr>\n",
       "    <tr>\n",
       "      <th>4</th>\n",
       "      <td>1.686767e+09</td>\n",
       "      <td>Madden_Stephen</td>\n",
       "      <td>2</td>\n",
       "      <td>0.67</td>\n",
       "      <td>24</td>\n",
       "      <td>snowboardingnoobs</td>\n",
       "      <td>step-on boot recommendation? i’ve done a decen...</td>\n",
       "      <td>step on boot recommendation i ve done a decent...</td>\n",
       "      <td>step on boot recommend i ve done a decent bit ...</td>\n",
       "      <td>686</td>\n",
       "      <td>122</td>\n",
       "    </tr>\n",
       "  </tbody>\n",
       "</table>\n",
       "</div>"
      ],
      "text/plain": [
       "    created_utc          author  score  upvote_ratio  num_comments  \\\n",
       "0  1.686844e+09        bas1cred     26          0.91            19   \n",
       "1  1.686786e+09        Pooffios      3          1.00            12   \n",
       "2  1.686781e+09      trips69420      2          0.75            15   \n",
       "3  1.686779e+09         twinbee     11          0.87             0   \n",
       "4  1.686767e+09  Madden_Stephen      2          0.67            24   \n",
       "\n",
       "           subreddit                                               text  \\\n",
       "0  snowboardingnoobs   my first board. ready for the upcoming season!!    \n",
       "1  snowboardingnoobs  outer side foot pain hi all, i was hoping to g...   \n",
       "2  snowboardingnoobs  first board? looking to probably grab this as ...   \n",
       "3  snowboardingnoobs  i did a front-side 180 today! more than one in...   \n",
       "4  snowboardingnoobs  step-on boot recommendation? i’ve done a decen...   \n",
       "\n",
       "                                            lem_text  \\\n",
       "0       my first board ready for the upcoming season   \n",
       "1  outer side foot pain hi all i wa hoping to get...   \n",
       "2  first board looking to probably grab this a my...   \n",
       "3  i did a front side 180 today more than one in ...   \n",
       "4  step on boot recommendation i ve done a decent...   \n",
       "\n",
       "                                           stem_text  post_length  \\\n",
       "0          my first board readi for the upcom season           48   \n",
       "1  outer side foot pain hi all i wa hope to get s...          301   \n",
       "2  first board look to probabl grab thi as my fir...          274   \n",
       "3  i did a front side 180 today more than one in ...         1565   \n",
       "4  step on boot recommend i ve done a decent bit ...          686   \n",
       "\n",
       "   post_word_count  \n",
       "0                8  \n",
       "1               60  \n",
       "2               53  \n",
       "3              289  \n",
       "4              122  "
      ]
     },
     "execution_count": 2,
     "metadata": {},
     "output_type": "execute_result"
    }
   ],
   "source": [
    "snowski = pd.read_csv('../data/Clean/snow_ski2.csv')\n",
    "snowski.head()"
   ]
  },
  {
   "cell_type": "code",
   "execution_count": 3,
   "id": "298e0599-3b3e-4075-8eff-37d69092b5f4",
   "metadata": {},
   "outputs": [
    {
     "data": {
      "text/plain": [
       "skiing               0.51242\n",
       "snowboardingnoobs    0.48758\n",
       "Name: subreddit, dtype: float64"
      ]
     },
     "execution_count": 3,
     "metadata": {},
     "output_type": "execute_result"
    }
   ],
   "source": [
    "# Define baseline\n",
    "snowski.subreddit.value_counts(normalize=True)"
   ]
  },
  {
   "cell_type": "markdown",
   "id": "10f19874-e0e4-4fd2-befe-cec381ff3796",
   "metadata": {},
   "source": [
    "##### <span style = 'color:blue'> Our model must have an accuracy score > 51.2% to be useful.</span>"
   ]
  },
  {
   "cell_type": "code",
   "execution_count": 4,
   "id": "a8c48eb3-b3d6-49e5-b388-9efea837d0eb",
   "metadata": {},
   "outputs": [
    {
     "data": {
      "text/html": [
       "<div>\n",
       "<style scoped>\n",
       "    .dataframe tbody tr th:only-of-type {\n",
       "        vertical-align: middle;\n",
       "    }\n",
       "\n",
       "    .dataframe tbody tr th {\n",
       "        vertical-align: top;\n",
       "    }\n",
       "\n",
       "    .dataframe thead th {\n",
       "        text-align: right;\n",
       "    }\n",
       "</style>\n",
       "<table border=\"1\" class=\"dataframe\">\n",
       "  <thead>\n",
       "    <tr style=\"text-align: right;\">\n",
       "      <th></th>\n",
       "      <th>created_utc</th>\n",
       "      <th>author</th>\n",
       "      <th>score</th>\n",
       "      <th>upvote_ratio</th>\n",
       "      <th>num_comments</th>\n",
       "      <th>subreddit</th>\n",
       "      <th>text</th>\n",
       "      <th>lem_text</th>\n",
       "      <th>stem_text</th>\n",
       "      <th>post_length</th>\n",
       "      <th>post_word_count</th>\n",
       "    </tr>\n",
       "  </thead>\n",
       "  <tbody>\n",
       "    <tr>\n",
       "      <th>0</th>\n",
       "      <td>1.686844e+09</td>\n",
       "      <td>bas1cred</td>\n",
       "      <td>26</td>\n",
       "      <td>0.91</td>\n",
       "      <td>19</td>\n",
       "      <td>1</td>\n",
       "      <td>my first board. ready for the upcoming season!!</td>\n",
       "      <td>my first board ready for the upcoming season</td>\n",
       "      <td>my first board readi for the upcom season</td>\n",
       "      <td>48</td>\n",
       "      <td>8</td>\n",
       "    </tr>\n",
       "    <tr>\n",
       "      <th>1</th>\n",
       "      <td>1.686786e+09</td>\n",
       "      <td>Pooffios</td>\n",
       "      <td>3</td>\n",
       "      <td>1.00</td>\n",
       "      <td>12</td>\n",
       "      <td>1</td>\n",
       "      <td>outer side foot pain hi all, i was hoping to g...</td>\n",
       "      <td>outer side foot pain hi all i wa hoping to get...</td>\n",
       "      <td>outer side foot pain hi all i wa hope to get s...</td>\n",
       "      <td>301</td>\n",
       "      <td>60</td>\n",
       "    </tr>\n",
       "    <tr>\n",
       "      <th>2</th>\n",
       "      <td>1.686781e+09</td>\n",
       "      <td>trips69420</td>\n",
       "      <td>2</td>\n",
       "      <td>0.75</td>\n",
       "      <td>15</td>\n",
       "      <td>1</td>\n",
       "      <td>first board? looking to probably grab this as ...</td>\n",
       "      <td>first board looking to probably grab this a my...</td>\n",
       "      <td>first board look to probabl grab thi as my fir...</td>\n",
       "      <td>274</td>\n",
       "      <td>53</td>\n",
       "    </tr>\n",
       "    <tr>\n",
       "      <th>3</th>\n",
       "      <td>1.686779e+09</td>\n",
       "      <td>twinbee</td>\n",
       "      <td>11</td>\n",
       "      <td>0.87</td>\n",
       "      <td>0</td>\n",
       "      <td>1</td>\n",
       "      <td>i did a front-side 180 today! more than one in...</td>\n",
       "      <td>i did a front side 180 today more than one in ...</td>\n",
       "      <td>i did a front side 180 today more than one in ...</td>\n",
       "      <td>1565</td>\n",
       "      <td>289</td>\n",
       "    </tr>\n",
       "    <tr>\n",
       "      <th>4</th>\n",
       "      <td>1.686767e+09</td>\n",
       "      <td>Madden_Stephen</td>\n",
       "      <td>2</td>\n",
       "      <td>0.67</td>\n",
       "      <td>24</td>\n",
       "      <td>1</td>\n",
       "      <td>step-on boot recommendation? i’ve done a decen...</td>\n",
       "      <td>step on boot recommendation i ve done a decent...</td>\n",
       "      <td>step on boot recommend i ve done a decent bit ...</td>\n",
       "      <td>686</td>\n",
       "      <td>122</td>\n",
       "    </tr>\n",
       "  </tbody>\n",
       "</table>\n",
       "</div>"
      ],
      "text/plain": [
       "    created_utc          author  score  upvote_ratio  num_comments  subreddit  \\\n",
       "0  1.686844e+09        bas1cred     26          0.91            19          1   \n",
       "1  1.686786e+09        Pooffios      3          1.00            12          1   \n",
       "2  1.686781e+09      trips69420      2          0.75            15          1   \n",
       "3  1.686779e+09         twinbee     11          0.87             0          1   \n",
       "4  1.686767e+09  Madden_Stephen      2          0.67            24          1   \n",
       "\n",
       "                                                text  \\\n",
       "0   my first board. ready for the upcoming season!!    \n",
       "1  outer side foot pain hi all, i was hoping to g...   \n",
       "2  first board? looking to probably grab this as ...   \n",
       "3  i did a front-side 180 today! more than one in...   \n",
       "4  step-on boot recommendation? i’ve done a decen...   \n",
       "\n",
       "                                            lem_text  \\\n",
       "0       my first board ready for the upcoming season   \n",
       "1  outer side foot pain hi all i wa hoping to get...   \n",
       "2  first board looking to probably grab this a my...   \n",
       "3  i did a front side 180 today more than one in ...   \n",
       "4  step on boot recommendation i ve done a decent...   \n",
       "\n",
       "                                           stem_text  post_length  \\\n",
       "0          my first board readi for the upcom season           48   \n",
       "1  outer side foot pain hi all i wa hope to get s...          301   \n",
       "2  first board look to probabl grab thi as my fir...          274   \n",
       "3  i did a front side 180 today more than one in ...         1565   \n",
       "4  step on boot recommend i ve done a decent bit ...          686   \n",
       "\n",
       "   post_word_count  \n",
       "0                8  \n",
       "1               60  \n",
       "2               53  \n",
       "3              289  \n",
       "4              122  "
      ]
     },
     "execution_count": 4,
     "metadata": {},
     "output_type": "execute_result"
    }
   ],
   "source": [
    "snowski['subreddit'] = snowski['subreddit'].map({'snowboardingnoobs': 1, 'skiing': 0})\n",
    "snowski.head()"
   ]
  },
  {
   "cell_type": "markdown",
   "id": "30740e2e-b375-48d9-a5f7-ca496c2118c2",
   "metadata": {},
   "source": [
    "---\n",
    "## I. Pre-Processing Functions\n",
    "Notes: \n",
    "- Lemmatizing and Stemming functions were generated and tested, but not all are used as final parameters in any of our models. The models were also run using \"lem_text\" and \"stem_text\" as target variables directly, but did not have any impact. \n",
    "- A list of custom stop words was created to assist our model in identifying the subreddit from which a post originated (e.g., snowboard, snowboarding, ski, skiing). These custom words were tested as stop words in our models, but were ultimately excluded from further consideration. Introducing this additional complexity to our model is unnecessary and not aligned with our problem statement. The code for incorporating these custom stop words has been commented out below.\n",
    "---"
   ]
  },
  {
   "cell_type": "code",
   "execution_count": 5,
   "id": "4d8c3d80-13b8-4502-9eee-709e175b5598",
   "metadata": {},
   "outputs": [],
   "source": [
    "# Function for Lemmatizing\n",
    "def lemmatize_txt(text):\n",
    "    \n",
    "    tokenizer = RegexpTokenizer('\\w+')\n",
    "    split_txt = tokenizer.tokenize(text)\n",
    "\n",
    "    # Instantiate lemmatizer\n",
    "    lemmatizer = WordNetLemmatizer()\n",
    "        \n",
    "    # Lemmatize and Rejoin\n",
    "    return ' '.join([lemmatizer.lemmatize(word) for word in split_txt])"
   ]
  },
  {
   "cell_type": "code",
   "execution_count": 6,
   "id": "b8c689b2-7de9-4fa1-bab9-f41c6a8e57d6",
   "metadata": {},
   "outputs": [],
   "source": [
    "# Function for Stemming\n",
    "def stem_txt(text):\n",
    "    \n",
    "    tokenizer = RegexpTokenizer('\\w+')\n",
    "    split_txt = tokenizer.tokenize(text)\n",
    "\n",
    "    # Instantiate Stemmer\n",
    "    p_stemmer = PorterStemmer()\n",
    "\n",
    "    # Stem and Rejoin\n",
    "    return ' '.join([p_stemmer.stem(word) for word in split_txt])"
   ]
  },
  {
   "cell_type": "code",
   "execution_count": 233,
   "id": "c3d58f4a-af3f-4642-88ed-9b6f0fe33f01",
   "metadata": {},
   "outputs": [],
   "source": [
    "# Create and save custom stopwords\n",
    "\n",
    "# english_stopwords = CountVectorizer(stop_words='english').get_stop_words() # source: https://scikit-learn-ts-git-feature-docs-2-saasify.vercel.app/docs/classes/CountVectorizer\n",
    "# custom_words = ['snowboard', 'snowboarding', 'board', 'ski', 'skier', 'skiing', 'skis', 'just', 'like', 'wa', 'http', 'https', 'www', 'reddit', 'subreddit']\n",
    "# custom_words = list(english_stopwords) + custom_words"
   ]
  },
  {
   "cell_type": "code",
   "execution_count": 7,
   "id": "d431b26d-a73c-4635-820f-4d5da1097192",
   "metadata": {},
   "outputs": [],
   "source": [
    "X = snowski['text']\n",
    "y = snowski['subreddit']"
   ]
  },
  {
   "cell_type": "code",
   "execution_count": 8,
   "id": "e0aa70b5-0d7c-4394-a412-eed5aadef0e6",
   "metadata": {},
   "outputs": [],
   "source": [
    "X_train, X_test, y_train, y_test = train_test_split(X, y, random_state = 1527) "
   ]
  },
  {
   "cell_type": "markdown",
   "id": "8c8134c2-8ceb-4f99-b9d4-bb220895b4fb",
   "metadata": {},
   "source": [
    "---\n",
    "## II. Model-Building and Testing\n",
    "---"
   ]
  },
  {
   "cell_type": "markdown",
   "id": "20568acf-4545-4f63-9693-3c32149652ee",
   "metadata": {
    "tags": []
   },
   "source": [
    "### Pipelines and GridSearch / RandomizedSearch"
   ]
  },
  {
   "cell_type": "markdown",
   "id": "0e4f595b-4472-43f4-8816-a796701dfa0b",
   "metadata": {},
   "source": [
    "#### Model 1: Logistic Regression"
   ]
  },
  {
   "cell_type": "code",
   "execution_count": 30,
   "id": "96e7c5d0-c2d4-4db5-9809-ca7dd92c7245",
   "metadata": {},
   "outputs": [],
   "source": [
    "# Create pipeline that tests b/t CVEC and TVEC transformers and an estimator\n",
    "pipe_log = Pipeline([\n",
    "                 ('vec', None),\n",
    "                 ('logr', LogisticRegression(solver = 'liblinear', max_iter=1000))])"
   ]
  },
  {
   "cell_type": "code",
   "execution_count": 11,
   "id": "4fb25869-40a7-45f1-9111-8ad115101fe8",
   "metadata": {},
   "outputs": [],
   "source": [
    "# Define hyperparameters\n",
    "pgrid_logr =[\n",
    "    {\n",
    "    'vec': [CountVectorizer()],\n",
    "    'vec__stop_words': [None, 'english'],\n",
    "    'vec__max_features': [7000, 9000], \n",
    "    #'vec__min_df': [3, 5],\n",
    "    #'vec__max_df': [0.9, 0.95],\n",
    "    #'vec__preprocessor': [None, lemmatize_txt, stem_txt],\n",
    "    'logr__C': np.linspace(.05,5.0,10),\n",
    "    'logr__penalty': ['l1', 'l2']\n",
    "    },\n",
    "    {\n",
    "    'vec': [TfidfVectorizer()],\n",
    "    'vec__stop_words': [None, 'english'],\n",
    "    'vec__max_features': [7000, 9000], \n",
    "    #'vec__min_df': [3, 5],\n",
    "    #'vec__max_df': [0.9, 0.95],\n",
    "    #'vec__preprocessor': [None, lemmatize_txt,stem_txt],\n",
    "    'logr__C': np.linspace(.05,10.0,15),\n",
    "    'logr__penalty': ['l1', 'l2']\n",
    "    }\n",
    "]"
   ]
  },
  {
   "cell_type": "code",
   "execution_count": 12,
   "id": "c67196af-c9ff-44b3-8ed2-ce8a6ecb22f5",
   "metadata": {},
   "outputs": [
    {
     "name": "stderr",
     "output_type": "stream",
     "text": [
      "C:\\Users\\farah\\anaconda3\\lib\\site-packages\\sklearn\\svm\\_base.py:1244: ConvergenceWarning: Liblinear failed to converge, increase the number of iterations.\n",
      "  warnings.warn(\n",
      "C:\\Users\\farah\\anaconda3\\lib\\site-packages\\sklearn\\svm\\_base.py:1244: ConvergenceWarning: Liblinear failed to converge, increase the number of iterations.\n",
      "  warnings.warn(\n",
      "C:\\Users\\farah\\anaconda3\\lib\\site-packages\\sklearn\\svm\\_base.py:1244: ConvergenceWarning: Liblinear failed to converge, increase the number of iterations.\n",
      "  warnings.warn(\n",
      "C:\\Users\\farah\\anaconda3\\lib\\site-packages\\sklearn\\svm\\_base.py:1244: ConvergenceWarning: Liblinear failed to converge, increase the number of iterations.\n",
      "  warnings.warn(\n",
      "C:\\Users\\farah\\anaconda3\\lib\\site-packages\\sklearn\\svm\\_base.py:1244: ConvergenceWarning: Liblinear failed to converge, increase the number of iterations.\n",
      "  warnings.warn(\n",
      "C:\\Users\\farah\\anaconda3\\lib\\site-packages\\sklearn\\svm\\_base.py:1244: ConvergenceWarning: Liblinear failed to converge, increase the number of iterations.\n",
      "  warnings.warn(\n",
      "C:\\Users\\farah\\anaconda3\\lib\\site-packages\\sklearn\\svm\\_base.py:1244: ConvergenceWarning: Liblinear failed to converge, increase the number of iterations.\n",
      "  warnings.warn(\n",
      "C:\\Users\\farah\\anaconda3\\lib\\site-packages\\sklearn\\svm\\_base.py:1244: ConvergenceWarning: Liblinear failed to converge, increase the number of iterations.\n",
      "  warnings.warn(\n",
      "C:\\Users\\farah\\anaconda3\\lib\\site-packages\\sklearn\\svm\\_base.py:1244: ConvergenceWarning: Liblinear failed to converge, increase the number of iterations.\n",
      "  warnings.warn(\n",
      "C:\\Users\\farah\\anaconda3\\lib\\site-packages\\sklearn\\svm\\_base.py:1244: ConvergenceWarning: Liblinear failed to converge, increase the number of iterations.\n",
      "  warnings.warn(\n",
      "C:\\Users\\farah\\anaconda3\\lib\\site-packages\\sklearn\\svm\\_base.py:1244: ConvergenceWarning: Liblinear failed to converge, increase the number of iterations.\n",
      "  warnings.warn(\n",
      "C:\\Users\\farah\\anaconda3\\lib\\site-packages\\sklearn\\svm\\_base.py:1244: ConvergenceWarning: Liblinear failed to converge, increase the number of iterations.\n",
      "  warnings.warn(\n"
     ]
    },
    {
     "name": "stdout",
     "output_type": "stream",
     "text": [
      "CPU times: total: 3min 32s\n",
      "Wall time: 22min 54s\n"
     ]
    },
    {
     "data": {
      "text/html": [
       "<style>#sk-container-id-1 {color: black;background-color: white;}#sk-container-id-1 pre{padding: 0;}#sk-container-id-1 div.sk-toggleable {background-color: white;}#sk-container-id-1 label.sk-toggleable__label {cursor: pointer;display: block;width: 100%;margin-bottom: 0;padding: 0.3em;box-sizing: border-box;text-align: center;}#sk-container-id-1 label.sk-toggleable__label-arrow:before {content: \"▸\";float: left;margin-right: 0.25em;color: #696969;}#sk-container-id-1 label.sk-toggleable__label-arrow:hover:before {color: black;}#sk-container-id-1 div.sk-estimator:hover label.sk-toggleable__label-arrow:before {color: black;}#sk-container-id-1 div.sk-toggleable__content {max-height: 0;max-width: 0;overflow: hidden;text-align: left;background-color: #f0f8ff;}#sk-container-id-1 div.sk-toggleable__content pre {margin: 0.2em;color: black;border-radius: 0.25em;background-color: #f0f8ff;}#sk-container-id-1 input.sk-toggleable__control:checked~div.sk-toggleable__content {max-height: 200px;max-width: 100%;overflow: auto;}#sk-container-id-1 input.sk-toggleable__control:checked~label.sk-toggleable__label-arrow:before {content: \"▾\";}#sk-container-id-1 div.sk-estimator input.sk-toggleable__control:checked~label.sk-toggleable__label {background-color: #d4ebff;}#sk-container-id-1 div.sk-label input.sk-toggleable__control:checked~label.sk-toggleable__label {background-color: #d4ebff;}#sk-container-id-1 input.sk-hidden--visually {border: 0;clip: rect(1px 1px 1px 1px);clip: rect(1px, 1px, 1px, 1px);height: 1px;margin: -1px;overflow: hidden;padding: 0;position: absolute;width: 1px;}#sk-container-id-1 div.sk-estimator {font-family: monospace;background-color: #f0f8ff;border: 1px dotted black;border-radius: 0.25em;box-sizing: border-box;margin-bottom: 0.5em;}#sk-container-id-1 div.sk-estimator:hover {background-color: #d4ebff;}#sk-container-id-1 div.sk-parallel-item::after {content: \"\";width: 100%;border-bottom: 1px solid gray;flex-grow: 1;}#sk-container-id-1 div.sk-label:hover label.sk-toggleable__label {background-color: #d4ebff;}#sk-container-id-1 div.sk-serial::before {content: \"\";position: absolute;border-left: 1px solid gray;box-sizing: border-box;top: 0;bottom: 0;left: 50%;z-index: 0;}#sk-container-id-1 div.sk-serial {display: flex;flex-direction: column;align-items: center;background-color: white;padding-right: 0.2em;padding-left: 0.2em;position: relative;}#sk-container-id-1 div.sk-item {position: relative;z-index: 1;}#sk-container-id-1 div.sk-parallel {display: flex;align-items: stretch;justify-content: center;background-color: white;position: relative;}#sk-container-id-1 div.sk-item::before, #sk-container-id-1 div.sk-parallel-item::before {content: \"\";position: absolute;border-left: 1px solid gray;box-sizing: border-box;top: 0;bottom: 0;left: 50%;z-index: -1;}#sk-container-id-1 div.sk-parallel-item {display: flex;flex-direction: column;z-index: 1;position: relative;background-color: white;}#sk-container-id-1 div.sk-parallel-item:first-child::after {align-self: flex-end;width: 50%;}#sk-container-id-1 div.sk-parallel-item:last-child::after {align-self: flex-start;width: 50%;}#sk-container-id-1 div.sk-parallel-item:only-child::after {width: 0;}#sk-container-id-1 div.sk-dashed-wrapped {border: 1px dashed gray;margin: 0 0.4em 0.5em 0.4em;box-sizing: border-box;padding-bottom: 0.4em;background-color: white;}#sk-container-id-1 div.sk-label label {font-family: monospace;font-weight: bold;display: inline-block;line-height: 1.2em;}#sk-container-id-1 div.sk-label-container {text-align: center;}#sk-container-id-1 div.sk-container {/* jupyter's `normalize.less` sets `[hidden] { display: none; }` but bootstrap.min.css set `[hidden] { display: none !important; }` so we also need the `!important` here to be able to override the default hidden behavior on the sphinx rendered scikit-learn.org. See: https://github.com/scikit-learn/scikit-learn/issues/21755 */display: inline-block !important;position: relative;}#sk-container-id-1 div.sk-text-repr-fallback {display: none;}</style><div id=\"sk-container-id-1\" class=\"sk-top-container\"><div class=\"sk-text-repr-fallback\"><pre>GridSearchCV(cv=5,\n",
       "             estimator=Pipeline(steps=[(&#x27;vec&#x27;, None),\n",
       "                                       (&#x27;logr&#x27;,\n",
       "                                        LogisticRegression(max_iter=1000,\n",
       "                                                           solver=&#x27;liblinear&#x27;))]),\n",
       "             param_grid=[{&#x27;logr__C&#x27;: array([0.05, 0.6 , 1.15, 1.7 , 2.25, 2.8 , 3.35, 3.9 , 4.45, 5.  ]),\n",
       "                          &#x27;logr__penalty&#x27;: [&#x27;l1&#x27;, &#x27;l2&#x27;],\n",
       "                          &#x27;vec&#x27;: [CountVectorizer()],\n",
       "                          &#x27;vec__max_features&#x27;: [7000, 9000],\n",
       "                          &#x27;vec__stop_words&#x27;: [None, &#x27;english&#x27;]},\n",
       "                         {&#x27;logr__C&#x27;: array([ 0.05      ,  0.76071429,  1.47142857,  2.18214286,  2.89285714,\n",
       "        3.60357143,  4.31428571,  5.025     ,  5.73571429,  6.44642857,\n",
       "        7.15714286,  7.86785714,  8.57857143,  9.28928571, 10.        ]),\n",
       "                          &#x27;logr__penalty&#x27;: [&#x27;l1&#x27;, &#x27;l2&#x27;],\n",
       "                          &#x27;vec&#x27;: [TfidfVectorizer(max_features=7000,\n",
       "                                                  stop_words=&#x27;english&#x27;)],\n",
       "                          &#x27;vec__max_features&#x27;: [7000, 9000],\n",
       "                          &#x27;vec__stop_words&#x27;: [None, &#x27;english&#x27;]}])</pre><b>In a Jupyter environment, please rerun this cell to show the HTML representation or trust the notebook. <br />On GitHub, the HTML representation is unable to render, please try loading this page with nbviewer.org.</b></div><div class=\"sk-container\" hidden><div class=\"sk-item sk-dashed-wrapped\"><div class=\"sk-label-container\"><div class=\"sk-label sk-toggleable\"><input class=\"sk-toggleable__control sk-hidden--visually\" id=\"sk-estimator-id-1\" type=\"checkbox\" ><label for=\"sk-estimator-id-1\" class=\"sk-toggleable__label sk-toggleable__label-arrow\">GridSearchCV</label><div class=\"sk-toggleable__content\"><pre>GridSearchCV(cv=5,\n",
       "             estimator=Pipeline(steps=[(&#x27;vec&#x27;, None),\n",
       "                                       (&#x27;logr&#x27;,\n",
       "                                        LogisticRegression(max_iter=1000,\n",
       "                                                           solver=&#x27;liblinear&#x27;))]),\n",
       "             param_grid=[{&#x27;logr__C&#x27;: array([0.05, 0.6 , 1.15, 1.7 , 2.25, 2.8 , 3.35, 3.9 , 4.45, 5.  ]),\n",
       "                          &#x27;logr__penalty&#x27;: [&#x27;l1&#x27;, &#x27;l2&#x27;],\n",
       "                          &#x27;vec&#x27;: [CountVectorizer()],\n",
       "                          &#x27;vec__max_features&#x27;: [7000, 9000],\n",
       "                          &#x27;vec__stop_words&#x27;: [None, &#x27;english&#x27;]},\n",
       "                         {&#x27;logr__C&#x27;: array([ 0.05      ,  0.76071429,  1.47142857,  2.18214286,  2.89285714,\n",
       "        3.60357143,  4.31428571,  5.025     ,  5.73571429,  6.44642857,\n",
       "        7.15714286,  7.86785714,  8.57857143,  9.28928571, 10.        ]),\n",
       "                          &#x27;logr__penalty&#x27;: [&#x27;l1&#x27;, &#x27;l2&#x27;],\n",
       "                          &#x27;vec&#x27;: [TfidfVectorizer(max_features=7000,\n",
       "                                                  stop_words=&#x27;english&#x27;)],\n",
       "                          &#x27;vec__max_features&#x27;: [7000, 9000],\n",
       "                          &#x27;vec__stop_words&#x27;: [None, &#x27;english&#x27;]}])</pre></div></div></div><div class=\"sk-parallel\"><div class=\"sk-parallel-item\"><div class=\"sk-item\"><div class=\"sk-label-container\"><div class=\"sk-label sk-toggleable\"><input class=\"sk-toggleable__control sk-hidden--visually\" id=\"sk-estimator-id-2\" type=\"checkbox\" ><label for=\"sk-estimator-id-2\" class=\"sk-toggleable__label sk-toggleable__label-arrow\">estimator: Pipeline</label><div class=\"sk-toggleable__content\"><pre>Pipeline(steps=[(&#x27;vec&#x27;, None),\n",
       "                (&#x27;logr&#x27;,\n",
       "                 LogisticRegression(max_iter=1000, solver=&#x27;liblinear&#x27;))])</pre></div></div></div><div class=\"sk-serial\"><div class=\"sk-item\"><div class=\"sk-serial\"><div class=\"sk-item\"><div class=\"sk-estimator sk-toggleable\"><input class=\"sk-toggleable__control sk-hidden--visually\" id=\"sk-estimator-id-3\" type=\"checkbox\" ><label for=\"sk-estimator-id-3\" class=\"sk-toggleable__label sk-toggleable__label-arrow\">None</label><div class=\"sk-toggleable__content\"><pre>None</pre></div></div></div><div class=\"sk-item\"><div class=\"sk-estimator sk-toggleable\"><input class=\"sk-toggleable__control sk-hidden--visually\" id=\"sk-estimator-id-4\" type=\"checkbox\" ><label for=\"sk-estimator-id-4\" class=\"sk-toggleable__label sk-toggleable__label-arrow\">LogisticRegression</label><div class=\"sk-toggleable__content\"><pre>LogisticRegression(max_iter=1000, solver=&#x27;liblinear&#x27;)</pre></div></div></div></div></div></div></div></div></div></div></div></div>"
      ],
      "text/plain": [
       "GridSearchCV(cv=5,\n",
       "             estimator=Pipeline(steps=[('vec', None),\n",
       "                                       ('logr',\n",
       "                                        LogisticRegression(max_iter=1000,\n",
       "                                                           solver='liblinear'))]),\n",
       "             param_grid=[{'logr__C': array([0.05, 0.6 , 1.15, 1.7 , 2.25, 2.8 , 3.35, 3.9 , 4.45, 5.  ]),\n",
       "                          'logr__penalty': ['l1', 'l2'],\n",
       "                          'vec': [CountVectorizer()],\n",
       "                          'vec__max_features': [7000, 9000],\n",
       "                          'vec__stop_words': [None, 'english']},\n",
       "                         {'logr__C': array([ 0.05      ,  0.76071429,  1.47142857,  2.18214286,  2.89285714,\n",
       "        3.60357143,  4.31428571,  5.025     ,  5.73571429,  6.44642857,\n",
       "        7.15714286,  7.86785714,  8.57857143,  9.28928571, 10.        ]),\n",
       "                          'logr__penalty': ['l1', 'l2'],\n",
       "                          'vec': [TfidfVectorizer(max_features=7000,\n",
       "                                                  stop_words='english')],\n",
       "                          'vec__max_features': [7000, 9000],\n",
       "                          'vec__stop_words': [None, 'english']}])"
      ]
     },
     "execution_count": 12,
     "metadata": {},
     "output_type": "execute_result"
    }
   ],
   "source": [
    "%%time\n",
    "\n",
    "# Fit model via GridSearch\n",
    "gs_log = GridSearchCV(pipe_log, pgrid_logr, cv=5)\n",
    "gs_log.fit(X_train, y_train)"
   ]
  },
  {
   "cell_type": "code",
   "execution_count": 240,
   "id": "22fcc0dd-4945-41eb-b108-9219b4fbf158",
   "metadata": {},
   "outputs": [],
   "source": [
    "# Make predictions for Accuracy Report\n",
    "preds_log = gs_log.predict(X_test)"
   ]
  },
  {
   "cell_type": "code",
   "execution_count": 146,
   "id": "863dc351-e5bc-4420-8a58-52c26b940715",
   "metadata": {},
   "outputs": [
    {
     "name": "stdout",
     "output_type": "stream",
     "text": [
      "--------- \u001b[1mLogistic Regression w/ GridSearch\u001b[0m ---------\n",
      "------------- Train: 0.9550508634965696 -------------\n",
      "------------- Test: 0.879347054648687 -------------\n",
      "Best Params: {'logr__C': 2.182142857142857, 'logr__penalty': 'l2', 'vec': TfidfVectorizer(max_features=7000), 'vec__max_features': 7000, 'vec__stop_words': 'english'}\n"
     ]
    }
   ],
   "source": [
    "b1 = \"\\033[1m\"\n",
    "b0 = \"\\033[0m\"\n",
    "\n",
    "print(f'--------- {b1}Logistic Regression w/ GridSearch{b0} ---------') # source: https://stackoverflow.com/questions/8924173/how-can-i-print-bold-text-in-python\n",
    "print(f'------------- Train: {gs_log.score(X_train, y_train)} -------------')\n",
    "print(f'------------- Test: {gs_log.score(X_test, y_test)} -------------')\n",
    "print('Best Params:', gs_log.best_params_)"
   ]
  },
  {
   "cell_type": "code",
   "execution_count": 97,
   "id": "b12cca3f-1af4-4239-b23b-b919971021ab",
   "metadata": {},
   "outputs": [
    {
     "name": "stdout",
     "output_type": "stream",
     "text": [
      "CPU times: total: 1.86 s\n",
      "Wall time: 7.67 s\n"
     ]
    },
    {
     "data": {
      "text/html": [
       "<style>#sk-container-id-12 {color: black;background-color: white;}#sk-container-id-12 pre{padding: 0;}#sk-container-id-12 div.sk-toggleable {background-color: white;}#sk-container-id-12 label.sk-toggleable__label {cursor: pointer;display: block;width: 100%;margin-bottom: 0;padding: 0.3em;box-sizing: border-box;text-align: center;}#sk-container-id-12 label.sk-toggleable__label-arrow:before {content: \"▸\";float: left;margin-right: 0.25em;color: #696969;}#sk-container-id-12 label.sk-toggleable__label-arrow:hover:before {color: black;}#sk-container-id-12 div.sk-estimator:hover label.sk-toggleable__label-arrow:before {color: black;}#sk-container-id-12 div.sk-toggleable__content {max-height: 0;max-width: 0;overflow: hidden;text-align: left;background-color: #f0f8ff;}#sk-container-id-12 div.sk-toggleable__content pre {margin: 0.2em;color: black;border-radius: 0.25em;background-color: #f0f8ff;}#sk-container-id-12 input.sk-toggleable__control:checked~div.sk-toggleable__content {max-height: 200px;max-width: 100%;overflow: auto;}#sk-container-id-12 input.sk-toggleable__control:checked~label.sk-toggleable__label-arrow:before {content: \"▾\";}#sk-container-id-12 div.sk-estimator input.sk-toggleable__control:checked~label.sk-toggleable__label {background-color: #d4ebff;}#sk-container-id-12 div.sk-label input.sk-toggleable__control:checked~label.sk-toggleable__label {background-color: #d4ebff;}#sk-container-id-12 input.sk-hidden--visually {border: 0;clip: rect(1px 1px 1px 1px);clip: rect(1px, 1px, 1px, 1px);height: 1px;margin: -1px;overflow: hidden;padding: 0;position: absolute;width: 1px;}#sk-container-id-12 div.sk-estimator {font-family: monospace;background-color: #f0f8ff;border: 1px dotted black;border-radius: 0.25em;box-sizing: border-box;margin-bottom: 0.5em;}#sk-container-id-12 div.sk-estimator:hover {background-color: #d4ebff;}#sk-container-id-12 div.sk-parallel-item::after {content: \"\";width: 100%;border-bottom: 1px solid gray;flex-grow: 1;}#sk-container-id-12 div.sk-label:hover label.sk-toggleable__label {background-color: #d4ebff;}#sk-container-id-12 div.sk-serial::before {content: \"\";position: absolute;border-left: 1px solid gray;box-sizing: border-box;top: 0;bottom: 0;left: 50%;z-index: 0;}#sk-container-id-12 div.sk-serial {display: flex;flex-direction: column;align-items: center;background-color: white;padding-right: 0.2em;padding-left: 0.2em;position: relative;}#sk-container-id-12 div.sk-item {position: relative;z-index: 1;}#sk-container-id-12 div.sk-parallel {display: flex;align-items: stretch;justify-content: center;background-color: white;position: relative;}#sk-container-id-12 div.sk-item::before, #sk-container-id-12 div.sk-parallel-item::before {content: \"\";position: absolute;border-left: 1px solid gray;box-sizing: border-box;top: 0;bottom: 0;left: 50%;z-index: -1;}#sk-container-id-12 div.sk-parallel-item {display: flex;flex-direction: column;z-index: 1;position: relative;background-color: white;}#sk-container-id-12 div.sk-parallel-item:first-child::after {align-self: flex-end;width: 50%;}#sk-container-id-12 div.sk-parallel-item:last-child::after {align-self: flex-start;width: 50%;}#sk-container-id-12 div.sk-parallel-item:only-child::after {width: 0;}#sk-container-id-12 div.sk-dashed-wrapped {border: 1px dashed gray;margin: 0 0.4em 0.5em 0.4em;box-sizing: border-box;padding-bottom: 0.4em;background-color: white;}#sk-container-id-12 div.sk-label label {font-family: monospace;font-weight: bold;display: inline-block;line-height: 1.2em;}#sk-container-id-12 div.sk-label-container {text-align: center;}#sk-container-id-12 div.sk-container {/* jupyter's `normalize.less` sets `[hidden] { display: none; }` but bootstrap.min.css set `[hidden] { display: none !important; }` so we also need the `!important` here to be able to override the default hidden behavior on the sphinx rendered scikit-learn.org. See: https://github.com/scikit-learn/scikit-learn/issues/21755 */display: inline-block !important;position: relative;}#sk-container-id-12 div.sk-text-repr-fallback {display: none;}</style><div id=\"sk-container-id-12\" class=\"sk-top-container\"><div class=\"sk-text-repr-fallback\"><pre>RandomizedSearchCV(cv=5,\n",
       "                   estimator=Pipeline(steps=[(&#x27;vec&#x27;, None),\n",
       "                                             (&#x27;logr&#x27;,\n",
       "                                              LogisticRegression(max_iter=1000,\n",
       "                                                                 solver=&#x27;liblinear&#x27;))]),\n",
       "                   param_distributions=[{&#x27;logr__C&#x27;: array([0.05, 0.6 , 1.15, 1.7 , 2.25, 2.8 , 3.35, 3.9 , 4.45, 5.  ]),\n",
       "                                         &#x27;logr__penalty&#x27;: [&#x27;l1&#x27;, &#x27;l2&#x27;],\n",
       "                                         &#x27;vec&#x27;: [CountVectorizer()],\n",
       "                                         &#x27;vec__max_features&#x27;: [7000, 9000],\n",
       "                                         &#x27;vec__stop_words&#x27;: [None, &#x27;english&#x27;]},\n",
       "                                        {&#x27;logr__C&#x27;: array([ 0.05      ,  0.76071429,  1.47142857,  2.18214286,  2.89285714,\n",
       "        3.60357143,  4.31428571,  5.025     ,  5.73571429,  6.44642857,\n",
       "        7.15714286,  7.86785714,  8.57857143,  9.28928571, 10.        ]),\n",
       "                                         &#x27;logr__penalty&#x27;: [&#x27;l1&#x27;, &#x27;l2&#x27;],\n",
       "                                         &#x27;vec&#x27;: [TfidfVectorizer(max_features=7000)],\n",
       "                                         &#x27;vec__max_features&#x27;: [7000, 9000],\n",
       "                                         &#x27;vec__stop_words&#x27;: [None, &#x27;english&#x27;]}],\n",
       "                   random_state=1527)</pre><b>In a Jupyter environment, please rerun this cell to show the HTML representation or trust the notebook. <br />On GitHub, the HTML representation is unable to render, please try loading this page with nbviewer.org.</b></div><div class=\"sk-container\" hidden><div class=\"sk-item sk-dashed-wrapped\"><div class=\"sk-label-container\"><div class=\"sk-label sk-toggleable\"><input class=\"sk-toggleable__control sk-hidden--visually\" id=\"sk-estimator-id-45\" type=\"checkbox\" ><label for=\"sk-estimator-id-45\" class=\"sk-toggleable__label sk-toggleable__label-arrow\">RandomizedSearchCV</label><div class=\"sk-toggleable__content\"><pre>RandomizedSearchCV(cv=5,\n",
       "                   estimator=Pipeline(steps=[(&#x27;vec&#x27;, None),\n",
       "                                             (&#x27;logr&#x27;,\n",
       "                                              LogisticRegression(max_iter=1000,\n",
       "                                                                 solver=&#x27;liblinear&#x27;))]),\n",
       "                   param_distributions=[{&#x27;logr__C&#x27;: array([0.05, 0.6 , 1.15, 1.7 , 2.25, 2.8 , 3.35, 3.9 , 4.45, 5.  ]),\n",
       "                                         &#x27;logr__penalty&#x27;: [&#x27;l1&#x27;, &#x27;l2&#x27;],\n",
       "                                         &#x27;vec&#x27;: [CountVectorizer()],\n",
       "                                         &#x27;vec__max_features&#x27;: [7000, 9000],\n",
       "                                         &#x27;vec__stop_words&#x27;: [None, &#x27;english&#x27;]},\n",
       "                                        {&#x27;logr__C&#x27;: array([ 0.05      ,  0.76071429,  1.47142857,  2.18214286,  2.89285714,\n",
       "        3.60357143,  4.31428571,  5.025     ,  5.73571429,  6.44642857,\n",
       "        7.15714286,  7.86785714,  8.57857143,  9.28928571, 10.        ]),\n",
       "                                         &#x27;logr__penalty&#x27;: [&#x27;l1&#x27;, &#x27;l2&#x27;],\n",
       "                                         &#x27;vec&#x27;: [TfidfVectorizer(max_features=7000)],\n",
       "                                         &#x27;vec__max_features&#x27;: [7000, 9000],\n",
       "                                         &#x27;vec__stop_words&#x27;: [None, &#x27;english&#x27;]}],\n",
       "                   random_state=1527)</pre></div></div></div><div class=\"sk-parallel\"><div class=\"sk-parallel-item\"><div class=\"sk-item\"><div class=\"sk-label-container\"><div class=\"sk-label sk-toggleable\"><input class=\"sk-toggleable__control sk-hidden--visually\" id=\"sk-estimator-id-46\" type=\"checkbox\" ><label for=\"sk-estimator-id-46\" class=\"sk-toggleable__label sk-toggleable__label-arrow\">estimator: Pipeline</label><div class=\"sk-toggleable__content\"><pre>Pipeline(steps=[(&#x27;vec&#x27;, None),\n",
       "                (&#x27;logr&#x27;,\n",
       "                 LogisticRegression(max_iter=1000, solver=&#x27;liblinear&#x27;))])</pre></div></div></div><div class=\"sk-serial\"><div class=\"sk-item\"><div class=\"sk-serial\"><div class=\"sk-item\"><div class=\"sk-estimator sk-toggleable\"><input class=\"sk-toggleable__control sk-hidden--visually\" id=\"sk-estimator-id-47\" type=\"checkbox\" ><label for=\"sk-estimator-id-47\" class=\"sk-toggleable__label sk-toggleable__label-arrow\">None</label><div class=\"sk-toggleable__content\"><pre>None</pre></div></div></div><div class=\"sk-item\"><div class=\"sk-estimator sk-toggleable\"><input class=\"sk-toggleable__control sk-hidden--visually\" id=\"sk-estimator-id-48\" type=\"checkbox\" ><label for=\"sk-estimator-id-48\" class=\"sk-toggleable__label sk-toggleable__label-arrow\">LogisticRegression</label><div class=\"sk-toggleable__content\"><pre>LogisticRegression(max_iter=1000, solver=&#x27;liblinear&#x27;)</pre></div></div></div></div></div></div></div></div></div></div></div></div>"
      ],
      "text/plain": [
       "RandomizedSearchCV(cv=5,\n",
       "                   estimator=Pipeline(steps=[('vec', None),\n",
       "                                             ('logr',\n",
       "                                              LogisticRegression(max_iter=1000,\n",
       "                                                                 solver='liblinear'))]),\n",
       "                   param_distributions=[{'logr__C': array([0.05, 0.6 , 1.15, 1.7 , 2.25, 2.8 , 3.35, 3.9 , 4.45, 5.  ]),\n",
       "                                         'logr__penalty': ['l1', 'l2'],\n",
       "                                         'vec': [CountVectorizer()],\n",
       "                                         'vec__max_features': [7000, 9000],\n",
       "                                         'vec__stop_words': [None, 'english']},\n",
       "                                        {'logr__C': array([ 0.05      ,  0.76071429,  1.47142857,  2.18214286,  2.89285714,\n",
       "        3.60357143,  4.31428571,  5.025     ,  5.73571429,  6.44642857,\n",
       "        7.15714286,  7.86785714,  8.57857143,  9.28928571, 10.        ]),\n",
       "                                         'logr__penalty': ['l1', 'l2'],\n",
       "                                         'vec': [TfidfVectorizer(max_features=7000)],\n",
       "                                         'vec__max_features': [7000, 9000],\n",
       "                                         'vec__stop_words': [None, 'english']}],\n",
       "                   random_state=1527)"
      ]
     },
     "execution_count": 97,
     "metadata": {},
     "output_type": "execute_result"
    }
   ],
   "source": [
    "%%time\n",
    "\n",
    "# Test RandomizedSearch for comparison in timing and outcome\n",
    "rs_log = RandomizedSearchCV(pipe_log, pgrid_logr, cv=5, n_iter=10, random_state=1527)\n",
    "rs_log.fit(X_train, y_train)"
   ]
  },
  {
   "cell_type": "code",
   "execution_count": 98,
   "id": "b91019ae-cea3-452a-a6ca-ff5199a8f14a",
   "metadata": {},
   "outputs": [],
   "source": [
    "preds_log_r = rs_log.predict(X_test)"
   ]
  },
  {
   "cell_type": "code",
   "execution_count": 147,
   "id": "3ada2941-e56e-40d1-bba5-501b3b1805f0",
   "metadata": {},
   "outputs": [
    {
     "name": "stdout",
     "output_type": "stream",
     "text": [
      "------ \u001b[1mLogistic Regression w/ RandomizedSearch\u001b[0m ------\n",
      "------------- Train: 0.9744499645138396 -------------\n",
      "------------- Test: 0.8807665010645848 --------------\n",
      "Best Params: {'vec__stop_words': None, 'vec__max_features': 7000, 'vec': TfidfVectorizer(max_features=7000), 'logr__penalty': 'l2', 'logr__C': 5.0249999999999995}\n"
     ]
    }
   ],
   "source": [
    "print(f'------ {b1}Logistic Regression w/ RandomizedSearch{b0} ------')\n",
    "print(f'------------- Train: {rs_log.score(X_train, y_train)} -------------')\n",
    "print(f'------------- Test: {rs_log.score(X_test, y_test)} --------------')\n",
    "print('Best Params:', rs_log.best_params_)\n",
    "\n",
    "# Randomized search computed faster and test score is slightly better - we will utilize RS more"
   ]
  },
  {
   "cell_type": "markdown",
   "id": "120baa5f-cb6e-490e-a79a-a2e5fe1a13fd",
   "metadata": {},
   "source": [
    "---\n",
    "#### Model 2: Multinomial Naive Bayes"
   ]
  },
  {
   "cell_type": "code",
   "execution_count": 54,
   "id": "48edf2a8-2b93-405c-a6b9-1c3abbd4eada",
   "metadata": {},
   "outputs": [],
   "source": [
    "pipe_nb = Pipeline([\n",
    "    ('vec', None),\n",
    "    ('nb', MultinomialNB())\n",
    "])"
   ]
  },
  {
   "cell_type": "code",
   "execution_count": 55,
   "id": "9a1e72b5-002d-4e33-8e37-0de2147eb3c3",
   "metadata": {},
   "outputs": [],
   "source": [
    "pgrid_nb =[\n",
    "    {\n",
    "    'vec': [CountVectorizer()],\n",
    "    'vec__stop_words': [None, 'english'],\n",
    "    'vec__max_features': [7000, 9000], \n",
    "    #'vec__min_df': [3, 5],\n",
    "    'vec__max_df': [0.9, 0.95],\n",
    "    #'vec__preprocessor': [None, lemmatize_txt, stem_txt],\n",
    "    'nb__alpha': [.01, 0.5, 1.0, 5.0]\n",
    "    },\n",
    "    {\n",
    "    'vec': [TfidfVectorizer()],\n",
    "    'vec__stop_words': [None, 'english'],\n",
    "    'vec__max_features': [7000, 9000], \n",
    "    #'vec__min_df': [3, 5],\n",
    "    'vec__max_df': [0.9, 0.95],\n",
    "    #'vec__preprocessor': [None, lemmatize_txt,stem_txt],\n",
    "    'nb__alpha': [.01, 0.5, 1.0, 5.0]\n",
    "    }\n",
    "]"
   ]
  },
  {
   "cell_type": "code",
   "execution_count": 56,
   "id": "37b7044a-0832-4ec9-b8b4-010b33f2e80f",
   "metadata": {},
   "outputs": [
    {
     "name": "stdout",
     "output_type": "stream",
     "text": [
      "CPU times: total: 7.77 s\n",
      "Wall time: 43.3 s\n"
     ]
    },
    {
     "data": {
      "text/html": [
       "<style>#sk-container-id-5 {color: black;background-color: white;}#sk-container-id-5 pre{padding: 0;}#sk-container-id-5 div.sk-toggleable {background-color: white;}#sk-container-id-5 label.sk-toggleable__label {cursor: pointer;display: block;width: 100%;margin-bottom: 0;padding: 0.3em;box-sizing: border-box;text-align: center;}#sk-container-id-5 label.sk-toggleable__label-arrow:before {content: \"▸\";float: left;margin-right: 0.25em;color: #696969;}#sk-container-id-5 label.sk-toggleable__label-arrow:hover:before {color: black;}#sk-container-id-5 div.sk-estimator:hover label.sk-toggleable__label-arrow:before {color: black;}#sk-container-id-5 div.sk-toggleable__content {max-height: 0;max-width: 0;overflow: hidden;text-align: left;background-color: #f0f8ff;}#sk-container-id-5 div.sk-toggleable__content pre {margin: 0.2em;color: black;border-radius: 0.25em;background-color: #f0f8ff;}#sk-container-id-5 input.sk-toggleable__control:checked~div.sk-toggleable__content {max-height: 200px;max-width: 100%;overflow: auto;}#sk-container-id-5 input.sk-toggleable__control:checked~label.sk-toggleable__label-arrow:before {content: \"▾\";}#sk-container-id-5 div.sk-estimator input.sk-toggleable__control:checked~label.sk-toggleable__label {background-color: #d4ebff;}#sk-container-id-5 div.sk-label input.sk-toggleable__control:checked~label.sk-toggleable__label {background-color: #d4ebff;}#sk-container-id-5 input.sk-hidden--visually {border: 0;clip: rect(1px 1px 1px 1px);clip: rect(1px, 1px, 1px, 1px);height: 1px;margin: -1px;overflow: hidden;padding: 0;position: absolute;width: 1px;}#sk-container-id-5 div.sk-estimator {font-family: monospace;background-color: #f0f8ff;border: 1px dotted black;border-radius: 0.25em;box-sizing: border-box;margin-bottom: 0.5em;}#sk-container-id-5 div.sk-estimator:hover {background-color: #d4ebff;}#sk-container-id-5 div.sk-parallel-item::after {content: \"\";width: 100%;border-bottom: 1px solid gray;flex-grow: 1;}#sk-container-id-5 div.sk-label:hover label.sk-toggleable__label {background-color: #d4ebff;}#sk-container-id-5 div.sk-serial::before {content: \"\";position: absolute;border-left: 1px solid gray;box-sizing: border-box;top: 0;bottom: 0;left: 50%;z-index: 0;}#sk-container-id-5 div.sk-serial {display: flex;flex-direction: column;align-items: center;background-color: white;padding-right: 0.2em;padding-left: 0.2em;position: relative;}#sk-container-id-5 div.sk-item {position: relative;z-index: 1;}#sk-container-id-5 div.sk-parallel {display: flex;align-items: stretch;justify-content: center;background-color: white;position: relative;}#sk-container-id-5 div.sk-item::before, #sk-container-id-5 div.sk-parallel-item::before {content: \"\";position: absolute;border-left: 1px solid gray;box-sizing: border-box;top: 0;bottom: 0;left: 50%;z-index: -1;}#sk-container-id-5 div.sk-parallel-item {display: flex;flex-direction: column;z-index: 1;position: relative;background-color: white;}#sk-container-id-5 div.sk-parallel-item:first-child::after {align-self: flex-end;width: 50%;}#sk-container-id-5 div.sk-parallel-item:last-child::after {align-self: flex-start;width: 50%;}#sk-container-id-5 div.sk-parallel-item:only-child::after {width: 0;}#sk-container-id-5 div.sk-dashed-wrapped {border: 1px dashed gray;margin: 0 0.4em 0.5em 0.4em;box-sizing: border-box;padding-bottom: 0.4em;background-color: white;}#sk-container-id-5 div.sk-label label {font-family: monospace;font-weight: bold;display: inline-block;line-height: 1.2em;}#sk-container-id-5 div.sk-label-container {text-align: center;}#sk-container-id-5 div.sk-container {/* jupyter's `normalize.less` sets `[hidden] { display: none; }` but bootstrap.min.css set `[hidden] { display: none !important; }` so we also need the `!important` here to be able to override the default hidden behavior on the sphinx rendered scikit-learn.org. See: https://github.com/scikit-learn/scikit-learn/issues/21755 */display: inline-block !important;position: relative;}#sk-container-id-5 div.sk-text-repr-fallback {display: none;}</style><div id=\"sk-container-id-5\" class=\"sk-top-container\"><div class=\"sk-text-repr-fallback\"><pre>GridSearchCV(cv=5,\n",
       "             estimator=Pipeline(steps=[(&#x27;vec&#x27;, None), (&#x27;nb&#x27;, MultinomialNB())]),\n",
       "             param_grid=[{&#x27;nb__alpha&#x27;: [0.01, 0.5, 1.0, 5.0],\n",
       "                          &#x27;vec&#x27;: [CountVectorizer(max_df=0.9,\n",
       "                                                  max_features=7000)],\n",
       "                          &#x27;vec__max_df&#x27;: [0.9, 0.95],\n",
       "                          &#x27;vec__max_features&#x27;: [7000, 9000],\n",
       "                          &#x27;vec__stop_words&#x27;: [None, &#x27;english&#x27;]},\n",
       "                         {&#x27;nb__alpha&#x27;: [0.01, 0.5, 1.0, 5.0],\n",
       "                          &#x27;vec&#x27;: [TfidfVectorizer()],\n",
       "                          &#x27;vec__max_df&#x27;: [0.9, 0.95],\n",
       "                          &#x27;vec__max_features&#x27;: [7000, 9000],\n",
       "                          &#x27;vec__stop_words&#x27;: [None, &#x27;english&#x27;]}])</pre><b>In a Jupyter environment, please rerun this cell to show the HTML representation or trust the notebook. <br />On GitHub, the HTML representation is unable to render, please try loading this page with nbviewer.org.</b></div><div class=\"sk-container\" hidden><div class=\"sk-item sk-dashed-wrapped\"><div class=\"sk-label-container\"><div class=\"sk-label sk-toggleable\"><input class=\"sk-toggleable__control sk-hidden--visually\" id=\"sk-estimator-id-17\" type=\"checkbox\" ><label for=\"sk-estimator-id-17\" class=\"sk-toggleable__label sk-toggleable__label-arrow\">GridSearchCV</label><div class=\"sk-toggleable__content\"><pre>GridSearchCV(cv=5,\n",
       "             estimator=Pipeline(steps=[(&#x27;vec&#x27;, None), (&#x27;nb&#x27;, MultinomialNB())]),\n",
       "             param_grid=[{&#x27;nb__alpha&#x27;: [0.01, 0.5, 1.0, 5.0],\n",
       "                          &#x27;vec&#x27;: [CountVectorizer(max_df=0.9,\n",
       "                                                  max_features=7000)],\n",
       "                          &#x27;vec__max_df&#x27;: [0.9, 0.95],\n",
       "                          &#x27;vec__max_features&#x27;: [7000, 9000],\n",
       "                          &#x27;vec__stop_words&#x27;: [None, &#x27;english&#x27;]},\n",
       "                         {&#x27;nb__alpha&#x27;: [0.01, 0.5, 1.0, 5.0],\n",
       "                          &#x27;vec&#x27;: [TfidfVectorizer()],\n",
       "                          &#x27;vec__max_df&#x27;: [0.9, 0.95],\n",
       "                          &#x27;vec__max_features&#x27;: [7000, 9000],\n",
       "                          &#x27;vec__stop_words&#x27;: [None, &#x27;english&#x27;]}])</pre></div></div></div><div class=\"sk-parallel\"><div class=\"sk-parallel-item\"><div class=\"sk-item\"><div class=\"sk-label-container\"><div class=\"sk-label sk-toggleable\"><input class=\"sk-toggleable__control sk-hidden--visually\" id=\"sk-estimator-id-18\" type=\"checkbox\" ><label for=\"sk-estimator-id-18\" class=\"sk-toggleable__label sk-toggleable__label-arrow\">estimator: Pipeline</label><div class=\"sk-toggleable__content\"><pre>Pipeline(steps=[(&#x27;vec&#x27;, None), (&#x27;nb&#x27;, MultinomialNB())])</pre></div></div></div><div class=\"sk-serial\"><div class=\"sk-item\"><div class=\"sk-serial\"><div class=\"sk-item\"><div class=\"sk-estimator sk-toggleable\"><input class=\"sk-toggleable__control sk-hidden--visually\" id=\"sk-estimator-id-19\" type=\"checkbox\" ><label for=\"sk-estimator-id-19\" class=\"sk-toggleable__label sk-toggleable__label-arrow\">None</label><div class=\"sk-toggleable__content\"><pre>None</pre></div></div></div><div class=\"sk-item\"><div class=\"sk-estimator sk-toggleable\"><input class=\"sk-toggleable__control sk-hidden--visually\" id=\"sk-estimator-id-20\" type=\"checkbox\" ><label for=\"sk-estimator-id-20\" class=\"sk-toggleable__label sk-toggleable__label-arrow\">MultinomialNB</label><div class=\"sk-toggleable__content\"><pre>MultinomialNB()</pre></div></div></div></div></div></div></div></div></div></div></div></div>"
      ],
      "text/plain": [
       "GridSearchCV(cv=5,\n",
       "             estimator=Pipeline(steps=[('vec', None), ('nb', MultinomialNB())]),\n",
       "             param_grid=[{'nb__alpha': [0.01, 0.5, 1.0, 5.0],\n",
       "                          'vec': [CountVectorizer(max_df=0.9,\n",
       "                                                  max_features=7000)],\n",
       "                          'vec__max_df': [0.9, 0.95],\n",
       "                          'vec__max_features': [7000, 9000],\n",
       "                          'vec__stop_words': [None, 'english']},\n",
       "                         {'nb__alpha': [0.01, 0.5, 1.0, 5.0],\n",
       "                          'vec': [TfidfVectorizer()],\n",
       "                          'vec__max_df': [0.9, 0.95],\n",
       "                          'vec__max_features': [7000, 9000],\n",
       "                          'vec__stop_words': [None, 'english']}])"
      ]
     },
     "execution_count": 56,
     "metadata": {},
     "output_type": "execute_result"
    }
   ],
   "source": [
    "%%time\n",
    "\n",
    "gs_nb = GridSearchCV(pipe_nb, pgrid_nb, cv=5)\n",
    "gs_nb.fit(X_train, y_train)"
   ]
  },
  {
   "cell_type": "code",
   "execution_count": 58,
   "id": "7430dd01-e13f-40f2-beba-17ce22ca5c2e",
   "metadata": {},
   "outputs": [],
   "source": [
    "# Make predictions for Accuracy Report\n",
    "preds_nb = gs_nb.predict(X_test)"
   ]
  },
  {
   "cell_type": "code",
   "execution_count": 148,
   "id": "2b15b05b-7a96-49f2-a431-4dc767e653b9",
   "metadata": {},
   "outputs": [
    {
     "name": "stdout",
     "output_type": "stream",
     "text": [
      "---------- \u001b[1mMultinomial Bayes w/ GridSearch\u001b[0m ----------\n",
      "------------- Train: 0.907735982966643 -------------\n",
      "------------- Test: 0.8559261887863733 -------------\n",
      "Best Params: {'nb__alpha': 0.5, 'vec': CountVectorizer(max_df=0.9, max_features=7000), 'vec__max_df': 0.9, 'vec__max_features': 7000, 'vec__stop_words': None}\n"
     ]
    }
   ],
   "source": [
    "print(f'---------- {b1}Multinomial Bayes w/ GridSearch{b0} ----------')\n",
    "print(f'------------- Train: {gs_nb.score(X_train, y_train)} -------------')\n",
    "print(f'------------- Test: {gs_nb.score(X_test, y_test)} -------------')\n",
    "print('Best Params:', gs_nb.best_params_)"
   ]
  },
  {
   "cell_type": "code",
   "execution_count": 100,
   "id": "36460329-26b8-4ab1-8cce-e54d7bba1a37",
   "metadata": {},
   "outputs": [
    {
     "name": "stdout",
     "output_type": "stream",
     "text": [
      "CPU times: total: 328 ms\n",
      "Wall time: 6.19 s\n"
     ]
    },
    {
     "data": {
      "text/html": [
       "<style>#sk-container-id-13 {color: black;background-color: white;}#sk-container-id-13 pre{padding: 0;}#sk-container-id-13 div.sk-toggleable {background-color: white;}#sk-container-id-13 label.sk-toggleable__label {cursor: pointer;display: block;width: 100%;margin-bottom: 0;padding: 0.3em;box-sizing: border-box;text-align: center;}#sk-container-id-13 label.sk-toggleable__label-arrow:before {content: \"▸\";float: left;margin-right: 0.25em;color: #696969;}#sk-container-id-13 label.sk-toggleable__label-arrow:hover:before {color: black;}#sk-container-id-13 div.sk-estimator:hover label.sk-toggleable__label-arrow:before {color: black;}#sk-container-id-13 div.sk-toggleable__content {max-height: 0;max-width: 0;overflow: hidden;text-align: left;background-color: #f0f8ff;}#sk-container-id-13 div.sk-toggleable__content pre {margin: 0.2em;color: black;border-radius: 0.25em;background-color: #f0f8ff;}#sk-container-id-13 input.sk-toggleable__control:checked~div.sk-toggleable__content {max-height: 200px;max-width: 100%;overflow: auto;}#sk-container-id-13 input.sk-toggleable__control:checked~label.sk-toggleable__label-arrow:before {content: \"▾\";}#sk-container-id-13 div.sk-estimator input.sk-toggleable__control:checked~label.sk-toggleable__label {background-color: #d4ebff;}#sk-container-id-13 div.sk-label input.sk-toggleable__control:checked~label.sk-toggleable__label {background-color: #d4ebff;}#sk-container-id-13 input.sk-hidden--visually {border: 0;clip: rect(1px 1px 1px 1px);clip: rect(1px, 1px, 1px, 1px);height: 1px;margin: -1px;overflow: hidden;padding: 0;position: absolute;width: 1px;}#sk-container-id-13 div.sk-estimator {font-family: monospace;background-color: #f0f8ff;border: 1px dotted black;border-radius: 0.25em;box-sizing: border-box;margin-bottom: 0.5em;}#sk-container-id-13 div.sk-estimator:hover {background-color: #d4ebff;}#sk-container-id-13 div.sk-parallel-item::after {content: \"\";width: 100%;border-bottom: 1px solid gray;flex-grow: 1;}#sk-container-id-13 div.sk-label:hover label.sk-toggleable__label {background-color: #d4ebff;}#sk-container-id-13 div.sk-serial::before {content: \"\";position: absolute;border-left: 1px solid gray;box-sizing: border-box;top: 0;bottom: 0;left: 50%;z-index: 0;}#sk-container-id-13 div.sk-serial {display: flex;flex-direction: column;align-items: center;background-color: white;padding-right: 0.2em;padding-left: 0.2em;position: relative;}#sk-container-id-13 div.sk-item {position: relative;z-index: 1;}#sk-container-id-13 div.sk-parallel {display: flex;align-items: stretch;justify-content: center;background-color: white;position: relative;}#sk-container-id-13 div.sk-item::before, #sk-container-id-13 div.sk-parallel-item::before {content: \"\";position: absolute;border-left: 1px solid gray;box-sizing: border-box;top: 0;bottom: 0;left: 50%;z-index: -1;}#sk-container-id-13 div.sk-parallel-item {display: flex;flex-direction: column;z-index: 1;position: relative;background-color: white;}#sk-container-id-13 div.sk-parallel-item:first-child::after {align-self: flex-end;width: 50%;}#sk-container-id-13 div.sk-parallel-item:last-child::after {align-self: flex-start;width: 50%;}#sk-container-id-13 div.sk-parallel-item:only-child::after {width: 0;}#sk-container-id-13 div.sk-dashed-wrapped {border: 1px dashed gray;margin: 0 0.4em 0.5em 0.4em;box-sizing: border-box;padding-bottom: 0.4em;background-color: white;}#sk-container-id-13 div.sk-label label {font-family: monospace;font-weight: bold;display: inline-block;line-height: 1.2em;}#sk-container-id-13 div.sk-label-container {text-align: center;}#sk-container-id-13 div.sk-container {/* jupyter's `normalize.less` sets `[hidden] { display: none; }` but bootstrap.min.css set `[hidden] { display: none !important; }` so we also need the `!important` here to be able to override the default hidden behavior on the sphinx rendered scikit-learn.org. See: https://github.com/scikit-learn/scikit-learn/issues/21755 */display: inline-block !important;position: relative;}#sk-container-id-13 div.sk-text-repr-fallback {display: none;}</style><div id=\"sk-container-id-13\" class=\"sk-top-container\"><div class=\"sk-text-repr-fallback\"><pre>RandomizedSearchCV(cv=5,\n",
       "                   estimator=Pipeline(steps=[(&#x27;vec&#x27;, None),\n",
       "                                             (&#x27;nb&#x27;, MultinomialNB())]),\n",
       "                   param_distributions=[{&#x27;nb__alpha&#x27;: [0.01, 0.5, 1.0, 5.0],\n",
       "                                         &#x27;vec&#x27;: [CountVectorizer(max_df=0.9,\n",
       "                                                                 max_features=7000)],\n",
       "                                         &#x27;vec__max_df&#x27;: [0.9, 0.95],\n",
       "                                         &#x27;vec__max_features&#x27;: [7000, 9000],\n",
       "                                         &#x27;vec__stop_words&#x27;: [None, &#x27;english&#x27;]},\n",
       "                                        {&#x27;nb__alpha&#x27;: [0.01, 0.5, 1.0, 5.0],\n",
       "                                         &#x27;vec&#x27;: [TfidfVectorizer()],\n",
       "                                         &#x27;vec__max_df&#x27;: [0.9, 0.95],\n",
       "                                         &#x27;vec__max_features&#x27;: [7000, 9000],\n",
       "                                         &#x27;vec__stop_words&#x27;: [None, &#x27;english&#x27;]}],\n",
       "                   random_state=1527)</pre><b>In a Jupyter environment, please rerun this cell to show the HTML representation or trust the notebook. <br />On GitHub, the HTML representation is unable to render, please try loading this page with nbviewer.org.</b></div><div class=\"sk-container\" hidden><div class=\"sk-item sk-dashed-wrapped\"><div class=\"sk-label-container\"><div class=\"sk-label sk-toggleable\"><input class=\"sk-toggleable__control sk-hidden--visually\" id=\"sk-estimator-id-49\" type=\"checkbox\" ><label for=\"sk-estimator-id-49\" class=\"sk-toggleable__label sk-toggleable__label-arrow\">RandomizedSearchCV</label><div class=\"sk-toggleable__content\"><pre>RandomizedSearchCV(cv=5,\n",
       "                   estimator=Pipeline(steps=[(&#x27;vec&#x27;, None),\n",
       "                                             (&#x27;nb&#x27;, MultinomialNB())]),\n",
       "                   param_distributions=[{&#x27;nb__alpha&#x27;: [0.01, 0.5, 1.0, 5.0],\n",
       "                                         &#x27;vec&#x27;: [CountVectorizer(max_df=0.9,\n",
       "                                                                 max_features=7000)],\n",
       "                                         &#x27;vec__max_df&#x27;: [0.9, 0.95],\n",
       "                                         &#x27;vec__max_features&#x27;: [7000, 9000],\n",
       "                                         &#x27;vec__stop_words&#x27;: [None, &#x27;english&#x27;]},\n",
       "                                        {&#x27;nb__alpha&#x27;: [0.01, 0.5, 1.0, 5.0],\n",
       "                                         &#x27;vec&#x27;: [TfidfVectorizer()],\n",
       "                                         &#x27;vec__max_df&#x27;: [0.9, 0.95],\n",
       "                                         &#x27;vec__max_features&#x27;: [7000, 9000],\n",
       "                                         &#x27;vec__stop_words&#x27;: [None, &#x27;english&#x27;]}],\n",
       "                   random_state=1527)</pre></div></div></div><div class=\"sk-parallel\"><div class=\"sk-parallel-item\"><div class=\"sk-item\"><div class=\"sk-label-container\"><div class=\"sk-label sk-toggleable\"><input class=\"sk-toggleable__control sk-hidden--visually\" id=\"sk-estimator-id-50\" type=\"checkbox\" ><label for=\"sk-estimator-id-50\" class=\"sk-toggleable__label sk-toggleable__label-arrow\">estimator: Pipeline</label><div class=\"sk-toggleable__content\"><pre>Pipeline(steps=[(&#x27;vec&#x27;, None), (&#x27;nb&#x27;, MultinomialNB())])</pre></div></div></div><div class=\"sk-serial\"><div class=\"sk-item\"><div class=\"sk-serial\"><div class=\"sk-item\"><div class=\"sk-estimator sk-toggleable\"><input class=\"sk-toggleable__control sk-hidden--visually\" id=\"sk-estimator-id-51\" type=\"checkbox\" ><label for=\"sk-estimator-id-51\" class=\"sk-toggleable__label sk-toggleable__label-arrow\">None</label><div class=\"sk-toggleable__content\"><pre>None</pre></div></div></div><div class=\"sk-item\"><div class=\"sk-estimator sk-toggleable\"><input class=\"sk-toggleable__control sk-hidden--visually\" id=\"sk-estimator-id-52\" type=\"checkbox\" ><label for=\"sk-estimator-id-52\" class=\"sk-toggleable__label sk-toggleable__label-arrow\">MultinomialNB</label><div class=\"sk-toggleable__content\"><pre>MultinomialNB()</pre></div></div></div></div></div></div></div></div></div></div></div></div>"
      ],
      "text/plain": [
       "RandomizedSearchCV(cv=5,\n",
       "                   estimator=Pipeline(steps=[('vec', None),\n",
       "                                             ('nb', MultinomialNB())]),\n",
       "                   param_distributions=[{'nb__alpha': [0.01, 0.5, 1.0, 5.0],\n",
       "                                         'vec': [CountVectorizer(max_df=0.9,\n",
       "                                                                 max_features=7000)],\n",
       "                                         'vec__max_df': [0.9, 0.95],\n",
       "                                         'vec__max_features': [7000, 9000],\n",
       "                                         'vec__stop_words': [None, 'english']},\n",
       "                                        {'nb__alpha': [0.01, 0.5, 1.0, 5.0],\n",
       "                                         'vec': [TfidfVectorizer()],\n",
       "                                         'vec__max_df': [0.9, 0.95],\n",
       "                                         'vec__max_features': [7000, 9000],\n",
       "                                         'vec__stop_words': [None, 'english']}],\n",
       "                   random_state=1527)"
      ]
     },
     "execution_count": 100,
     "metadata": {},
     "output_type": "execute_result"
    }
   ],
   "source": [
    "%%time\n",
    "\n",
    "# Test RandomizedSearch for comparison in timing and outcome\n",
    "rs_nb = RandomizedSearchCV(pipe_nb, pgrid_nb, cv=5, n_iter=10, random_state=1527)\n",
    "rs_nb.fit(X_train, y_train)"
   ]
  },
  {
   "cell_type": "code",
   "execution_count": 101,
   "id": "e7a875a9-ad4a-453e-adcb-6f2d4477fcaa",
   "metadata": {},
   "outputs": [],
   "source": [
    "preds_nb_r = rs_nb.predict(X_test)"
   ]
  },
  {
   "cell_type": "code",
   "execution_count": 149,
   "id": "6ee989f6-8016-495a-8e2a-682894c31a05",
   "metadata": {},
   "outputs": [
    {
     "name": "stdout",
     "output_type": "stream",
     "text": [
      "------- \u001b[1mMultinomial Bayes w/ RandomizedSearch\u001b[0m -------\n",
      "------------- Train: 0.9025313461083511 -------------\n",
      "------------- Test: 0.8594748048261178 -------------\n",
      "Best Params: {'vec__stop_words': None, 'vec__max_features': 7000, 'vec__max_df': 0.9, 'vec': CountVectorizer(max_df=0.9, max_features=7000), 'nb__alpha': 1.0}\n"
     ]
    }
   ],
   "source": [
    "print(f'------- {b1}Multinomial Bayes w/ RandomizedSearch{b0} -------')\n",
    "print(f'------------- Train: {rs_nb.score(X_train, y_train)} -------------')\n",
    "print(f'------------- Test: {rs_nb.score(X_test, y_test)} -------------')\n",
    "print('Best Params:', rs_nb.best_params_)\n",
    "\n",
    "# Randomized search computed faster and test score is slightly better - we will utilize RS more"
   ]
  },
  {
   "cell_type": "code",
   "execution_count": null,
   "id": "acd495e5-53a9-4d35-98f1-ab9f9134dcc7",
   "metadata": {},
   "outputs": [],
   "source": [
    "# Precision: Out of all the messages that the model predicted would be spam, 98.8% were actually spam.\n",
    "# Recall: Out of all the messages that were actually spam, the model predicted this outcome correctly 88.7% of the time.\n",
    "# Specificity: Out of all the messages that were actually legitimate, our model predicted this outcome correctly 99.5% of the time (Tip: This is the recall of the negative class)."
   ]
  },
  {
   "cell_type": "code",
   "execution_count": null,
   "id": "6a221964-1793-452f-916c-9334344321b4",
   "metadata": {},
   "outputs": [],
   "source": []
  },
  {
   "cell_type": "markdown",
   "id": "d9961e08-ab60-4a0e-a53d-5619e80b0e3e",
   "metadata": {},
   "source": [
    "---\n",
    "#### Model 3: Support Vector Machine"
   ]
  },
  {
   "cell_type": "code",
   "execution_count": 26,
   "id": "49bbcdd0-bd17-42b7-9334-2f912ca1bbdc",
   "metadata": {},
   "outputs": [],
   "source": [
    "pipe_svc = Pipeline([\n",
    "    ('vec', None),\n",
    "    ('svc', SVC())\n",
    "])"
   ]
  },
  {
   "cell_type": "code",
   "execution_count": 27,
   "id": "d3b4706d-457b-4c03-a1cc-094d385f233a",
   "metadata": {},
   "outputs": [],
   "source": [
    "pgrid_svc =[\n",
    "    {\n",
    "    'vec': [CountVectorizer()],\n",
    "    'vec__stop_words': [None, 'english'],\n",
    "    'vec__max_features': [7000, 9000], \n",
    "    'vec__max_df': [0.9, 0.95],\n",
    "     'svc__C': np.linspace(0.8, 1.1, 10),\n",
    "     'svc__kernel': ['rbf','poly'],\n",
    "     'svc__degree' : [2],\n",
    "     'svc__tol' : [0.001]\n",
    "    },\n",
    "    {\n",
    "    'vec': [TfidfVectorizer()],\n",
    "    'vec__stop_words': [None, 'english'],\n",
    "    'vec__max_features': [7000, 9000], \n",
    "    'vec__max_df': [0.9, 0.95],\n",
    "     'svc__C': np.linspace(0.8, 1.1, 10),\n",
    "     'svc__kernel': ['rbf','poly'],\n",
    "     'svc__degree' : [2],\n",
    "     'svc__tol' : [0.001]\n",
    "    }\n",
    "]"
   ]
  },
  {
   "cell_type": "code",
   "execution_count": 28,
   "id": "f932e6aa-040f-4e7e-96e9-7aba8268a14e",
   "metadata": {},
   "outputs": [
    {
     "name": "stdout",
     "output_type": "stream",
     "text": [
      "CPU times: total: 6min 34s\n",
      "Wall time: 54min 23s\n"
     ]
    },
    {
     "data": {
      "text/html": [
       "<style>#sk-container-id-4 {color: black;background-color: white;}#sk-container-id-4 pre{padding: 0;}#sk-container-id-4 div.sk-toggleable {background-color: white;}#sk-container-id-4 label.sk-toggleable__label {cursor: pointer;display: block;width: 100%;margin-bottom: 0;padding: 0.3em;box-sizing: border-box;text-align: center;}#sk-container-id-4 label.sk-toggleable__label-arrow:before {content: \"▸\";float: left;margin-right: 0.25em;color: #696969;}#sk-container-id-4 label.sk-toggleable__label-arrow:hover:before {color: black;}#sk-container-id-4 div.sk-estimator:hover label.sk-toggleable__label-arrow:before {color: black;}#sk-container-id-4 div.sk-toggleable__content {max-height: 0;max-width: 0;overflow: hidden;text-align: left;background-color: #f0f8ff;}#sk-container-id-4 div.sk-toggleable__content pre {margin: 0.2em;color: black;border-radius: 0.25em;background-color: #f0f8ff;}#sk-container-id-4 input.sk-toggleable__control:checked~div.sk-toggleable__content {max-height: 200px;max-width: 100%;overflow: auto;}#sk-container-id-4 input.sk-toggleable__control:checked~label.sk-toggleable__label-arrow:before {content: \"▾\";}#sk-container-id-4 div.sk-estimator input.sk-toggleable__control:checked~label.sk-toggleable__label {background-color: #d4ebff;}#sk-container-id-4 div.sk-label input.sk-toggleable__control:checked~label.sk-toggleable__label {background-color: #d4ebff;}#sk-container-id-4 input.sk-hidden--visually {border: 0;clip: rect(1px 1px 1px 1px);clip: rect(1px, 1px, 1px, 1px);height: 1px;margin: -1px;overflow: hidden;padding: 0;position: absolute;width: 1px;}#sk-container-id-4 div.sk-estimator {font-family: monospace;background-color: #f0f8ff;border: 1px dotted black;border-radius: 0.25em;box-sizing: border-box;margin-bottom: 0.5em;}#sk-container-id-4 div.sk-estimator:hover {background-color: #d4ebff;}#sk-container-id-4 div.sk-parallel-item::after {content: \"\";width: 100%;border-bottom: 1px solid gray;flex-grow: 1;}#sk-container-id-4 div.sk-label:hover label.sk-toggleable__label {background-color: #d4ebff;}#sk-container-id-4 div.sk-serial::before {content: \"\";position: absolute;border-left: 1px solid gray;box-sizing: border-box;top: 0;bottom: 0;left: 50%;z-index: 0;}#sk-container-id-4 div.sk-serial {display: flex;flex-direction: column;align-items: center;background-color: white;padding-right: 0.2em;padding-left: 0.2em;position: relative;}#sk-container-id-4 div.sk-item {position: relative;z-index: 1;}#sk-container-id-4 div.sk-parallel {display: flex;align-items: stretch;justify-content: center;background-color: white;position: relative;}#sk-container-id-4 div.sk-item::before, #sk-container-id-4 div.sk-parallel-item::before {content: \"\";position: absolute;border-left: 1px solid gray;box-sizing: border-box;top: 0;bottom: 0;left: 50%;z-index: -1;}#sk-container-id-4 div.sk-parallel-item {display: flex;flex-direction: column;z-index: 1;position: relative;background-color: white;}#sk-container-id-4 div.sk-parallel-item:first-child::after {align-self: flex-end;width: 50%;}#sk-container-id-4 div.sk-parallel-item:last-child::after {align-self: flex-start;width: 50%;}#sk-container-id-4 div.sk-parallel-item:only-child::after {width: 0;}#sk-container-id-4 div.sk-dashed-wrapped {border: 1px dashed gray;margin: 0 0.4em 0.5em 0.4em;box-sizing: border-box;padding-bottom: 0.4em;background-color: white;}#sk-container-id-4 div.sk-label label {font-family: monospace;font-weight: bold;display: inline-block;line-height: 1.2em;}#sk-container-id-4 div.sk-label-container {text-align: center;}#sk-container-id-4 div.sk-container {/* jupyter's `normalize.less` sets `[hidden] { display: none; }` but bootstrap.min.css set `[hidden] { display: none !important; }` so we also need the `!important` here to be able to override the default hidden behavior on the sphinx rendered scikit-learn.org. See: https://github.com/scikit-learn/scikit-learn/issues/21755 */display: inline-block !important;position: relative;}#sk-container-id-4 div.sk-text-repr-fallback {display: none;}</style><div id=\"sk-container-id-4\" class=\"sk-top-container\"><div class=\"sk-text-repr-fallback\"><pre>GridSearchCV(estimator=Pipeline(steps=[(&#x27;vec&#x27;, None), (&#x27;svc&#x27;, SVC())]),\n",
       "             param_grid=[{&#x27;svc__C&#x27;: array([0.8       , 0.83333333, 0.86666667, 0.9       , 0.93333333,\n",
       "       0.96666667, 1.        , 1.03333333, 1.06666667, 1.1       ]),\n",
       "                          &#x27;svc__degree&#x27;: [2], &#x27;svc__kernel&#x27;: [&#x27;rbf&#x27;, &#x27;poly&#x27;],\n",
       "                          &#x27;svc__tol&#x27;: [0.001], &#x27;vec&#x27;: [CountVectorizer()],\n",
       "                          &#x27;vec__max_df&#x27;: [0.9, 0.95],\n",
       "                          &#x27;vec__max_features&#x27;: [7000, 9000],\n",
       "                          &#x27;vec__stop_words&#x27;: [None, &#x27;english&#x27;]},\n",
       "                         {&#x27;svc__C&#x27;: array([0.8       , 0.83333333, 0.86666667, 0.9       , 0.93333333,\n",
       "       0.96666667, 1.        , 1.03333333, 1.06666667, 1.1       ]),\n",
       "                          &#x27;svc__degree&#x27;: [2], &#x27;svc__kernel&#x27;: [&#x27;rbf&#x27;, &#x27;poly&#x27;],\n",
       "                          &#x27;svc__tol&#x27;: [0.001],\n",
       "                          &#x27;vec&#x27;: [TfidfVectorizer(max_df=0.9, max_features=7000,\n",
       "                                                  stop_words=&#x27;english&#x27;)],\n",
       "                          &#x27;vec__max_df&#x27;: [0.9, 0.95],\n",
       "                          &#x27;vec__max_features&#x27;: [7000, 9000],\n",
       "                          &#x27;vec__stop_words&#x27;: [None, &#x27;english&#x27;]}])</pre><b>In a Jupyter environment, please rerun this cell to show the HTML representation or trust the notebook. <br />On GitHub, the HTML representation is unable to render, please try loading this page with nbviewer.org.</b></div><div class=\"sk-container\" hidden><div class=\"sk-item sk-dashed-wrapped\"><div class=\"sk-label-container\"><div class=\"sk-label sk-toggleable\"><input class=\"sk-toggleable__control sk-hidden--visually\" id=\"sk-estimator-id-13\" type=\"checkbox\" ><label for=\"sk-estimator-id-13\" class=\"sk-toggleable__label sk-toggleable__label-arrow\">GridSearchCV</label><div class=\"sk-toggleable__content\"><pre>GridSearchCV(estimator=Pipeline(steps=[(&#x27;vec&#x27;, None), (&#x27;svc&#x27;, SVC())]),\n",
       "             param_grid=[{&#x27;svc__C&#x27;: array([0.8       , 0.83333333, 0.86666667, 0.9       , 0.93333333,\n",
       "       0.96666667, 1.        , 1.03333333, 1.06666667, 1.1       ]),\n",
       "                          &#x27;svc__degree&#x27;: [2], &#x27;svc__kernel&#x27;: [&#x27;rbf&#x27;, &#x27;poly&#x27;],\n",
       "                          &#x27;svc__tol&#x27;: [0.001], &#x27;vec&#x27;: [CountVectorizer()],\n",
       "                          &#x27;vec__max_df&#x27;: [0.9, 0.95],\n",
       "                          &#x27;vec__max_features&#x27;: [7000, 9000],\n",
       "                          &#x27;vec__stop_words&#x27;: [None, &#x27;english&#x27;]},\n",
       "                         {&#x27;svc__C&#x27;: array([0.8       , 0.83333333, 0.86666667, 0.9       , 0.93333333,\n",
       "       0.96666667, 1.        , 1.03333333, 1.06666667, 1.1       ]),\n",
       "                          &#x27;svc__degree&#x27;: [2], &#x27;svc__kernel&#x27;: [&#x27;rbf&#x27;, &#x27;poly&#x27;],\n",
       "                          &#x27;svc__tol&#x27;: [0.001],\n",
       "                          &#x27;vec&#x27;: [TfidfVectorizer(max_df=0.9, max_features=7000,\n",
       "                                                  stop_words=&#x27;english&#x27;)],\n",
       "                          &#x27;vec__max_df&#x27;: [0.9, 0.95],\n",
       "                          &#x27;vec__max_features&#x27;: [7000, 9000],\n",
       "                          &#x27;vec__stop_words&#x27;: [None, &#x27;english&#x27;]}])</pre></div></div></div><div class=\"sk-parallel\"><div class=\"sk-parallel-item\"><div class=\"sk-item\"><div class=\"sk-label-container\"><div class=\"sk-label sk-toggleable\"><input class=\"sk-toggleable__control sk-hidden--visually\" id=\"sk-estimator-id-14\" type=\"checkbox\" ><label for=\"sk-estimator-id-14\" class=\"sk-toggleable__label sk-toggleable__label-arrow\">estimator: Pipeline</label><div class=\"sk-toggleable__content\"><pre>Pipeline(steps=[(&#x27;vec&#x27;, None), (&#x27;svc&#x27;, SVC())])</pre></div></div></div><div class=\"sk-serial\"><div class=\"sk-item\"><div class=\"sk-serial\"><div class=\"sk-item\"><div class=\"sk-estimator sk-toggleable\"><input class=\"sk-toggleable__control sk-hidden--visually\" id=\"sk-estimator-id-15\" type=\"checkbox\" ><label for=\"sk-estimator-id-15\" class=\"sk-toggleable__label sk-toggleable__label-arrow\">None</label><div class=\"sk-toggleable__content\"><pre>None</pre></div></div></div><div class=\"sk-item\"><div class=\"sk-estimator sk-toggleable\"><input class=\"sk-toggleable__control sk-hidden--visually\" id=\"sk-estimator-id-16\" type=\"checkbox\" ><label for=\"sk-estimator-id-16\" class=\"sk-toggleable__label sk-toggleable__label-arrow\">SVC</label><div class=\"sk-toggleable__content\"><pre>SVC()</pre></div></div></div></div></div></div></div></div></div></div></div></div>"
      ],
      "text/plain": [
       "GridSearchCV(estimator=Pipeline(steps=[('vec', None), ('svc', SVC())]),\n",
       "             param_grid=[{'svc__C': array([0.8       , 0.83333333, 0.86666667, 0.9       , 0.93333333,\n",
       "       0.96666667, 1.        , 1.03333333, 1.06666667, 1.1       ]),\n",
       "                          'svc__degree': [2], 'svc__kernel': ['rbf', 'poly'],\n",
       "                          'svc__tol': [0.001], 'vec': [CountVectorizer()],\n",
       "                          'vec__max_df': [0.9, 0.95],\n",
       "                          'vec__max_features': [7000, 9000],\n",
       "                          'vec__stop_words': [None, 'english']},\n",
       "                         {'svc__C': array([0.8       , 0.83333333, 0.86666667, 0.9       , 0.93333333,\n",
       "       0.96666667, 1.        , 1.03333333, 1.06666667, 1.1       ]),\n",
       "                          'svc__degree': [2], 'svc__kernel': ['rbf', 'poly'],\n",
       "                          'svc__tol': [0.001],\n",
       "                          'vec': [TfidfVectorizer(max_df=0.9, max_features=7000,\n",
       "                                                  stop_words='english')],\n",
       "                          'vec__max_df': [0.9, 0.95],\n",
       "                          'vec__max_features': [7000, 9000],\n",
       "                          'vec__stop_words': [None, 'english']}])"
      ]
     },
     "execution_count": 28,
     "metadata": {},
     "output_type": "execute_result"
    }
   ],
   "source": [
    "%%time\n",
    "\n",
    "gs_svc = GridSearchCV(pipe_svc, pgrid_svc)\n",
    "gs_svc.fit(X_train, y_train)"
   ]
  },
  {
   "cell_type": "code",
   "execution_count": 70,
   "id": "75bc8a15-00e4-4f2d-bb5a-e806cec29879",
   "metadata": {},
   "outputs": [],
   "source": [
    "# Make predictions for Accuracy Report\n",
    "preds_svc = gs_svc.predict(X_test)"
   ]
  },
  {
   "cell_type": "code",
   "execution_count": 150,
   "id": "dac7ad8d-821e-4626-ada9-e47d69315c53",
   "metadata": {},
   "outputs": [
    {
     "name": "stdout",
     "output_type": "stream",
     "text": [
      "----------------- \u001b[1mSVM w/ GridSearch\u001b[0m -----------------\n",
      "------------- Train: 0.9865152590489709 -------------\n",
      "------------- Test: 0.8757984386089425 --------------\n",
      "Best Params: {'svc__C': 1.0333333333333334, 'svc__degree': 2, 'svc__kernel': 'rbf', 'svc__tol': 0.001, 'vec': TfidfVectorizer(max_df=0.9, max_features=7000, stop_words='english'), 'vec__max_df': 0.9, 'vec__max_features': 7000, 'vec__stop_words': 'english'}\n"
     ]
    }
   ],
   "source": [
    "print(f'----------------- {b1}SVM w/ GridSearch{b0} -----------------')\n",
    "print(f'------------- Train: {gs_svc.score(X_train, y_train)} -------------')\n",
    "print(f'------------- Test: {gs_svc.score(X_test, y_test)} --------------')\n",
    "print('Best Params:', gs_svc.best_params_)"
   ]
  },
  {
   "cell_type": "code",
   "execution_count": 104,
   "id": "9983932b-6a8a-4e52-9827-99ed4e74f45d",
   "metadata": {},
   "outputs": [
    {
     "name": "stdout",
     "output_type": "stream",
     "text": [
      "CPU times: total: 13.9 s\n",
      "Wall time: 1min 26s\n"
     ]
    },
    {
     "data": {
      "text/html": [
       "<style>#sk-container-id-14 {color: black;background-color: white;}#sk-container-id-14 pre{padding: 0;}#sk-container-id-14 div.sk-toggleable {background-color: white;}#sk-container-id-14 label.sk-toggleable__label {cursor: pointer;display: block;width: 100%;margin-bottom: 0;padding: 0.3em;box-sizing: border-box;text-align: center;}#sk-container-id-14 label.sk-toggleable__label-arrow:before {content: \"▸\";float: left;margin-right: 0.25em;color: #696969;}#sk-container-id-14 label.sk-toggleable__label-arrow:hover:before {color: black;}#sk-container-id-14 div.sk-estimator:hover label.sk-toggleable__label-arrow:before {color: black;}#sk-container-id-14 div.sk-toggleable__content {max-height: 0;max-width: 0;overflow: hidden;text-align: left;background-color: #f0f8ff;}#sk-container-id-14 div.sk-toggleable__content pre {margin: 0.2em;color: black;border-radius: 0.25em;background-color: #f0f8ff;}#sk-container-id-14 input.sk-toggleable__control:checked~div.sk-toggleable__content {max-height: 200px;max-width: 100%;overflow: auto;}#sk-container-id-14 input.sk-toggleable__control:checked~label.sk-toggleable__label-arrow:before {content: \"▾\";}#sk-container-id-14 div.sk-estimator input.sk-toggleable__control:checked~label.sk-toggleable__label {background-color: #d4ebff;}#sk-container-id-14 div.sk-label input.sk-toggleable__control:checked~label.sk-toggleable__label {background-color: #d4ebff;}#sk-container-id-14 input.sk-hidden--visually {border: 0;clip: rect(1px 1px 1px 1px);clip: rect(1px, 1px, 1px, 1px);height: 1px;margin: -1px;overflow: hidden;padding: 0;position: absolute;width: 1px;}#sk-container-id-14 div.sk-estimator {font-family: monospace;background-color: #f0f8ff;border: 1px dotted black;border-radius: 0.25em;box-sizing: border-box;margin-bottom: 0.5em;}#sk-container-id-14 div.sk-estimator:hover {background-color: #d4ebff;}#sk-container-id-14 div.sk-parallel-item::after {content: \"\";width: 100%;border-bottom: 1px solid gray;flex-grow: 1;}#sk-container-id-14 div.sk-label:hover label.sk-toggleable__label {background-color: #d4ebff;}#sk-container-id-14 div.sk-serial::before {content: \"\";position: absolute;border-left: 1px solid gray;box-sizing: border-box;top: 0;bottom: 0;left: 50%;z-index: 0;}#sk-container-id-14 div.sk-serial {display: flex;flex-direction: column;align-items: center;background-color: white;padding-right: 0.2em;padding-left: 0.2em;position: relative;}#sk-container-id-14 div.sk-item {position: relative;z-index: 1;}#sk-container-id-14 div.sk-parallel {display: flex;align-items: stretch;justify-content: center;background-color: white;position: relative;}#sk-container-id-14 div.sk-item::before, #sk-container-id-14 div.sk-parallel-item::before {content: \"\";position: absolute;border-left: 1px solid gray;box-sizing: border-box;top: 0;bottom: 0;left: 50%;z-index: -1;}#sk-container-id-14 div.sk-parallel-item {display: flex;flex-direction: column;z-index: 1;position: relative;background-color: white;}#sk-container-id-14 div.sk-parallel-item:first-child::after {align-self: flex-end;width: 50%;}#sk-container-id-14 div.sk-parallel-item:last-child::after {align-self: flex-start;width: 50%;}#sk-container-id-14 div.sk-parallel-item:only-child::after {width: 0;}#sk-container-id-14 div.sk-dashed-wrapped {border: 1px dashed gray;margin: 0 0.4em 0.5em 0.4em;box-sizing: border-box;padding-bottom: 0.4em;background-color: white;}#sk-container-id-14 div.sk-label label {font-family: monospace;font-weight: bold;display: inline-block;line-height: 1.2em;}#sk-container-id-14 div.sk-label-container {text-align: center;}#sk-container-id-14 div.sk-container {/* jupyter's `normalize.less` sets `[hidden] { display: none; }` but bootstrap.min.css set `[hidden] { display: none !important; }` so we also need the `!important` here to be able to override the default hidden behavior on the sphinx rendered scikit-learn.org. See: https://github.com/scikit-learn/scikit-learn/issues/21755 */display: inline-block !important;position: relative;}#sk-container-id-14 div.sk-text-repr-fallback {display: none;}</style><div id=\"sk-container-id-14\" class=\"sk-top-container\"><div class=\"sk-text-repr-fallback\"><pre>RandomizedSearchCV(cv=5,\n",
       "                   estimator=Pipeline(steps=[(&#x27;vec&#x27;, None), (&#x27;svc&#x27;, SVC())]),\n",
       "                   param_distributions=[{&#x27;svc__C&#x27;: array([0.8       , 0.83333333, 0.86666667, 0.9       , 0.93333333,\n",
       "       0.96666667, 1.        , 1.03333333, 1.06666667, 1.1       ]),\n",
       "                                         &#x27;svc__degree&#x27;: [2],\n",
       "                                         &#x27;svc__kernel&#x27;: [&#x27;rbf&#x27;, &#x27;poly&#x27;],\n",
       "                                         &#x27;svc__tol&#x27;: [0.001],\n",
       "                                         &#x27;vec&#x27;: [CountVectorizer()],\n",
       "                                         &#x27;vec__max_df&#x27;: [0.9, 0.95],\n",
       "                                         &#x27;vec__max_features&#x27;: [7000, 9000],\n",
       "                                         &#x27;...\n",
       "                                        {&#x27;svc__C&#x27;: array([0.8       , 0.83333333, 0.86666667, 0.9       , 0.93333333,\n",
       "       0.96666667, 1.        , 1.03333333, 1.06666667, 1.1       ]),\n",
       "                                         &#x27;svc__degree&#x27;: [2],\n",
       "                                         &#x27;svc__kernel&#x27;: [&#x27;rbf&#x27;, &#x27;poly&#x27;],\n",
       "                                         &#x27;svc__tol&#x27;: [0.001],\n",
       "                                         &#x27;vec&#x27;: [TfidfVectorizer(max_df=0.9,\n",
       "                                                                 max_features=7000,\n",
       "                                                                 stop_words=&#x27;english&#x27;)],\n",
       "                                         &#x27;vec__max_df&#x27;: [0.9, 0.95],\n",
       "                                         &#x27;vec__max_features&#x27;: [7000, 9000],\n",
       "                                         &#x27;vec__stop_words&#x27;: [None, &#x27;english&#x27;]}],\n",
       "                   random_state=1527)</pre><b>In a Jupyter environment, please rerun this cell to show the HTML representation or trust the notebook. <br />On GitHub, the HTML representation is unable to render, please try loading this page with nbviewer.org.</b></div><div class=\"sk-container\" hidden><div class=\"sk-item sk-dashed-wrapped\"><div class=\"sk-label-container\"><div class=\"sk-label sk-toggleable\"><input class=\"sk-toggleable__control sk-hidden--visually\" id=\"sk-estimator-id-53\" type=\"checkbox\" ><label for=\"sk-estimator-id-53\" class=\"sk-toggleable__label sk-toggleable__label-arrow\">RandomizedSearchCV</label><div class=\"sk-toggleable__content\"><pre>RandomizedSearchCV(cv=5,\n",
       "                   estimator=Pipeline(steps=[(&#x27;vec&#x27;, None), (&#x27;svc&#x27;, SVC())]),\n",
       "                   param_distributions=[{&#x27;svc__C&#x27;: array([0.8       , 0.83333333, 0.86666667, 0.9       , 0.93333333,\n",
       "       0.96666667, 1.        , 1.03333333, 1.06666667, 1.1       ]),\n",
       "                                         &#x27;svc__degree&#x27;: [2],\n",
       "                                         &#x27;svc__kernel&#x27;: [&#x27;rbf&#x27;, &#x27;poly&#x27;],\n",
       "                                         &#x27;svc__tol&#x27;: [0.001],\n",
       "                                         &#x27;vec&#x27;: [CountVectorizer()],\n",
       "                                         &#x27;vec__max_df&#x27;: [0.9, 0.95],\n",
       "                                         &#x27;vec__max_features&#x27;: [7000, 9000],\n",
       "                                         &#x27;...\n",
       "                                        {&#x27;svc__C&#x27;: array([0.8       , 0.83333333, 0.86666667, 0.9       , 0.93333333,\n",
       "       0.96666667, 1.        , 1.03333333, 1.06666667, 1.1       ]),\n",
       "                                         &#x27;svc__degree&#x27;: [2],\n",
       "                                         &#x27;svc__kernel&#x27;: [&#x27;rbf&#x27;, &#x27;poly&#x27;],\n",
       "                                         &#x27;svc__tol&#x27;: [0.001],\n",
       "                                         &#x27;vec&#x27;: [TfidfVectorizer(max_df=0.9,\n",
       "                                                                 max_features=7000,\n",
       "                                                                 stop_words=&#x27;english&#x27;)],\n",
       "                                         &#x27;vec__max_df&#x27;: [0.9, 0.95],\n",
       "                                         &#x27;vec__max_features&#x27;: [7000, 9000],\n",
       "                                         &#x27;vec__stop_words&#x27;: [None, &#x27;english&#x27;]}],\n",
       "                   random_state=1527)</pre></div></div></div><div class=\"sk-parallel\"><div class=\"sk-parallel-item\"><div class=\"sk-item\"><div class=\"sk-label-container\"><div class=\"sk-label sk-toggleable\"><input class=\"sk-toggleable__control sk-hidden--visually\" id=\"sk-estimator-id-54\" type=\"checkbox\" ><label for=\"sk-estimator-id-54\" class=\"sk-toggleable__label sk-toggleable__label-arrow\">estimator: Pipeline</label><div class=\"sk-toggleable__content\"><pre>Pipeline(steps=[(&#x27;vec&#x27;, None), (&#x27;svc&#x27;, SVC())])</pre></div></div></div><div class=\"sk-serial\"><div class=\"sk-item\"><div class=\"sk-serial\"><div class=\"sk-item\"><div class=\"sk-estimator sk-toggleable\"><input class=\"sk-toggleable__control sk-hidden--visually\" id=\"sk-estimator-id-55\" type=\"checkbox\" ><label for=\"sk-estimator-id-55\" class=\"sk-toggleable__label sk-toggleable__label-arrow\">None</label><div class=\"sk-toggleable__content\"><pre>None</pre></div></div></div><div class=\"sk-item\"><div class=\"sk-estimator sk-toggleable\"><input class=\"sk-toggleable__control sk-hidden--visually\" id=\"sk-estimator-id-56\" type=\"checkbox\" ><label for=\"sk-estimator-id-56\" class=\"sk-toggleable__label sk-toggleable__label-arrow\">SVC</label><div class=\"sk-toggleable__content\"><pre>SVC()</pre></div></div></div></div></div></div></div></div></div></div></div></div>"
      ],
      "text/plain": [
       "RandomizedSearchCV(cv=5,\n",
       "                   estimator=Pipeline(steps=[('vec', None), ('svc', SVC())]),\n",
       "                   param_distributions=[{'svc__C': array([0.8       , 0.83333333, 0.86666667, 0.9       , 0.93333333,\n",
       "       0.96666667, 1.        , 1.03333333, 1.06666667, 1.1       ]),\n",
       "                                         'svc__degree': [2],\n",
       "                                         'svc__kernel': ['rbf', 'poly'],\n",
       "                                         'svc__tol': [0.001],\n",
       "                                         'vec': [CountVectorizer()],\n",
       "                                         'vec__max_df': [0.9, 0.95],\n",
       "                                         'vec__max_features': [7000, 9000],\n",
       "                                         '...\n",
       "                                        {'svc__C': array([0.8       , 0.83333333, 0.86666667, 0.9       , 0.93333333,\n",
       "       0.96666667, 1.        , 1.03333333, 1.06666667, 1.1       ]),\n",
       "                                         'svc__degree': [2],\n",
       "                                         'svc__kernel': ['rbf', 'poly'],\n",
       "                                         'svc__tol': [0.001],\n",
       "                                         'vec': [TfidfVectorizer(max_df=0.9,\n",
       "                                                                 max_features=7000,\n",
       "                                                                 stop_words='english')],\n",
       "                                         'vec__max_df': [0.9, 0.95],\n",
       "                                         'vec__max_features': [7000, 9000],\n",
       "                                         'vec__stop_words': [None, 'english']}],\n",
       "                   random_state=1527)"
      ]
     },
     "execution_count": 104,
     "metadata": {},
     "output_type": "execute_result"
    }
   ],
   "source": [
    "%%time\n",
    "\n",
    "# Test RandomizedSearch for comparison in timing and outcome\n",
    "rs_svc = RandomizedSearchCV(pipe_svc, pgrid_svc, cv=5, n_iter=10, random_state=1527)\n",
    "rs_svc.fit(X_train, y_train)"
   ]
  },
  {
   "cell_type": "code",
   "execution_count": 105,
   "id": "2e866dcd-fa8e-4fe5-825b-4f8b9ef7b2f3",
   "metadata": {},
   "outputs": [],
   "source": [
    "# Make predictions for Accuracy Report\n",
    "preds_svc_r = rs_svc.predict(X_test)"
   ]
  },
  {
   "cell_type": "code",
   "execution_count": 151,
   "id": "3fc2a2d5-fc7a-4c39-a762-05002744b467",
   "metadata": {},
   "outputs": [
    {
     "name": "stdout",
     "output_type": "stream",
     "text": [
      "-------------- \u001b[1mSVM w/ RandomizedSearch\u001b[0m --------------\n",
      "------------- Train: 0.9874615566595695 -------------\n",
      "------------- Test: 0.8772178850248403 --------------\n",
      "Best Params: {'vec__stop_words': 'english', 'vec__max_features': 7000, 'vec__max_df': 0.9, 'vec': TfidfVectorizer(max_df=0.9, max_features=7000, stop_words='english'), 'svc__tol': 0.001, 'svc__kernel': 'rbf', 'svc__degree': 2, 'svc__C': 1.0666666666666669}\n"
     ]
    }
   ],
   "source": [
    "print(f'-------------- {b1}SVM w/ RandomizedSearch{b0} --------------')\n",
    "print(f'------------- Train: {rs_svc.score(X_train, y_train)} -------------')\n",
    "print(f'------------- Test: {rs_svc.score(X_test, y_test)} --------------')\n",
    "print('Best Params:', rs_svc.best_params_)\n",
    "\n",
    "# Randomized search computed faster and test score is slightly better - we will utilize RS more"
   ]
  },
  {
   "cell_type": "code",
   "execution_count": 139,
   "id": "01a45bdc-7c17-466c-903a-d2a4ee3f5e87",
   "metadata": {},
   "outputs": [
    {
     "data": {
      "image/png": "[encoded data removed]",
      "text/plain": [
       "<Figure size 1600x500 with 6 Axes>"
      ]
     },
     "metadata": {},
     "output_type": "display_data"
    }
   ],
   "source": [
    "fig, ax = plt.subplots(1, 3, figsize=(16, 5))\n",
    "\n",
    "ConfusionMatrixDisplay.from_predictions(y_test, preds_log_r, display_labels = ['Ski', 'Snowb'], cmap = 'Blues', ax=ax[0]);\n",
    "ConfusionMatrixDisplay.from_predictions(y_test, preds_nb_r, display_labels = ['Ski', 'Snowb'], cmap = 'Greens', ax=ax[1]);\n",
    "ConfusionMatrixDisplay.from_predictions(y_test, preds_svc_r, display_labels = ['Ski', 'Snowb'], cmap = 'Purples', ax=ax[2]);\n",
    "\n",
    "\n",
    "plt.tight_layout()\n",
    "ax[0].set_title('Logistic Regression')\n",
    "ax[1].set_title('Multinomial Naive Bayes')\n",
    "ax[2].set_title('Support Vector Machine');"
   ]
  },
  {
   "cell_type": "code",
   "execution_count": 152,
   "id": "df475f4e-26b0-4b2f-b036-2fa316a5881a",
   "metadata": {},
   "outputs": [
    {
     "name": "stdout",
     "output_type": "stream",
     "text": [
      "\n",
      "---------------------- \u001b[1mLogistic\u001b[0m ---------------------- \n",
      "               precision    recall  f1-score   support\n",
      "\n",
      "           0     0.8522    0.9162    0.8830       692\n",
      "           1     0.9128    0.8466    0.8784       717\n",
      "\n",
      "    accuracy                         0.8808      1409\n",
      "   macro avg     0.8825    0.8814    0.8807      1409\n",
      "weighted avg     0.8830    0.8808    0.8807      1409\n",
      " \n",
      "\n",
      "------------------------- \u001b[1mNB\u001b[0m ------------------------- \n",
      "                precision    recall  f1-score   support\n",
      "\n",
      "           0     0.8559    0.8584    0.8571       692\n",
      "           1     0.8629    0.8605    0.8617       717\n",
      "\n",
      "    accuracy                         0.8595      1409\n",
      "   macro avg     0.8594    0.8595    0.8594      1409\n",
      "weighted avg     0.8595    0.8595    0.8595      1409\n",
      " \n",
      "\n",
      "------------------------- \u001b[1mSVM\u001b[0m ------------------------- \n",
      "                precision    recall  f1-score   support\n",
      "\n",
      "           0     0.8340    0.9364    0.8822       692\n",
      "           1     0.9304    0.8201    0.8718       717\n",
      "\n",
      "    accuracy                         0.8772      1409\n",
      "   macro avg     0.8822    0.8782    0.8770      1409\n",
      "weighted avg     0.8830    0.8772    0.8769      1409\n",
      "\n"
     ]
    }
   ],
   "source": [
    "print(f'\\n---------------------- {b1}Logistic{b0} ---------------------- \\n {classification_report(y_test, preds_log_r, digits=4)} \\n')\n",
    "print(f'------------------------- {b1}NB{b0} ------------------------- \\n  {classification_report(y_test, preds_nb_r, digits=4)} \\n')\n",
    "print(f'------------------------- {b1}SVM{b0} ------------------------- \\n  {classification_report(y_test, preds_svc_r, digits=4)}')"
   ]
  },
  {
   "cell_type": "markdown",
   "id": "d1617efe-b443-47ad-8b2c-2cc5beb77494",
   "metadata": {},
   "source": [
    "##### <span style = 'color: blue'> <u>**Outcomes and Comparison**</u>: </span>\n",
    "- <span style = 'color: blue'>The logistic regression model best parameters, based on RandomSearchCV (n_iter = 10), included:</span>\n",
    "    - <span style = 'color: blue'>TfidfVectorizer with no stopwords</span>\n",
    "        - <span style = 'color: blue'>Max_features = 9000</span>\n",
    "        - <span style = 'color: blue'>C = 6.45 (inverse of regularization strength)</span>\n",
    "    - <span style = 'color: blue'>Penalty = L2</span>\n",
    "- <span style = 'color: blue'>The Bayes model best parameters, based on RandomSearchCV (n_iter = 10), included:</span>\n",
    "    - <span style = 'color: blue'>CountVectorizer with no stopwords</span>\n",
    "        - <span style = 'color: blue'>Max_features = 7000</span>\n",
    "        - <span style = 'color: blue'>Max_df = 0.9</span>\n",
    "    - <span style = 'color: blue'>Alpha = 1.0 (smoothing)</span>\n",
    "- <span style = 'color: blue'>The SVM model best parameters, based on RandomSearchCV (n_iter = 10), included:</span>\n",
    "    - <span style = 'color: blue'>TfidfVectorizer with English stopwords</span>\n",
    "        - <span style = 'color: blue'>Max_features = 7000</span>\n",
    "        - <span style = 'color: blue'>Max_df = 0.9</span>\n",
    "    - <span style = 'color: blue'>Kernel = RBF (Radial Basis Function)</span>\n",
    "    - <span style = 'color: blue'>C = 1.067 (inverse of regularization strength)</span>\n",
    "    - <span style = 'color: blue'>Degree = 2</span>       <br></br>\n",
    "\n",
    "- <span style = 'color: blue'>**Logistic Regression** performed slightly better than Multinomial Naive Bayes (MNB) and the Support Vector Machine (SVM).</span>\n",
    "    - <span style = 'color: blue'>The logistic regression had ...\n",
    "        - A higher testing **accuracy** score than both MNB and SVM (88.1% vs. 86.0% and 87.7%) \n",
    "        - A higher **precision** than MNB (91.3% vs. 86.3%), but lower precision than SVM (91.3% vs. 93.0%)\n",
    "        - A lower **sensitivity** than MNB (84.7% vs. 86.1%), but higher sensitivity than SVM (84.7% vs. 82.0%)\n",
    "        - A higher **specificity** than MNB  (91.6% vs. 85.8%), but lower specificity than SVM (91.6% vs. 93.6%). </span>"
   ]
  },
  {
   "cell_type": "markdown",
   "id": "72efebd0-f694-423a-8398-fac53df0d74c",
   "metadata": {
    "tags": []
   },
   "source": [
    "---\n",
    "### Ensembling\n",
    "##### Here we will test if Ensembling Models 1-3 makes a better model, by how much, and and other considerations. "
   ]
  },
  {
   "cell_type": "code",
   "execution_count": 195,
   "id": "fc57958d-daf7-4bc2-86d1-b4cecf675879",
   "metadata": {},
   "outputs": [],
   "source": [
    "vc = VotingClassifier([\n",
    "    ('logr_e', rs_log),\n",
    "    ('nb_e', rs_nb),\n",
    "    ('svc_e', rs_svc)\n",
    "])"
   ]
  },
  {
   "cell_type": "code",
   "execution_count": 196,
   "id": "27cf6d4c-e8fc-469b-9b72-82202ac5e286",
   "metadata": {},
   "outputs": [
    {
     "data": {
      "text/html": [
       "<style>#sk-container-id-21 {color: black;background-color: white;}#sk-container-id-21 pre{padding: 0;}#sk-container-id-21 div.sk-toggleable {background-color: white;}#sk-container-id-21 label.sk-toggleable__label {cursor: pointer;display: block;width: 100%;margin-bottom: 0;padding: 0.3em;box-sizing: border-box;text-align: center;}#sk-container-id-21 label.sk-toggleable__label-arrow:before {content: \"▸\";float: left;margin-right: 0.25em;color: #696969;}#sk-container-id-21 label.sk-toggleable__label-arrow:hover:before {color: black;}#sk-container-id-21 div.sk-estimator:hover label.sk-toggleable__label-arrow:before {color: black;}#sk-container-id-21 div.sk-toggleable__content {max-height: 0;max-width: 0;overflow: hidden;text-align: left;background-color: #f0f8ff;}#sk-container-id-21 div.sk-toggleable__content pre {margin: 0.2em;color: black;border-radius: 0.25em;background-color: #f0f8ff;}#sk-container-id-21 input.sk-toggleable__control:checked~div.sk-toggleable__content {max-height: 200px;max-width: 100%;overflow: auto;}#sk-container-id-21 input.sk-toggleable__control:checked~label.sk-toggleable__label-arrow:before {content: \"▾\";}#sk-container-id-21 div.sk-estimator input.sk-toggleable__control:checked~label.sk-toggleable__label {background-color: #d4ebff;}#sk-container-id-21 div.sk-label input.sk-toggleable__control:checked~label.sk-toggleable__label {background-color: #d4ebff;}#sk-container-id-21 input.sk-hidden--visually {border: 0;clip: rect(1px 1px 1px 1px);clip: rect(1px, 1px, 1px, 1px);height: 1px;margin: -1px;overflow: hidden;padding: 0;position: absolute;width: 1px;}#sk-container-id-21 div.sk-estimator {font-family: monospace;background-color: #f0f8ff;border: 1px dotted black;border-radius: 0.25em;box-sizing: border-box;margin-bottom: 0.5em;}#sk-container-id-21 div.sk-estimator:hover {background-color: #d4ebff;}#sk-container-id-21 div.sk-parallel-item::after {content: \"\";width: 100%;border-bottom: 1px solid gray;flex-grow: 1;}#sk-container-id-21 div.sk-label:hover label.sk-toggleable__label {background-color: #d4ebff;}#sk-container-id-21 div.sk-serial::before {content: \"\";position: absolute;border-left: 1px solid gray;box-sizing: border-box;top: 0;bottom: 0;left: 50%;z-index: 0;}#sk-container-id-21 div.sk-serial {display: flex;flex-direction: column;align-items: center;background-color: white;padding-right: 0.2em;padding-left: 0.2em;position: relative;}#sk-container-id-21 div.sk-item {position: relative;z-index: 1;}#sk-container-id-21 div.sk-parallel {display: flex;align-items: stretch;justify-content: center;background-color: white;position: relative;}#sk-container-id-21 div.sk-item::before, #sk-container-id-21 div.sk-parallel-item::before {content: \"\";position: absolute;border-left: 1px solid gray;box-sizing: border-box;top: 0;bottom: 0;left: 50%;z-index: -1;}#sk-container-id-21 div.sk-parallel-item {display: flex;flex-direction: column;z-index: 1;position: relative;background-color: white;}#sk-container-id-21 div.sk-parallel-item:first-child::after {align-self: flex-end;width: 50%;}#sk-container-id-21 div.sk-parallel-item:last-child::after {align-self: flex-start;width: 50%;}#sk-container-id-21 div.sk-parallel-item:only-child::after {width: 0;}#sk-container-id-21 div.sk-dashed-wrapped {border: 1px dashed gray;margin: 0 0.4em 0.5em 0.4em;box-sizing: border-box;padding-bottom: 0.4em;background-color: white;}#sk-container-id-21 div.sk-label label {font-family: monospace;font-weight: bold;display: inline-block;line-height: 1.2em;}#sk-container-id-21 div.sk-label-container {text-align: center;}#sk-container-id-21 div.sk-container {/* jupyter's `normalize.less` sets `[hidden] { display: none; }` but bootstrap.min.css set `[hidden] { display: none !important; }` so we also need the `!important` here to be able to override the default hidden behavior on the sphinx rendered scikit-learn.org. See: https://github.com/scikit-learn/scikit-learn/issues/21755 */display: inline-block !important;position: relative;}#sk-container-id-21 div.sk-text-repr-fallback {display: none;}</style><div id=\"sk-container-id-21\" class=\"sk-top-container\"><div class=\"sk-text-repr-fallback\"><pre>VotingClassifier(estimators=[(&#x27;logr_e&#x27;,\n",
       "                              RandomizedSearchCV(cv=5,\n",
       "                                                 estimator=Pipeline(steps=[(&#x27;vec&#x27;,\n",
       "                                                                            None),\n",
       "                                                                           (&#x27;logr&#x27;,\n",
       "                                                                            LogisticRegression(max_iter=1000,\n",
       "                                                                                               solver=&#x27;liblinear&#x27;))]),\n",
       "                                                 param_distributions=[{&#x27;logr__C&#x27;: array([0.05, 0.6 , 1.15, 1.7 , 2.25, 2.8 , 3.35, 3.9 , 4.45, 5.  ]),\n",
       "                                                                       &#x27;logr__penalty&#x27;: [&#x27;l1&#x27;,\n",
       "                                                                                         &#x27;l2&#x27;],\n",
       "                                                                       &#x27;vec&#x27;: [CountVectorizer()],\n",
       "                                                                       &#x27;vec__max_features&#x27;: [7000,\n",
       "                                                                                             9000],\n",
       "                                                                       &#x27;vec__stop_wo...\n",
       "                                                                      {&#x27;svc__C&#x27;: array([0.8       , 0.83333333, 0.86666667, 0.9       , 0.93333333,\n",
       "       0.96666667, 1.        , 1.03333333, 1.06666667, 1.1       ]),\n",
       "                                                                       &#x27;svc__degree&#x27;: [2],\n",
       "                                                                       &#x27;svc__kernel&#x27;: [&#x27;rbf&#x27;,\n",
       "                                                                                       &#x27;poly&#x27;],\n",
       "                                                                       &#x27;svc__tol&#x27;: [0.001],\n",
       "                                                                       &#x27;vec&#x27;: [TfidfVectorizer(max_df=0.9,\n",
       "                                                                                               max_features=7000,\n",
       "                                                                                               stop_words=&#x27;english&#x27;)],\n",
       "                                                                       &#x27;vec__max_df&#x27;: [0.9,\n",
       "                                                                                       0.95],\n",
       "                                                                       &#x27;vec__max_features&#x27;: [7000,\n",
       "                                                                                             9000],\n",
       "                                                                       &#x27;vec__stop_words&#x27;: [None,\n",
       "                                                                                           &#x27;english&#x27;]}],\n",
       "                                                 random_state=1527))])</pre><b>In a Jupyter environment, please rerun this cell to show the HTML representation or trust the notebook. <br />On GitHub, the HTML representation is unable to render, please try loading this page with nbviewer.org.</b></div><div class=\"sk-container\" hidden><div class=\"sk-item sk-dashed-wrapped\"><div class=\"sk-label-container\"><div class=\"sk-label sk-toggleable\"><input class=\"sk-toggleable__control sk-hidden--visually\" id=\"sk-estimator-id-84\" type=\"checkbox\" ><label for=\"sk-estimator-id-84\" class=\"sk-toggleable__label sk-toggleable__label-arrow\">VotingClassifier</label><div class=\"sk-toggleable__content\"><pre>VotingClassifier(estimators=[(&#x27;logr_e&#x27;,\n",
       "                              RandomizedSearchCV(cv=5,\n",
       "                                                 estimator=Pipeline(steps=[(&#x27;vec&#x27;,\n",
       "                                                                            None),\n",
       "                                                                           (&#x27;logr&#x27;,\n",
       "                                                                            LogisticRegression(max_iter=1000,\n",
       "                                                                                               solver=&#x27;liblinear&#x27;))]),\n",
       "                                                 param_distributions=[{&#x27;logr__C&#x27;: array([0.05, 0.6 , 1.15, 1.7 , 2.25, 2.8 , 3.35, 3.9 , 4.45, 5.  ]),\n",
       "                                                                       &#x27;logr__penalty&#x27;: [&#x27;l1&#x27;,\n",
       "                                                                                         &#x27;l2&#x27;],\n",
       "                                                                       &#x27;vec&#x27;: [CountVectorizer()],\n",
       "                                                                       &#x27;vec__max_features&#x27;: [7000,\n",
       "                                                                                             9000],\n",
       "                                                                       &#x27;vec__stop_wo...\n",
       "                                                                      {&#x27;svc__C&#x27;: array([0.8       , 0.83333333, 0.86666667, 0.9       , 0.93333333,\n",
       "       0.96666667, 1.        , 1.03333333, 1.06666667, 1.1       ]),\n",
       "                                                                       &#x27;svc__degree&#x27;: [2],\n",
       "                                                                       &#x27;svc__kernel&#x27;: [&#x27;rbf&#x27;,\n",
       "                                                                                       &#x27;poly&#x27;],\n",
       "                                                                       &#x27;svc__tol&#x27;: [0.001],\n",
       "                                                                       &#x27;vec&#x27;: [TfidfVectorizer(max_df=0.9,\n",
       "                                                                                               max_features=7000,\n",
       "                                                                                               stop_words=&#x27;english&#x27;)],\n",
       "                                                                       &#x27;vec__max_df&#x27;: [0.9,\n",
       "                                                                                       0.95],\n",
       "                                                                       &#x27;vec__max_features&#x27;: [7000,\n",
       "                                                                                             9000],\n",
       "                                                                       &#x27;vec__stop_words&#x27;: [None,\n",
       "                                                                                           &#x27;english&#x27;]}],\n",
       "                                                 random_state=1527))])</pre></div></div></div><div class=\"sk-parallel\"><div class=\"sk-parallel-item\"><div class=\"sk-item\"><div class=\"sk-label-container\"><div class=\"sk-label sk-toggleable\"><label>logr_e</label></div></div><div class=\"sk-serial\"><div class=\"sk-item sk-dashed-wrapped\"><div class=\"sk-parallel\"><div class=\"sk-parallel-item\"><div class=\"sk-item\"><div class=\"sk-label-container\"><div class=\"sk-label sk-toggleable\"><input class=\"sk-toggleable__control sk-hidden--visually\" id=\"sk-estimator-id-85\" type=\"checkbox\" ><label for=\"sk-estimator-id-85\" class=\"sk-toggleable__label sk-toggleable__label-arrow\">estimator: Pipeline</label><div class=\"sk-toggleable__content\"><pre>Pipeline(steps=[(&#x27;vec&#x27;, None),\n",
       "                (&#x27;logr&#x27;,\n",
       "                 LogisticRegression(max_iter=1000, solver=&#x27;liblinear&#x27;))])</pre></div></div></div><div class=\"sk-serial\"><div class=\"sk-item\"><div class=\"sk-serial\"><div class=\"sk-item\"><div class=\"sk-estimator sk-toggleable\"><input class=\"sk-toggleable__control sk-hidden--visually\" id=\"sk-estimator-id-86\" type=\"checkbox\" ><label for=\"sk-estimator-id-86\" class=\"sk-toggleable__label sk-toggleable__label-arrow\">None</label><div class=\"sk-toggleable__content\"><pre>None</pre></div></div></div><div class=\"sk-item\"><div class=\"sk-estimator sk-toggleable\"><input class=\"sk-toggleable__control sk-hidden--visually\" id=\"sk-estimator-id-87\" type=\"checkbox\" ><label for=\"sk-estimator-id-87\" class=\"sk-toggleable__label sk-toggleable__label-arrow\">LogisticRegression</label><div class=\"sk-toggleable__content\"><pre>LogisticRegression(max_iter=1000, solver=&#x27;liblinear&#x27;)</pre></div></div></div></div></div></div></div></div></div></div></div></div></div><div class=\"sk-parallel-item\"><div class=\"sk-item\"><div class=\"sk-label-container\"><div class=\"sk-label sk-toggleable\"><label>nb_e</label></div></div><div class=\"sk-serial\"><div class=\"sk-item sk-dashed-wrapped\"><div class=\"sk-parallel\"><div class=\"sk-parallel-item\"><div class=\"sk-item\"><div class=\"sk-label-container\"><div class=\"sk-label sk-toggleable\"><input class=\"sk-toggleable__control sk-hidden--visually\" id=\"sk-estimator-id-88\" type=\"checkbox\" ><label for=\"sk-estimator-id-88\" class=\"sk-toggleable__label sk-toggleable__label-arrow\">estimator: Pipeline</label><div class=\"sk-toggleable__content\"><pre>Pipeline(steps=[(&#x27;vec&#x27;, None), (&#x27;nb&#x27;, MultinomialNB())])</pre></div></div></div><div class=\"sk-serial\"><div class=\"sk-item\"><div class=\"sk-serial\"><div class=\"sk-item\"><div class=\"sk-estimator sk-toggleable\"><input class=\"sk-toggleable__control sk-hidden--visually\" id=\"sk-estimator-id-89\" type=\"checkbox\" ><label for=\"sk-estimator-id-89\" class=\"sk-toggleable__label sk-toggleable__label-arrow\">None</label><div class=\"sk-toggleable__content\"><pre>None</pre></div></div></div><div class=\"sk-item\"><div class=\"sk-estimator sk-toggleable\"><input class=\"sk-toggleable__control sk-hidden--visually\" id=\"sk-estimator-id-90\" type=\"checkbox\" ><label for=\"sk-estimator-id-90\" class=\"sk-toggleable__label sk-toggleable__label-arrow\">MultinomialNB</label><div class=\"sk-toggleable__content\"><pre>MultinomialNB()</pre></div></div></div></div></div></div></div></div></div></div></div></div></div><div class=\"sk-parallel-item\"><div class=\"sk-item\"><div class=\"sk-label-container\"><div class=\"sk-label sk-toggleable\"><label>svc_e</label></div></div><div class=\"sk-serial\"><div class=\"sk-item sk-dashed-wrapped\"><div class=\"sk-parallel\"><div class=\"sk-parallel-item\"><div class=\"sk-item\"><div class=\"sk-label-container\"><div class=\"sk-label sk-toggleable\"><input class=\"sk-toggleable__control sk-hidden--visually\" id=\"sk-estimator-id-91\" type=\"checkbox\" ><label for=\"sk-estimator-id-91\" class=\"sk-toggleable__label sk-toggleable__label-arrow\">estimator: Pipeline</label><div class=\"sk-toggleable__content\"><pre>Pipeline(steps=[(&#x27;vec&#x27;, None), (&#x27;svc&#x27;, SVC())])</pre></div></div></div><div class=\"sk-serial\"><div class=\"sk-item\"><div class=\"sk-serial\"><div class=\"sk-item\"><div class=\"sk-estimator sk-toggleable\"><input class=\"sk-toggleable__control sk-hidden--visually\" id=\"sk-estimator-id-92\" type=\"checkbox\" ><label for=\"sk-estimator-id-92\" class=\"sk-toggleable__label sk-toggleable__label-arrow\">None</label><div class=\"sk-toggleable__content\"><pre>None</pre></div></div></div><div class=\"sk-item\"><div class=\"sk-estimator sk-toggleable\"><input class=\"sk-toggleable__control sk-hidden--visually\" id=\"sk-estimator-id-93\" type=\"checkbox\" ><label for=\"sk-estimator-id-93\" class=\"sk-toggleable__label sk-toggleable__label-arrow\">SVC</label><div class=\"sk-toggleable__content\"><pre>SVC()</pre></div></div></div></div></div></div></div></div></div></div></div></div></div></div></div></div></div>"
      ],
      "text/plain": [
       "VotingClassifier(estimators=[('logr_e',\n",
       "                              RandomizedSearchCV(cv=5,\n",
       "                                                 estimator=Pipeline(steps=[('vec',\n",
       "                                                                            None),\n",
       "                                                                           ('logr',\n",
       "                                                                            LogisticRegression(max_iter=1000,\n",
       "                                                                                               solver='liblinear'))]),\n",
       "                                                 param_distributions=[{'logr__C': array([0.05, 0.6 , 1.15, 1.7 , 2.25, 2.8 , 3.35, 3.9 , 4.45, 5.  ]),\n",
       "                                                                       'logr__penalty': ['l1',\n",
       "                                                                                         'l2'],\n",
       "                                                                       'vec': [CountVectorizer()],\n",
       "                                                                       'vec__max_features': [7000,\n",
       "                                                                                             9000],\n",
       "                                                                       'vec__stop_wo...\n",
       "                                                                      {'svc__C': array([0.8       , 0.83333333, 0.86666667, 0.9       , 0.93333333,\n",
       "       0.96666667, 1.        , 1.03333333, 1.06666667, 1.1       ]),\n",
       "                                                                       'svc__degree': [2],\n",
       "                                                                       'svc__kernel': ['rbf',\n",
       "                                                                                       'poly'],\n",
       "                                                                       'svc__tol': [0.001],\n",
       "                                                                       'vec': [TfidfVectorizer(max_df=0.9,\n",
       "                                                                                               max_features=7000,\n",
       "                                                                                               stop_words='english')],\n",
       "                                                                       'vec__max_df': [0.9,\n",
       "                                                                                       0.95],\n",
       "                                                                       'vec__max_features': [7000,\n",
       "                                                                                             9000],\n",
       "                                                                       'vec__stop_words': [None,\n",
       "                                                                                           'english']}],\n",
       "                                                 random_state=1527))])"
      ]
     },
     "execution_count": 196,
     "metadata": {},
     "output_type": "execute_result"
    }
   ],
   "source": [
    "%%time\n",
    "vc.fit(X_train, y_train)"
   ]
  },
  {
   "cell_type": "code",
   "execution_count": 197,
   "id": "86ac3dcd-4969-45f1-ba04-db2823b7e898",
   "metadata": {},
   "outputs": [
    {
     "name": "stdout",
     "output_type": "stream",
     "text": [
      "----------------- \u001b[1mEnsembling Scores\u001b[0m -----------------\n",
      "------------- Train: 0.9756328365270878 -------------\n",
      "------------- Test: 0.8836053938963804 --------------\n"
     ]
    }
   ],
   "source": [
    "print(f'----------------- {b1}Ensembling Scores{b0} -----------------')\n",
    "print(f'------------- Train: {vc.score(X_train, y_train)} -------------')\n",
    "print(f'------------- Test: {vc.score(X_test, y_test)} --------------')"
   ]
  },
  {
   "cell_type": "markdown",
   "id": "9a66ce2d-0b3a-4678-8fc4-4a25fa442e55",
   "metadata": {},
   "source": [
    "##### <span style = 'color:blue'> Ensembling all three models we built only improved the testing accuracy by 0.3%, therefore we will not proceed with this approach as the gain is insufficient. We instead turn our attention to reducing overfitting.</span>"
   ]
  },
  {
   "cell_type": "markdown",
   "id": "2e43d7e7-e15d-48d6-b8f8-a6f288b933a7",
   "metadata": {},
   "source": [
    "---\n",
    "### Reducing Overfitting"
   ]
  },
  {
   "cell_type": "markdown",
   "id": "b964add5-23c5-4148-99ea-70fae255f1b3",
   "metadata": {},
   "source": [
    "\n",
    "#### Model 4: Random Forest and ExtraTrees\n",
    "##### This model will be addressing overfitting. All three models that have been fit have higher training scores than testing scores by ~4-10%:\n",
    "- Logistic Regression\n",
    "    - Train = 0.9744\n",
    "    - Test = 0.8808\n",
    "- Multinomial Naive Bayes\n",
    "    - Train = 0.9025\n",
    "    - Test = 0.8595\n",
    "- Support Vector Machine\n",
    "    - Train = 0.9875\n",
    "    - Test = 0.8772\n",
    "    \n",
    "##### We will use Random Forest Classifier to ameliorate this impact and improve our model."
   ]
  },
  {
   "cell_type": "code",
   "execution_count": 199,
   "id": "a6febfd9-541f-46db-ace0-dfb7d8af2334",
   "metadata": {},
   "outputs": [],
   "source": [
    "# RANDOM FOREST\n",
    "pipe_rf = Pipeline([\n",
    "    ('vec', None),\n",
    "    ('rf', RandomForestClassifier())\n",
    "])"
   ]
  },
  {
   "cell_type": "code",
   "execution_count": 200,
   "id": "46575c61-d96a-46b4-bbc0-9d88004e7017",
   "metadata": {},
   "outputs": [],
   "source": [
    "pgrid_rf =[\n",
    "    {\n",
    "    'vec': [CountVectorizer()],\n",
    "    'vec__stop_words': [None, 'english'],\n",
    "    'vec__max_features': [7000, 8000], \n",
    "    'vec__max_df': [0.9, 0.95],\n",
    "    'rf__n_estimators': [200, 250, 300],\n",
    "    'rf__max_depth': [None, 30, 40],\n",
    "    },\n",
    "    {\n",
    "    'vec': [TfidfVectorizer()],\n",
    "    'vec__stop_words': [None, 'english'],\n",
    "    'vec__max_features': [7000, 8000], \n",
    "    'vec__max_df': [0.9, 0.95],\n",
    "    'rf__n_estimators': [200, 250, 300],\n",
    "    'rf__max_depth': [None, 30, 40],\n",
    "    }\n",
    "]"
   ]
  },
  {
   "cell_type": "code",
   "execution_count": 201,
   "id": "4ad24492-d887-4517-8f64-9204cfdec4be",
   "metadata": {},
   "outputs": [
    {
     "name": "stdout",
     "output_type": "stream",
     "text": [
      "CPU times: total: 4min 46s\n",
      "Wall time: 19min 28s\n"
     ]
    },
    {
     "data": {
      "text/html": [
       "<style>#sk-container-id-22 {color: black;background-color: white;}#sk-container-id-22 pre{padding: 0;}#sk-container-id-22 div.sk-toggleable {background-color: white;}#sk-container-id-22 label.sk-toggleable__label {cursor: pointer;display: block;width: 100%;margin-bottom: 0;padding: 0.3em;box-sizing: border-box;text-align: center;}#sk-container-id-22 label.sk-toggleable__label-arrow:before {content: \"▸\";float: left;margin-right: 0.25em;color: #696969;}#sk-container-id-22 label.sk-toggleable__label-arrow:hover:before {color: black;}#sk-container-id-22 div.sk-estimator:hover label.sk-toggleable__label-arrow:before {color: black;}#sk-container-id-22 div.sk-toggleable__content {max-height: 0;max-width: 0;overflow: hidden;text-align: left;background-color: #f0f8ff;}#sk-container-id-22 div.sk-toggleable__content pre {margin: 0.2em;color: black;border-radius: 0.25em;background-color: #f0f8ff;}#sk-container-id-22 input.sk-toggleable__control:checked~div.sk-toggleable__content {max-height: 200px;max-width: 100%;overflow: auto;}#sk-container-id-22 input.sk-toggleable__control:checked~label.sk-toggleable__label-arrow:before {content: \"▾\";}#sk-container-id-22 div.sk-estimator input.sk-toggleable__control:checked~label.sk-toggleable__label {background-color: #d4ebff;}#sk-container-id-22 div.sk-label input.sk-toggleable__control:checked~label.sk-toggleable__label {background-color: #d4ebff;}#sk-container-id-22 input.sk-hidden--visually {border: 0;clip: rect(1px 1px 1px 1px);clip: rect(1px, 1px, 1px, 1px);height: 1px;margin: -1px;overflow: hidden;padding: 0;position: absolute;width: 1px;}#sk-container-id-22 div.sk-estimator {font-family: monospace;background-color: #f0f8ff;border: 1px dotted black;border-radius: 0.25em;box-sizing: border-box;margin-bottom: 0.5em;}#sk-container-id-22 div.sk-estimator:hover {background-color: #d4ebff;}#sk-container-id-22 div.sk-parallel-item::after {content: \"\";width: 100%;border-bottom: 1px solid gray;flex-grow: 1;}#sk-container-id-22 div.sk-label:hover label.sk-toggleable__label {background-color: #d4ebff;}#sk-container-id-22 div.sk-serial::before {content: \"\";position: absolute;border-left: 1px solid gray;box-sizing: border-box;top: 0;bottom: 0;left: 50%;z-index: 0;}#sk-container-id-22 div.sk-serial {display: flex;flex-direction: column;align-items: center;background-color: white;padding-right: 0.2em;padding-left: 0.2em;position: relative;}#sk-container-id-22 div.sk-item {position: relative;z-index: 1;}#sk-container-id-22 div.sk-parallel {display: flex;align-items: stretch;justify-content: center;background-color: white;position: relative;}#sk-container-id-22 div.sk-item::before, #sk-container-id-22 div.sk-parallel-item::before {content: \"\";position: absolute;border-left: 1px solid gray;box-sizing: border-box;top: 0;bottom: 0;left: 50%;z-index: -1;}#sk-container-id-22 div.sk-parallel-item {display: flex;flex-direction: column;z-index: 1;position: relative;background-color: white;}#sk-container-id-22 div.sk-parallel-item:first-child::after {align-self: flex-end;width: 50%;}#sk-container-id-22 div.sk-parallel-item:last-child::after {align-self: flex-start;width: 50%;}#sk-container-id-22 div.sk-parallel-item:only-child::after {width: 0;}#sk-container-id-22 div.sk-dashed-wrapped {border: 1px dashed gray;margin: 0 0.4em 0.5em 0.4em;box-sizing: border-box;padding-bottom: 0.4em;background-color: white;}#sk-container-id-22 div.sk-label label {font-family: monospace;font-weight: bold;display: inline-block;line-height: 1.2em;}#sk-container-id-22 div.sk-label-container {text-align: center;}#sk-container-id-22 div.sk-container {/* jupyter's `normalize.less` sets `[hidden] { display: none; }` but bootstrap.min.css set `[hidden] { display: none !important; }` so we also need the `!important` here to be able to override the default hidden behavior on the sphinx rendered scikit-learn.org. See: https://github.com/scikit-learn/scikit-learn/issues/21755 */display: inline-block !important;position: relative;}#sk-container-id-22 div.sk-text-repr-fallback {display: none;}</style><div id=\"sk-container-id-22\" class=\"sk-top-container\"><div class=\"sk-text-repr-fallback\"><pre>RandomizedSearchCV(cv=5,\n",
       "                   estimator=Pipeline(steps=[(&#x27;vec&#x27;, None),\n",
       "                                             (&#x27;rf&#x27;, RandomForestClassifier())]),\n",
       "                   n_iter=30,\n",
       "                   param_distributions=[{&#x27;rf__max_depth&#x27;: [None, 30, 40],\n",
       "                                         &#x27;rf__n_estimators&#x27;: [200, 250, 300],\n",
       "                                         &#x27;vec&#x27;: [CountVectorizer()],\n",
       "                                         &#x27;vec__max_df&#x27;: [0.9, 0.95],\n",
       "                                         &#x27;vec__max_features&#x27;: [7000, 8000],\n",
       "                                         &#x27;vec__stop_words&#x27;: [None, &#x27;english&#x27;]},\n",
       "                                        {&#x27;rf__max_depth&#x27;: [None, 30, 40],\n",
       "                                         &#x27;rf__n_estimators&#x27;: [200, 250, 300],\n",
       "                                         &#x27;vec&#x27;: [TfidfVectorizer(max_df=0.9,\n",
       "                                                                 max_features=8000,\n",
       "                                                                 stop_words=&#x27;english&#x27;)],\n",
       "                                         &#x27;vec__max_df&#x27;: [0.9, 0.95],\n",
       "                                         &#x27;vec__max_features&#x27;: [7000, 8000],\n",
       "                                         &#x27;vec__stop_words&#x27;: [None, &#x27;english&#x27;]}],\n",
       "                   random_state=1527)</pre><b>In a Jupyter environment, please rerun this cell to show the HTML representation or trust the notebook. <br />On GitHub, the HTML representation is unable to render, please try loading this page with nbviewer.org.</b></div><div class=\"sk-container\" hidden><div class=\"sk-item sk-dashed-wrapped\"><div class=\"sk-label-container\"><div class=\"sk-label sk-toggleable\"><input class=\"sk-toggleable__control sk-hidden--visually\" id=\"sk-estimator-id-94\" type=\"checkbox\" ><label for=\"sk-estimator-id-94\" class=\"sk-toggleable__label sk-toggleable__label-arrow\">RandomizedSearchCV</label><div class=\"sk-toggleable__content\"><pre>RandomizedSearchCV(cv=5,\n",
       "                   estimator=Pipeline(steps=[(&#x27;vec&#x27;, None),\n",
       "                                             (&#x27;rf&#x27;, RandomForestClassifier())]),\n",
       "                   n_iter=30,\n",
       "                   param_distributions=[{&#x27;rf__max_depth&#x27;: [None, 30, 40],\n",
       "                                         &#x27;rf__n_estimators&#x27;: [200, 250, 300],\n",
       "                                         &#x27;vec&#x27;: [CountVectorizer()],\n",
       "                                         &#x27;vec__max_df&#x27;: [0.9, 0.95],\n",
       "                                         &#x27;vec__max_features&#x27;: [7000, 8000],\n",
       "                                         &#x27;vec__stop_words&#x27;: [None, &#x27;english&#x27;]},\n",
       "                                        {&#x27;rf__max_depth&#x27;: [None, 30, 40],\n",
       "                                         &#x27;rf__n_estimators&#x27;: [200, 250, 300],\n",
       "                                         &#x27;vec&#x27;: [TfidfVectorizer(max_df=0.9,\n",
       "                                                                 max_features=8000,\n",
       "                                                                 stop_words=&#x27;english&#x27;)],\n",
       "                                         &#x27;vec__max_df&#x27;: [0.9, 0.95],\n",
       "                                         &#x27;vec__max_features&#x27;: [7000, 8000],\n",
       "                                         &#x27;vec__stop_words&#x27;: [None, &#x27;english&#x27;]}],\n",
       "                   random_state=1527)</pre></div></div></div><div class=\"sk-parallel\"><div class=\"sk-parallel-item\"><div class=\"sk-item\"><div class=\"sk-label-container\"><div class=\"sk-label sk-toggleable\"><input class=\"sk-toggleable__control sk-hidden--visually\" id=\"sk-estimator-id-95\" type=\"checkbox\" ><label for=\"sk-estimator-id-95\" class=\"sk-toggleable__label sk-toggleable__label-arrow\">estimator: Pipeline</label><div class=\"sk-toggleable__content\"><pre>Pipeline(steps=[(&#x27;vec&#x27;, None), (&#x27;rf&#x27;, RandomForestClassifier())])</pre></div></div></div><div class=\"sk-serial\"><div class=\"sk-item\"><div class=\"sk-serial\"><div class=\"sk-item\"><div class=\"sk-estimator sk-toggleable\"><input class=\"sk-toggleable__control sk-hidden--visually\" id=\"sk-estimator-id-96\" type=\"checkbox\" ><label for=\"sk-estimator-id-96\" class=\"sk-toggleable__label sk-toggleable__label-arrow\">None</label><div class=\"sk-toggleable__content\"><pre>None</pre></div></div></div><div class=\"sk-item\"><div class=\"sk-estimator sk-toggleable\"><input class=\"sk-toggleable__control sk-hidden--visually\" id=\"sk-estimator-id-97\" type=\"checkbox\" ><label for=\"sk-estimator-id-97\" class=\"sk-toggleable__label sk-toggleable__label-arrow\">RandomForestClassifier</label><div class=\"sk-toggleable__content\"><pre>RandomForestClassifier()</pre></div></div></div></div></div></div></div></div></div></div></div></div>"
      ],
      "text/plain": [
       "RandomizedSearchCV(cv=5,\n",
       "                   estimator=Pipeline(steps=[('vec', None),\n",
       "                                             ('rf', RandomForestClassifier())]),\n",
       "                   n_iter=30,\n",
       "                   param_distributions=[{'rf__max_depth': [None, 30, 40],\n",
       "                                         'rf__n_estimators': [200, 250, 300],\n",
       "                                         'vec': [CountVectorizer()],\n",
       "                                         'vec__max_df': [0.9, 0.95],\n",
       "                                         'vec__max_features': [7000, 8000],\n",
       "                                         'vec__stop_words': [None, 'english']},\n",
       "                                        {'rf__max_depth': [None, 30, 40],\n",
       "                                         'rf__n_estimators': [200, 250, 300],\n",
       "                                         'vec': [TfidfVectorizer(max_df=0.9,\n",
       "                                                                 max_features=8000,\n",
       "                                                                 stop_words='english')],\n",
       "                                         'vec__max_df': [0.9, 0.95],\n",
       "                                         'vec__max_features': [7000, 8000],\n",
       "                                         'vec__stop_words': [None, 'english']}],\n",
       "                   random_state=1527)"
      ]
     },
     "execution_count": 201,
     "metadata": {},
     "output_type": "execute_result"
    }
   ],
   "source": [
    "%%time\n",
    "\n",
    "rs_rf = RandomizedSearchCV(pipe_rf, pgrid_rf, cv=5, n_iter = 30, random_state=1527)\n",
    "rs_rf.fit(X_train, y_train)"
   ]
  },
  {
   "cell_type": "code",
   "execution_count": 202,
   "id": "eb8f0861-f9b1-4c5c-a64e-4fa10165a65a",
   "metadata": {},
   "outputs": [],
   "source": [
    "# Make predictions for Accuracy Report\n",
    "preds_rf = rs_rf.predict(X_test)"
   ]
  },
  {
   "cell_type": "code",
   "execution_count": 203,
   "id": "2fd5b522-8a3e-4330-8ec6-727cbda6cd41",
   "metadata": {},
   "outputs": [
    {
     "name": "stdout",
     "output_type": "stream",
     "text": [
      "--------- \u001b[1mRandom Forest w/ RandomizedSearch\u001b[0m ---------\n",
      "------------- Train: 0.9978708303761533 -------------\n",
      "------------- Test: 0.8623136976579134 --------------\n",
      "Best Params: {'vec__stop_words': 'english', 'vec__max_features': 8000, 'vec__max_df': 0.9, 'vec': TfidfVectorizer(max_df=0.9, max_features=8000, stop_words='english'), 'rf__n_estimators': 250, 'rf__max_depth': None}\n"
     ]
    }
   ],
   "source": [
    "print(f'--------- {b1}Random Forest w/ RandomizedSearch{b0} ---------')\n",
    "print(f'------------- Train: {rs_rf.score(X_train, y_train)} -------------')\n",
    "print(f'------------- Test: {rs_rf.score(X_test, y_test)} --------------')\n",
    "print('Best Params:', rs_rf.best_params_)"
   ]
  },
  {
   "cell_type": "code",
   "execution_count": 204,
   "id": "4ca4e83c-aebc-42f0-9c19-8e8382404365",
   "metadata": {},
   "outputs": [
    {
     "data": {
      "text/plain": [
       "0.8590054135716985"
      ]
     },
     "execution_count": 204,
     "metadata": {},
     "output_type": "execute_result"
    }
   ],
   "source": [
    "rs_rf.best_score_"
   ]
  },
  {
   "cell_type": "code",
   "execution_count": 215,
   "id": "fbe5c269-fe58-45bb-828a-e4bc0e28f77e",
   "metadata": {},
   "outputs": [
    {
     "data": {
      "text/html": [
       "<style>#sk-container-id-24 {color: black;background-color: white;}#sk-container-id-24 pre{padding: 0;}#sk-container-id-24 div.sk-toggleable {background-color: white;}#sk-container-id-24 label.sk-toggleable__label {cursor: pointer;display: block;width: 100%;margin-bottom: 0;padding: 0.3em;box-sizing: border-box;text-align: center;}#sk-container-id-24 label.sk-toggleable__label-arrow:before {content: \"▸\";float: left;margin-right: 0.25em;color: #696969;}#sk-container-id-24 label.sk-toggleable__label-arrow:hover:before {color: black;}#sk-container-id-24 div.sk-estimator:hover label.sk-toggleable__label-arrow:before {color: black;}#sk-container-id-24 div.sk-toggleable__content {max-height: 0;max-width: 0;overflow: hidden;text-align: left;background-color: #f0f8ff;}#sk-container-id-24 div.sk-toggleable__content pre {margin: 0.2em;color: black;border-radius: 0.25em;background-color: #f0f8ff;}#sk-container-id-24 input.sk-toggleable__control:checked~div.sk-toggleable__content {max-height: 200px;max-width: 100%;overflow: auto;}#sk-container-id-24 input.sk-toggleable__control:checked~label.sk-toggleable__label-arrow:before {content: \"▾\";}#sk-container-id-24 div.sk-estimator input.sk-toggleable__control:checked~label.sk-toggleable__label {background-color: #d4ebff;}#sk-container-id-24 div.sk-label input.sk-toggleable__control:checked~label.sk-toggleable__label {background-color: #d4ebff;}#sk-container-id-24 input.sk-hidden--visually {border: 0;clip: rect(1px 1px 1px 1px);clip: rect(1px, 1px, 1px, 1px);height: 1px;margin: -1px;overflow: hidden;padding: 0;position: absolute;width: 1px;}#sk-container-id-24 div.sk-estimator {font-family: monospace;background-color: #f0f8ff;border: 1px dotted black;border-radius: 0.25em;box-sizing: border-box;margin-bottom: 0.5em;}#sk-container-id-24 div.sk-estimator:hover {background-color: #d4ebff;}#sk-container-id-24 div.sk-parallel-item::after {content: \"\";width: 100%;border-bottom: 1px solid gray;flex-grow: 1;}#sk-container-id-24 div.sk-label:hover label.sk-toggleable__label {background-color: #d4ebff;}#sk-container-id-24 div.sk-serial::before {content: \"\";position: absolute;border-left: 1px solid gray;box-sizing: border-box;top: 0;bottom: 0;left: 50%;z-index: 0;}#sk-container-id-24 div.sk-serial {display: flex;flex-direction: column;align-items: center;background-color: white;padding-right: 0.2em;padding-left: 0.2em;position: relative;}#sk-container-id-24 div.sk-item {position: relative;z-index: 1;}#sk-container-id-24 div.sk-parallel {display: flex;align-items: stretch;justify-content: center;background-color: white;position: relative;}#sk-container-id-24 div.sk-item::before, #sk-container-id-24 div.sk-parallel-item::before {content: \"\";position: absolute;border-left: 1px solid gray;box-sizing: border-box;top: 0;bottom: 0;left: 50%;z-index: -1;}#sk-container-id-24 div.sk-parallel-item {display: flex;flex-direction: column;z-index: 1;position: relative;background-color: white;}#sk-container-id-24 div.sk-parallel-item:first-child::after {align-self: flex-end;width: 50%;}#sk-container-id-24 div.sk-parallel-item:last-child::after {align-self: flex-start;width: 50%;}#sk-container-id-24 div.sk-parallel-item:only-child::after {width: 0;}#sk-container-id-24 div.sk-dashed-wrapped {border: 1px dashed gray;margin: 0 0.4em 0.5em 0.4em;box-sizing: border-box;padding-bottom: 0.4em;background-color: white;}#sk-container-id-24 div.sk-label label {font-family: monospace;font-weight: bold;display: inline-block;line-height: 1.2em;}#sk-container-id-24 div.sk-label-container {text-align: center;}#sk-container-id-24 div.sk-container {/* jupyter's `normalize.less` sets `[hidden] { display: none; }` but bootstrap.min.css set `[hidden] { display: none !important; }` so we also need the `!important` here to be able to override the default hidden behavior on the sphinx rendered scikit-learn.org. See: https://github.com/scikit-learn/scikit-learn/issues/21755 */display: inline-block !important;position: relative;}#sk-container-id-24 div.sk-text-repr-fallback {display: none;}</style><div id=\"sk-container-id-24\" class=\"sk-top-container\"><div class=\"sk-text-repr-fallback\"><pre>RandomForestClassifier(n_estimators=250)</pre><b>In a Jupyter environment, please rerun this cell to show the HTML representation or trust the notebook. <br />On GitHub, the HTML representation is unable to render, please try loading this page with nbviewer.org.</b></div><div class=\"sk-container\" hidden><div class=\"sk-item\"><div class=\"sk-estimator sk-toggleable\"><input class=\"sk-toggleable__control sk-hidden--visually\" id=\"sk-estimator-id-101\" type=\"checkbox\" checked><label for=\"sk-estimator-id-101\" class=\"sk-toggleable__label sk-toggleable__label-arrow\">RandomForestClassifier</label><div class=\"sk-toggleable__content\"><pre>RandomForestClassifier(n_estimators=250)</pre></div></div></div></div></div>"
      ],
      "text/plain": [
       "RandomForestClassifier(n_estimators=250)"
      ]
     },
     "execution_count": 215,
     "metadata": {},
     "output_type": "execute_result"
    }
   ],
   "source": [
    "rs_rf.best_estimator_.named_steps['rf']"
   ]
  },
  {
   "cell_type": "code",
   "execution_count": 242,
   "id": "c43c6d79-f666-4851-94ce-12d2739bb689",
   "metadata": {},
   "outputs": [
    {
     "name": "stdout",
     "output_type": "stream",
     "text": [
      "['00' '000' '0000tu' ... 'zqa1hd' 'zugspitze' 'zumiez']\n",
      "[1.07225127e-05 2.17009963e-05 0.00000000e+00 ... 1.53540410e-04\n",
      " 1.74493317e-06 2.63914944e-06]\n"
     ]
    }
   ],
   "source": [
    "# source: https://github.com/scikit-learn/scikit-learn/issues/21349, ChatGPT\n",
    "best_estimator = rs_rf.best_estimator_\n",
    "random_forest = best_estimator.named_steps['rf']\n",
    "feature_importances = random_forest.feature_importances_\n",
    "\n",
    "vec = best_estimator.named_steps['vec']\n",
    "if isinstance(vec, CountVectorizer):\n",
    "    feature_names = vec.get_feature_names_out()\n",
    "elif isinstance(vec, TfidfVectorizer):\n",
    "    feature_names = vec.transformer_.get_feature_names_out()\n",
    "\n",
    "print(feature_names)\n",
    "print(feature_importances)"
   ]
  },
  {
   "cell_type": "code",
   "execution_count": 266,
   "id": "b7a98905-1810-4219-bac7-1c96157450e8",
   "metadata": {},
   "outputs": [],
   "source": [
    "# Make df\n",
    "df = pd.DataFrame({'feature_names':feature_names,\n",
    "                   'feature_importance': feature_importances})\n",
    "\n",
    "#Sort by creasing feature importance\n",
    "df.sort_values(by=['feature_importance'], ascending=False,inplace=True)\n",
    "df2 = df.reset_index().drop(columns = ['index']).head(30)"
   ]
  },
  {
   "cell_type": "code",
   "execution_count": 267,
   "id": "f3f488c9-c93f-4031-a75e-7c26f8291bc6",
   "metadata": {},
   "outputs": [
    {
     "data": {
      "text/plain": [
       "Text(0, 0.5, 'Feature Names')"
      ]
     },
     "execution_count": 267,
     "metadata": {},
     "output_type": "execute_result"
    },
    {
     "data": {
      "image/png": "[encoded data removed]",
      "text/plain": [
       "<Figure size 1000x800 with 1 Axes>"
      ]
     },
     "metadata": {},
     "output_type": "display_data"
    }
   ],
   "source": [
    "#Sort the DataFrame by descending\n",
    "plt.figure(figsize=(10,8))\n",
    "sns.barplot(x=df2['feature_importance'], y=df2['feature_names'])\n",
    "plt.title('Random Forest Top 30 Feature Importances')\n",
    "plt.xlabel('Feature Importance')\n",
    "plt.ylabel('Feature Names')"
   ]
  },
  {
   "cell_type": "code",
   "execution_count": 271,
   "id": "99c23609-53a9-49c4-aabd-41d0345eda93",
   "metadata": {},
   "outputs": [],
   "source": [
    "# EXTRA TREES\n",
    "pipe_et = Pipeline([\n",
    "    ('vec', None),\n",
    "    ('et', ExtraTreesClassifier())\n",
    "])"
   ]
  },
  {
   "cell_type": "code",
   "execution_count": 270,
   "id": "09bfc44d-8a52-44d6-bddd-9b460d7c38fa",
   "metadata": {},
   "outputs": [],
   "source": [
    "pgrid_et =[\n",
    "    {\n",
    "    'vec': [CountVectorizer()],\n",
    "    'vec__stop_words': [None, 'english'],\n",
    "    'vec__max_features': [7000, 8000], \n",
    "    'vec__max_df': [0.9, 0.95],\n",
    "    'et__n_estimators': [200, 250, 300],\n",
    "    'et__max_depth': [None, 30, 40],\n",
    "    },\n",
    "    {\n",
    "    'vec': [TfidfVectorizer()],\n",
    "    'vec__stop_words': [None, 'english'],\n",
    "    'vec__max_features': [7000, 8000], \n",
    "    'vec__max_df': [0.9, 0.95],\n",
    "    'et__n_estimators': [200, 250, 300],\n",
    "    'et__max_depth': [None, 30, 40],\n",
    "    }\n",
    "]"
   ]
  },
  {
   "cell_type": "code",
   "execution_count": 272,
   "id": "881601f9-532d-43e3-8f8d-93226849af5f",
   "metadata": {},
   "outputs": [
    {
     "name": "stdout",
     "output_type": "stream",
     "text": [
      "CPU times: total: 6min 3s\n",
      "Wall time: 25min 2s\n"
     ]
    },
    {
     "data": {
      "text/html": [
       "<style>#sk-container-id-30 {color: black;background-color: white;}#sk-container-id-30 pre{padding: 0;}#sk-container-id-30 div.sk-toggleable {background-color: white;}#sk-container-id-30 label.sk-toggleable__label {cursor: pointer;display: block;width: 100%;margin-bottom: 0;padding: 0.3em;box-sizing: border-box;text-align: center;}#sk-container-id-30 label.sk-toggleable__label-arrow:before {content: \"▸\";float: left;margin-right: 0.25em;color: #696969;}#sk-container-id-30 label.sk-toggleable__label-arrow:hover:before {color: black;}#sk-container-id-30 div.sk-estimator:hover label.sk-toggleable__label-arrow:before {color: black;}#sk-container-id-30 div.sk-toggleable__content {max-height: 0;max-width: 0;overflow: hidden;text-align: left;background-color: #f0f8ff;}#sk-container-id-30 div.sk-toggleable__content pre {margin: 0.2em;color: black;border-radius: 0.25em;background-color: #f0f8ff;}#sk-container-id-30 input.sk-toggleable__control:checked~div.sk-toggleable__content {max-height: 200px;max-width: 100%;overflow: auto;}#sk-container-id-30 input.sk-toggleable__control:checked~label.sk-toggleable__label-arrow:before {content: \"▾\";}#sk-container-id-30 div.sk-estimator input.sk-toggleable__control:checked~label.sk-toggleable__label {background-color: #d4ebff;}#sk-container-id-30 div.sk-label input.sk-toggleable__control:checked~label.sk-toggleable__label {background-color: #d4ebff;}#sk-container-id-30 input.sk-hidden--visually {border: 0;clip: rect(1px 1px 1px 1px);clip: rect(1px, 1px, 1px, 1px);height: 1px;margin: -1px;overflow: hidden;padding: 0;position: absolute;width: 1px;}#sk-container-id-30 div.sk-estimator {font-family: monospace;background-color: #f0f8ff;border: 1px dotted black;border-radius: 0.25em;box-sizing: border-box;margin-bottom: 0.5em;}#sk-container-id-30 div.sk-estimator:hover {background-color: #d4ebff;}#sk-container-id-30 div.sk-parallel-item::after {content: \"\";width: 100%;border-bottom: 1px solid gray;flex-grow: 1;}#sk-container-id-30 div.sk-label:hover label.sk-toggleable__label {background-color: #d4ebff;}#sk-container-id-30 div.sk-serial::before {content: \"\";position: absolute;border-left: 1px solid gray;box-sizing: border-box;top: 0;bottom: 0;left: 50%;z-index: 0;}#sk-container-id-30 div.sk-serial {display: flex;flex-direction: column;align-items: center;background-color: white;padding-right: 0.2em;padding-left: 0.2em;position: relative;}#sk-container-id-30 div.sk-item {position: relative;z-index: 1;}#sk-container-id-30 div.sk-parallel {display: flex;align-items: stretch;justify-content: center;background-color: white;position: relative;}#sk-container-id-30 div.sk-item::before, #sk-container-id-30 div.sk-parallel-item::before {content: \"\";position: absolute;border-left: 1px solid gray;box-sizing: border-box;top: 0;bottom: 0;left: 50%;z-index: -1;}#sk-container-id-30 div.sk-parallel-item {display: flex;flex-direction: column;z-index: 1;position: relative;background-color: white;}#sk-container-id-30 div.sk-parallel-item:first-child::after {align-self: flex-end;width: 50%;}#sk-container-id-30 div.sk-parallel-item:last-child::after {align-self: flex-start;width: 50%;}#sk-container-id-30 div.sk-parallel-item:only-child::after {width: 0;}#sk-container-id-30 div.sk-dashed-wrapped {border: 1px dashed gray;margin: 0 0.4em 0.5em 0.4em;box-sizing: border-box;padding-bottom: 0.4em;background-color: white;}#sk-container-id-30 div.sk-label label {font-family: monospace;font-weight: bold;display: inline-block;line-height: 1.2em;}#sk-container-id-30 div.sk-label-container {text-align: center;}#sk-container-id-30 div.sk-container {/* jupyter's `normalize.less` sets `[hidden] { display: none; }` but bootstrap.min.css set `[hidden] { display: none !important; }` so we also need the `!important` here to be able to override the default hidden behavior on the sphinx rendered scikit-learn.org. See: https://github.com/scikit-learn/scikit-learn/issues/21755 */display: inline-block !important;position: relative;}#sk-container-id-30 div.sk-text-repr-fallback {display: none;}</style><div id=\"sk-container-id-30\" class=\"sk-top-container\"><div class=\"sk-text-repr-fallback\"><pre>RandomizedSearchCV(cv=5,\n",
       "                   estimator=Pipeline(steps=[(&#x27;vec&#x27;, None),\n",
       "                                             (&#x27;et&#x27;, ExtraTreesClassifier())]),\n",
       "                   n_iter=30,\n",
       "                   param_distributions=[{&#x27;et__max_depth&#x27;: [None, 30, 40],\n",
       "                                         &#x27;et__n_estimators&#x27;: [200, 250, 300],\n",
       "                                         &#x27;vec&#x27;: [CountVectorizer()],\n",
       "                                         &#x27;vec__max_df&#x27;: [0.9, 0.95],\n",
       "                                         &#x27;vec__max_features&#x27;: [7000, 8000],\n",
       "                                         &#x27;vec__stop_words&#x27;: [None, &#x27;english&#x27;]},\n",
       "                                        {&#x27;et__max_depth&#x27;: [None, 30, 40],\n",
       "                                         &#x27;et__n_estimators&#x27;: [200, 250, 300],\n",
       "                                         &#x27;vec&#x27;: [TfidfVectorizer(max_df=0.9,\n",
       "                                                                 max_features=7000,\n",
       "                                                                 stop_words=&#x27;english&#x27;)],\n",
       "                                         &#x27;vec__max_df&#x27;: [0.9, 0.95],\n",
       "                                         &#x27;vec__max_features&#x27;: [7000, 8000],\n",
       "                                         &#x27;vec__stop_words&#x27;: [None, &#x27;english&#x27;]}],\n",
       "                   random_state=1527)</pre><b>In a Jupyter environment, please rerun this cell to show the HTML representation or trust the notebook. <br />On GitHub, the HTML representation is unable to render, please try loading this page with nbviewer.org.</b></div><div class=\"sk-container\" hidden><div class=\"sk-item sk-dashed-wrapped\"><div class=\"sk-label-container\"><div class=\"sk-label sk-toggleable\"><input class=\"sk-toggleable__control sk-hidden--visually\" id=\"sk-estimator-id-117\" type=\"checkbox\" ><label for=\"sk-estimator-id-117\" class=\"sk-toggleable__label sk-toggleable__label-arrow\">RandomizedSearchCV</label><div class=\"sk-toggleable__content\"><pre>RandomizedSearchCV(cv=5,\n",
       "                   estimator=Pipeline(steps=[(&#x27;vec&#x27;, None),\n",
       "                                             (&#x27;et&#x27;, ExtraTreesClassifier())]),\n",
       "                   n_iter=30,\n",
       "                   param_distributions=[{&#x27;et__max_depth&#x27;: [None, 30, 40],\n",
       "                                         &#x27;et__n_estimators&#x27;: [200, 250, 300],\n",
       "                                         &#x27;vec&#x27;: [CountVectorizer()],\n",
       "                                         &#x27;vec__max_df&#x27;: [0.9, 0.95],\n",
       "                                         &#x27;vec__max_features&#x27;: [7000, 8000],\n",
       "                                         &#x27;vec__stop_words&#x27;: [None, &#x27;english&#x27;]},\n",
       "                                        {&#x27;et__max_depth&#x27;: [None, 30, 40],\n",
       "                                         &#x27;et__n_estimators&#x27;: [200, 250, 300],\n",
       "                                         &#x27;vec&#x27;: [TfidfVectorizer(max_df=0.9,\n",
       "                                                                 max_features=7000,\n",
       "                                                                 stop_words=&#x27;english&#x27;)],\n",
       "                                         &#x27;vec__max_df&#x27;: [0.9, 0.95],\n",
       "                                         &#x27;vec__max_features&#x27;: [7000, 8000],\n",
       "                                         &#x27;vec__stop_words&#x27;: [None, &#x27;english&#x27;]}],\n",
       "                   random_state=1527)</pre></div></div></div><div class=\"sk-parallel\"><div class=\"sk-parallel-item\"><div class=\"sk-item\"><div class=\"sk-label-container\"><div class=\"sk-label sk-toggleable\"><input class=\"sk-toggleable__control sk-hidden--visually\" id=\"sk-estimator-id-118\" type=\"checkbox\" ><label for=\"sk-estimator-id-118\" class=\"sk-toggleable__label sk-toggleable__label-arrow\">estimator: Pipeline</label><div class=\"sk-toggleable__content\"><pre>Pipeline(steps=[(&#x27;vec&#x27;, None), (&#x27;et&#x27;, ExtraTreesClassifier())])</pre></div></div></div><div class=\"sk-serial\"><div class=\"sk-item\"><div class=\"sk-serial\"><div class=\"sk-item\"><div class=\"sk-estimator sk-toggleable\"><input class=\"sk-toggleable__control sk-hidden--visually\" id=\"sk-estimator-id-119\" type=\"checkbox\" ><label for=\"sk-estimator-id-119\" class=\"sk-toggleable__label sk-toggleable__label-arrow\">None</label><div class=\"sk-toggleable__content\"><pre>None</pre></div></div></div><div class=\"sk-item\"><div class=\"sk-estimator sk-toggleable\"><input class=\"sk-toggleable__control sk-hidden--visually\" id=\"sk-estimator-id-120\" type=\"checkbox\" ><label for=\"sk-estimator-id-120\" class=\"sk-toggleable__label sk-toggleable__label-arrow\">ExtraTreesClassifier</label><div class=\"sk-toggleable__content\"><pre>ExtraTreesClassifier()</pre></div></div></div></div></div></div></div></div></div></div></div></div>"
      ],
      "text/plain": [
       "RandomizedSearchCV(cv=5,\n",
       "                   estimator=Pipeline(steps=[('vec', None),\n",
       "                                             ('et', ExtraTreesClassifier())]),\n",
       "                   n_iter=30,\n",
       "                   param_distributions=[{'et__max_depth': [None, 30, 40],\n",
       "                                         'et__n_estimators': [200, 250, 300],\n",
       "                                         'vec': [CountVectorizer()],\n",
       "                                         'vec__max_df': [0.9, 0.95],\n",
       "                                         'vec__max_features': [7000, 8000],\n",
       "                                         'vec__stop_words': [None, 'english']},\n",
       "                                        {'et__max_depth': [None, 30, 40],\n",
       "                                         'et__n_estimators': [200, 250, 300],\n",
       "                                         'vec': [TfidfVectorizer(max_df=0.9,\n",
       "                                                                 max_features=7000,\n",
       "                                                                 stop_words='english')],\n",
       "                                         'vec__max_df': [0.9, 0.95],\n",
       "                                         'vec__max_features': [7000, 8000],\n",
       "                                         'vec__stop_words': [None, 'english']}],\n",
       "                   random_state=1527)"
      ]
     },
     "execution_count": 272,
     "metadata": {},
     "output_type": "execute_result"
    }
   ],
   "source": [
    "%%time\n",
    "\n",
    "rs_et = RandomizedSearchCV(pipe_et, pgrid_et, cv=5, n_iter = 30, random_state=1527)\n",
    "rs_et.fit(X_train, y_train)"
   ]
  },
  {
   "cell_type": "code",
   "execution_count": 273,
   "id": "93bf5cf8-0d45-4385-aa40-c2fca92dd7f4",
   "metadata": {},
   "outputs": [],
   "source": [
    "# Make predictions for Accuracy Report\n",
    "preds_et = rs_et.predict(X_test)"
   ]
  },
  {
   "cell_type": "code",
   "execution_count": 274,
   "id": "4d746d55-e6df-47cc-9d8e-6168368c5dba",
   "metadata": {},
   "outputs": [
    {
     "name": "stdout",
     "output_type": "stream",
     "text": [
      "--------- \u001b[1mExtra Trees w/ RandomizedSearch\u001b[0m ---------\n",
      "------------- Train: 0.9976342559735036 -------------\n",
      "------------- Test: 0.8566359119943222 --------------\n",
      "Best Params: {'vec__stop_words': 'english', 'vec__max_features': 7000, 'vec__max_df': 0.9, 'vec': TfidfVectorizer(max_df=0.9, max_features=7000, stop_words='english'), 'et__n_estimators': 250, 'et__max_depth': None}\n"
     ]
    }
   ],
   "source": [
    "print(f'--------- {b1}Extra Trees w/ RandomizedSearch{b0} ---------')\n",
    "print(f'------------- Train: {rs_et.score(X_train, y_train)} -------------')\n",
    "print(f'------------- Test: {rs_et.score(X_test, y_test)} --------------')\n",
    "print('Best Params:', rs_et.best_params_)"
   ]
  },
  {
   "cell_type": "code",
   "execution_count": 275,
   "id": "d27a04c6-f8c2-45cf-a01b-e74a6e0c51a7",
   "metadata": {},
   "outputs": [
    {
     "data": {
      "text/plain": [
       "0.8497807993061676"
      ]
     },
     "execution_count": 275,
     "metadata": {},
     "output_type": "execute_result"
    }
   ],
   "source": [
    "rs_et.best_score_"
   ]
  },
  {
   "cell_type": "code",
   "execution_count": 276,
   "id": "c7b1061e-b86e-4199-ab7d-dd25b960db80",
   "metadata": {},
   "outputs": [
    {
     "data": {
      "text/html": [
       "<style>#sk-container-id-31 {color: black;background-color: white;}#sk-container-id-31 pre{padding: 0;}#sk-container-id-31 div.sk-toggleable {background-color: white;}#sk-container-id-31 label.sk-toggleable__label {cursor: pointer;display: block;width: 100%;margin-bottom: 0;padding: 0.3em;box-sizing: border-box;text-align: center;}#sk-container-id-31 label.sk-toggleable__label-arrow:before {content: \"▸\";float: left;margin-right: 0.25em;color: #696969;}#sk-container-id-31 label.sk-toggleable__label-arrow:hover:before {color: black;}#sk-container-id-31 div.sk-estimator:hover label.sk-toggleable__label-arrow:before {color: black;}#sk-container-id-31 div.sk-toggleable__content {max-height: 0;max-width: 0;overflow: hidden;text-align: left;background-color: #f0f8ff;}#sk-container-id-31 div.sk-toggleable__content pre {margin: 0.2em;color: black;border-radius: 0.25em;background-color: #f0f8ff;}#sk-container-id-31 input.sk-toggleable__control:checked~div.sk-toggleable__content {max-height: 200px;max-width: 100%;overflow: auto;}#sk-container-id-31 input.sk-toggleable__control:checked~label.sk-toggleable__label-arrow:before {content: \"▾\";}#sk-container-id-31 div.sk-estimator input.sk-toggleable__control:checked~label.sk-toggleable__label {background-color: #d4ebff;}#sk-container-id-31 div.sk-label input.sk-toggleable__control:checked~label.sk-toggleable__label {background-color: #d4ebff;}#sk-container-id-31 input.sk-hidden--visually {border: 0;clip: rect(1px 1px 1px 1px);clip: rect(1px, 1px, 1px, 1px);height: 1px;margin: -1px;overflow: hidden;padding: 0;position: absolute;width: 1px;}#sk-container-id-31 div.sk-estimator {font-family: monospace;background-color: #f0f8ff;border: 1px dotted black;border-radius: 0.25em;box-sizing: border-box;margin-bottom: 0.5em;}#sk-container-id-31 div.sk-estimator:hover {background-color: #d4ebff;}#sk-container-id-31 div.sk-parallel-item::after {content: \"\";width: 100%;border-bottom: 1px solid gray;flex-grow: 1;}#sk-container-id-31 div.sk-label:hover label.sk-toggleable__label {background-color: #d4ebff;}#sk-container-id-31 div.sk-serial::before {content: \"\";position: absolute;border-left: 1px solid gray;box-sizing: border-box;top: 0;bottom: 0;left: 50%;z-index: 0;}#sk-container-id-31 div.sk-serial {display: flex;flex-direction: column;align-items: center;background-color: white;padding-right: 0.2em;padding-left: 0.2em;position: relative;}#sk-container-id-31 div.sk-item {position: relative;z-index: 1;}#sk-container-id-31 div.sk-parallel {display: flex;align-items: stretch;justify-content: center;background-color: white;position: relative;}#sk-container-id-31 div.sk-item::before, #sk-container-id-31 div.sk-parallel-item::before {content: \"\";position: absolute;border-left: 1px solid gray;box-sizing: border-box;top: 0;bottom: 0;left: 50%;z-index: -1;}#sk-container-id-31 div.sk-parallel-item {display: flex;flex-direction: column;z-index: 1;position: relative;background-color: white;}#sk-container-id-31 div.sk-parallel-item:first-child::after {align-self: flex-end;width: 50%;}#sk-container-id-31 div.sk-parallel-item:last-child::after {align-self: flex-start;width: 50%;}#sk-container-id-31 div.sk-parallel-item:only-child::after {width: 0;}#sk-container-id-31 div.sk-dashed-wrapped {border: 1px dashed gray;margin: 0 0.4em 0.5em 0.4em;box-sizing: border-box;padding-bottom: 0.4em;background-color: white;}#sk-container-id-31 div.sk-label label {font-family: monospace;font-weight: bold;display: inline-block;line-height: 1.2em;}#sk-container-id-31 div.sk-label-container {text-align: center;}#sk-container-id-31 div.sk-container {/* jupyter's `normalize.less` sets `[hidden] { display: none; }` but bootstrap.min.css set `[hidden] { display: none !important; }` so we also need the `!important` here to be able to override the default hidden behavior on the sphinx rendered scikit-learn.org. See: https://github.com/scikit-learn/scikit-learn/issues/21755 */display: inline-block !important;position: relative;}#sk-container-id-31 div.sk-text-repr-fallback {display: none;}</style><div id=\"sk-container-id-31\" class=\"sk-top-container\"><div class=\"sk-text-repr-fallback\"><pre>ExtraTreesClassifier(n_estimators=250)</pre><b>In a Jupyter environment, please rerun this cell to show the HTML representation or trust the notebook. <br />On GitHub, the HTML representation is unable to render, please try loading this page with nbviewer.org.</b></div><div class=\"sk-container\" hidden><div class=\"sk-item\"><div class=\"sk-estimator sk-toggleable\"><input class=\"sk-toggleable__control sk-hidden--visually\" id=\"sk-estimator-id-121\" type=\"checkbox\" checked><label for=\"sk-estimator-id-121\" class=\"sk-toggleable__label sk-toggleable__label-arrow\">ExtraTreesClassifier</label><div class=\"sk-toggleable__content\"><pre>ExtraTreesClassifier(n_estimators=250)</pre></div></div></div></div></div>"
      ],
      "text/plain": [
       "ExtraTreesClassifier(n_estimators=250)"
      ]
     },
     "execution_count": 276,
     "metadata": {},
     "output_type": "execute_result"
    }
   ],
   "source": [
    "rs_et.best_estimator_.named_steps['et']"
   ]
  },
  {
   "cell_type": "code",
   "execution_count": 278,
   "id": "81acd1d9-6a85-4b1e-aa63-c91250c4ac11",
   "metadata": {},
   "outputs": [
    {
     "name": "stdout",
     "output_type": "stream",
     "text": [
      "['00' '000' '04' ... 'zipfit' 'zone' 'zoom']\n",
      "[7.62662640e-06 2.23698321e-05 5.41752927e-04 ... 2.32104870e-05\n",
      " 5.49848456e-05 1.72811315e-05]\n"
     ]
    }
   ],
   "source": [
    "# source: https://github.com/scikit-learn/scikit-learn/issues/21349, ChatGPT\n",
    "best_estimator = rs_et.best_estimator_\n",
    "random_forest = best_estimator.named_steps['et']\n",
    "feature_importances = random_forest.feature_importances_\n",
    "\n",
    "vec = best_estimator.named_steps['vec']\n",
    "if isinstance(vec, CountVectorizer):\n",
    "    feature_names = vec.get_feature_names_out()\n",
    "elif isinstance(vec, TfidfVectorizer):\n",
    "    feature_names = vec.transformer_.get_feature_names_out()\n",
    "\n",
    "print(feature_names)\n",
    "print(feature_importances)"
   ]
  },
  {
   "cell_type": "code",
   "execution_count": 279,
   "id": "2e75fa14-0262-4bd4-aee0-aa033e134cd5",
   "metadata": {},
   "outputs": [],
   "source": [
    "# Make df\n",
    "df = pd.DataFrame({'feature_names':feature_names,\n",
    "                   'feature_importance': feature_importances})\n",
    "\n",
    "#Sort by creasing feature importance\n",
    "df.sort_values(by=['feature_importance'], ascending=False,inplace=True)\n",
    "df2 = df.reset_index().drop(columns = ['index']).head(30)"
   ]
  },
  {
   "cell_type": "code",
   "execution_count": 281,
   "id": "525cae8d-51b9-4840-bce6-809169ba24ae",
   "metadata": {},
   "outputs": [
    {
     "data": {
      "image/png": "[encoded data removed]",
      "text/plain": [
       "<Figure size 1000x800 with 1 Axes>"
      ]
     },
     "metadata": {},
     "output_type": "display_data"
    }
   ],
   "source": [
    "#Sort the DataFrame by descending\n",
    "plt.figure(figsize=(10,8))\n",
    "sns.barplot(x=df2['feature_importance'], y=df2['feature_names'])\n",
    "plt.title('Extra Trees Top 30 Feature Importances')\n",
    "plt.xlabel('Feature Importance')\n",
    "plt.ylabel('Feature Names');"
   ]
  },
  {
   "cell_type": "code",
   "execution_count": null,
   "id": "c8f92eb8-855b-42b7-9eb8-2de3f76e4693",
   "metadata": {},
   "outputs": [],
   "source": []
  },
  {
   "cell_type": "code",
   "execution_count": null,
   "id": "07db9dad-226c-4701-9c34-6db56070dfd3",
   "metadata": {},
   "outputs": [],
   "source": []
  },
  {
   "cell_type": "code",
   "execution_count": null,
   "id": "8e2c932e-af8d-4ea3-ac9d-3a3f0b1b7d69",
   "metadata": {},
   "outputs": [],
   "source": []
  },
  {
   "cell_type": "code",
   "execution_count": null,
   "id": "3f54a903-fc2c-4e73-ab4a-0b8ee084c5c1",
   "metadata": {},
   "outputs": [],
   "source": []
  },
  {
   "cell_type": "code",
   "execution_count": 284,
   "id": "8f239b59-21da-451e-a151-ca550d2214f4",
   "metadata": {},
   "outputs": [
    {
     "name": "stdout",
     "output_type": "stream",
     "text": [
      "--------- \u001b[1mRandom Forest w/ RandomizedSearch\u001b[0m ---------\n",
      "------------- Train: 0.9978708303761533 -------------\n",
      "------------- Test: 0.8623136976579134 --------------\n",
      "\n",
      "---------- \u001b[1mExtra Trees w/ RandomizedSearch\u001b[0m ----------\n",
      "------------- Train: 0.9976342559735036 -------------\n",
      "------------- Test: 0.8566359119943222 --------------\n"
     ]
    }
   ],
   "source": [
    "print(f'--------- {b1}Random Forest w/ RandomizedSearch{b0} ---------')\n",
    "print(f'------------- Train: {rs_rf.score(X_train, y_train)} -------------')\n",
    "print(f'------------- Test: {rs_rf.score(X_test, y_test)} --------------\\n')\n",
    "\n",
    "print(f'---------- {b1}Extra Trees w/ RandomizedSearch{b0} ----------')\n",
    "print(f'------------- Train: {rs_et.score(X_train, y_train)} -------------')\n",
    "print(f'------------- Test: {rs_et.score(X_test, y_test)} --------------')"
   ]
  },
  {
   "cell_type": "markdown",
   "id": "315c2752-3dcd-44a0-a50a-40d35427f82c",
   "metadata": {},
   "source": []
  },
  {
   "cell_type": "code",
   "execution_count": 286,
   "id": "8d17f075-e34d-4239-a801-f43f984f991c",
   "metadata": {},
   "outputs": [],
   "source": [
    "# SUMMARIZE MODELS"
   ]
  },
  {
   "cell_type": "code",
   "execution_count": 302,
   "id": "3fc864b5-42f9-4a52-b223-f7589062b8c3",
   "metadata": {},
   "outputs": [],
   "source": [
    "summ = [rs_log.score(X_test, y_test),\n",
    "                       rs_nb.score(X_test, y_test),\n",
    "                       rs_svc.score(X_test, y_test),\n",
    "                       rs_rf.score(X_test, y_test),\n",
    "                       rs_et.score(X_test, y_test)\n",
    "                      ]\n",
    "mod = ['Logistic Regression', 'Multinomial Bayes', 'Support Vector Machine', 'Random Forest', 'Extra Trees']\n"
   ]
  },
  {
   "cell_type": "code",
   "execution_count": 304,
   "id": "3671ec93-4c71-443e-8dd2-c3522a1197df",
   "metadata": {},
   "outputs": [
    {
     "data": {
      "text/html": [
       "<div>\n",
       "<style scoped>\n",
       "    .dataframe tbody tr th:only-of-type {\n",
       "        vertical-align: middle;\n",
       "    }\n",
       "\n",
       "    .dataframe tbody tr th {\n",
       "        vertical-align: top;\n",
       "    }\n",
       "\n",
       "    .dataframe thead th {\n",
       "        text-align: right;\n",
       "    }\n",
       "</style>\n",
       "<table border=\"1\" class=\"dataframe\">\n",
       "  <thead>\n",
       "    <tr style=\"text-align: right;\">\n",
       "      <th></th>\n",
       "      <th>Model</th>\n",
       "      <th>Test_Score</th>\n",
       "    </tr>\n",
       "  </thead>\n",
       "  <tbody>\n",
       "    <tr>\n",
       "      <th>0</th>\n",
       "      <td>Logistic Regression</td>\n",
       "      <td>0.880767</td>\n",
       "    </tr>\n",
       "    <tr>\n",
       "      <th>1</th>\n",
       "      <td>Multinomial Bayes</td>\n",
       "      <td>0.859475</td>\n",
       "    </tr>\n",
       "    <tr>\n",
       "      <th>2</th>\n",
       "      <td>Support Vector Machine</td>\n",
       "      <td>0.877218</td>\n",
       "    </tr>\n",
       "    <tr>\n",
       "      <th>3</th>\n",
       "      <td>Random Forest</td>\n",
       "      <td>0.862314</td>\n",
       "    </tr>\n",
       "    <tr>\n",
       "      <th>4</th>\n",
       "      <td>Extra Trees</td>\n",
       "      <td>0.856636</td>\n",
       "    </tr>\n",
       "  </tbody>\n",
       "</table>\n",
       "</div>"
      ],
      "text/plain": [
       "                    Model  Test_Score\n",
       "0     Logistic Regression    0.880767\n",
       "1       Multinomial Bayes    0.859475\n",
       "2  Support Vector Machine    0.877218\n",
       "3           Random Forest    0.862314\n",
       "4             Extra Trees    0.856636"
      ]
     },
     "execution_count": 304,
     "metadata": {},
     "output_type": "execute_result"
    }
   ],
   "source": [
    "overall = pd.DataFrame({'Model': mod, 'Test_Score': summ})\n",
    "overall"
   ]
  },
  {
   "cell_type": "code",
   "execution_count": 323,
   "id": "34e53af8-ae49-46c0-85e5-f3521e533131",
   "metadata": {},
   "outputs": [
    {
     "data": {
      "image/png": "[encoded data removed]",
      "text/plain": [
       "<Figure size 800x400 with 1 Axes>"
      ]
     },
     "metadata": {},
     "output_type": "display_data"
    }
   ],
   "source": [
    "plt.figure(figsize=(8,4))\n",
    "overall.sort_values(by = 'Test_Score', ascending=False, inplace=True)\n",
    "sns.barplot(y=overall['Model'], x=overall['Test_Score'], order=overall['Model'])\n",
    "plt.title('Model Performance')\n",
    "plt.xlabel('Testing Score')\n",
    "plt.ylabel(None);"
   ]
  },
  {
   "cell_type": "code",
   "execution_count": null,
   "id": "812aa7a1-deea-4ff1-a155-faa5190fe68d",
   "metadata": {},
   "outputs": [],
   "source": []
  },
  {
   "cell_type": "code",
   "execution_count": null,
   "id": "ed5f174e-4afc-445b-81a4-b60f87f2fe24",
   "metadata": {},
   "outputs": [],
   "source": []
  },
  {
   "cell_type": "code",
   "execution_count": null,
   "id": "0f4649bb-7fcf-49f0-9307-abd8f485aaca",
   "metadata": {},
   "outputs": [],
   "source": []
  },
  {
   "cell_type": "code",
   "execution_count": null,
   "id": "5605017b-a8c0-4052-a4be-4013adba68a2",
   "metadata": {},
   "outputs": [],
   "source": []
  }
 ],
 "metadata": {
  "kernelspec": {
   "display_name": "Python 3 (ipykernel)",
   "language": "python",
   "name": "python3"
  },
  "language_info": {
   "codemirror_mode": {
    "name": "ipython",
    "version": 3
   },
   "file_extension": ".py",
   "mimetype": "text/x-python",
   "name": "python",
   "nbconvert_exporter": "python",
   "pygments_lexer": "ipython3",
   "version": "3.10.9"
  }
 },
 "nbformat": 4,
 "nbformat_minor": 5
}

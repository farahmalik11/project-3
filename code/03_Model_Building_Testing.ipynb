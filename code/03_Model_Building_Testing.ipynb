{
 "cells": [
  {
   "cell_type": "markdown",
   "id": "596d0ffb-c7f4-4c6a-a586-b42a576ce37b",
   "metadata": {},
   "source": [
    "# NLP and Reddit Subcommunities - Modeling\n",
    "---"
   ]
  },
  {
   "cell_type": "markdown",
   "id": "878f7860-91f9-4598-98ab-a3a8dc52c80c",
   "metadata": {},
   "source": [
    "In this notebook, our objective is to build models that can accurately classify the subreddit from which a given post originates. To achieve this, we will employ pipelines, grid-searching (GridSearchCV) and randomized-searching (RandomizedSearchCV), and iterating through different hyperparameters to evaluate the performance of various machine learning algorithms. Our focus will be on testing classification models such as Logistic Regression, Multinomial Naive Bayes, and Support Vector Machines. Additionally, we will address the challenges of overfitting and underfitting by considering approaches like Random Forest and Gradient Boosting, respectively.\n",
    "\n",
    "1. <s>Linear Regression <u>**Without**</u> Log-Transformed Target Variable</s>\n",
    "2. <s>Linear Regression <u>**With**</u> Log-Transformed Target Variable</s>\n",
    "3. <s>Linear Regression <u>**With**</u> Log-Transformed Target Variable and RidgeCV Regularization</s>\n",
    "4. <s>Linear Regression <u>**With**</u> Log-Transformed Target Variable and LassoCV Regularization</s>\n",
    "\n",
    "For more information on the initial data cleaning, exploration, and visualization see the [initial notebook](../code/01_EDA_and_Cleaning.ipynb) of this analysis. For transforming our variables into model-ready form, see the [second notebook](../code/02_Feature_Engineering.ipynb) of this analysis.\n",
    "\n",
    "For more information on the background, [data](https://jse.amstat.org/v19n3/decock/DataDocumentation.txt), and a summary of methods and findings, please see the associated [README](../Farah_Malik_Proj2_README.md) for this analysis.\n",
    "\n",
    "### Contents:\n",
    "- [I. Model Building and Testing](#I.-Model-Building-and-Testing)\n",
    "    - [Sales Price - Not Log Transformed](#Modeling-Sale-Price-Modeling-(Not-Log-Transformed))\n",
    "    - [Sales Price - Log Transformed](#Modeling-Sale-Price-Modeling-(Log-Transformed))\n",
    "- [II. Regularization](#II.-Regularization)\n",
    "    - [Ridge CV](#Ridge-CV)\n",
    "    - [Lasso CV](#Lasso-CV)\n",
    "---"
   ]
  },
  {
   "cell_type": "code",
   "execution_count": null,
   "id": "297df2bd-6f08-4b31-90d5-da1d78caf63e",
   "metadata": {},
   "outputs": [],
   "source": [
    "import warnings\n",
    "warnings.filterwarnings('ignore') # Notebook was run with warnings enabled and significant ones have been addressed, remaining warnings were insignificant and have been suppressed"
   ]
  },
  {
   "cell_type": "code",
   "execution_count": 109,
   "id": "c48f2112-dd49-4d66-bd5d-91f13511d611",
   "metadata": {},
   "outputs": [],
   "source": [
    "import pandas as pd\n",
    "import numpy as np\n",
    "import matplotlib.pyplot as plt\n",
    "import seaborn as sns\n",
    "\n",
    "from nltk.stem import WordNetLemmatizer\n",
    "from nltk.stem import PorterStemmer\n",
    "from nltk.corpus import stopwords\n",
    "from nltk.tokenize import sent_tokenize, word_tokenize, RegexpTokenizer\n",
    "\n",
    "from sklearn.linear_model import LogisticRegression\n",
    "from sklearn.naive_bayes import MultinomialNB\n",
    "from sklearn.model_selection import train_test_split, GridSearchCV, RandomizedSearchCV\n",
    "from sklearn.feature_extraction.text import CountVectorizer, TfidfVectorizer\n",
    "from sklearn.pipeline import Pipeline\n",
    "from sklearn.metrics import ConfusionMatrixDisplay, classification_report, RocCurveDisplay, roc_auc_score\n",
    "from sklearn.svm import LinearSVC, SVC\n",
    "from sklearn import datasets\n",
    "from sklearn.ensemble import RandomForestClassifier, ExtraTreesClassifier"
   ]
  },
  {
   "cell_type": "code",
   "execution_count": 2,
   "id": "c71b8cac-022c-42d3-b0e0-9ce0743fb63a",
   "metadata": {},
   "outputs": [
    {
     "data": {
      "text/html": [
       "<div>\n",
       "<style scoped>\n",
       "    .dataframe tbody tr th:only-of-type {\n",
       "        vertical-align: middle;\n",
       "    }\n",
       "\n",
       "    .dataframe tbody tr th {\n",
       "        vertical-align: top;\n",
       "    }\n",
       "\n",
       "    .dataframe thead th {\n",
       "        text-align: right;\n",
       "    }\n",
       "</style>\n",
       "<table border=\"1\" class=\"dataframe\">\n",
       "  <thead>\n",
       "    <tr style=\"text-align: right;\">\n",
       "      <th></th>\n",
       "      <th>created_utc</th>\n",
       "      <th>author</th>\n",
       "      <th>score</th>\n",
       "      <th>upvote_ratio</th>\n",
       "      <th>num_comments</th>\n",
       "      <th>subreddit</th>\n",
       "      <th>text</th>\n",
       "      <th>lem_text</th>\n",
       "      <th>stem_text</th>\n",
       "      <th>post_length</th>\n",
       "      <th>post_word_count</th>\n",
       "    </tr>\n",
       "  </thead>\n",
       "  <tbody>\n",
       "    <tr>\n",
       "      <th>0</th>\n",
       "      <td>1.686844e+09</td>\n",
       "      <td>bas1cred</td>\n",
       "      <td>26</td>\n",
       "      <td>0.91</td>\n",
       "      <td>19</td>\n",
       "      <td>snowboardingnoobs</td>\n",
       "      <td>my first board. ready for the upcoming season!!</td>\n",
       "      <td>my first board ready for the upcoming season</td>\n",
       "      <td>my first board readi for the upcom season</td>\n",
       "      <td>48</td>\n",
       "      <td>8</td>\n",
       "    </tr>\n",
       "    <tr>\n",
       "      <th>1</th>\n",
       "      <td>1.686786e+09</td>\n",
       "      <td>Pooffios</td>\n",
       "      <td>3</td>\n",
       "      <td>1.00</td>\n",
       "      <td>12</td>\n",
       "      <td>snowboardingnoobs</td>\n",
       "      <td>outer side foot pain hi all, i was hoping to g...</td>\n",
       "      <td>outer side foot pain hi all i wa hoping to get...</td>\n",
       "      <td>outer side foot pain hi all i wa hope to get s...</td>\n",
       "      <td>301</td>\n",
       "      <td>60</td>\n",
       "    </tr>\n",
       "    <tr>\n",
       "      <th>2</th>\n",
       "      <td>1.686781e+09</td>\n",
       "      <td>trips69420</td>\n",
       "      <td>2</td>\n",
       "      <td>0.75</td>\n",
       "      <td>15</td>\n",
       "      <td>snowboardingnoobs</td>\n",
       "      <td>first board? looking to probably grab this as ...</td>\n",
       "      <td>first board looking to probably grab this a my...</td>\n",
       "      <td>first board look to probabl grab thi as my fir...</td>\n",
       "      <td>274</td>\n",
       "      <td>53</td>\n",
       "    </tr>\n",
       "    <tr>\n",
       "      <th>3</th>\n",
       "      <td>1.686779e+09</td>\n",
       "      <td>twinbee</td>\n",
       "      <td>11</td>\n",
       "      <td>0.87</td>\n",
       "      <td>0</td>\n",
       "      <td>snowboardingnoobs</td>\n",
       "      <td>i did a front-side 180 today! more than one in...</td>\n",
       "      <td>i did a front side 180 today more than one in ...</td>\n",
       "      <td>i did a front side 180 today more than one in ...</td>\n",
       "      <td>1565</td>\n",
       "      <td>289</td>\n",
       "    </tr>\n",
       "    <tr>\n",
       "      <th>4</th>\n",
       "      <td>1.686767e+09</td>\n",
       "      <td>Madden_Stephen</td>\n",
       "      <td>2</td>\n",
       "      <td>0.67</td>\n",
       "      <td>24</td>\n",
       "      <td>snowboardingnoobs</td>\n",
       "      <td>step-on boot recommendation? i’ve done a decen...</td>\n",
       "      <td>step on boot recommendation i ve done a decent...</td>\n",
       "      <td>step on boot recommend i ve done a decent bit ...</td>\n",
       "      <td>686</td>\n",
       "      <td>122</td>\n",
       "    </tr>\n",
       "  </tbody>\n",
       "</table>\n",
       "</div>"
      ],
      "text/plain": [
       "    created_utc          author  score  upvote_ratio  num_comments  \\\n",
       "0  1.686844e+09        bas1cred     26          0.91            19   \n",
       "1  1.686786e+09        Pooffios      3          1.00            12   \n",
       "2  1.686781e+09      trips69420      2          0.75            15   \n",
       "3  1.686779e+09         twinbee     11          0.87             0   \n",
       "4  1.686767e+09  Madden_Stephen      2          0.67            24   \n",
       "\n",
       "           subreddit                                               text  \\\n",
       "0  snowboardingnoobs   my first board. ready for the upcoming season!!    \n",
       "1  snowboardingnoobs  outer side foot pain hi all, i was hoping to g...   \n",
       "2  snowboardingnoobs  first board? looking to probably grab this as ...   \n",
       "3  snowboardingnoobs  i did a front-side 180 today! more than one in...   \n",
       "4  snowboardingnoobs  step-on boot recommendation? i’ve done a decen...   \n",
       "\n",
       "                                            lem_text  \\\n",
       "0       my first board ready for the upcoming season   \n",
       "1  outer side foot pain hi all i wa hoping to get...   \n",
       "2  first board looking to probably grab this a my...   \n",
       "3  i did a front side 180 today more than one in ...   \n",
       "4  step on boot recommendation i ve done a decent...   \n",
       "\n",
       "                                           stem_text  post_length  \\\n",
       "0          my first board readi for the upcom season           48   \n",
       "1  outer side foot pain hi all i wa hope to get s...          301   \n",
       "2  first board look to probabl grab thi as my fir...          274   \n",
       "3  i did a front side 180 today more than one in ...         1565   \n",
       "4  step on boot recommend i ve done a decent bit ...          686   \n",
       "\n",
       "   post_word_count  \n",
       "0                8  \n",
       "1               60  \n",
       "2               53  \n",
       "3              289  \n",
       "4              122  "
      ]
     },
     "execution_count": 2,
     "metadata": {},
     "output_type": "execute_result"
    }
   ],
   "source": [
    "snowski = pd.read_csv('../data/Clean/snow_ski2.csv')\n",
    "snowski.head()"
   ]
  },
  {
   "cell_type": "code",
   "execution_count": 3,
   "id": "298e0599-3b3e-4075-8eff-37d69092b5f4",
   "metadata": {},
   "outputs": [
    {
     "data": {
      "text/plain": [
       "skiing               0.51242\n",
       "snowboardingnoobs    0.48758\n",
       "Name: subreddit, dtype: float64"
      ]
     },
     "execution_count": 3,
     "metadata": {},
     "output_type": "execute_result"
    }
   ],
   "source": [
    "# Define baseline\n",
    "snowski.subreddit.value_counts(normalize=True)\n",
    "\n",
    "# Our model must have an accuracy score > 51.2% in order to be useful"
   ]
  },
  {
   "cell_type": "code",
   "execution_count": 4,
   "id": "a8c48eb3-b3d6-49e5-b388-9efea837d0eb",
   "metadata": {},
   "outputs": [
    {
     "data": {
      "text/html": [
       "<div>\n",
       "<style scoped>\n",
       "    .dataframe tbody tr th:only-of-type {\n",
       "        vertical-align: middle;\n",
       "    }\n",
       "\n",
       "    .dataframe tbody tr th {\n",
       "        vertical-align: top;\n",
       "    }\n",
       "\n",
       "    .dataframe thead th {\n",
       "        text-align: right;\n",
       "    }\n",
       "</style>\n",
       "<table border=\"1\" class=\"dataframe\">\n",
       "  <thead>\n",
       "    <tr style=\"text-align: right;\">\n",
       "      <th></th>\n",
       "      <th>created_utc</th>\n",
       "      <th>author</th>\n",
       "      <th>score</th>\n",
       "      <th>upvote_ratio</th>\n",
       "      <th>num_comments</th>\n",
       "      <th>subreddit</th>\n",
       "      <th>text</th>\n",
       "      <th>lem_text</th>\n",
       "      <th>stem_text</th>\n",
       "      <th>post_length</th>\n",
       "      <th>post_word_count</th>\n",
       "    </tr>\n",
       "  </thead>\n",
       "  <tbody>\n",
       "    <tr>\n",
       "      <th>0</th>\n",
       "      <td>1.686844e+09</td>\n",
       "      <td>bas1cred</td>\n",
       "      <td>26</td>\n",
       "      <td>0.91</td>\n",
       "      <td>19</td>\n",
       "      <td>1</td>\n",
       "      <td>my first board. ready for the upcoming season!!</td>\n",
       "      <td>my first board ready for the upcoming season</td>\n",
       "      <td>my first board readi for the upcom season</td>\n",
       "      <td>48</td>\n",
       "      <td>8</td>\n",
       "    </tr>\n",
       "    <tr>\n",
       "      <th>1</th>\n",
       "      <td>1.686786e+09</td>\n",
       "      <td>Pooffios</td>\n",
       "      <td>3</td>\n",
       "      <td>1.00</td>\n",
       "      <td>12</td>\n",
       "      <td>1</td>\n",
       "      <td>outer side foot pain hi all, i was hoping to g...</td>\n",
       "      <td>outer side foot pain hi all i wa hoping to get...</td>\n",
       "      <td>outer side foot pain hi all i wa hope to get s...</td>\n",
       "      <td>301</td>\n",
       "      <td>60</td>\n",
       "    </tr>\n",
       "    <tr>\n",
       "      <th>2</th>\n",
       "      <td>1.686781e+09</td>\n",
       "      <td>trips69420</td>\n",
       "      <td>2</td>\n",
       "      <td>0.75</td>\n",
       "      <td>15</td>\n",
       "      <td>1</td>\n",
       "      <td>first board? looking to probably grab this as ...</td>\n",
       "      <td>first board looking to probably grab this a my...</td>\n",
       "      <td>first board look to probabl grab thi as my fir...</td>\n",
       "      <td>274</td>\n",
       "      <td>53</td>\n",
       "    </tr>\n",
       "    <tr>\n",
       "      <th>3</th>\n",
       "      <td>1.686779e+09</td>\n",
       "      <td>twinbee</td>\n",
       "      <td>11</td>\n",
       "      <td>0.87</td>\n",
       "      <td>0</td>\n",
       "      <td>1</td>\n",
       "      <td>i did a front-side 180 today! more than one in...</td>\n",
       "      <td>i did a front side 180 today more than one in ...</td>\n",
       "      <td>i did a front side 180 today more than one in ...</td>\n",
       "      <td>1565</td>\n",
       "      <td>289</td>\n",
       "    </tr>\n",
       "    <tr>\n",
       "      <th>4</th>\n",
       "      <td>1.686767e+09</td>\n",
       "      <td>Madden_Stephen</td>\n",
       "      <td>2</td>\n",
       "      <td>0.67</td>\n",
       "      <td>24</td>\n",
       "      <td>1</td>\n",
       "      <td>step-on boot recommendation? i’ve done a decen...</td>\n",
       "      <td>step on boot recommendation i ve done a decent...</td>\n",
       "      <td>step on boot recommend i ve done a decent bit ...</td>\n",
       "      <td>686</td>\n",
       "      <td>122</td>\n",
       "    </tr>\n",
       "  </tbody>\n",
       "</table>\n",
       "</div>"
      ],
      "text/plain": [
       "    created_utc          author  score  upvote_ratio  num_comments  subreddit  \\\n",
       "0  1.686844e+09        bas1cred     26          0.91            19          1   \n",
       "1  1.686786e+09        Pooffios      3          1.00            12          1   \n",
       "2  1.686781e+09      trips69420      2          0.75            15          1   \n",
       "3  1.686779e+09         twinbee     11          0.87             0          1   \n",
       "4  1.686767e+09  Madden_Stephen      2          0.67            24          1   \n",
       "\n",
       "                                                text  \\\n",
       "0   my first board. ready for the upcoming season!!    \n",
       "1  outer side foot pain hi all, i was hoping to g...   \n",
       "2  first board? looking to probably grab this as ...   \n",
       "3  i did a front-side 180 today! more than one in...   \n",
       "4  step-on boot recommendation? i’ve done a decen...   \n",
       "\n",
       "                                            lem_text  \\\n",
       "0       my first board ready for the upcoming season   \n",
       "1  outer side foot pain hi all i wa hoping to get...   \n",
       "2  first board looking to probably grab this a my...   \n",
       "3  i did a front side 180 today more than one in ...   \n",
       "4  step on boot recommendation i ve done a decent...   \n",
       "\n",
       "                                           stem_text  post_length  \\\n",
       "0          my first board readi for the upcom season           48   \n",
       "1  outer side foot pain hi all i wa hope to get s...          301   \n",
       "2  first board look to probabl grab thi as my fir...          274   \n",
       "3  i did a front side 180 today more than one in ...         1565   \n",
       "4  step on boot recommend i ve done a decent bit ...          686   \n",
       "\n",
       "   post_word_count  \n",
       "0                8  \n",
       "1               60  \n",
       "2               53  \n",
       "3              289  \n",
       "4              122  "
      ]
     },
     "execution_count": 4,
     "metadata": {},
     "output_type": "execute_result"
    }
   ],
   "source": [
    "snowski['subreddit'] = snowski['subreddit'].map({'snowboardingnoobs': 1, 'skiing': 0})\n",
    "snowski.head()"
   ]
  },
  {
   "cell_type": "markdown",
   "id": "30740e2e-b375-48d9-a5f7-ca496c2118c2",
   "metadata": {},
   "source": [
    "---\n",
    "## I. Pre-Processing Functions\n",
    "Note: Functions were generated and tested, but not all are used as final parameters in any of our models. The models were also run using \"lem_text\" and \"stem_text\" as target variables directly, but did not have any impact. \n",
    "\n",
    "---"
   ]
  },
  {
   "cell_type": "code",
   "execution_count": 5,
   "id": "4d8c3d80-13b8-4502-9eee-709e175b5598",
   "metadata": {},
   "outputs": [],
   "source": [
    "# Function for Lemmatizing\n",
    "def lemmatize_txt(text):\n",
    "    \n",
    "    tokenizer = RegexpTokenizer('\\w+')\n",
    "    split_txt = tokenizer.tokenize(text)\n",
    "\n",
    "    # Instantiate lemmatizer\n",
    "    lemmatizer = WordNetLemmatizer()\n",
    "        \n",
    "    # Lemmatize and Rejoin\n",
    "    return ' '.join([lemmatizer.lemmatize(word) for word in split_txt])"
   ]
  },
  {
   "cell_type": "code",
   "execution_count": 6,
   "id": "b8c689b2-7de9-4fa1-bab9-f41c6a8e57d6",
   "metadata": {},
   "outputs": [],
   "source": [
    "# Function for Stemming\n",
    "def stem_txt(text):\n",
    "    \n",
    "    tokenizer = RegexpTokenizer('\\w+')\n",
    "    split_txt = tokenizer.tokenize(text)\n",
    "\n",
    "    # Instantiate Stemmer\n",
    "    p_stemmer = PorterStemmer()\n",
    "\n",
    "    # Stem and Rejoin\n",
    "    return ' '.join([p_stemmer.stem(word) for word in split_txt])"
   ]
  },
  {
   "cell_type": "code",
   "execution_count": 7,
   "id": "d431b26d-a73c-4635-820f-4d5da1097192",
   "metadata": {},
   "outputs": [],
   "source": [
    "X = snowski['text']\n",
    "y = snowski['subreddit']"
   ]
  },
  {
   "cell_type": "code",
   "execution_count": 8,
   "id": "e0aa70b5-0d7c-4394-a412-eed5aadef0e6",
   "metadata": {},
   "outputs": [],
   "source": [
    "X_train, X_test, y_train, y_test = train_test_split(X, y, random_state = 1527) "
   ]
  },
  {
   "cell_type": "markdown",
   "id": "8c8134c2-8ceb-4f99-b9d4-bb220895b4fb",
   "metadata": {},
   "source": [
    "---\n",
    "## II. Model-Building and Testing\n",
    "---"
   ]
  },
  {
   "cell_type": "markdown",
   "id": "20568acf-4545-4f63-9693-3c32149652ee",
   "metadata": {},
   "source": [
    "### Pipelines and GridSearch / RandomizedSearch"
   ]
  },
  {
   "cell_type": "markdown",
   "id": "0e4f595b-4472-43f4-8816-a796701dfa0b",
   "metadata": {},
   "source": [
    "#### Model 1: Logistic Regression"
   ]
  },
  {
   "cell_type": "code",
   "execution_count": 30,
   "id": "96e7c5d0-c2d4-4db5-9809-ca7dd92c7245",
   "metadata": {},
   "outputs": [],
   "source": [
    "# Create pipeline that tests b/t CVEC and TVEC transformers and an estimator\n",
    "pipe_log = Pipeline([\n",
    "                 ('vec', None),\n",
    "                 ('logr', LogisticRegression(solver = 'liblinear', max_iter=1000))])"
   ]
  },
  {
   "cell_type": "code",
   "execution_count": 11,
   "id": "4fb25869-40a7-45f1-9111-8ad115101fe8",
   "metadata": {},
   "outputs": [],
   "source": [
    "# Define hyperparameters\n",
    "pgrid_logr =[\n",
    "    {\n",
    "    'vec': [CountVectorizer()],\n",
    "    'vec__stop_words': [None, 'english'],\n",
    "    'vec__max_features': [7000, 9000], \n",
    "    #'vec__min_df': [3, 5],\n",
    "    #'vec__max_df': [0.9, 0.95],\n",
    "    #'vec__preprocessor': [None, lemmatize_txt, stem_txt],\n",
    "    'logr__C': np.linspace(.05,5.0,10),\n",
    "    'logr__penalty': ['l1', 'l2']\n",
    "    },\n",
    "    {\n",
    "    'vec': [TfidfVectorizer()],\n",
    "    'vec__stop_words': [None, 'english'],\n",
    "    'vec__max_features': [7000, 9000], \n",
    "    #'vec__min_df': [3, 5],\n",
    "    #'vec__max_df': [0.9, 0.95],\n",
    "    #'vec__preprocessor': [None, lemmatize_txt,stem_txt],\n",
    "    'logr__C': np.linspace(.05,10.0,15),\n",
    "    'logr__penalty': ['l1', 'l2']\n",
    "    }\n",
    "]"
   ]
  },
  {
   "cell_type": "code",
   "execution_count": 12,
   "id": "c67196af-c9ff-44b3-8ed2-ce8a6ecb22f5",
   "metadata": {},
   "outputs": [
    {
     "name": "stderr",
     "output_type": "stream",
     "text": [
      "C:\\Users\\farah\\anaconda3\\lib\\site-packages\\sklearn\\svm\\_base.py:1244: ConvergenceWarning: Liblinear failed to converge, increase the number of iterations.\n",
      "  warnings.warn(\n",
      "C:\\Users\\farah\\anaconda3\\lib\\site-packages\\sklearn\\svm\\_base.py:1244: ConvergenceWarning: Liblinear failed to converge, increase the number of iterations.\n",
      "  warnings.warn(\n",
      "C:\\Users\\farah\\anaconda3\\lib\\site-packages\\sklearn\\svm\\_base.py:1244: ConvergenceWarning: Liblinear failed to converge, increase the number of iterations.\n",
      "  warnings.warn(\n",
      "C:\\Users\\farah\\anaconda3\\lib\\site-packages\\sklearn\\svm\\_base.py:1244: ConvergenceWarning: Liblinear failed to converge, increase the number of iterations.\n",
      "  warnings.warn(\n",
      "C:\\Users\\farah\\anaconda3\\lib\\site-packages\\sklearn\\svm\\_base.py:1244: ConvergenceWarning: Liblinear failed to converge, increase the number of iterations.\n",
      "  warnings.warn(\n",
      "C:\\Users\\farah\\anaconda3\\lib\\site-packages\\sklearn\\svm\\_base.py:1244: ConvergenceWarning: Liblinear failed to converge, increase the number of iterations.\n",
      "  warnings.warn(\n",
      "C:\\Users\\farah\\anaconda3\\lib\\site-packages\\sklearn\\svm\\_base.py:1244: ConvergenceWarning: Liblinear failed to converge, increase the number of iterations.\n",
      "  warnings.warn(\n",
      "C:\\Users\\farah\\anaconda3\\lib\\site-packages\\sklearn\\svm\\_base.py:1244: ConvergenceWarning: Liblinear failed to converge, increase the number of iterations.\n",
      "  warnings.warn(\n",
      "C:\\Users\\farah\\anaconda3\\lib\\site-packages\\sklearn\\svm\\_base.py:1244: ConvergenceWarning: Liblinear failed to converge, increase the number of iterations.\n",
      "  warnings.warn(\n",
      "C:\\Users\\farah\\anaconda3\\lib\\site-packages\\sklearn\\svm\\_base.py:1244: ConvergenceWarning: Liblinear failed to converge, increase the number of iterations.\n",
      "  warnings.warn(\n",
      "C:\\Users\\farah\\anaconda3\\lib\\site-packages\\sklearn\\svm\\_base.py:1244: ConvergenceWarning: Liblinear failed to converge, increase the number of iterations.\n",
      "  warnings.warn(\n",
      "C:\\Users\\farah\\anaconda3\\lib\\site-packages\\sklearn\\svm\\_base.py:1244: ConvergenceWarning: Liblinear failed to converge, increase the number of iterations.\n",
      "  warnings.warn(\n"
     ]
    },
    {
     "name": "stdout",
     "output_type": "stream",
     "text": [
      "CPU times: total: 3min 32s\n",
      "Wall time: 22min 54s\n"
     ]
    },
    {
     "data": {
      "text/html": [
       "<style>#sk-container-id-1 {color: black;background-color: white;}#sk-container-id-1 pre{padding: 0;}#sk-container-id-1 div.sk-toggleable {background-color: white;}#sk-container-id-1 label.sk-toggleable__label {cursor: pointer;display: block;width: 100%;margin-bottom: 0;padding: 0.3em;box-sizing: border-box;text-align: center;}#sk-container-id-1 label.sk-toggleable__label-arrow:before {content: \"▸\";float: left;margin-right: 0.25em;color: #696969;}#sk-container-id-1 label.sk-toggleable__label-arrow:hover:before {color: black;}#sk-container-id-1 div.sk-estimator:hover label.sk-toggleable__label-arrow:before {color: black;}#sk-container-id-1 div.sk-toggleable__content {max-height: 0;max-width: 0;overflow: hidden;text-align: left;background-color: #f0f8ff;}#sk-container-id-1 div.sk-toggleable__content pre {margin: 0.2em;color: black;border-radius: 0.25em;background-color: #f0f8ff;}#sk-container-id-1 input.sk-toggleable__control:checked~div.sk-toggleable__content {max-height: 200px;max-width: 100%;overflow: auto;}#sk-container-id-1 input.sk-toggleable__control:checked~label.sk-toggleable__label-arrow:before {content: \"▾\";}#sk-container-id-1 div.sk-estimator input.sk-toggleable__control:checked~label.sk-toggleable__label {background-color: #d4ebff;}#sk-container-id-1 div.sk-label input.sk-toggleable__control:checked~label.sk-toggleable__label {background-color: #d4ebff;}#sk-container-id-1 input.sk-hidden--visually {border: 0;clip: rect(1px 1px 1px 1px);clip: rect(1px, 1px, 1px, 1px);height: 1px;margin: -1px;overflow: hidden;padding: 0;position: absolute;width: 1px;}#sk-container-id-1 div.sk-estimator {font-family: monospace;background-color: #f0f8ff;border: 1px dotted black;border-radius: 0.25em;box-sizing: border-box;margin-bottom: 0.5em;}#sk-container-id-1 div.sk-estimator:hover {background-color: #d4ebff;}#sk-container-id-1 div.sk-parallel-item::after {content: \"\";width: 100%;border-bottom: 1px solid gray;flex-grow: 1;}#sk-container-id-1 div.sk-label:hover label.sk-toggleable__label {background-color: #d4ebff;}#sk-container-id-1 div.sk-serial::before {content: \"\";position: absolute;border-left: 1px solid gray;box-sizing: border-box;top: 0;bottom: 0;left: 50%;z-index: 0;}#sk-container-id-1 div.sk-serial {display: flex;flex-direction: column;align-items: center;background-color: white;padding-right: 0.2em;padding-left: 0.2em;position: relative;}#sk-container-id-1 div.sk-item {position: relative;z-index: 1;}#sk-container-id-1 div.sk-parallel {display: flex;align-items: stretch;justify-content: center;background-color: white;position: relative;}#sk-container-id-1 div.sk-item::before, #sk-container-id-1 div.sk-parallel-item::before {content: \"\";position: absolute;border-left: 1px solid gray;box-sizing: border-box;top: 0;bottom: 0;left: 50%;z-index: -1;}#sk-container-id-1 div.sk-parallel-item {display: flex;flex-direction: column;z-index: 1;position: relative;background-color: white;}#sk-container-id-1 div.sk-parallel-item:first-child::after {align-self: flex-end;width: 50%;}#sk-container-id-1 div.sk-parallel-item:last-child::after {align-self: flex-start;width: 50%;}#sk-container-id-1 div.sk-parallel-item:only-child::after {width: 0;}#sk-container-id-1 div.sk-dashed-wrapped {border: 1px dashed gray;margin: 0 0.4em 0.5em 0.4em;box-sizing: border-box;padding-bottom: 0.4em;background-color: white;}#sk-container-id-1 div.sk-label label {font-family: monospace;font-weight: bold;display: inline-block;line-height: 1.2em;}#sk-container-id-1 div.sk-label-container {text-align: center;}#sk-container-id-1 div.sk-container {/* jupyter's `normalize.less` sets `[hidden] { display: none; }` but bootstrap.min.css set `[hidden] { display: none !important; }` so we also need the `!important` here to be able to override the default hidden behavior on the sphinx rendered scikit-learn.org. See: https://github.com/scikit-learn/scikit-learn/issues/21755 */display: inline-block !important;position: relative;}#sk-container-id-1 div.sk-text-repr-fallback {display: none;}</style><div id=\"sk-container-id-1\" class=\"sk-top-container\"><div class=\"sk-text-repr-fallback\"><pre>GridSearchCV(cv=5,\n",
       "             estimator=Pipeline(steps=[(&#x27;vec&#x27;, None),\n",
       "                                       (&#x27;logr&#x27;,\n",
       "                                        LogisticRegression(max_iter=1000,\n",
       "                                                           solver=&#x27;liblinear&#x27;))]),\n",
       "             param_grid=[{&#x27;logr__C&#x27;: array([0.05, 0.6 , 1.15, 1.7 , 2.25, 2.8 , 3.35, 3.9 , 4.45, 5.  ]),\n",
       "                          &#x27;logr__penalty&#x27;: [&#x27;l1&#x27;, &#x27;l2&#x27;],\n",
       "                          &#x27;vec&#x27;: [CountVectorizer()],\n",
       "                          &#x27;vec__max_features&#x27;: [7000, 9000],\n",
       "                          &#x27;vec__stop_words&#x27;: [None, &#x27;english&#x27;]},\n",
       "                         {&#x27;logr__C&#x27;: array([ 0.05      ,  0.76071429,  1.47142857,  2.18214286,  2.89285714,\n",
       "        3.60357143,  4.31428571,  5.025     ,  5.73571429,  6.44642857,\n",
       "        7.15714286,  7.86785714,  8.57857143,  9.28928571, 10.        ]),\n",
       "                          &#x27;logr__penalty&#x27;: [&#x27;l1&#x27;, &#x27;l2&#x27;],\n",
       "                          &#x27;vec&#x27;: [TfidfVectorizer(max_features=7000,\n",
       "                                                  stop_words=&#x27;english&#x27;)],\n",
       "                          &#x27;vec__max_features&#x27;: [7000, 9000],\n",
       "                          &#x27;vec__stop_words&#x27;: [None, &#x27;english&#x27;]}])</pre><b>In a Jupyter environment, please rerun this cell to show the HTML representation or trust the notebook. <br />On GitHub, the HTML representation is unable to render, please try loading this page with nbviewer.org.</b></div><div class=\"sk-container\" hidden><div class=\"sk-item sk-dashed-wrapped\"><div class=\"sk-label-container\"><div class=\"sk-label sk-toggleable\"><input class=\"sk-toggleable__control sk-hidden--visually\" id=\"sk-estimator-id-1\" type=\"checkbox\" ><label for=\"sk-estimator-id-1\" class=\"sk-toggleable__label sk-toggleable__label-arrow\">GridSearchCV</label><div class=\"sk-toggleable__content\"><pre>GridSearchCV(cv=5,\n",
       "             estimator=Pipeline(steps=[(&#x27;vec&#x27;, None),\n",
       "                                       (&#x27;logr&#x27;,\n",
       "                                        LogisticRegression(max_iter=1000,\n",
       "                                                           solver=&#x27;liblinear&#x27;))]),\n",
       "             param_grid=[{&#x27;logr__C&#x27;: array([0.05, 0.6 , 1.15, 1.7 , 2.25, 2.8 , 3.35, 3.9 , 4.45, 5.  ]),\n",
       "                          &#x27;logr__penalty&#x27;: [&#x27;l1&#x27;, &#x27;l2&#x27;],\n",
       "                          &#x27;vec&#x27;: [CountVectorizer()],\n",
       "                          &#x27;vec__max_features&#x27;: [7000, 9000],\n",
       "                          &#x27;vec__stop_words&#x27;: [None, &#x27;english&#x27;]},\n",
       "                         {&#x27;logr__C&#x27;: array([ 0.05      ,  0.76071429,  1.47142857,  2.18214286,  2.89285714,\n",
       "        3.60357143,  4.31428571,  5.025     ,  5.73571429,  6.44642857,\n",
       "        7.15714286,  7.86785714,  8.57857143,  9.28928571, 10.        ]),\n",
       "                          &#x27;logr__penalty&#x27;: [&#x27;l1&#x27;, &#x27;l2&#x27;],\n",
       "                          &#x27;vec&#x27;: [TfidfVectorizer(max_features=7000,\n",
       "                                                  stop_words=&#x27;english&#x27;)],\n",
       "                          &#x27;vec__max_features&#x27;: [7000, 9000],\n",
       "                          &#x27;vec__stop_words&#x27;: [None, &#x27;english&#x27;]}])</pre></div></div></div><div class=\"sk-parallel\"><div class=\"sk-parallel-item\"><div class=\"sk-item\"><div class=\"sk-label-container\"><div class=\"sk-label sk-toggleable\"><input class=\"sk-toggleable__control sk-hidden--visually\" id=\"sk-estimator-id-2\" type=\"checkbox\" ><label for=\"sk-estimator-id-2\" class=\"sk-toggleable__label sk-toggleable__label-arrow\">estimator: Pipeline</label><div class=\"sk-toggleable__content\"><pre>Pipeline(steps=[(&#x27;vec&#x27;, None),\n",
       "                (&#x27;logr&#x27;,\n",
       "                 LogisticRegression(max_iter=1000, solver=&#x27;liblinear&#x27;))])</pre></div></div></div><div class=\"sk-serial\"><div class=\"sk-item\"><div class=\"sk-serial\"><div class=\"sk-item\"><div class=\"sk-estimator sk-toggleable\"><input class=\"sk-toggleable__control sk-hidden--visually\" id=\"sk-estimator-id-3\" type=\"checkbox\" ><label for=\"sk-estimator-id-3\" class=\"sk-toggleable__label sk-toggleable__label-arrow\">None</label><div class=\"sk-toggleable__content\"><pre>None</pre></div></div></div><div class=\"sk-item\"><div class=\"sk-estimator sk-toggleable\"><input class=\"sk-toggleable__control sk-hidden--visually\" id=\"sk-estimator-id-4\" type=\"checkbox\" ><label for=\"sk-estimator-id-4\" class=\"sk-toggleable__label sk-toggleable__label-arrow\">LogisticRegression</label><div class=\"sk-toggleable__content\"><pre>LogisticRegression(max_iter=1000, solver=&#x27;liblinear&#x27;)</pre></div></div></div></div></div></div></div></div></div></div></div></div>"
      ],
      "text/plain": [
       "GridSearchCV(cv=5,\n",
       "             estimator=Pipeline(steps=[('vec', None),\n",
       "                                       ('logr',\n",
       "                                        LogisticRegression(max_iter=1000,\n",
       "                                                           solver='liblinear'))]),\n",
       "             param_grid=[{'logr__C': array([0.05, 0.6 , 1.15, 1.7 , 2.25, 2.8 , 3.35, 3.9 , 4.45, 5.  ]),\n",
       "                          'logr__penalty': ['l1', 'l2'],\n",
       "                          'vec': [CountVectorizer()],\n",
       "                          'vec__max_features': [7000, 9000],\n",
       "                          'vec__stop_words': [None, 'english']},\n",
       "                         {'logr__C': array([ 0.05      ,  0.76071429,  1.47142857,  2.18214286,  2.89285714,\n",
       "        3.60357143,  4.31428571,  5.025     ,  5.73571429,  6.44642857,\n",
       "        7.15714286,  7.86785714,  8.57857143,  9.28928571, 10.        ]),\n",
       "                          'logr__penalty': ['l1', 'l2'],\n",
       "                          'vec': [TfidfVectorizer(max_features=7000,\n",
       "                                                  stop_words='english')],\n",
       "                          'vec__max_features': [7000, 9000],\n",
       "                          'vec__stop_words': [None, 'english']}])"
      ]
     },
     "execution_count": 12,
     "metadata": {},
     "output_type": "execute_result"
    }
   ],
   "source": [
    "%%time\n",
    "\n",
    "# Fit model via GridSearch\n",
    "gs_log = GridSearchCV(pipe_log, pgrid_logr, cv=5)\n",
    "gs_log.fit(X_train, y_train)"
   ]
  },
  {
   "cell_type": "code",
   "execution_count": 93,
   "id": "1492eba3-571e-4625-b82b-bb8acd8f963a",
   "metadata": {},
   "outputs": [],
   "source": [
    "# Make predictions for Accuracy Report\n",
    "preds_log = gs_log.predict(X_test)"
   ]
  },
  {
   "cell_type": "code",
   "execution_count": 48,
   "id": "863dc351-e5bc-4420-8a58-52c26b940715",
   "metadata": {},
   "outputs": [
    {
     "name": "stdout",
     "output_type": "stream",
     "text": [
      "--------- Logistic Regression w/ GridSearch ---------\n",
      "------------- Train: 0.9550508634965696 -------------\n",
      "------------- Test: 0.879347054648687 -------------\n",
      "Best Params: {'logr__C': 2.182142857142857, 'logr__penalty': 'l2', 'vec': TfidfVectorizer(max_features=9000), 'vec__max_features': 7000, 'vec__stop_words': 'english'}\n"
     ]
    }
   ],
   "source": [
    "print(f'--------- Logistic Regression w/ GridSearch ---------')\n",
    "print(f'------------- Train: {gs_log.score(X_train, y_train)} -------------')\n",
    "print(f'------------- Test: {gs_log.score(X_test, y_test)} -------------')\n",
    "print('Best Params:', gs_log.best_params_)"
   ]
  },
  {
   "cell_type": "code",
   "execution_count": 97,
   "id": "b12cca3f-1af4-4239-b23b-b919971021ab",
   "metadata": {},
   "outputs": [
    {
     "name": "stdout",
     "output_type": "stream",
     "text": [
      "CPU times: total: 1.86 s\n",
      "Wall time: 7.67 s\n"
     ]
    },
    {
     "data": {
      "text/html": [
       "<style>#sk-container-id-12 {color: black;background-color: white;}#sk-container-id-12 pre{padding: 0;}#sk-container-id-12 div.sk-toggleable {background-color: white;}#sk-container-id-12 label.sk-toggleable__label {cursor: pointer;display: block;width: 100%;margin-bottom: 0;padding: 0.3em;box-sizing: border-box;text-align: center;}#sk-container-id-12 label.sk-toggleable__label-arrow:before {content: \"▸\";float: left;margin-right: 0.25em;color: #696969;}#sk-container-id-12 label.sk-toggleable__label-arrow:hover:before {color: black;}#sk-container-id-12 div.sk-estimator:hover label.sk-toggleable__label-arrow:before {color: black;}#sk-container-id-12 div.sk-toggleable__content {max-height: 0;max-width: 0;overflow: hidden;text-align: left;background-color: #f0f8ff;}#sk-container-id-12 div.sk-toggleable__content pre {margin: 0.2em;color: black;border-radius: 0.25em;background-color: #f0f8ff;}#sk-container-id-12 input.sk-toggleable__control:checked~div.sk-toggleable__content {max-height: 200px;max-width: 100%;overflow: auto;}#sk-container-id-12 input.sk-toggleable__control:checked~label.sk-toggleable__label-arrow:before {content: \"▾\";}#sk-container-id-12 div.sk-estimator input.sk-toggleable__control:checked~label.sk-toggleable__label {background-color: #d4ebff;}#sk-container-id-12 div.sk-label input.sk-toggleable__control:checked~label.sk-toggleable__label {background-color: #d4ebff;}#sk-container-id-12 input.sk-hidden--visually {border: 0;clip: rect(1px 1px 1px 1px);clip: rect(1px, 1px, 1px, 1px);height: 1px;margin: -1px;overflow: hidden;padding: 0;position: absolute;width: 1px;}#sk-container-id-12 div.sk-estimator {font-family: monospace;background-color: #f0f8ff;border: 1px dotted black;border-radius: 0.25em;box-sizing: border-box;margin-bottom: 0.5em;}#sk-container-id-12 div.sk-estimator:hover {background-color: #d4ebff;}#sk-container-id-12 div.sk-parallel-item::after {content: \"\";width: 100%;border-bottom: 1px solid gray;flex-grow: 1;}#sk-container-id-12 div.sk-label:hover label.sk-toggleable__label {background-color: #d4ebff;}#sk-container-id-12 div.sk-serial::before {content: \"\";position: absolute;border-left: 1px solid gray;box-sizing: border-box;top: 0;bottom: 0;left: 50%;z-index: 0;}#sk-container-id-12 div.sk-serial {display: flex;flex-direction: column;align-items: center;background-color: white;padding-right: 0.2em;padding-left: 0.2em;position: relative;}#sk-container-id-12 div.sk-item {position: relative;z-index: 1;}#sk-container-id-12 div.sk-parallel {display: flex;align-items: stretch;justify-content: center;background-color: white;position: relative;}#sk-container-id-12 div.sk-item::before, #sk-container-id-12 div.sk-parallel-item::before {content: \"\";position: absolute;border-left: 1px solid gray;box-sizing: border-box;top: 0;bottom: 0;left: 50%;z-index: -1;}#sk-container-id-12 div.sk-parallel-item {display: flex;flex-direction: column;z-index: 1;position: relative;background-color: white;}#sk-container-id-12 div.sk-parallel-item:first-child::after {align-self: flex-end;width: 50%;}#sk-container-id-12 div.sk-parallel-item:last-child::after {align-self: flex-start;width: 50%;}#sk-container-id-12 div.sk-parallel-item:only-child::after {width: 0;}#sk-container-id-12 div.sk-dashed-wrapped {border: 1px dashed gray;margin: 0 0.4em 0.5em 0.4em;box-sizing: border-box;padding-bottom: 0.4em;background-color: white;}#sk-container-id-12 div.sk-label label {font-family: monospace;font-weight: bold;display: inline-block;line-height: 1.2em;}#sk-container-id-12 div.sk-label-container {text-align: center;}#sk-container-id-12 div.sk-container {/* jupyter's `normalize.less` sets `[hidden] { display: none; }` but bootstrap.min.css set `[hidden] { display: none !important; }` so we also need the `!important` here to be able to override the default hidden behavior on the sphinx rendered scikit-learn.org. See: https://github.com/scikit-learn/scikit-learn/issues/21755 */display: inline-block !important;position: relative;}#sk-container-id-12 div.sk-text-repr-fallback {display: none;}</style><div id=\"sk-container-id-12\" class=\"sk-top-container\"><div class=\"sk-text-repr-fallback\"><pre>RandomizedSearchCV(cv=5,\n",
       "                   estimator=Pipeline(steps=[(&#x27;vec&#x27;, None),\n",
       "                                             (&#x27;logr&#x27;,\n",
       "                                              LogisticRegression(max_iter=1000,\n",
       "                                                                 solver=&#x27;liblinear&#x27;))]),\n",
       "                   param_distributions=[{&#x27;logr__C&#x27;: array([0.05, 0.6 , 1.15, 1.7 , 2.25, 2.8 , 3.35, 3.9 , 4.45, 5.  ]),\n",
       "                                         &#x27;logr__penalty&#x27;: [&#x27;l1&#x27;, &#x27;l2&#x27;],\n",
       "                                         &#x27;vec&#x27;: [CountVectorizer()],\n",
       "                                         &#x27;vec__max_features&#x27;: [7000, 9000],\n",
       "                                         &#x27;vec__stop_words&#x27;: [None, &#x27;english&#x27;]},\n",
       "                                        {&#x27;logr__C&#x27;: array([ 0.05      ,  0.76071429,  1.47142857,  2.18214286,  2.89285714,\n",
       "        3.60357143,  4.31428571,  5.025     ,  5.73571429,  6.44642857,\n",
       "        7.15714286,  7.86785714,  8.57857143,  9.28928571, 10.        ]),\n",
       "                                         &#x27;logr__penalty&#x27;: [&#x27;l1&#x27;, &#x27;l2&#x27;],\n",
       "                                         &#x27;vec&#x27;: [TfidfVectorizer(max_features=7000)],\n",
       "                                         &#x27;vec__max_features&#x27;: [7000, 9000],\n",
       "                                         &#x27;vec__stop_words&#x27;: [None, &#x27;english&#x27;]}],\n",
       "                   random_state=1527)</pre><b>In a Jupyter environment, please rerun this cell to show the HTML representation or trust the notebook. <br />On GitHub, the HTML representation is unable to render, please try loading this page with nbviewer.org.</b></div><div class=\"sk-container\" hidden><div class=\"sk-item sk-dashed-wrapped\"><div class=\"sk-label-container\"><div class=\"sk-label sk-toggleable\"><input class=\"sk-toggleable__control sk-hidden--visually\" id=\"sk-estimator-id-45\" type=\"checkbox\" ><label for=\"sk-estimator-id-45\" class=\"sk-toggleable__label sk-toggleable__label-arrow\">RandomizedSearchCV</label><div class=\"sk-toggleable__content\"><pre>RandomizedSearchCV(cv=5,\n",
       "                   estimator=Pipeline(steps=[(&#x27;vec&#x27;, None),\n",
       "                                             (&#x27;logr&#x27;,\n",
       "                                              LogisticRegression(max_iter=1000,\n",
       "                                                                 solver=&#x27;liblinear&#x27;))]),\n",
       "                   param_distributions=[{&#x27;logr__C&#x27;: array([0.05, 0.6 , 1.15, 1.7 , 2.25, 2.8 , 3.35, 3.9 , 4.45, 5.  ]),\n",
       "                                         &#x27;logr__penalty&#x27;: [&#x27;l1&#x27;, &#x27;l2&#x27;],\n",
       "                                         &#x27;vec&#x27;: [CountVectorizer()],\n",
       "                                         &#x27;vec__max_features&#x27;: [7000, 9000],\n",
       "                                         &#x27;vec__stop_words&#x27;: [None, &#x27;english&#x27;]},\n",
       "                                        {&#x27;logr__C&#x27;: array([ 0.05      ,  0.76071429,  1.47142857,  2.18214286,  2.89285714,\n",
       "        3.60357143,  4.31428571,  5.025     ,  5.73571429,  6.44642857,\n",
       "        7.15714286,  7.86785714,  8.57857143,  9.28928571, 10.        ]),\n",
       "                                         &#x27;logr__penalty&#x27;: [&#x27;l1&#x27;, &#x27;l2&#x27;],\n",
       "                                         &#x27;vec&#x27;: [TfidfVectorizer(max_features=7000)],\n",
       "                                         &#x27;vec__max_features&#x27;: [7000, 9000],\n",
       "                                         &#x27;vec__stop_words&#x27;: [None, &#x27;english&#x27;]}],\n",
       "                   random_state=1527)</pre></div></div></div><div class=\"sk-parallel\"><div class=\"sk-parallel-item\"><div class=\"sk-item\"><div class=\"sk-label-container\"><div class=\"sk-label sk-toggleable\"><input class=\"sk-toggleable__control sk-hidden--visually\" id=\"sk-estimator-id-46\" type=\"checkbox\" ><label for=\"sk-estimator-id-46\" class=\"sk-toggleable__label sk-toggleable__label-arrow\">estimator: Pipeline</label><div class=\"sk-toggleable__content\"><pre>Pipeline(steps=[(&#x27;vec&#x27;, None),\n",
       "                (&#x27;logr&#x27;,\n",
       "                 LogisticRegression(max_iter=1000, solver=&#x27;liblinear&#x27;))])</pre></div></div></div><div class=\"sk-serial\"><div class=\"sk-item\"><div class=\"sk-serial\"><div class=\"sk-item\"><div class=\"sk-estimator sk-toggleable\"><input class=\"sk-toggleable__control sk-hidden--visually\" id=\"sk-estimator-id-47\" type=\"checkbox\" ><label for=\"sk-estimator-id-47\" class=\"sk-toggleable__label sk-toggleable__label-arrow\">None</label><div class=\"sk-toggleable__content\"><pre>None</pre></div></div></div><div class=\"sk-item\"><div class=\"sk-estimator sk-toggleable\"><input class=\"sk-toggleable__control sk-hidden--visually\" id=\"sk-estimator-id-48\" type=\"checkbox\" ><label for=\"sk-estimator-id-48\" class=\"sk-toggleable__label sk-toggleable__label-arrow\">LogisticRegression</label><div class=\"sk-toggleable__content\"><pre>LogisticRegression(max_iter=1000, solver=&#x27;liblinear&#x27;)</pre></div></div></div></div></div></div></div></div></div></div></div></div>"
      ],
      "text/plain": [
       "RandomizedSearchCV(cv=5,\n",
       "                   estimator=Pipeline(steps=[('vec', None),\n",
       "                                             ('logr',\n",
       "                                              LogisticRegression(max_iter=1000,\n",
       "                                                                 solver='liblinear'))]),\n",
       "                   param_distributions=[{'logr__C': array([0.05, 0.6 , 1.15, 1.7 , 2.25, 2.8 , 3.35, 3.9 , 4.45, 5.  ]),\n",
       "                                         'logr__penalty': ['l1', 'l2'],\n",
       "                                         'vec': [CountVectorizer()],\n",
       "                                         'vec__max_features': [7000, 9000],\n",
       "                                         'vec__stop_words': [None, 'english']},\n",
       "                                        {'logr__C': array([ 0.05      ,  0.76071429,  1.47142857,  2.18214286,  2.89285714,\n",
       "        3.60357143,  4.31428571,  5.025     ,  5.73571429,  6.44642857,\n",
       "        7.15714286,  7.86785714,  8.57857143,  9.28928571, 10.        ]),\n",
       "                                         'logr__penalty': ['l1', 'l2'],\n",
       "                                         'vec': [TfidfVectorizer(max_features=7000)],\n",
       "                                         'vec__max_features': [7000, 9000],\n",
       "                                         'vec__stop_words': [None, 'english']}],\n",
       "                   random_state=1527)"
      ]
     },
     "execution_count": 97,
     "metadata": {},
     "output_type": "execute_result"
    }
   ],
   "source": [
    "%%time\n",
    "\n",
    "# Test RandomizedSearch for comparison in timing and outcome\n",
    "rs_log = RandomizedSearchCV(pipe_log, pgrid_logr, cv=5, n_iter=10, random_state=1527)\n",
    "rs_log.fit(X_train, y_train)"
   ]
  },
  {
   "cell_type": "code",
   "execution_count": 98,
   "id": "b91019ae-cea3-452a-a6ca-ff5199a8f14a",
   "metadata": {},
   "outputs": [],
   "source": [
    "preds_log_r = rs_log.predict(X_test)"
   ]
  },
  {
   "cell_type": "code",
   "execution_count": 99,
   "id": "3ada2941-e56e-40d1-bba5-501b3b1805f0",
   "metadata": {},
   "outputs": [
    {
     "name": "stdout",
     "output_type": "stream",
     "text": [
      "------ Logistic Regression w/ RandomizedSearch ------\n",
      "------------- Train: 0.9744499645138396 -------------\n",
      "------------- Test: 0.8807665010645848 -------------\n",
      "Best Params: {'vec__stop_words': None, 'vec__max_features': 7000, 'vec': TfidfVectorizer(max_features=7000), 'logr__penalty': 'l2', 'logr__C': 5.0249999999999995}\n"
     ]
    }
   ],
   "source": [
    "print(f'------ Logistic Regression w/ RandomizedSearch ------')\n",
    "print(f'------------- Train: {rs_log.score(X_train, y_train)} -------------')\n",
    "print(f'------------- Test: {rs_log.score(X_test, y_test)} --------------')\n",
    "print('Best Params:', rs_log.best_params_)\n",
    "\n",
    "# Randomized search computed faster and test score is slightly better - we will utilize RS more"
   ]
  },
  {
   "cell_type": "markdown",
   "id": "120baa5f-cb6e-490e-a79a-a2e5fe1a13fd",
   "metadata": {},
   "source": [
    "#### Model 2: Multinomial Naive Bayes"
   ]
  },
  {
   "cell_type": "code",
   "execution_count": 54,
   "id": "48edf2a8-2b93-405c-a6b9-1c3abbd4eada",
   "metadata": {},
   "outputs": [],
   "source": [
    "pipe_nb = Pipeline([\n",
    "    ('vec', None),\n",
    "    ('nb', MultinomialNB())\n",
    "])"
   ]
  },
  {
   "cell_type": "code",
   "execution_count": 55,
   "id": "9a1e72b5-002d-4e33-8e37-0de2147eb3c3",
   "metadata": {},
   "outputs": [],
   "source": [
    "pgrid_nb =[\n",
    "    {\n",
    "    'vec': [CountVectorizer()],\n",
    "    'vec__stop_words': [None, 'english'],\n",
    "    'vec__max_features': [7000, 9000], \n",
    "    #'vec__min_df': [3, 5],\n",
    "    'vec__max_df': [0.9, 0.95],\n",
    "    #'vec__preprocessor': [None, lemmatize_txt, stem_txt],\n",
    "    'nb__alpha': [.01, 0.5, 1.0, 5.0]\n",
    "    },\n",
    "    {\n",
    "    'vec': [TfidfVectorizer()],\n",
    "    'vec__stop_words': [None, 'english'],\n",
    "    'vec__max_features': [7000, 9000], \n",
    "    #'vec__min_df': [3, 5],\n",
    "    'vec__max_df': [0.9, 0.95],\n",
    "    #'vec__preprocessor': [None, lemmatize_txt,stem_txt],\n",
    "    'nb__alpha': [.01, 0.5, 1.0, 5.0]\n",
    "    }\n",
    "]"
   ]
  },
  {
   "cell_type": "code",
   "execution_count": 56,
   "id": "37b7044a-0832-4ec9-b8b4-010b33f2e80f",
   "metadata": {},
   "outputs": [
    {
     "name": "stdout",
     "output_type": "stream",
     "text": [
      "CPU times: total: 7.77 s\n",
      "Wall time: 43.3 s\n"
     ]
    },
    {
     "data": {
      "text/html": [
       "<style>#sk-container-id-5 {color: black;background-color: white;}#sk-container-id-5 pre{padding: 0;}#sk-container-id-5 div.sk-toggleable {background-color: white;}#sk-container-id-5 label.sk-toggleable__label {cursor: pointer;display: block;width: 100%;margin-bottom: 0;padding: 0.3em;box-sizing: border-box;text-align: center;}#sk-container-id-5 label.sk-toggleable__label-arrow:before {content: \"▸\";float: left;margin-right: 0.25em;color: #696969;}#sk-container-id-5 label.sk-toggleable__label-arrow:hover:before {color: black;}#sk-container-id-5 div.sk-estimator:hover label.sk-toggleable__label-arrow:before {color: black;}#sk-container-id-5 div.sk-toggleable__content {max-height: 0;max-width: 0;overflow: hidden;text-align: left;background-color: #f0f8ff;}#sk-container-id-5 div.sk-toggleable__content pre {margin: 0.2em;color: black;border-radius: 0.25em;background-color: #f0f8ff;}#sk-container-id-5 input.sk-toggleable__control:checked~div.sk-toggleable__content {max-height: 200px;max-width: 100%;overflow: auto;}#sk-container-id-5 input.sk-toggleable__control:checked~label.sk-toggleable__label-arrow:before {content: \"▾\";}#sk-container-id-5 div.sk-estimator input.sk-toggleable__control:checked~label.sk-toggleable__label {background-color: #d4ebff;}#sk-container-id-5 div.sk-label input.sk-toggleable__control:checked~label.sk-toggleable__label {background-color: #d4ebff;}#sk-container-id-5 input.sk-hidden--visually {border: 0;clip: rect(1px 1px 1px 1px);clip: rect(1px, 1px, 1px, 1px);height: 1px;margin: -1px;overflow: hidden;padding: 0;position: absolute;width: 1px;}#sk-container-id-5 div.sk-estimator {font-family: monospace;background-color: #f0f8ff;border: 1px dotted black;border-radius: 0.25em;box-sizing: border-box;margin-bottom: 0.5em;}#sk-container-id-5 div.sk-estimator:hover {background-color: #d4ebff;}#sk-container-id-5 div.sk-parallel-item::after {content: \"\";width: 100%;border-bottom: 1px solid gray;flex-grow: 1;}#sk-container-id-5 div.sk-label:hover label.sk-toggleable__label {background-color: #d4ebff;}#sk-container-id-5 div.sk-serial::before {content: \"\";position: absolute;border-left: 1px solid gray;box-sizing: border-box;top: 0;bottom: 0;left: 50%;z-index: 0;}#sk-container-id-5 div.sk-serial {display: flex;flex-direction: column;align-items: center;background-color: white;padding-right: 0.2em;padding-left: 0.2em;position: relative;}#sk-container-id-5 div.sk-item {position: relative;z-index: 1;}#sk-container-id-5 div.sk-parallel {display: flex;align-items: stretch;justify-content: center;background-color: white;position: relative;}#sk-container-id-5 div.sk-item::before, #sk-container-id-5 div.sk-parallel-item::before {content: \"\";position: absolute;border-left: 1px solid gray;box-sizing: border-box;top: 0;bottom: 0;left: 50%;z-index: -1;}#sk-container-id-5 div.sk-parallel-item {display: flex;flex-direction: column;z-index: 1;position: relative;background-color: white;}#sk-container-id-5 div.sk-parallel-item:first-child::after {align-self: flex-end;width: 50%;}#sk-container-id-5 div.sk-parallel-item:last-child::after {align-self: flex-start;width: 50%;}#sk-container-id-5 div.sk-parallel-item:only-child::after {width: 0;}#sk-container-id-5 div.sk-dashed-wrapped {border: 1px dashed gray;margin: 0 0.4em 0.5em 0.4em;box-sizing: border-box;padding-bottom: 0.4em;background-color: white;}#sk-container-id-5 div.sk-label label {font-family: monospace;font-weight: bold;display: inline-block;line-height: 1.2em;}#sk-container-id-5 div.sk-label-container {text-align: center;}#sk-container-id-5 div.sk-container {/* jupyter's `normalize.less` sets `[hidden] { display: none; }` but bootstrap.min.css set `[hidden] { display: none !important; }` so we also need the `!important` here to be able to override the default hidden behavior on the sphinx rendered scikit-learn.org. See: https://github.com/scikit-learn/scikit-learn/issues/21755 */display: inline-block !important;position: relative;}#sk-container-id-5 div.sk-text-repr-fallback {display: none;}</style><div id=\"sk-container-id-5\" class=\"sk-top-container\"><div class=\"sk-text-repr-fallback\"><pre>GridSearchCV(cv=5,\n",
       "             estimator=Pipeline(steps=[(&#x27;vec&#x27;, None), (&#x27;nb&#x27;, MultinomialNB())]),\n",
       "             param_grid=[{&#x27;nb__alpha&#x27;: [0.01, 0.5, 1.0, 5.0],\n",
       "                          &#x27;vec&#x27;: [CountVectorizer(max_df=0.9,\n",
       "                                                  max_features=7000)],\n",
       "                          &#x27;vec__max_df&#x27;: [0.9, 0.95],\n",
       "                          &#x27;vec__max_features&#x27;: [7000, 9000],\n",
       "                          &#x27;vec__stop_words&#x27;: [None, &#x27;english&#x27;]},\n",
       "                         {&#x27;nb__alpha&#x27;: [0.01, 0.5, 1.0, 5.0],\n",
       "                          &#x27;vec&#x27;: [TfidfVectorizer()],\n",
       "                          &#x27;vec__max_df&#x27;: [0.9, 0.95],\n",
       "                          &#x27;vec__max_features&#x27;: [7000, 9000],\n",
       "                          &#x27;vec__stop_words&#x27;: [None, &#x27;english&#x27;]}])</pre><b>In a Jupyter environment, please rerun this cell to show the HTML representation or trust the notebook. <br />On GitHub, the HTML representation is unable to render, please try loading this page with nbviewer.org.</b></div><div class=\"sk-container\" hidden><div class=\"sk-item sk-dashed-wrapped\"><div class=\"sk-label-container\"><div class=\"sk-label sk-toggleable\"><input class=\"sk-toggleable__control sk-hidden--visually\" id=\"sk-estimator-id-17\" type=\"checkbox\" ><label for=\"sk-estimator-id-17\" class=\"sk-toggleable__label sk-toggleable__label-arrow\">GridSearchCV</label><div class=\"sk-toggleable__content\"><pre>GridSearchCV(cv=5,\n",
       "             estimator=Pipeline(steps=[(&#x27;vec&#x27;, None), (&#x27;nb&#x27;, MultinomialNB())]),\n",
       "             param_grid=[{&#x27;nb__alpha&#x27;: [0.01, 0.5, 1.0, 5.0],\n",
       "                          &#x27;vec&#x27;: [CountVectorizer(max_df=0.9,\n",
       "                                                  max_features=7000)],\n",
       "                          &#x27;vec__max_df&#x27;: [0.9, 0.95],\n",
       "                          &#x27;vec__max_features&#x27;: [7000, 9000],\n",
       "                          &#x27;vec__stop_words&#x27;: [None, &#x27;english&#x27;]},\n",
       "                         {&#x27;nb__alpha&#x27;: [0.01, 0.5, 1.0, 5.0],\n",
       "                          &#x27;vec&#x27;: [TfidfVectorizer()],\n",
       "                          &#x27;vec__max_df&#x27;: [0.9, 0.95],\n",
       "                          &#x27;vec__max_features&#x27;: [7000, 9000],\n",
       "                          &#x27;vec__stop_words&#x27;: [None, &#x27;english&#x27;]}])</pre></div></div></div><div class=\"sk-parallel\"><div class=\"sk-parallel-item\"><div class=\"sk-item\"><div class=\"sk-label-container\"><div class=\"sk-label sk-toggleable\"><input class=\"sk-toggleable__control sk-hidden--visually\" id=\"sk-estimator-id-18\" type=\"checkbox\" ><label for=\"sk-estimator-id-18\" class=\"sk-toggleable__label sk-toggleable__label-arrow\">estimator: Pipeline</label><div class=\"sk-toggleable__content\"><pre>Pipeline(steps=[(&#x27;vec&#x27;, None), (&#x27;nb&#x27;, MultinomialNB())])</pre></div></div></div><div class=\"sk-serial\"><div class=\"sk-item\"><div class=\"sk-serial\"><div class=\"sk-item\"><div class=\"sk-estimator sk-toggleable\"><input class=\"sk-toggleable__control sk-hidden--visually\" id=\"sk-estimator-id-19\" type=\"checkbox\" ><label for=\"sk-estimator-id-19\" class=\"sk-toggleable__label sk-toggleable__label-arrow\">None</label><div class=\"sk-toggleable__content\"><pre>None</pre></div></div></div><div class=\"sk-item\"><div class=\"sk-estimator sk-toggleable\"><input class=\"sk-toggleable__control sk-hidden--visually\" id=\"sk-estimator-id-20\" type=\"checkbox\" ><label for=\"sk-estimator-id-20\" class=\"sk-toggleable__label sk-toggleable__label-arrow\">MultinomialNB</label><div class=\"sk-toggleable__content\"><pre>MultinomialNB()</pre></div></div></div></div></div></div></div></div></div></div></div></div>"
      ],
      "text/plain": [
       "GridSearchCV(cv=5,\n",
       "             estimator=Pipeline(steps=[('vec', None), ('nb', MultinomialNB())]),\n",
       "             param_grid=[{'nb__alpha': [0.01, 0.5, 1.0, 5.0],\n",
       "                          'vec': [CountVectorizer(max_df=0.9,\n",
       "                                                  max_features=7000)],\n",
       "                          'vec__max_df': [0.9, 0.95],\n",
       "                          'vec__max_features': [7000, 9000],\n",
       "                          'vec__stop_words': [None, 'english']},\n",
       "                         {'nb__alpha': [0.01, 0.5, 1.0, 5.0],\n",
       "                          'vec': [TfidfVectorizer()],\n",
       "                          'vec__max_df': [0.9, 0.95],\n",
       "                          'vec__max_features': [7000, 9000],\n",
       "                          'vec__stop_words': [None, 'english']}])"
      ]
     },
     "execution_count": 56,
     "metadata": {},
     "output_type": "execute_result"
    }
   ],
   "source": [
    "%%time\n",
    "\n",
    "gs_nb = GridSearchCV(pipe_nb, pgrid_nb, cv=5)\n",
    "gs_nb.fit(X_train, y_train)"
   ]
  },
  {
   "cell_type": "code",
   "execution_count": 58,
   "id": "7430dd01-e13f-40f2-beba-17ce22ca5c2e",
   "metadata": {},
   "outputs": [],
   "source": [
    "# Make predictions for Accuracy Report\n",
    "preds_nb = gs_nb.predict(X_test)"
   ]
  },
  {
   "cell_type": "code",
   "execution_count": 57,
   "id": "2b15b05b-7a96-49f2-a431-4dc767e653b9",
   "metadata": {},
   "outputs": [
    {
     "name": "stdout",
     "output_type": "stream",
     "text": [
      "---------- Multinomial Bayes w/ GridSearch ----------\n",
      "------------- Train: 0.907735982966643 -------------\n",
      "------------- Test: 0.8559261887863733 -------------\n",
      "Best Params: {'nb__alpha': 0.5, 'vec': CountVectorizer(max_df=0.9, max_features=7000), 'vec__max_df': 0.9, 'vec__max_features': 7000, 'vec__stop_words': None}\n"
     ]
    }
   ],
   "source": [
    "print(f'---------- Multinomial Bayes w/ GridSearch ----------')\n",
    "print(f'------------- Train: {gs_nb.score(X_train, y_train)} -------------')\n",
    "print(f'------------- Test: {gs_nb.score(X_test, y_test)} -------------')\n",
    "print('Best Params:', gs_nb.best_params_)"
   ]
  },
  {
   "cell_type": "code",
   "execution_count": 100,
   "id": "36460329-26b8-4ab1-8cce-e54d7bba1a37",
   "metadata": {},
   "outputs": [
    {
     "name": "stdout",
     "output_type": "stream",
     "text": [
      "CPU times: total: 328 ms\n",
      "Wall time: 6.19 s\n"
     ]
    },
    {
     "data": {
      "text/html": [
       "<style>#sk-container-id-13 {color: black;background-color: white;}#sk-container-id-13 pre{padding: 0;}#sk-container-id-13 div.sk-toggleable {background-color: white;}#sk-container-id-13 label.sk-toggleable__label {cursor: pointer;display: block;width: 100%;margin-bottom: 0;padding: 0.3em;box-sizing: border-box;text-align: center;}#sk-container-id-13 label.sk-toggleable__label-arrow:before {content: \"▸\";float: left;margin-right: 0.25em;color: #696969;}#sk-container-id-13 label.sk-toggleable__label-arrow:hover:before {color: black;}#sk-container-id-13 div.sk-estimator:hover label.sk-toggleable__label-arrow:before {color: black;}#sk-container-id-13 div.sk-toggleable__content {max-height: 0;max-width: 0;overflow: hidden;text-align: left;background-color: #f0f8ff;}#sk-container-id-13 div.sk-toggleable__content pre {margin: 0.2em;color: black;border-radius: 0.25em;background-color: #f0f8ff;}#sk-container-id-13 input.sk-toggleable__control:checked~div.sk-toggleable__content {max-height: 200px;max-width: 100%;overflow: auto;}#sk-container-id-13 input.sk-toggleable__control:checked~label.sk-toggleable__label-arrow:before {content: \"▾\";}#sk-container-id-13 div.sk-estimator input.sk-toggleable__control:checked~label.sk-toggleable__label {background-color: #d4ebff;}#sk-container-id-13 div.sk-label input.sk-toggleable__control:checked~label.sk-toggleable__label {background-color: #d4ebff;}#sk-container-id-13 input.sk-hidden--visually {border: 0;clip: rect(1px 1px 1px 1px);clip: rect(1px, 1px, 1px, 1px);height: 1px;margin: -1px;overflow: hidden;padding: 0;position: absolute;width: 1px;}#sk-container-id-13 div.sk-estimator {font-family: monospace;background-color: #f0f8ff;border: 1px dotted black;border-radius: 0.25em;box-sizing: border-box;margin-bottom: 0.5em;}#sk-container-id-13 div.sk-estimator:hover {background-color: #d4ebff;}#sk-container-id-13 div.sk-parallel-item::after {content: \"\";width: 100%;border-bottom: 1px solid gray;flex-grow: 1;}#sk-container-id-13 div.sk-label:hover label.sk-toggleable__label {background-color: #d4ebff;}#sk-container-id-13 div.sk-serial::before {content: \"\";position: absolute;border-left: 1px solid gray;box-sizing: border-box;top: 0;bottom: 0;left: 50%;z-index: 0;}#sk-container-id-13 div.sk-serial {display: flex;flex-direction: column;align-items: center;background-color: white;padding-right: 0.2em;padding-left: 0.2em;position: relative;}#sk-container-id-13 div.sk-item {position: relative;z-index: 1;}#sk-container-id-13 div.sk-parallel {display: flex;align-items: stretch;justify-content: center;background-color: white;position: relative;}#sk-container-id-13 div.sk-item::before, #sk-container-id-13 div.sk-parallel-item::before {content: \"\";position: absolute;border-left: 1px solid gray;box-sizing: border-box;top: 0;bottom: 0;left: 50%;z-index: -1;}#sk-container-id-13 div.sk-parallel-item {display: flex;flex-direction: column;z-index: 1;position: relative;background-color: white;}#sk-container-id-13 div.sk-parallel-item:first-child::after {align-self: flex-end;width: 50%;}#sk-container-id-13 div.sk-parallel-item:last-child::after {align-self: flex-start;width: 50%;}#sk-container-id-13 div.sk-parallel-item:only-child::after {width: 0;}#sk-container-id-13 div.sk-dashed-wrapped {border: 1px dashed gray;margin: 0 0.4em 0.5em 0.4em;box-sizing: border-box;padding-bottom: 0.4em;background-color: white;}#sk-container-id-13 div.sk-label label {font-family: monospace;font-weight: bold;display: inline-block;line-height: 1.2em;}#sk-container-id-13 div.sk-label-container {text-align: center;}#sk-container-id-13 div.sk-container {/* jupyter's `normalize.less` sets `[hidden] { display: none; }` but bootstrap.min.css set `[hidden] { display: none !important; }` so we also need the `!important` here to be able to override the default hidden behavior on the sphinx rendered scikit-learn.org. See: https://github.com/scikit-learn/scikit-learn/issues/21755 */display: inline-block !important;position: relative;}#sk-container-id-13 div.sk-text-repr-fallback {display: none;}</style><div id=\"sk-container-id-13\" class=\"sk-top-container\"><div class=\"sk-text-repr-fallback\"><pre>RandomizedSearchCV(cv=5,\n",
       "                   estimator=Pipeline(steps=[(&#x27;vec&#x27;, None),\n",
       "                                             (&#x27;nb&#x27;, MultinomialNB())]),\n",
       "                   param_distributions=[{&#x27;nb__alpha&#x27;: [0.01, 0.5, 1.0, 5.0],\n",
       "                                         &#x27;vec&#x27;: [CountVectorizer(max_df=0.9,\n",
       "                                                                 max_features=7000)],\n",
       "                                         &#x27;vec__max_df&#x27;: [0.9, 0.95],\n",
       "                                         &#x27;vec__max_features&#x27;: [7000, 9000],\n",
       "                                         &#x27;vec__stop_words&#x27;: [None, &#x27;english&#x27;]},\n",
       "                                        {&#x27;nb__alpha&#x27;: [0.01, 0.5, 1.0, 5.0],\n",
       "                                         &#x27;vec&#x27;: [TfidfVectorizer()],\n",
       "                                         &#x27;vec__max_df&#x27;: [0.9, 0.95],\n",
       "                                         &#x27;vec__max_features&#x27;: [7000, 9000],\n",
       "                                         &#x27;vec__stop_words&#x27;: [None, &#x27;english&#x27;]}],\n",
       "                   random_state=1527)</pre><b>In a Jupyter environment, please rerun this cell to show the HTML representation or trust the notebook. <br />On GitHub, the HTML representation is unable to render, please try loading this page with nbviewer.org.</b></div><div class=\"sk-container\" hidden><div class=\"sk-item sk-dashed-wrapped\"><div class=\"sk-label-container\"><div class=\"sk-label sk-toggleable\"><input class=\"sk-toggleable__control sk-hidden--visually\" id=\"sk-estimator-id-49\" type=\"checkbox\" ><label for=\"sk-estimator-id-49\" class=\"sk-toggleable__label sk-toggleable__label-arrow\">RandomizedSearchCV</label><div class=\"sk-toggleable__content\"><pre>RandomizedSearchCV(cv=5,\n",
       "                   estimator=Pipeline(steps=[(&#x27;vec&#x27;, None),\n",
       "                                             (&#x27;nb&#x27;, MultinomialNB())]),\n",
       "                   param_distributions=[{&#x27;nb__alpha&#x27;: [0.01, 0.5, 1.0, 5.0],\n",
       "                                         &#x27;vec&#x27;: [CountVectorizer(max_df=0.9,\n",
       "                                                                 max_features=7000)],\n",
       "                                         &#x27;vec__max_df&#x27;: [0.9, 0.95],\n",
       "                                         &#x27;vec__max_features&#x27;: [7000, 9000],\n",
       "                                         &#x27;vec__stop_words&#x27;: [None, &#x27;english&#x27;]},\n",
       "                                        {&#x27;nb__alpha&#x27;: [0.01, 0.5, 1.0, 5.0],\n",
       "                                         &#x27;vec&#x27;: [TfidfVectorizer()],\n",
       "                                         &#x27;vec__max_df&#x27;: [0.9, 0.95],\n",
       "                                         &#x27;vec__max_features&#x27;: [7000, 9000],\n",
       "                                         &#x27;vec__stop_words&#x27;: [None, &#x27;english&#x27;]}],\n",
       "                   random_state=1527)</pre></div></div></div><div class=\"sk-parallel\"><div class=\"sk-parallel-item\"><div class=\"sk-item\"><div class=\"sk-label-container\"><div class=\"sk-label sk-toggleable\"><input class=\"sk-toggleable__control sk-hidden--visually\" id=\"sk-estimator-id-50\" type=\"checkbox\" ><label for=\"sk-estimator-id-50\" class=\"sk-toggleable__label sk-toggleable__label-arrow\">estimator: Pipeline</label><div class=\"sk-toggleable__content\"><pre>Pipeline(steps=[(&#x27;vec&#x27;, None), (&#x27;nb&#x27;, MultinomialNB())])</pre></div></div></div><div class=\"sk-serial\"><div class=\"sk-item\"><div class=\"sk-serial\"><div class=\"sk-item\"><div class=\"sk-estimator sk-toggleable\"><input class=\"sk-toggleable__control sk-hidden--visually\" id=\"sk-estimator-id-51\" type=\"checkbox\" ><label for=\"sk-estimator-id-51\" class=\"sk-toggleable__label sk-toggleable__label-arrow\">None</label><div class=\"sk-toggleable__content\"><pre>None</pre></div></div></div><div class=\"sk-item\"><div class=\"sk-estimator sk-toggleable\"><input class=\"sk-toggleable__control sk-hidden--visually\" id=\"sk-estimator-id-52\" type=\"checkbox\" ><label for=\"sk-estimator-id-52\" class=\"sk-toggleable__label sk-toggleable__label-arrow\">MultinomialNB</label><div class=\"sk-toggleable__content\"><pre>MultinomialNB()</pre></div></div></div></div></div></div></div></div></div></div></div></div>"
      ],
      "text/plain": [
       "RandomizedSearchCV(cv=5,\n",
       "                   estimator=Pipeline(steps=[('vec', None),\n",
       "                                             ('nb', MultinomialNB())]),\n",
       "                   param_distributions=[{'nb__alpha': [0.01, 0.5, 1.0, 5.0],\n",
       "                                         'vec': [CountVectorizer(max_df=0.9,\n",
       "                                                                 max_features=7000)],\n",
       "                                         'vec__max_df': [0.9, 0.95],\n",
       "                                         'vec__max_features': [7000, 9000],\n",
       "                                         'vec__stop_words': [None, 'english']},\n",
       "                                        {'nb__alpha': [0.01, 0.5, 1.0, 5.0],\n",
       "                                         'vec': [TfidfVectorizer()],\n",
       "                                         'vec__max_df': [0.9, 0.95],\n",
       "                                         'vec__max_features': [7000, 9000],\n",
       "                                         'vec__stop_words': [None, 'english']}],\n",
       "                   random_state=1527)"
      ]
     },
     "execution_count": 100,
     "metadata": {},
     "output_type": "execute_result"
    }
   ],
   "source": [
    "%%time\n",
    "\n",
    "# Test RandomizedSearch for comparison in timing and outcome\n",
    "rs_nb = RandomizedSearchCV(pipe_nb, pgrid_nb, cv=5, n_iter=10, random_state=1527)\n",
    "rs_nb.fit(X_train, y_train)"
   ]
  },
  {
   "cell_type": "code",
   "execution_count": 101,
   "id": "e7a875a9-ad4a-453e-adcb-6f2d4477fcaa",
   "metadata": {},
   "outputs": [],
   "source": [
    "preds_nb_r = rs_nb.predict(X_test)"
   ]
  },
  {
   "cell_type": "code",
   "execution_count": 102,
   "id": "6ee989f6-8016-495a-8e2a-682894c31a05",
   "metadata": {},
   "outputs": [
    {
     "name": "stdout",
     "output_type": "stream",
     "text": [
      "------- Multinomial Bayes w/ RandomizedSearch -------\n",
      "------------- Train: 0.9025313461083511 -------------\n",
      "------------- Test: 0.8594748048261178 -------------\n",
      "Best Params: {'vec__stop_words': None, 'vec__max_features': 7000, 'vec__max_df': 0.9, 'vec': CountVectorizer(max_df=0.9, max_features=7000), 'nb__alpha': 1.0}\n"
     ]
    }
   ],
   "source": [
    "print(f'------- Multinomial Bayes w/ RandomizedSearch -------')\n",
    "print(f'------------- Train: {rs_nb.score(X_train, y_train)} -------------')\n",
    "print(f'------------- Test: {rs_nb.score(X_test, y_test)} -------------')\n",
    "print('Best Params:', rs_nb.best_params_)\n",
    "\n",
    "# Randomized search computed faster and test score is slightly better - we will utilize RS more"
   ]
  },
  {
   "cell_type": "code",
   "execution_count": 103,
   "id": "a08553f8-16c6-4262-84a3-1cb6cc9bb15d",
   "metadata": {},
   "outputs": [
    {
     "data": {
      "image/png": "[encoded data removed]",
      "text/plain": [
       "<Figure size 1500x500 with 4 Axes>"
      ]
     },
     "metadata": {},
     "output_type": "display_data"
    }
   ],
   "source": [
    "fig, ax = plt.subplots(1, 2, figsize=(15, 5))\n",
    "\n",
    "ConfusionMatrixDisplay.from_predictions(y_test, preds_log_r, display_labels = ['Skiing', 'Snowboarding'], cmap = 'Blues', ax=ax[0]);\n",
    "ConfusionMatrixDisplay.from_predictions(y_test, preds_nb_r, display_labels = ['Skiing', 'Snowboarding'], cmap = 'Greens', ax=ax[1]);\n",
    "\n",
    "ax[0].set_title('Logistic Regression')\n",
    "ax[1].set_title('Multinomial Naive Bayes');"
   ]
  },
  {
   "cell_type": "code",
   "execution_count": 80,
   "id": "d008c39d-d040-4d99-b1f7-0f7eacd2ac20",
   "metadata": {},
   "outputs": [
    {
     "name": "stdout",
     "output_type": "stream",
     "text": [
      "\n",
      "---------------------- Logistic ---------------------- \n",
      "               precision    recall  f1-score   support\n",
      "\n",
      "           0     0.8522    0.9162    0.8830       692\n",
      "           1     0.9128    0.8466    0.8784       717\n",
      "\n",
      "    accuracy                         0.8808      1409\n",
      "   macro avg     0.8825    0.8814    0.8807      1409\n",
      "weighted avg     0.8830    0.8808    0.8807      1409\n",
      " \n",
      "\n",
      "------------------------- NB ------------------------- \n",
      "                precision    recall  f1-score   support\n",
      "\n",
      "           0     0.8559    0.8584    0.8571       692\n",
      "           1     0.8629    0.8605    0.8617       717\n",
      "\n",
      "    accuracy                         0.8595      1409\n",
      "   macro avg     0.8594    0.8595    0.8594      1409\n",
      "weighted avg     0.8595    0.8595    0.8595      1409\n",
      "\n"
     ]
    }
   ],
   "source": [
    "print(f'\\n---------------------- Logistic ---------------------- \\n {classification_report(y_test, preds_log_r, digits=4)} \\n')\n",
    "print(f'------------------------- NB ------------------------- \\n  {classification_report(y_test, preds_nb_r, digits=4)}')"
   ]
  },
  {
   "cell_type": "markdown",
   "id": "960ba10b-f740-4e3a-8cfb-a6bec9304f59",
   "metadata": {},
   "source": [
    "##### <span style = 'color: blue'> <u>**Outcomes and Comparison**</u>: </span>\n",
    "- <span style = 'color: blue'>The logistic regression model best parameters, based on RandomSearchCV (n_iter = 10), included:</span>\n",
    "    - <span style = 'color: blue'>TfidfVectorizer with no stopwords</span>\n",
    "        - <span style = 'color: blue'>Max_features = 9000</span>\n",
    "        - <span style = 'color: blue'>C = 6.45 (inverse of regularization strength)</span>\n",
    "    - <span style = 'color: blue'>Penalty = L2</span>\n",
    "- <span style = 'color: blue'>The Bayes model best parameters, based on RandomSearchCV (n_iter = 10), included:</span>\n",
    "    - <span style = 'color: blue'>CountVectorizer with no stopwords</span>\n",
    "        - <span style = 'color: blue'>Max_features = 7000</span>\n",
    "        - <span style = 'color: blue'>Max_df = 0.9</span>\n",
    "    - <span style = 'color: blue'>Alpha = 1.0 (smoothing)</span>\n",
    "    <br></br>\n",
    "- <span style = 'color: blue'>**Logistic Regression** performed better than Multinomial Naive Bayes.</span>\n",
    "    - <span style = 'color: blue'>The logistic regression had a higher testing **accuracy** score (**88.1%** vs. 86.0%), higher **precision** (**91.3%** vs. 86.3%), lower **sensitivity** (**84.7%** vs. 86.1%) and higher **specificity** (**91.6%** vs. 85.8%). </span>\n",
    "    - <span style = 'color: blue'>Logistic regression predicted more false negatives (classified-skiers who were actually snowboarders) than Bayes, however, Bayes had more false positives (classified-snowboarded who were actually skiers). </span>\n",
    "    \n",
    "##### <span style = 'color: blue'>The next model will be compared to the logistic regression model.</span>"
   ]
  },
  {
   "cell_type": "code",
   "execution_count": null,
   "id": "acd495e5-53a9-4d35-98f1-ab9f9134dcc7",
   "metadata": {},
   "outputs": [],
   "source": [
    "# Precision: Out of all the messages that the model predicted would be spam, 98.8% were actually spam.\n",
    "# Recall: Out of all the messages that were actually spam, the model predicted this outcome correctly 88.7% of the time.\n",
    "# Specificity: Out of all the messages that were actually legitimate, our model predicted this outcome correctly 99.5% of the time (Tip: This is the recall of the negative class)."
   ]
  },
  {
   "cell_type": "code",
   "execution_count": null,
   "id": "6a221964-1793-452f-916c-9334344321b4",
   "metadata": {},
   "outputs": [],
   "source": []
  },
  {
   "cell_type": "markdown",
   "id": "d9961e08-ab60-4a0e-a53d-5619e80b0e3e",
   "metadata": {},
   "source": [
    "#### Model 3: Support Vector Machine"
   ]
  },
  {
   "cell_type": "code",
   "execution_count": 26,
   "id": "49bbcdd0-bd17-42b7-9334-2f912ca1bbdc",
   "metadata": {},
   "outputs": [],
   "source": [
    "pipe_svc = Pipeline([\n",
    "    ('vec', None),\n",
    "    ('svc', SVC())\n",
    "])"
   ]
  },
  {
   "cell_type": "code",
   "execution_count": 27,
   "id": "d3b4706d-457b-4c03-a1cc-094d385f233a",
   "metadata": {},
   "outputs": [],
   "source": [
    "pgrid_svc =[\n",
    "    {\n",
    "    'vec': [CountVectorizer()],\n",
    "    'vec__stop_words': [None, 'english'],\n",
    "    'vec__max_features': [7000, 9000], \n",
    "    'vec__max_df': [0.9, 0.95],\n",
    "     'svc__C': np.linspace(0.8, 1.1, 10),\n",
    "     'svc__kernel': ['rbf','poly'],\n",
    "     'svc__degree' : [2],\n",
    "     'svc__tol' : [0.001]\n",
    "    },\n",
    "    {\n",
    "    'vec': [TfidfVectorizer()],\n",
    "    'vec__stop_words': [None, 'english'],\n",
    "    'vec__max_features': [7000, 9000], \n",
    "    'vec__max_df': [0.9, 0.95],\n",
    "     'svc__C': np.linspace(0.8, 1.1, 10),\n",
    "     'svc__kernel': ['rbf','poly'],\n",
    "     'svc__degree' : [2],\n",
    "     'svc__tol' : [0.001]\n",
    "    }\n",
    "]"
   ]
  },
  {
   "cell_type": "code",
   "execution_count": 28,
   "id": "f932e6aa-040f-4e7e-96e9-7aba8268a14e",
   "metadata": {},
   "outputs": [
    {
     "name": "stdout",
     "output_type": "stream",
     "text": [
      "CPU times: total: 6min 34s\n",
      "Wall time: 54min 23s\n"
     ]
    },
    {
     "data": {
      "text/html": [
       "<style>#sk-container-id-4 {color: black;background-color: white;}#sk-container-id-4 pre{padding: 0;}#sk-container-id-4 div.sk-toggleable {background-color: white;}#sk-container-id-4 label.sk-toggleable__label {cursor: pointer;display: block;width: 100%;margin-bottom: 0;padding: 0.3em;box-sizing: border-box;text-align: center;}#sk-container-id-4 label.sk-toggleable__label-arrow:before {content: \"▸\";float: left;margin-right: 0.25em;color: #696969;}#sk-container-id-4 label.sk-toggleable__label-arrow:hover:before {color: black;}#sk-container-id-4 div.sk-estimator:hover label.sk-toggleable__label-arrow:before {color: black;}#sk-container-id-4 div.sk-toggleable__content {max-height: 0;max-width: 0;overflow: hidden;text-align: left;background-color: #f0f8ff;}#sk-container-id-4 div.sk-toggleable__content pre {margin: 0.2em;color: black;border-radius: 0.25em;background-color: #f0f8ff;}#sk-container-id-4 input.sk-toggleable__control:checked~div.sk-toggleable__content {max-height: 200px;max-width: 100%;overflow: auto;}#sk-container-id-4 input.sk-toggleable__control:checked~label.sk-toggleable__label-arrow:before {content: \"▾\";}#sk-container-id-4 div.sk-estimator input.sk-toggleable__control:checked~label.sk-toggleable__label {background-color: #d4ebff;}#sk-container-id-4 div.sk-label input.sk-toggleable__control:checked~label.sk-toggleable__label {background-color: #d4ebff;}#sk-container-id-4 input.sk-hidden--visually {border: 0;clip: rect(1px 1px 1px 1px);clip: rect(1px, 1px, 1px, 1px);height: 1px;margin: -1px;overflow: hidden;padding: 0;position: absolute;width: 1px;}#sk-container-id-4 div.sk-estimator {font-family: monospace;background-color: #f0f8ff;border: 1px dotted black;border-radius: 0.25em;box-sizing: border-box;margin-bottom: 0.5em;}#sk-container-id-4 div.sk-estimator:hover {background-color: #d4ebff;}#sk-container-id-4 div.sk-parallel-item::after {content: \"\";width: 100%;border-bottom: 1px solid gray;flex-grow: 1;}#sk-container-id-4 div.sk-label:hover label.sk-toggleable__label {background-color: #d4ebff;}#sk-container-id-4 div.sk-serial::before {content: \"\";position: absolute;border-left: 1px solid gray;box-sizing: border-box;top: 0;bottom: 0;left: 50%;z-index: 0;}#sk-container-id-4 div.sk-serial {display: flex;flex-direction: column;align-items: center;background-color: white;padding-right: 0.2em;padding-left: 0.2em;position: relative;}#sk-container-id-4 div.sk-item {position: relative;z-index: 1;}#sk-container-id-4 div.sk-parallel {display: flex;align-items: stretch;justify-content: center;background-color: white;position: relative;}#sk-container-id-4 div.sk-item::before, #sk-container-id-4 div.sk-parallel-item::before {content: \"\";position: absolute;border-left: 1px solid gray;box-sizing: border-box;top: 0;bottom: 0;left: 50%;z-index: -1;}#sk-container-id-4 div.sk-parallel-item {display: flex;flex-direction: column;z-index: 1;position: relative;background-color: white;}#sk-container-id-4 div.sk-parallel-item:first-child::after {align-self: flex-end;width: 50%;}#sk-container-id-4 div.sk-parallel-item:last-child::after {align-self: flex-start;width: 50%;}#sk-container-id-4 div.sk-parallel-item:only-child::after {width: 0;}#sk-container-id-4 div.sk-dashed-wrapped {border: 1px dashed gray;margin: 0 0.4em 0.5em 0.4em;box-sizing: border-box;padding-bottom: 0.4em;background-color: white;}#sk-container-id-4 div.sk-label label {font-family: monospace;font-weight: bold;display: inline-block;line-height: 1.2em;}#sk-container-id-4 div.sk-label-container {text-align: center;}#sk-container-id-4 div.sk-container {/* jupyter's `normalize.less` sets `[hidden] { display: none; }` but bootstrap.min.css set `[hidden] { display: none !important; }` so we also need the `!important` here to be able to override the default hidden behavior on the sphinx rendered scikit-learn.org. See: https://github.com/scikit-learn/scikit-learn/issues/21755 */display: inline-block !important;position: relative;}#sk-container-id-4 div.sk-text-repr-fallback {display: none;}</style><div id=\"sk-container-id-4\" class=\"sk-top-container\"><div class=\"sk-text-repr-fallback\"><pre>GridSearchCV(estimator=Pipeline(steps=[(&#x27;vec&#x27;, None), (&#x27;svc&#x27;, SVC())]),\n",
       "             param_grid=[{&#x27;svc__C&#x27;: array([0.8       , 0.83333333, 0.86666667, 0.9       , 0.93333333,\n",
       "       0.96666667, 1.        , 1.03333333, 1.06666667, 1.1       ]),\n",
       "                          &#x27;svc__degree&#x27;: [2], &#x27;svc__kernel&#x27;: [&#x27;rbf&#x27;, &#x27;poly&#x27;],\n",
       "                          &#x27;svc__tol&#x27;: [0.001], &#x27;vec&#x27;: [CountVectorizer()],\n",
       "                          &#x27;vec__max_df&#x27;: [0.9, 0.95],\n",
       "                          &#x27;vec__max_features&#x27;: [7000, 9000],\n",
       "                          &#x27;vec__stop_words&#x27;: [None, &#x27;english&#x27;]},\n",
       "                         {&#x27;svc__C&#x27;: array([0.8       , 0.83333333, 0.86666667, 0.9       , 0.93333333,\n",
       "       0.96666667, 1.        , 1.03333333, 1.06666667, 1.1       ]),\n",
       "                          &#x27;svc__degree&#x27;: [2], &#x27;svc__kernel&#x27;: [&#x27;rbf&#x27;, &#x27;poly&#x27;],\n",
       "                          &#x27;svc__tol&#x27;: [0.001],\n",
       "                          &#x27;vec&#x27;: [TfidfVectorizer(max_df=0.9, max_features=7000,\n",
       "                                                  stop_words=&#x27;english&#x27;)],\n",
       "                          &#x27;vec__max_df&#x27;: [0.9, 0.95],\n",
       "                          &#x27;vec__max_features&#x27;: [7000, 9000],\n",
       "                          &#x27;vec__stop_words&#x27;: [None, &#x27;english&#x27;]}])</pre><b>In a Jupyter environment, please rerun this cell to show the HTML representation or trust the notebook. <br />On GitHub, the HTML representation is unable to render, please try loading this page with nbviewer.org.</b></div><div class=\"sk-container\" hidden><div class=\"sk-item sk-dashed-wrapped\"><div class=\"sk-label-container\"><div class=\"sk-label sk-toggleable\"><input class=\"sk-toggleable__control sk-hidden--visually\" id=\"sk-estimator-id-13\" type=\"checkbox\" ><label for=\"sk-estimator-id-13\" class=\"sk-toggleable__label sk-toggleable__label-arrow\">GridSearchCV</label><div class=\"sk-toggleable__content\"><pre>GridSearchCV(estimator=Pipeline(steps=[(&#x27;vec&#x27;, None), (&#x27;svc&#x27;, SVC())]),\n",
       "             param_grid=[{&#x27;svc__C&#x27;: array([0.8       , 0.83333333, 0.86666667, 0.9       , 0.93333333,\n",
       "       0.96666667, 1.        , 1.03333333, 1.06666667, 1.1       ]),\n",
       "                          &#x27;svc__degree&#x27;: [2], &#x27;svc__kernel&#x27;: [&#x27;rbf&#x27;, &#x27;poly&#x27;],\n",
       "                          &#x27;svc__tol&#x27;: [0.001], &#x27;vec&#x27;: [CountVectorizer()],\n",
       "                          &#x27;vec__max_df&#x27;: [0.9, 0.95],\n",
       "                          &#x27;vec__max_features&#x27;: [7000, 9000],\n",
       "                          &#x27;vec__stop_words&#x27;: [None, &#x27;english&#x27;]},\n",
       "                         {&#x27;svc__C&#x27;: array([0.8       , 0.83333333, 0.86666667, 0.9       , 0.93333333,\n",
       "       0.96666667, 1.        , 1.03333333, 1.06666667, 1.1       ]),\n",
       "                          &#x27;svc__degree&#x27;: [2], &#x27;svc__kernel&#x27;: [&#x27;rbf&#x27;, &#x27;poly&#x27;],\n",
       "                          &#x27;svc__tol&#x27;: [0.001],\n",
       "                          &#x27;vec&#x27;: [TfidfVectorizer(max_df=0.9, max_features=7000,\n",
       "                                                  stop_words=&#x27;english&#x27;)],\n",
       "                          &#x27;vec__max_df&#x27;: [0.9, 0.95],\n",
       "                          &#x27;vec__max_features&#x27;: [7000, 9000],\n",
       "                          &#x27;vec__stop_words&#x27;: [None, &#x27;english&#x27;]}])</pre></div></div></div><div class=\"sk-parallel\"><div class=\"sk-parallel-item\"><div class=\"sk-item\"><div class=\"sk-label-container\"><div class=\"sk-label sk-toggleable\"><input class=\"sk-toggleable__control sk-hidden--visually\" id=\"sk-estimator-id-14\" type=\"checkbox\" ><label for=\"sk-estimator-id-14\" class=\"sk-toggleable__label sk-toggleable__label-arrow\">estimator: Pipeline</label><div class=\"sk-toggleable__content\"><pre>Pipeline(steps=[(&#x27;vec&#x27;, None), (&#x27;svc&#x27;, SVC())])</pre></div></div></div><div class=\"sk-serial\"><div class=\"sk-item\"><div class=\"sk-serial\"><div class=\"sk-item\"><div class=\"sk-estimator sk-toggleable\"><input class=\"sk-toggleable__control sk-hidden--visually\" id=\"sk-estimator-id-15\" type=\"checkbox\" ><label for=\"sk-estimator-id-15\" class=\"sk-toggleable__label sk-toggleable__label-arrow\">None</label><div class=\"sk-toggleable__content\"><pre>None</pre></div></div></div><div class=\"sk-item\"><div class=\"sk-estimator sk-toggleable\"><input class=\"sk-toggleable__control sk-hidden--visually\" id=\"sk-estimator-id-16\" type=\"checkbox\" ><label for=\"sk-estimator-id-16\" class=\"sk-toggleable__label sk-toggleable__label-arrow\">SVC</label><div class=\"sk-toggleable__content\"><pre>SVC()</pre></div></div></div></div></div></div></div></div></div></div></div></div>"
      ],
      "text/plain": [
       "GridSearchCV(estimator=Pipeline(steps=[('vec', None), ('svc', SVC())]),\n",
       "             param_grid=[{'svc__C': array([0.8       , 0.83333333, 0.86666667, 0.9       , 0.93333333,\n",
       "       0.96666667, 1.        , 1.03333333, 1.06666667, 1.1       ]),\n",
       "                          'svc__degree': [2], 'svc__kernel': ['rbf', 'poly'],\n",
       "                          'svc__tol': [0.001], 'vec': [CountVectorizer()],\n",
       "                          'vec__max_df': [0.9, 0.95],\n",
       "                          'vec__max_features': [7000, 9000],\n",
       "                          'vec__stop_words': [None, 'english']},\n",
       "                         {'svc__C': array([0.8       , 0.83333333, 0.86666667, 0.9       , 0.93333333,\n",
       "       0.96666667, 1.        , 1.03333333, 1.06666667, 1.1       ]),\n",
       "                          'svc__degree': [2], 'svc__kernel': ['rbf', 'poly'],\n",
       "                          'svc__tol': [0.001],\n",
       "                          'vec': [TfidfVectorizer(max_df=0.9, max_features=7000,\n",
       "                                                  stop_words='english')],\n",
       "                          'vec__max_df': [0.9, 0.95],\n",
       "                          'vec__max_features': [7000, 9000],\n",
       "                          'vec__stop_words': [None, 'english']}])"
      ]
     },
     "execution_count": 28,
     "metadata": {},
     "output_type": "execute_result"
    }
   ],
   "source": [
    "%%time\n",
    "\n",
    "gs_svc = GridSearchCV(pipe_svc, pgrid_svc)\n",
    "gs_svc.fit(X_train, y_train)"
   ]
  },
  {
   "cell_type": "code",
   "execution_count": 70,
   "id": "75bc8a15-00e4-4f2d-bb5a-e806cec29879",
   "metadata": {},
   "outputs": [],
   "source": [
    "# Make predictions for Accuracy Report\n",
    "preds_svc = gs_svc.predict(X_test)"
   ]
  },
  {
   "cell_type": "code",
   "execution_count": 69,
   "id": "dac7ad8d-821e-4626-ada9-e47d69315c53",
   "metadata": {},
   "outputs": [
    {
     "name": "stdout",
     "output_type": "stream",
     "text": [
      "----------------- SVM w/ GridSearch -----------------\n",
      "------------- Train: 0.9865152590489709 -------------\n",
      "------------- Test: 0.8757984386089425 --------------\n",
      "Best Params: {'svc__C': 1.0333333333333334, 'svc__degree': 2, 'svc__kernel': 'rbf', 'svc__tol': 0.001, 'vec': TfidfVectorizer(max_df=0.9, max_features=7000, stop_words='english'), 'vec__max_df': 0.9, 'vec__max_features': 7000, 'vec__stop_words': 'english'}\n"
     ]
    }
   ],
   "source": [
    "print(f'----------------- SVM w/ GridSearch -----------------')\n",
    "print(f'------------- Train: {gs_svc.score(X_train, y_train)} -------------')\n",
    "print(f'------------- Test: {gs_svc.score(X_test, y_test)} --------------')\n",
    "print('Best Params:', gs_svc.best_params_)"
   ]
  },
  {
   "cell_type": "code",
   "execution_count": 104,
   "id": "9983932b-6a8a-4e52-9827-99ed4e74f45d",
   "metadata": {},
   "outputs": [
    {
     "name": "stdout",
     "output_type": "stream",
     "text": [
      "CPU times: total: 13.9 s\n",
      "Wall time: 1min 26s\n"
     ]
    },
    {
     "data": {
      "text/html": [
       "<style>#sk-container-id-14 {color: black;background-color: white;}#sk-container-id-14 pre{padding: 0;}#sk-container-id-14 div.sk-toggleable {background-color: white;}#sk-container-id-14 label.sk-toggleable__label {cursor: pointer;display: block;width: 100%;margin-bottom: 0;padding: 0.3em;box-sizing: border-box;text-align: center;}#sk-container-id-14 label.sk-toggleable__label-arrow:before {content: \"▸\";float: left;margin-right: 0.25em;color: #696969;}#sk-container-id-14 label.sk-toggleable__label-arrow:hover:before {color: black;}#sk-container-id-14 div.sk-estimator:hover label.sk-toggleable__label-arrow:before {color: black;}#sk-container-id-14 div.sk-toggleable__content {max-height: 0;max-width: 0;overflow: hidden;text-align: left;background-color: #f0f8ff;}#sk-container-id-14 div.sk-toggleable__content pre {margin: 0.2em;color: black;border-radius: 0.25em;background-color: #f0f8ff;}#sk-container-id-14 input.sk-toggleable__control:checked~div.sk-toggleable__content {max-height: 200px;max-width: 100%;overflow: auto;}#sk-container-id-14 input.sk-toggleable__control:checked~label.sk-toggleable__label-arrow:before {content: \"▾\";}#sk-container-id-14 div.sk-estimator input.sk-toggleable__control:checked~label.sk-toggleable__label {background-color: #d4ebff;}#sk-container-id-14 div.sk-label input.sk-toggleable__control:checked~label.sk-toggleable__label {background-color: #d4ebff;}#sk-container-id-14 input.sk-hidden--visually {border: 0;clip: rect(1px 1px 1px 1px);clip: rect(1px, 1px, 1px, 1px);height: 1px;margin: -1px;overflow: hidden;padding: 0;position: absolute;width: 1px;}#sk-container-id-14 div.sk-estimator {font-family: monospace;background-color: #f0f8ff;border: 1px dotted black;border-radius: 0.25em;box-sizing: border-box;margin-bottom: 0.5em;}#sk-container-id-14 div.sk-estimator:hover {background-color: #d4ebff;}#sk-container-id-14 div.sk-parallel-item::after {content: \"\";width: 100%;border-bottom: 1px solid gray;flex-grow: 1;}#sk-container-id-14 div.sk-label:hover label.sk-toggleable__label {background-color: #d4ebff;}#sk-container-id-14 div.sk-serial::before {content: \"\";position: absolute;border-left: 1px solid gray;box-sizing: border-box;top: 0;bottom: 0;left: 50%;z-index: 0;}#sk-container-id-14 div.sk-serial {display: flex;flex-direction: column;align-items: center;background-color: white;padding-right: 0.2em;padding-left: 0.2em;position: relative;}#sk-container-id-14 div.sk-item {position: relative;z-index: 1;}#sk-container-id-14 div.sk-parallel {display: flex;align-items: stretch;justify-content: center;background-color: white;position: relative;}#sk-container-id-14 div.sk-item::before, #sk-container-id-14 div.sk-parallel-item::before {content: \"\";position: absolute;border-left: 1px solid gray;box-sizing: border-box;top: 0;bottom: 0;left: 50%;z-index: -1;}#sk-container-id-14 div.sk-parallel-item {display: flex;flex-direction: column;z-index: 1;position: relative;background-color: white;}#sk-container-id-14 div.sk-parallel-item:first-child::after {align-self: flex-end;width: 50%;}#sk-container-id-14 div.sk-parallel-item:last-child::after {align-self: flex-start;width: 50%;}#sk-container-id-14 div.sk-parallel-item:only-child::after {width: 0;}#sk-container-id-14 div.sk-dashed-wrapped {border: 1px dashed gray;margin: 0 0.4em 0.5em 0.4em;box-sizing: border-box;padding-bottom: 0.4em;background-color: white;}#sk-container-id-14 div.sk-label label {font-family: monospace;font-weight: bold;display: inline-block;line-height: 1.2em;}#sk-container-id-14 div.sk-label-container {text-align: center;}#sk-container-id-14 div.sk-container {/* jupyter's `normalize.less` sets `[hidden] { display: none; }` but bootstrap.min.css set `[hidden] { display: none !important; }` so we also need the `!important` here to be able to override the default hidden behavior on the sphinx rendered scikit-learn.org. See: https://github.com/scikit-learn/scikit-learn/issues/21755 */display: inline-block !important;position: relative;}#sk-container-id-14 div.sk-text-repr-fallback {display: none;}</style><div id=\"sk-container-id-14\" class=\"sk-top-container\"><div class=\"sk-text-repr-fallback\"><pre>RandomizedSearchCV(cv=5,\n",
       "                   estimator=Pipeline(steps=[(&#x27;vec&#x27;, None), (&#x27;svc&#x27;, SVC())]),\n",
       "                   param_distributions=[{&#x27;svc__C&#x27;: array([0.8       , 0.83333333, 0.86666667, 0.9       , 0.93333333,\n",
       "       0.96666667, 1.        , 1.03333333, 1.06666667, 1.1       ]),\n",
       "                                         &#x27;svc__degree&#x27;: [2],\n",
       "                                         &#x27;svc__kernel&#x27;: [&#x27;rbf&#x27;, &#x27;poly&#x27;],\n",
       "                                         &#x27;svc__tol&#x27;: [0.001],\n",
       "                                         &#x27;vec&#x27;: [CountVectorizer()],\n",
       "                                         &#x27;vec__max_df&#x27;: [0.9, 0.95],\n",
       "                                         &#x27;vec__max_features&#x27;: [7000, 9000],\n",
       "                                         &#x27;...\n",
       "                                        {&#x27;svc__C&#x27;: array([0.8       , 0.83333333, 0.86666667, 0.9       , 0.93333333,\n",
       "       0.96666667, 1.        , 1.03333333, 1.06666667, 1.1       ]),\n",
       "                                         &#x27;svc__degree&#x27;: [2],\n",
       "                                         &#x27;svc__kernel&#x27;: [&#x27;rbf&#x27;, &#x27;poly&#x27;],\n",
       "                                         &#x27;svc__tol&#x27;: [0.001],\n",
       "                                         &#x27;vec&#x27;: [TfidfVectorizer(max_df=0.9,\n",
       "                                                                 max_features=7000,\n",
       "                                                                 stop_words=&#x27;english&#x27;)],\n",
       "                                         &#x27;vec__max_df&#x27;: [0.9, 0.95],\n",
       "                                         &#x27;vec__max_features&#x27;: [7000, 9000],\n",
       "                                         &#x27;vec__stop_words&#x27;: [None, &#x27;english&#x27;]}],\n",
       "                   random_state=1527)</pre><b>In a Jupyter environment, please rerun this cell to show the HTML representation or trust the notebook. <br />On GitHub, the HTML representation is unable to render, please try loading this page with nbviewer.org.</b></div><div class=\"sk-container\" hidden><div class=\"sk-item sk-dashed-wrapped\"><div class=\"sk-label-container\"><div class=\"sk-label sk-toggleable\"><input class=\"sk-toggleable__control sk-hidden--visually\" id=\"sk-estimator-id-53\" type=\"checkbox\" ><label for=\"sk-estimator-id-53\" class=\"sk-toggleable__label sk-toggleable__label-arrow\">RandomizedSearchCV</label><div class=\"sk-toggleable__content\"><pre>RandomizedSearchCV(cv=5,\n",
       "                   estimator=Pipeline(steps=[(&#x27;vec&#x27;, None), (&#x27;svc&#x27;, SVC())]),\n",
       "                   param_distributions=[{&#x27;svc__C&#x27;: array([0.8       , 0.83333333, 0.86666667, 0.9       , 0.93333333,\n",
       "       0.96666667, 1.        , 1.03333333, 1.06666667, 1.1       ]),\n",
       "                                         &#x27;svc__degree&#x27;: [2],\n",
       "                                         &#x27;svc__kernel&#x27;: [&#x27;rbf&#x27;, &#x27;poly&#x27;],\n",
       "                                         &#x27;svc__tol&#x27;: [0.001],\n",
       "                                         &#x27;vec&#x27;: [CountVectorizer()],\n",
       "                                         &#x27;vec__max_df&#x27;: [0.9, 0.95],\n",
       "                                         &#x27;vec__max_features&#x27;: [7000, 9000],\n",
       "                                         &#x27;...\n",
       "                                        {&#x27;svc__C&#x27;: array([0.8       , 0.83333333, 0.86666667, 0.9       , 0.93333333,\n",
       "       0.96666667, 1.        , 1.03333333, 1.06666667, 1.1       ]),\n",
       "                                         &#x27;svc__degree&#x27;: [2],\n",
       "                                         &#x27;svc__kernel&#x27;: [&#x27;rbf&#x27;, &#x27;poly&#x27;],\n",
       "                                         &#x27;svc__tol&#x27;: [0.001],\n",
       "                                         &#x27;vec&#x27;: [TfidfVectorizer(max_df=0.9,\n",
       "                                                                 max_features=7000,\n",
       "                                                                 stop_words=&#x27;english&#x27;)],\n",
       "                                         &#x27;vec__max_df&#x27;: [0.9, 0.95],\n",
       "                                         &#x27;vec__max_features&#x27;: [7000, 9000],\n",
       "                                         &#x27;vec__stop_words&#x27;: [None, &#x27;english&#x27;]}],\n",
       "                   random_state=1527)</pre></div></div></div><div class=\"sk-parallel\"><div class=\"sk-parallel-item\"><div class=\"sk-item\"><div class=\"sk-label-container\"><div class=\"sk-label sk-toggleable\"><input class=\"sk-toggleable__control sk-hidden--visually\" id=\"sk-estimator-id-54\" type=\"checkbox\" ><label for=\"sk-estimator-id-54\" class=\"sk-toggleable__label sk-toggleable__label-arrow\">estimator: Pipeline</label><div class=\"sk-toggleable__content\"><pre>Pipeline(steps=[(&#x27;vec&#x27;, None), (&#x27;svc&#x27;, SVC())])</pre></div></div></div><div class=\"sk-serial\"><div class=\"sk-item\"><div class=\"sk-serial\"><div class=\"sk-item\"><div class=\"sk-estimator sk-toggleable\"><input class=\"sk-toggleable__control sk-hidden--visually\" id=\"sk-estimator-id-55\" type=\"checkbox\" ><label for=\"sk-estimator-id-55\" class=\"sk-toggleable__label sk-toggleable__label-arrow\">None</label><div class=\"sk-toggleable__content\"><pre>None</pre></div></div></div><div class=\"sk-item\"><div class=\"sk-estimator sk-toggleable\"><input class=\"sk-toggleable__control sk-hidden--visually\" id=\"sk-estimator-id-56\" type=\"checkbox\" ><label for=\"sk-estimator-id-56\" class=\"sk-toggleable__label sk-toggleable__label-arrow\">SVC</label><div class=\"sk-toggleable__content\"><pre>SVC()</pre></div></div></div></div></div></div></div></div></div></div></div></div>"
      ],
      "text/plain": [
       "RandomizedSearchCV(cv=5,\n",
       "                   estimator=Pipeline(steps=[('vec', None), ('svc', SVC())]),\n",
       "                   param_distributions=[{'svc__C': array([0.8       , 0.83333333, 0.86666667, 0.9       , 0.93333333,\n",
       "       0.96666667, 1.        , 1.03333333, 1.06666667, 1.1       ]),\n",
       "                                         'svc__degree': [2],\n",
       "                                         'svc__kernel': ['rbf', 'poly'],\n",
       "                                         'svc__tol': [0.001],\n",
       "                                         'vec': [CountVectorizer()],\n",
       "                                         'vec__max_df': [0.9, 0.95],\n",
       "                                         'vec__max_features': [7000, 9000],\n",
       "                                         '...\n",
       "                                        {'svc__C': array([0.8       , 0.83333333, 0.86666667, 0.9       , 0.93333333,\n",
       "       0.96666667, 1.        , 1.03333333, 1.06666667, 1.1       ]),\n",
       "                                         'svc__degree': [2],\n",
       "                                         'svc__kernel': ['rbf', 'poly'],\n",
       "                                         'svc__tol': [0.001],\n",
       "                                         'vec': [TfidfVectorizer(max_df=0.9,\n",
       "                                                                 max_features=7000,\n",
       "                                                                 stop_words='english')],\n",
       "                                         'vec__max_df': [0.9, 0.95],\n",
       "                                         'vec__max_features': [7000, 9000],\n",
       "                                         'vec__stop_words': [None, 'english']}],\n",
       "                   random_state=1527)"
      ]
     },
     "execution_count": 104,
     "metadata": {},
     "output_type": "execute_result"
    }
   ],
   "source": [
    "%%time\n",
    "\n",
    "# Test RandomizedSearch for comparison in timing and outcome\n",
    "rs_svc = RandomizedSearchCV(pipe_svc, pgrid_svc, cv=5, n_iter=10, random_state=1527)\n",
    "rs_svc.fit(X_train, y_train)"
   ]
  },
  {
   "cell_type": "code",
   "execution_count": 105,
   "id": "2e866dcd-fa8e-4fe5-825b-4f8b9ef7b2f3",
   "metadata": {},
   "outputs": [],
   "source": [
    "# Make predictions for Accuracy Report\n",
    "preds_svc_r = rs_svc.predict(X_test)"
   ]
  },
  {
   "cell_type": "code",
   "execution_count": 106,
   "id": "3fc2a2d5-fc7a-4c39-a762-05002744b467",
   "metadata": {},
   "outputs": [
    {
     "name": "stdout",
     "output_type": "stream",
     "text": [
      "-------------- SVM w/ RandomizedSearch --------------\n",
      "------------- Train: 0.9874615566595695 -------------\n",
      "------------- Test: 0.8772178850248403 --------------\n",
      "Best Params: {'vec__stop_words': 'english', 'vec__max_features': 7000, 'vec__max_df': 0.9, 'vec': TfidfVectorizer(max_df=0.9, max_features=7000, stop_words='english'), 'svc__tol': 0.001, 'svc__kernel': 'rbf', 'svc__degree': 2, 'svc__C': 1.0666666666666669}\n"
     ]
    }
   ],
   "source": [
    "print(f'-------------- SVM w/ RandomizedSearch --------------')\n",
    "print(f'------------- Train: {rs_svc.score(X_train, y_train)} -------------')\n",
    "print(f'------------- Test: {rs_svc.score(X_test, y_test)} --------------')\n",
    "print('Best Params:', rs_svc.best_params_)\n",
    "\n",
    "# Randomized search computed faster and test score is slightly better - we will utilize RS more"
   ]
  },
  {
   "cell_type": "code",
   "execution_count": 107,
   "id": "86a07ea4-b4a2-452c-83c7-abcacb148398",
   "metadata": {},
   "outputs": [
    {
     "data": {
      "image/png": "[encoded data removed]",
      "text/plain": [
       "<Figure size 1500x500 with 4 Axes>"
      ]
     },
     "metadata": {},
     "output_type": "display_data"
    }
   ],
   "source": [
    "fig, ax = plt.subplots(1, 2, figsize=(15, 5))\n",
    "\n",
    "ConfusionMatrixDisplay.from_predictions(y_test, preds_log_r, display_labels = ['Skiing', 'Snowboarding'], cmap = 'Blues', ax=ax[0]);\n",
    "ConfusionMatrixDisplay.from_predictions(y_test, preds_svc_r, display_labels = ['Skiing', 'Snowboarding'], cmap = 'Greens', ax=ax[1]);\n",
    "\n",
    "ax[0].set_title('Logistic Regression')\n",
    "ax[1].set_title('Support Vector Machine');"
   ]
  },
  {
   "cell_type": "code",
   "execution_count": 84,
   "id": "df475f4e-26b0-4b2f-b036-2fa316a5881a",
   "metadata": {},
   "outputs": [
    {
     "name": "stdout",
     "output_type": "stream",
     "text": [
      "\n",
      "---------------------- Logistic ---------------------- \n",
      "               precision    recall  f1-score   support\n",
      "\n",
      "           0     0.8522    0.9162    0.8830       692\n",
      "           1     0.9128    0.8466    0.8784       717\n",
      "\n",
      "    accuracy                         0.8808      1409\n",
      "   macro avg     0.8825    0.8814    0.8807      1409\n",
      "weighted avg     0.8830    0.8808    0.8807      1409\n",
      " \n",
      "\n",
      "------------------------- SVM ------------------------- \n",
      "                precision    recall  f1-score   support\n",
      "\n",
      "           0     0.8340    0.9364    0.8822       692\n",
      "           1     0.9304    0.8201    0.8718       717\n",
      "\n",
      "    accuracy                         0.8772      1409\n",
      "   macro avg     0.8822    0.8782    0.8770      1409\n",
      "weighted avg     0.8830    0.8772    0.8769      1409\n",
      "\n"
     ]
    }
   ],
   "source": [
    "print(f'\\n---------------------- Logistic ---------------------- \\n {classification_report(y_test, preds_log_r, digits=4)} \\n')\n",
    "print(f'------------------------- SVM ------------------------- \\n  {classification_report(y_test, preds_svc_r, digits=4)}')"
   ]
  },
  {
   "cell_type": "markdown",
   "id": "8460adb3-cae6-4c1f-9203-d304a2946ba6",
   "metadata": {},
   "source": [
    "##### <span style = 'color: blue'> <u>**Outcomes and Comparison**</u>:_ </span>\n",
    "- <span style = 'color: blue'>The SVM model best parameters, based on RandomSearchCV (n_iter = 10), included:_</span>\n",
    "    - <span style = 'color: blue'>TfidfVectorizer with English stopwords</span>\n",
    "        - <span style = 'color: blue'>Max_features = 7000</span>\n",
    "        - <span style = 'color: blue'>Max_df = 0.9</span>\n",
    "    - <span style = 'color: blue'>Kernel = RBF (Radial Basis Function)</span>\n",
    "    - <span style = 'color: blue'>C = 1.067 (inverse of regularization strength)</span>\n",
    "    - <span style = 'color: blue'>Degree = 2_</span>   \n",
    "- <span style = 'color: blue'>The logistic regression model best parameters, based on RandomSearchCV (n_iter = 10), included:</span>\n",
    "    - <span style = 'color: blue'>TfidfVectorizer with no stopwords</span>\n",
    "        - _<span style = 'color: blue'>Max_features = 9000_</span>\n",
    "        - <span style = 'color: blue'>C = 6.45 (inverse of regularization strength)</span>\n",
    "    - <span style = 'color: blue'>Penalty = L2</span>\n",
    "    <br></br>\n",
    "- <span style = 'color: blue'>**Logistic Regression** performed very slightly better than the Support Vector Machine.</span>\n",
    "    - <span style = 'color: blue'>The logistic regression had a higher testing **accuracy** score (**88.1%** vs. 87.7%), lower **precision** (**91.3%** vs. 93.0%), higher **sensitivity** (**84.7%** vs. 82.0%) and lower **specificity** (**91.6%** vs. 93.6%). </span>"
   ]
  },
  {
   "cell_type": "markdown",
   "id": "b964add5-23c5-4148-99ea-70fae255f1b3",
   "metadata": {},
   "source": [
    "#### Model 4: Random Forest\n",
    "##### This model will be addressing overfitting. All three models that have been fit have higher training scores than testing scores by ~4-10%:\n",
    "- Logistic Regression\n",
    "    - Train = 0.9744\n",
    "    - Test = 0.8808\n",
    "- Multinomial Naive Bayes\n",
    "    - Train = 0.9025\n",
    "    - Test = 0.8595\n",
    "- Support Vector Machine\n",
    "    - Train = 0.9875\n",
    "    - Test = 0.8772\n",
    "    \n",
    "##### We will use Random Forest Classifier to ameliorate this impact and improve our model."
   ]
  },
  {
   "cell_type": "code",
   "execution_count": null,
   "id": "2a02b602-a126-401f-b9c1-af69145031ff",
   "metadata": {},
   "outputs": [],
   "source": []
  },
  {
   "cell_type": "code",
   "execution_count": null,
   "id": "de5c83e9-c40b-4aaf-8bf9-146735be4f98",
   "metadata": {},
   "outputs": [],
   "source": []
  },
  {
   "cell_type": "code",
   "execution_count": null,
   "id": "aa8e7bc5-f0e0-4438-a5dc-e31c3338d2d4",
   "metadata": {},
   "outputs": [],
   "source": []
  },
  {
   "cell_type": "code",
   "execution_count": null,
   "id": "8f239b59-21da-451e-a151-ca550d2214f4",
   "metadata": {},
   "outputs": [],
   "source": []
  },
  {
   "cell_type": "markdown",
   "id": "315c2752-3dcd-44a0-a50a-40d35427f82c",
   "metadata": {},
   "source": [
    "_Each of the three fitted models have higher training scores than testing scores by ~4-10% (Log: Train = 0.9744, Test = 0.8808; MNB: Train = 0.9025, Test = 0.8595, SVM: Train = 0.9875, Test = 0.8772). We will use Random Forest Classifier to ameliorate this impact and improve our model._"
   ]
  },
  {
   "cell_type": "code",
   "execution_count": null,
   "id": "8d17f075-e34d-4239-a801-f43f984f991c",
   "metadata": {},
   "outputs": [],
   "source": []
  }
 ],
 "metadata": {
  "kernelspec": {
   "display_name": "Python 3 (ipykernel)",
   "language": "python",
   "name": "python3"
  },
  "language_info": {
   "codemirror_mode": {
    "name": "ipython",
    "version": 3
   },
   "file_extension": ".py",
   "mimetype": "text/x-python",
   "name": "python",
   "nbconvert_exporter": "python",
   "pygments_lexer": "ipython3",
   "version": "3.10.9"
  }
 },
 "nbformat": 4,
 "nbformat_minor": 5
}

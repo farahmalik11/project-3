{
 "cells": [
  {
   "cell_type": "markdown",
   "id": "f82fb444-7af6-40c8-932b-a70e313191d4",
   "metadata": {},
   "source": [
    "# NLP and Reddit Subcommunities - Data Acquisition\n",
    "---"
   ]
  },
  {
   "cell_type": "markdown",
   "id": "2efe8e89-99bc-4e36-8673-c0994163a878",
   "metadata": {},
   "source": [
    "## Problem Statement\n",
    "\n",
    "The snowboarding and marathon running communities represent vibrant and rapidly growing segments within the sports industry. The winter season in 2021 marked the highest number of active skiers and snowboarders in over 25 years, with a 26% increase in less than a decade; and for the first time, the directionality in interest for snowboarding outpaced that of skiing ([1](https://kenver.com/blogs/news/state-snow-sports)). Between 2008 and 2018, women's and men's marathon participation increased by 56.83% and 46.91%, respectively ([2](https://www.livestrong.com/article/13763749-marathon-statistics/)). \n",
    "\n",
    "These communities exhibit unique and shared preferences, needs, and desires, presenting a meaningful opportunity for sports apparel companies to cater to their specific requirements. By understanding, exploring, and attempting to address the characteristics of these communities, sports apparel companies can capitalize on the opportunity to meet their diverse needs effectively, and members of the community themselves may maximize their performance by choosing the right brands, apparel, and accessories for them. \n",
    "\n",
    "For brands who would benefit from gaining more of the market share of these communities, such as Under Armour, Inc., this knowledge will empower them to develop tailored product offerings, refine marketing strategies, and strengthen their brand presence within these niche markets.  \n",
    "\n",
    "In this analysis we will.... We will start in this notebook gathering our data via the PRAW (Python Reddit API Wrapper) API package, exploring and cleaning our data ([second notebook](../code/02_Feature_Engineering.ipynb)), and transforming our variables into model-ready form whilst modeling across different classification options to ultimately find the best model that predicts which community a Reddit post came from ([third notebook](../code/03_Model_Building.ipynb)). At the end of this assignment, Under Armour will better understand how to leverage opportunities based on what the customers within these communities want. Ultimately, this should help them establish themselves as the preferred choice for sports apparel among snowboarders and marathon runners, in turn driving business growth and fostering lasting customer relationships.\n",
    "\n",
    "For more information on the background, a summary of methods, and findings, please see the associated [README](../Farah_Malik_Proj2_README.md) for this analysis."
   ]
  },
  {
   "cell_type": "markdown",
   "id": "145cda2c-cf85-46f6-a992-979cb871032e",
   "metadata": {},
   "source": [
    "### Contents:"
   ]
  },
  {
   "cell_type": "code",
   "execution_count": 1,
   "id": "70d15af2-7c32-4529-a50c-78023707548b",
   "metadata": {},
   "outputs": [],
   "source": [
    "#pip install praw"
   ]
  },
  {
   "cell_type": "code",
   "execution_count": 2,
   "id": "36d4e90a-14d5-415e-896f-0374612b9eb3",
   "metadata": {},
   "outputs": [
    {
     "data": {
      "text/plain": [
       "'C:\\\\Users\\\\farah\\\\Documents\\\\General Assembly DSI\\\\DSI-508\\\\Projects\\\\project-3\\\\code'"
      ]
     },
     "execution_count": 2,
     "metadata": {},
     "output_type": "execute_result"
    }
   ],
   "source": [
    "import os\n",
    "os.getcwd()"
   ]
  },
  {
   "cell_type": "code",
   "execution_count": 3,
   "id": "dd8e3945-7608-4dfb-895d-0234e5d6eaa5",
   "metadata": {},
   "outputs": [
    {
     "data": {
      "text/plain": [
       "'C:\\\\Users\\\\farah\\\\Documents\\\\General Assembly DSI\\\\DSI-508\\\\Projects\\\\project-3\\\\code'"
      ]
     },
     "execution_count": 3,
     "metadata": {},
     "output_type": "execute_result"
    }
   ],
   "source": [
    "os.chdir('C:/Users/farah/Documents/General Assembly DSI/DSI-508/Projects/project-3/code')\n",
    "os.getcwd()"
   ]
  },
  {
   "cell_type": "code",
   "execution_count": 4,
   "id": "67f3e3de-c03f-4f7b-9ef1-cd08eb3607cc",
   "metadata": {},
   "outputs": [],
   "source": [
    "import numpy as np\n",
    "import pandas as pd\n",
    "import matplotlib.pyplot as plt\n",
    "import seaborn as sns\n",
    "\n",
    "import time\n",
    "import re # source: https://stackoverflow.com/questions/11331982/how-to-remove-any-url-within-a-string-in-python/40823105#40823105\n",
    "import string\n",
    "\n",
    "import nltk\n",
    "from nltk.tokenize import sent_tokenize, word_tokenize, RegexpTokenizer\n",
    "from nltk.stem import PorterStemmer, WordNetLemmatizer\n",
    "\n",
    "import praw\n",
    "from creds import secrets"
   ]
  },
  {
   "cell_type": "code",
   "execution_count": 5,
   "id": "af331822-0013-4276-8c13-00b00dd602a2",
   "metadata": {},
   "outputs": [],
   "source": [
    "# Execute PRAW\n",
    "reddit = praw.Reddit(\n",
    "    client_id=secrets.get('client_id'),\n",
    "    client_secret=secrets.get('client_secret'),\n",
    "    user_agent=secrets.get('user_agent'),\n",
    "    username=secrets.get('username'),\n",
    "    password=secrets.get('password')\n",
    ")"
   ]
  },
  {
   "cell_type": "markdown",
   "id": "bf6af9c1-2852-4696-aed4-100e196bf12b",
   "metadata": {
    "tags": []
   },
   "source": [
    "### Choosing Posts\n",
    "##### I had two options for pulling Reddit posts: \n",
    "1. <u>Method 1</u>: Pulling the Top 700 newest posts and Top 500 \"top\" posts which occurred earlier than the newest posts - focus is on the new and top posts and the using the dates there should be no or little overlap.\n",
    "2. <u>Method 2</u>:  Pulling Top 1000 posts from New, Hot, Top, and Controversial channels and de-duplicating - focus is on variety and getting more posts.\n",
    "\n",
    "After trying both methods, **Method 2** was chosen. Therefore, Method 1 cells below have been have been made Raw so they will not be executed/run."
   ]
  },
  {
   "cell_type": "markdown",
   "id": "d21dffaf-79e0-48a7-bc0a-1a2c1e7e910f",
   "metadata": {
    "tags": []
   },
   "source": [
    "#### Method 1 - Pulling Posts (Tested --> Not Chosen --> Commented Out Using Raw Cells)"
   ]
  },
  {
   "cell_type": "raw",
   "id": "68cfe64f-1e0b-4f27-b001-937533c58d47",
   "metadata": {},
   "source": [
    "# Not executing this method to get posts - therefore have changed these cells to Raw\n",
    "# METHOD 1: Pulling Newest Post + Top Posts Which Occurred EARLIER Than Newest - Focus is on New and Top posts which do not overlap\n",
    "def prawpull(community, pull_new, pull_top, comm_f):\n",
    "    \n",
    "    # Pull Community New Posts\n",
    "    subreddit = reddit.subreddit(community)\n",
    "    posts = subreddit.new(limit=pull_new)\n",
    "    \n",
    "    # Making DataFrame\n",
    "    data1 = []\n",
    "    for post in posts:\n",
    "        data1.append([post.created_utc, post.title, post.selftext, post.score, post.upvote_ratio, post.num_comments, post.subreddit])\n",
    "    comm = pd.DataFrame(data1, columns = ['created_utc', 'title', 'selftext', 'score', 'upvote_ratio', 'num_comments', 'subreddit'])\n",
    "  \n",
    "    # Pull Top Posts Occurring Before Newest Posts\n",
    "    earliest_post = comm['created_utc'].min()\n",
    "    subreddit = reddit.subreddit(community)\n",
    "    posts = subreddit.top(limit=pull_top)\n",
    "    \n",
    "    data2 = []\n",
    "    for post in posts:\n",
    "        data2.append([post.created_utc, post.title, post.selftext, post.score, post.upvote_ratio, post.num_comments, post.subreddit])\n",
    "\n",
    "    comm2 = pd.DataFrame(data2, columns = ['created_utc', 'title', 'selftext', 'score', 'upvote_ratio', 'num_comments', 'subreddit'])\n",
    "    comm2 = comm2[comm2['created_utc'] < earliest_post]\n",
    "    \n",
    "    comm_f = pd.concat([comm, comm2])\n",
    "    \n",
    "    return comm_f"
   ]
  },
  {
   "cell_type": "raw",
   "id": "124f106d-8839-42a9-8c6a-932e62772bdb",
   "metadata": {},
   "source": [
    "snow = prawpull('snowboardingnoobs', 700, 500, 'snow')\n",
    "snow.head(10)\n",
    "print(snow.shape)"
   ]
  },
  {
   "cell_type": "raw",
   "id": "89f3addf-afc8-4e19-9940-ffda5a9dd087",
   "metadata": {},
   "source": [
    "# should not be any dupes, but will check - looks like there were a few\n",
    "snow.drop_duplicates(subset=['title', 'selftext'], inplace=True)\n",
    "snow.shape"
   ]
  },
  {
   "cell_type": "raw",
   "id": "40390543-183f-46ff-aa69-32ac4268a566",
   "metadata": {},
   "source": [
    "ski = prawpull('skiing', 700, 500, 'ski')\n",
    "ski.head()\n",
    "ski.shape"
   ]
  },
  {
   "cell_type": "raw",
   "id": "35f7f5e2-aae4-4c00-8745-3342c1afcb95",
   "metadata": {},
   "source": [
    "# should not be any dupes, but will check - looks like there were a few\n",
    "ski.drop_duplicates(subset=['title', 'selftext'], inplace=True)\n",
    "ski.shape"
   ]
  },
  {
   "cell_type": "markdown",
   "id": "d5d6f05f-7e8e-4111-bca6-174afb7416eb",
   "metadata": {},
   "source": [
    "#### Method 2 - Pulling Posts"
   ]
  },
  {
   "cell_type": "code",
   "execution_count": 6,
   "id": "d8766658-4e9f-44d4-8297-ccff603f8235",
   "metadata": {},
   "outputs": [],
   "source": [
    "# METHOD 2: To maximize number of posts among new, hot, top, and controversial, will pull from each and then dedupe --> Opting to leverage code given by Tim, source: Tim Book\n",
    "def pull_data(posts, label):\n",
    "        \n",
    "    data = []\n",
    "    for post in posts:\n",
    "        data.append([post.created_utc, post.author, post.title, post.selftext, post.score, post.upvote_ratio, post.num_comments, post.subreddit])\n",
    "        min_time = int(min(r[0] for r in data)) - 100000\n",
    "    print(f'{label.upper()} POSTS: N = {len(data)}')\n",
    "    return data"
   ]
  },
  {
   "cell_type": "code",
   "execution_count": 7,
   "id": "d10bd128-2f90-4d2d-b101-893507b4bfd3",
   "metadata": {},
   "outputs": [],
   "source": [
    "def comm(community):\n",
    "    subreddit = reddit.subreddit(community)\n",
    "\n",
    "    posts_new = subreddit.new(limit = 1000)\n",
    "    posts_hot = subreddit.hot(limit = 1000)\n",
    "    posts_top = subreddit.top(limit = 1000)\n",
    "    posts_con = subreddit.controversial(limit = 1000)\n",
    "    \n",
    "    return posts_new, posts_hot, posts_top, posts_con"
   ]
  },
  {
   "cell_type": "code",
   "execution_count": 8,
   "id": "bebb46b7-aa71-47b1-b736-208d2916283d",
   "metadata": {},
   "outputs": [
    {
     "name": "stdout",
     "output_type": "stream",
     "text": [
      "NEW POSTS: N = 993\n",
      "TOP POSTS: N = 1000\n",
      "HOT POSTS: N = 1000\n",
      "CONTROVERSIAL POSTS: N = 999\n"
     ]
    },
    {
     "data": {
      "text/plain": [
       "(2753, 8)"
      ]
     },
     "execution_count": 8,
     "metadata": {},
     "output_type": "execute_result"
    }
   ],
   "source": [
    "# SNOWBOARDING REDDIT\n",
    "posts_new, posts_hot, posts_top, posts_con = comm('snowboardingnoobs')\n",
    "data_new = pull_data(posts_new, 'new')\n",
    "data_top = pull_data(posts_top, 'top')\n",
    "data_hot = pull_data(posts_hot, 'hot')\n",
    "data_con = pull_data(posts_con, 'controversial')\n",
    "snow = pd.DataFrame(data_new + data_hot + data_top + data_con, columns = ['created_utc', 'author', 'title', 'selftext', 'score', 'upvote_ratio', 'num_comments', 'subreddit'])\n",
    "snow.drop_duplicates(subset=['title', 'selftext'], inplace=True)\n",
    "snow.shape"
   ]
  },
  {
   "cell_type": "code",
   "execution_count": 9,
   "id": "fac8976e-e607-46f0-a485-756af2de0726",
   "metadata": {},
   "outputs": [],
   "source": [
    "snow.to_csv('../data/snowboarding2.csv', index=False)"
   ]
  },
  {
   "cell_type": "code",
   "execution_count": 10,
   "id": "acfe806c-80aa-4b03-a40d-5fd07d0c4175",
   "metadata": {},
   "outputs": [
    {
     "name": "stdout",
     "output_type": "stream",
     "text": [
      "NEW POSTS: N = 973\n",
      "TOP POSTS: N = 1000\n",
      "HOT POSTS: N = 680\n",
      "CONTROVERSIAL POSTS: N = 992\n"
     ]
    },
    {
     "data": {
      "text/plain": [
       "(2887, 8)"
      ]
     },
     "execution_count": 10,
     "metadata": {},
     "output_type": "execute_result"
    }
   ],
   "source": [
    "# SKIING REDDIT\n",
    "posts_new, posts_hot, posts_top, posts_con = comm('skiing')\n",
    "data_new = pull_data(posts_new, 'new')\n",
    "data_top = pull_data(posts_top, 'top')\n",
    "data_hot = pull_data(posts_hot, 'hot')\n",
    "data_con = pull_data(posts_con, 'controversial')\n",
    "ski = pd.DataFrame(data_new + data_hot + data_top + data_con, columns = ['created_utc', 'author', 'title','selftext', 'score', 'upvote_ratio', 'num_comments', 'subreddit'])\n",
    "ski.drop_duplicates(subset=['title', 'selftext'], inplace=True)\n",
    "ski.shape"
   ]
  },
  {
   "cell_type": "code",
   "execution_count": 11,
   "id": "1486181b-ae3c-4cb1-8bcb-388bc526d350",
   "metadata": {},
   "outputs": [],
   "source": [
    "ski.to_csv('../data/skiing2.csv', index=False)"
   ]
  },
  {
   "cell_type": "markdown",
   "id": "21bdb355-b24d-4fa4-a457-2948a5b75269",
   "metadata": {},
   "source": [
    "### Exploring/Cleaning Snowboarding DataFrame"
   ]
  },
  {
   "cell_type": "code",
   "execution_count": 12,
   "id": "366d9709-3cb8-475c-b5ca-cb5c80d10dd3",
   "metadata": {},
   "outputs": [],
   "source": [
    "# Concatenate Title and Selftext\n",
    "snow['text'] = snow['title'].str.lower().str.strip() + \" \" + snow['selftext'].str.lower().str.strip()"
   ]
  },
  {
   "cell_type": "code",
   "execution_count": 13,
   "id": "f53a7d2d-2038-4679-aa96-7fdf8f933e46",
   "metadata": {},
   "outputs": [
    {
     "data": {
      "text/plain": [
       "0"
      ]
     },
     "execution_count": 13,
     "metadata": {},
     "output_type": "execute_result"
    }
   ],
   "source": [
    "# Look for Missing Texts\n",
    "snow.text.isnull().sum()"
   ]
  },
  {
   "cell_type": "code",
   "execution_count": 14,
   "id": "4fc8d0cf-ca53-49b4-95d3-32c4f191b5a2",
   "metadata": {},
   "outputs": [
    {
     "name": "stdout",
     "output_type": "stream",
     "text": [
      "<class 'pandas.core.frame.DataFrame'>\n",
      "Int64Index: 2753 entries, 0 to 3990\n",
      "Data columns (total 9 columns):\n",
      " #   Column        Non-Null Count  Dtype  \n",
      "---  ------        --------------  -----  \n",
      " 0   created_utc   2753 non-null   float64\n",
      " 1   author        2645 non-null   object \n",
      " 2   title         2753 non-null   object \n",
      " 3   selftext      2753 non-null   object \n",
      " 4   score         2753 non-null   int64  \n",
      " 5   upvote_ratio  2753 non-null   float64\n",
      " 6   num_comments  2753 non-null   int64  \n",
      " 7   subreddit     2753 non-null   object \n",
      " 8   text          2753 non-null   object \n",
      "dtypes: float64(2), int64(2), object(5)\n",
      "memory usage: 215.1+ KB\n"
     ]
    }
   ],
   "source": [
    "# Look for Other Missing Variables\n",
    "snow.info()"
   ]
  },
  {
   "cell_type": "code",
   "execution_count": 18,
   "id": "b9cdf734-bd9e-4419-8670-b179a2ae8fc5",
   "metadata": {},
   "outputs": [
    {
     "data": {
      "text/plain": [
       "too much overhang?                                                                                                                                                                                                                                                                                                                                                                                                                                                                                                                                                                                                                                                                                                                                                                                                                                                                                                                                                                                                                                                                                                                                                                                                                                                                                            2\n",
       "my buddy’s new display                                                                                                                                                                                                                                                                                                                                                                                                                                                                                                                                                                                                                                                                                                                                                                                                                                                                                                                                                                                                                                                                                                                                                                                                                                                                                        1\n",
       "have i got my bindings set correctly?                                                                                                                                                                                                                                                                                                                                                                                                                                                                                                                                                                                                                                                                                                                                                                                                                                                                                                                                                                                                                                                                                                                                                                                                                                                                         1\n",
       "2016 trick pony w ridge wedgie bindings. good deal or na?                                                                                                                                                                                                                                                                                                                                                                                                                                                                                                                                                                                                                                                                                                                                                                                                                                                                                                                                                                                                                                                                                                                                                                                                                                                     1\n",
       "am i going overboard? i tried snowboarding for the first time last season and i loved it.\\n\\ni was ment to be skiing but my snowboarding friends convinced me to try it.\\n\\nthey showed me the basics but they aren't very experienced either, i was glad they gave up their time to teach me though.\\n\\ni fell over a lot and it hurt my ass and my knees and my hip and i hit my head a few times, hard. i wore a helment and a big jacket but i told myself next year ill get knee pads and a wrist gard and was thinking of a butt pad too.\\n\\nim still not very good at snowboarding so i dont want to look stupid with all the gear. but i really hurt my ass last year and i cant imagine not doing somethign to stop that this time.\\n\\nso im thinking, thermals, knee pads, wrist gard, butt pad, fleece top layer and a shell. helmet (no hat) and goggles, thermal gloves and thick gloves, buff.\\n\\ndoes this sound fine? i think im gonna fall a lot but this season im getting an instructor to teach me\\n\\nand i dont know if i should get my own snowboard. ill only be in this state for another 2 seasons before i have to fly someplace else and i guess boards are a problem to travel with because it costs a lot of money?\\n\\nedit: thanks everyone your answers were really helpful    1\n",
       "                                                                                                                                                                                                                                                                                                                                                                                                                                                                                                                                                                                                                                                                                                                                                                                                                                                                                                                                                                                                                                                                                                                                                                                                                                                                                                             ..\n",
       "snowboarding at british columbia's best little mountain resort | troll resort | quesnel bc                                                                                                                                                                                                                                                                                                                                                                                                                                                                                                                                                                                                                                                                                                                                                                                                                                                                                                                                                                                                                                                                                                                                                                                                                    1\n",
       "can anyone name whatever “trick” this is? i ride goofy if that matters and only my 2nd season riding!                                                                                                                                                                                                                                                                                                                                                                                                                                                                                                                                                                                                                                                                                                                                                                                                                                                                                                                                                                                                                                                                                                                                                                                                         1\n",
       "i’m 48 years old and i just started snowboarding. had been on the slope for 9 days and i’m lovely it.                                                                                                                                                                                                                                                                                                                                                                                                                                                                                                                                                                                                                                                                                                                                                                                                                                                                                                                                                                                                                                                                                                                                                                                                         1\n",
       "dakine cool lock halp! 😅 bought this lock and set my code. now i can’t get the damn thing unlocked. anyone have experience with one of these things?                                                                                                                                                                                                                                                                                                                                                                                                                                                                                                                                                                                                                                                                                                                                                                                                                                                                                                                                                                                                                                                                                                                                                          1\n",
       "pow board hey guys, just wanted to get some of your opinions on what 2020 board i should get for pow. currently i have a lib tech skate banana with union force bindings that i love and will use for all mountain. i was thinking of getting the lib tech orca but i would like to hear others thoughts! thanks                                                                                                                                                                                                                                                                                                                                                                                                                                                                                                                                                                                                                                                                                                                                                                                                                                                                                                                                                                                              1\n",
       "Name: text, Length: 2752, dtype: int64"
      ]
     },
     "execution_count": 18,
     "metadata": {},
     "output_type": "execute_result"
    }
   ],
   "source": [
    "# Look for Duplicates\n",
    "snow['text'].value_counts()"
   ]
  },
  {
   "cell_type": "code",
   "execution_count": 19,
   "id": "6d2870f9-5612-4ccf-a848-fd430dc14665",
   "metadata": {},
   "outputs": [
    {
     "data": {
      "text/html": [
       "<div>\n",
       "<style scoped>\n",
       "    .dataframe tbody tr th:only-of-type {\n",
       "        vertical-align: middle;\n",
       "    }\n",
       "\n",
       "    .dataframe tbody tr th {\n",
       "        vertical-align: top;\n",
       "    }\n",
       "\n",
       "    .dataframe thead th {\n",
       "        text-align: right;\n",
       "    }\n",
       "</style>\n",
       "<table border=\"1\" class=\"dataframe\">\n",
       "  <thead>\n",
       "    <tr style=\"text-align: right;\">\n",
       "      <th></th>\n",
       "      <th>created_utc</th>\n",
       "      <th>author</th>\n",
       "      <th>title</th>\n",
       "      <th>selftext</th>\n",
       "      <th>score</th>\n",
       "      <th>upvote_ratio</th>\n",
       "      <th>num_comments</th>\n",
       "      <th>subreddit</th>\n",
       "      <th>text</th>\n",
       "    </tr>\n",
       "  </thead>\n",
       "  <tbody>\n",
       "  </tbody>\n",
       "</table>\n",
       "</div>"
      ],
      "text/plain": [
       "Empty DataFrame\n",
       "Columns: [created_utc, author, title, selftext, score, upvote_ratio, num_comments, subreddit, text]\n",
       "Index: []"
      ]
     },
     "execution_count": 19,
     "metadata": {},
     "output_type": "execute_result"
    }
   ],
   "source": [
    "# Seeing a few duplicates due to difference in upper vs lower case - will dedupe one more time, post-all-lower-casing, for good measure\n",
    "snow[snow['text'] == \"too much overhang?\"]"
   ]
  },
  {
   "cell_type": "code",
   "execution_count": 20,
   "id": "208476dc-c623-4194-8234-6356b287a24f",
   "metadata": {},
   "outputs": [
    {
     "data": {
      "text/plain": [
       "my buddy’s new display                                                                                                                                                                                                                                                                                                                                                                                                                                                                                                                                                                                                                                                                                                                                                                                                                                                                                                                                                                                                                                                                                                                                                                                                                                                                                        1\n",
       "have i got my bindings set correctly?                                                                                                                                                                                                                                                                                                                                                                                                                                                                                                                                                                                                                                                                                                                                                                                                                                                                                                                                                                                                                                                                                                                                                                                                                                                                         1\n",
       "does anybody have any idea how to adjust the toe ramp on these k2 indy bindings?                                                                                                                                                                                                                                                                                                                                                                                                                                                                                                                                                                                                                                                                                                                                                                                                                                                                                                                                                                                                                                                                                                                                                                                                                              1\n",
       "2016 trick pony w ridge wedgie bindings. good deal or na?                                                                                                                                                                                                                                                                                                                                                                                                                                                                                                                                                                                                                                                                                                                                                                                                                                                                                                                                                                                                                                                                                                                                                                                                                                                     1\n",
       "am i going overboard? i tried snowboarding for the first time last season and i loved it.\\n\\ni was ment to be skiing but my snowboarding friends convinced me to try it.\\n\\nthey showed me the basics but they aren't very experienced either, i was glad they gave up their time to teach me though.\\n\\ni fell over a lot and it hurt my ass and my knees and my hip and i hit my head a few times, hard. i wore a helment and a big jacket but i told myself next year ill get knee pads and a wrist gard and was thinking of a butt pad too.\\n\\nim still not very good at snowboarding so i dont want to look stupid with all the gear. but i really hurt my ass last year and i cant imagine not doing somethign to stop that this time.\\n\\nso im thinking, thermals, knee pads, wrist gard, butt pad, fleece top layer and a shell. helmet (no hat) and goggles, thermal gloves and thick gloves, buff.\\n\\ndoes this sound fine? i think im gonna fall a lot but this season im getting an instructor to teach me\\n\\nand i dont know if i should get my own snowboard. ill only be in this state for another 2 seasons before i have to fly someplace else and i guess boards are a problem to travel with because it costs a lot of money?\\n\\nedit: thanks everyone your answers were really helpful    1\n",
       "                                                                                                                                                                                                                                                                                                                                                                                                                                                                                                                                                                                                                                                                                                                                                                                                                                                                                                                                                                                                                                                                                                                                                                                                                                                                                                             ..\n",
       "new east coast rider here, are these damages to be expected?                                                                                                                                                                                                                                                                                                                                                                                                                                                                                                                                                                                                                                                                                                                                                                                                                                                                                                                                                                                                                                                                                                                                                                                                                                                  1\n",
       "snowboarding at british columbia's best little mountain resort | troll resort | quesnel bc                                                                                                                                                                                                                                                                                                                                                                                                                                                                                                                                                                                                                                                                                                                                                                                                                                                                                                                                                                                                                                                                                                                                                                                                                    1\n",
       "can anyone name whatever “trick” this is? i ride goofy if that matters and only my 2nd season riding!                                                                                                                                                                                                                                                                                                                                                                                                                                                                                                                                                                                                                                                                                                                                                                                                                                                                                                                                                                                                                                                                                                                                                                                                         1\n",
       "i’m 48 years old and i just started snowboarding. had been on the slope for 9 days and i’m lovely it.                                                                                                                                                                                                                                                                                                                                                                                                                                                                                                                                                                                                                                                                                                                                                                                                                                                                                                                                                                                                                                                                                                                                                                                                         1\n",
       "pow board hey guys, just wanted to get some of your opinions on what 2020 board i should get for pow. currently i have a lib tech skate banana with union force bindings that i love and will use for all mountain. i was thinking of getting the lib tech orca but i would like to hear others thoughts! thanks                                                                                                                                                                                                                                                                                                                                                                                                                                                                                                                                                                                                                                                                                                                                                                                                                                                                                                                                                                                              1\n",
       "Name: text, Length: 2752, dtype: int64"
      ]
     },
     "execution_count": 20,
     "metadata": {},
     "output_type": "execute_result"
    }
   ],
   "source": [
    "snow.drop_duplicates(subset=['text'], inplace=True)\n",
    "snow['text'].value_counts()"
   ]
  },
  {
   "cell_type": "code",
   "execution_count": 21,
   "id": "77c30559-ea09-4fe4-bde0-58b4b87a4c3a",
   "metadata": {},
   "outputs": [
    {
     "data": {
      "text/plain": [
       "(2752, 9)"
      ]
     },
     "execution_count": 21,
     "metadata": {},
     "output_type": "execute_result"
    }
   ],
   "source": [
    "snow.shape"
   ]
  },
  {
   "cell_type": "code",
   "execution_count": 22,
   "id": "bbe4db07-0660-4f9d-bff1-1c6328aef3e0",
   "metadata": {},
   "outputs": [
    {
     "data": {
      "text/html": [
       "<div>\n",
       "<style scoped>\n",
       "    .dataframe tbody tr th:only-of-type {\n",
       "        vertical-align: middle;\n",
       "    }\n",
       "\n",
       "    .dataframe tbody tr th {\n",
       "        vertical-align: top;\n",
       "    }\n",
       "\n",
       "    .dataframe thead th {\n",
       "        text-align: right;\n",
       "    }\n",
       "</style>\n",
       "<table border=\"1\" class=\"dataframe\">\n",
       "  <thead>\n",
       "    <tr style=\"text-align: right;\">\n",
       "      <th></th>\n",
       "      <th>created_utc</th>\n",
       "      <th>author</th>\n",
       "      <th>title</th>\n",
       "      <th>selftext</th>\n",
       "      <th>score</th>\n",
       "      <th>upvote_ratio</th>\n",
       "      <th>num_comments</th>\n",
       "      <th>subreddit</th>\n",
       "      <th>text</th>\n",
       "    </tr>\n",
       "  </thead>\n",
       "  <tbody>\n",
       "  </tbody>\n",
       "</table>\n",
       "</div>"
      ],
      "text/plain": [
       "Empty DataFrame\n",
       "Columns: [created_utc, author, title, selftext, score, upvote_ratio, num_comments, subreddit, text]\n",
       "Index: []"
      ]
     },
     "execution_count": 22,
     "metadata": {},
     "output_type": "execute_result"
    }
   ],
   "source": [
    "# Confirm no nulls - blank may not be captured as NaN or None\n",
    "snow[snow['text'] == \"\"]"
   ]
  },
  {
   "cell_type": "code",
   "execution_count": 23,
   "id": "0d6698ba-459d-4a79-ba50-6b720bfc7db5",
   "metadata": {},
   "outputs": [
    {
     "data": {
      "text/html": [
       "<div>\n",
       "<style scoped>\n",
       "    .dataframe tbody tr th:only-of-type {\n",
       "        vertical-align: middle;\n",
       "    }\n",
       "\n",
       "    .dataframe tbody tr th {\n",
       "        vertical-align: top;\n",
       "    }\n",
       "\n",
       "    .dataframe thead th {\n",
       "        text-align: right;\n",
       "    }\n",
       "</style>\n",
       "<table border=\"1\" class=\"dataframe\">\n",
       "  <thead>\n",
       "    <tr style=\"text-align: right;\">\n",
       "      <th></th>\n",
       "      <th>created_utc</th>\n",
       "      <th>author</th>\n",
       "      <th>title</th>\n",
       "      <th>selftext</th>\n",
       "      <th>score</th>\n",
       "      <th>upvote_ratio</th>\n",
       "      <th>num_comments</th>\n",
       "      <th>subreddit</th>\n",
       "      <th>text</th>\n",
       "    </tr>\n",
       "  </thead>\n",
       "  <tbody>\n",
       "  </tbody>\n",
       "</table>\n",
       "</div>"
      ],
      "text/plain": [
       "Empty DataFrame\n",
       "Columns: [created_utc, author, title, selftext, score, upvote_ratio, num_comments, subreddit, text]\n",
       "Index: []"
      ]
     },
     "execution_count": 23,
     "metadata": {},
     "output_type": "execute_result"
    }
   ],
   "source": [
    "# Confirm no nulls - blank may not be captured as NaN or None\n",
    "snow[snow['text'] == \" \"]"
   ]
  },
  {
   "cell_type": "code",
   "execution_count": 24,
   "id": "dbc98dc7-490f-4bdd-af4f-aaaa70c8c18b",
   "metadata": {},
   "outputs": [
    {
     "data": {
      "text/plain": [
       "my buddy’s new display                                                                                                                                                                                                                                                                                                                                                                                                                                                                                                                                                                                                                                                                                                                                                                                                                                                                                                                                                                                                                                                                                                                                                                                                                                                                                                                                                                                                                                        1\n",
       "have i got my bindings set correctly?                                                                                                                                                                                                                                                                                                                                                                                                                                                                                                                                                                                                                                                                                                                                                                                                                                                                                                                                                                                                                                                                                                                                                                                                                                                                                                                                                                                                                         1\n",
       "does anybody have any idea how to adjust the toe ramp on these k2 indy bindings?                                                                                                                                                                                                                                                                                                                                                                                                                                                                                                                                                                                                                                                                                                                                                                                                                                                                                                                                                                                                                                                                                                                                                                                                                                                                                                                                                                              1\n",
       "2016 trick pony w ridge wedgie bindings. good deal or na?                                                                                                                                                                                                                                                                                                                                                                                                                                                                                                                                                                                                                                                                                                                                                                                                                                                                                                                                                                                                                                                                                                                                                                                                                                                                                                                                                                                                     1\n",
       "am i going overboard? i tried snowboarding for the first time last season and i loved it.\\n\\ni was ment to be skiing but my snowboarding friends convinced me to try it.\\n\\nthey showed me the basics but they aren't very experienced either, i was glad they gave up their time to teach me though.\\n\\ni fell over a lot and it hurt my ass and my knees and my hip and i hit my head a few times, hard. i wore a helment and a big jacket but i told myself next year ill get knee pads and a wrist gard and was thinking of a butt pad too.\\n\\nim still not very good at snowboarding so i dont want to look stupid with all the gear. but i really hurt my ass last year and i cant imagine not doing somethign to stop that this time.\\n\\nso im thinking, thermals, knee pads, wrist gard, butt pad, fleece top layer and a shell. helmet (no hat) and goggles, thermal gloves and thick gloves, buff.\\n\\ndoes this sound fine? i think im gonna fall a lot but this season im getting an instructor to teach me\\n\\nand i dont know if i should get my own snowboard. ill only be in this state for another 2 seasons before i have to fly someplace else and i guess boards are a problem to travel with because it costs a lot of money?\\n\\nedit: thanks everyone your answers were really helpful                                                                                                                                                    1\n",
       "i have the 2020 thirty two crab grab boots. within 3 days this rivet wore through the material and the same thing is happening on the other side. the company said it’s not a manufacturing error so it’s not covered by the warranty. any ideas on why this might be happening/ advice?                                                                                                                                                                                                                                                                                                                                                                                                                                                                                                                                                                                                                                                                                                                                                                                                                                                                                                                                                                                                                                                                                                                                                                      1\n",
       "free snowboard - manchester,uk                                                                                                                                                                                                                                                                                                                                                                                                                                                                                                                                                                                                                                                                                                                                                                                                                                                                                                                                                                                                                                                                                                                                                                                                                                                                                                                                                                                                                                1\n",
       "moving from learning into having a blast.                                                                                                                                                                                                                                                                                                                                                                                                                                                                                                                                                                                                                                                                                                                                                                                                                                                                                                                                                                                                                                                                                                                                                                                                                                                                                                                                                                                                                     1\n",
       "officially terrified of the lift i have been snowboarding probably 10 times in the last 15 years of my life. i have been on a chairlift at least 5 times. \\n\\nyesterday i brought my wife snowboarding. it was her first time. i couldn't stress enough that learning to skate and be able to turn/ stop with one foot strapped was key. after a few runs she insisted we get on the chair lift. \\n\\nwelp not entirely sure what happened but as the chair approached somehow she made it on and i wound up flat on my back and under the chair. i was mortified, as there was 30 people behind us. i refused to get on the chair the rest of the day. \\n\\nhelp! i now have extreme anxiety regarding chair lifts. i am finally starting to make full runs without falling. i don't want this to hinder my progress.                                                                                                                                                                                                                                                                                                                                                                                                                                                                                                                                                                                                                                          1\n",
       "first board ever:) setup and sizing looks good?                                                                                                                                                                                                                                                                                                                                                                                                                                                                                                                                                                                                                                                                                                                                                                                                                                                                                                                                                                                                                                                                                                                                                                                                                                                                                                                                                                                                               1\n",
       "why even when i get injured and hurt i want to go back to the slopes? this season is my first season snowboarding and i feel a strong addiction to it. i'm not the best and two injuries that i'm still dealing with proof it. \\n\\ni just can't hold myself to wait to be 100% recovered because i know the end of the season is coming and i just want to go again and again and again even when that means be in pain for two or three days. \\n\\nwhy is this so addictive? i don't feel better than a drug addicted to a substance that know is gonna kill him.                                                                                                                                                                                                                                                                                                                                                                                                                                                                                                                                                                                                                                                                                                                                                                                                                                                                                             1\n",
       "any tips for bending my knees more? i'm doing skidded turns on blues and consciously trying to bend my knees more. i'm feeling way better going over bumps on both edges, but on video, i still look fairly upright. occasionally, i get heel side chatter (maybe once a day) . does anyone have any tips for bending more? i already try to sit in a chair on heel side, and i thrust my hips out and lean forward on toe side. i can feel the edge dig in on toe side, but i never get the same feeling on heel side.                                                                                                                                                                                                                                                                                                                                                                                                                                                                                                                                                                                                                                                                                                                                                                                                                                                                                                                                       1\n",
       "my 2 babies - burton flight attendant 2018 and burton 3d kilroy 2021                                                                                                                                                                                                                                                                                                                                                                                                                                                                                                                                                                                                                                                                                                                                                                                                                                                                                                                                                                                                                                                                                                                                                                                                                                                                                                                                                                                          1\n",
       "buying my first board and i figured to buy a used one. is this a good deal?                                                                                                                                                                                                                                                                                                                                                                                                                                                                                                                                                                                                                                                                                                                                                                                                                                                                                                                                                                                                                                                                                                                                                                                                                                                                                                                                                                                   1\n",
       "warmup routine the backbone of my warmup routine looks the following way:\\n\\n**before the season**\\n\\ni'm hitting the gym: many kettlebells squats with rotation on the medicine half ball. \\n\\ncardio.\\n\\n**day before**\\n\\nequipment check and tuning. that includes putting boots and board to fine-tune stance and balance. some balancing practice on the carpet or large pvc halfpipe. \\n\\ni'm doing 10 min meditation, thinking through each movement i'm working on this season.\\n\\n**riding day**\\n\\nearly in the morning, stretching and foam rolling.\\n\\nno heavy food day before and energy bars right before and during.\\n\\nwater backpack for constant hydration.\\n\\nknee compression sleeves to keep joints warm and support. \\n\\n**on the hill**\\n\\n- start with balance and basics, slides to learn snow conditions\\n- couple kick stops on both edges to build confidence \\n- ollies and nollies\\n- slow, balanced rotations in each direction to twist and feel my board\\n- rotations with offset center “buttering.”\\n- quick dynamic edging with upper and lower part separation\\n- switches (180) from each quadrant in each direction total 16 different types\\n- carving with knees inside and outside to bend the board \\n- jumps from edge to edge during carving\\n\\n\\nafter that, i'm ready for more advanced riding\\n\\n**end of the day**\\n\\n\\nrolling stretching and sauna\\n\\nplease share your thoughts and recommendations.    1\n",
       "Name: text, dtype: int64"
      ]
     },
     "execution_count": 24,
     "metadata": {},
     "output_type": "execute_result"
    }
   ],
   "source": [
    "# Look at text for anomalous characters\n",
    "pd.set_option('display.max_rows', None)\n",
    "snow.text.value_counts()[:15]"
   ]
  },
  {
   "cell_type": "code",
   "execution_count": 25,
   "id": "05505726-214c-4290-a372-8ee0ff03fcbc",
   "metadata": {},
   "outputs": [
    {
     "data": {
      "text/plain": [
       "my buddy’s new display                                                                                                                                                                                                                                                                                                                                                                                                                                                                                                                                                                                                                                                                                                                                                                                                                                                                                                                                                                                                                                                                                                                                                                                                                                                                                                                                                1\n",
       "have i got my bindings set correctly?                                                                                                                                                                                                                                                                                                                                                                                                                                                                                                                                                                                                                                                                                                                                                                                                                                                                                                                                                                                                                                                                                                                                                                                                                                                                                                                                 1\n",
       "does anybody have any idea how to adjust the toe ramp on these k2 indy bindings?                                                                                                                                                                                                                                                                                                                                                                                                                                                                                                                                                                                                                                                                                                                                                                                                                                                                                                                                                                                                                                                                                                                                                                                                                                                                                      1\n",
       "2016 trick pony w ridge wedgie bindings. good deal or na?                                                                                                                                                                                                                                                                                                                                                                                                                                                                                                                                                                                                                                                                                                                                                                                                                                                                                                                                                                                                                                                                                                                                                                                                                                                                                                             1\n",
       "am i going overboard? i tried snowboarding for the first time last season and i loved it.i was ment to be skiing but my snowboarding friends convinced me to try it.they showed me the basics but they aren't very experienced either, i was glad they gave up their time to teach me though.i fell over a lot and it hurt my ass and my knees and my hip and i hit my head a few times, hard. i wore a helment and a big jacket but i told myself next year ill get knee pads and a wrist gard and was thinking of a butt pad too.im still not very good at snowboarding so i dont want to look stupid with all the gear. but i really hurt my ass last year and i cant imagine not doing somethign to stop that this time.so im thinking, thermals, knee pads, wrist gard, butt pad, fleece top layer and a shell. helmet (no hat) and goggles, thermal gloves and thick gloves, buff.does this sound fine? i think im gonna fall a lot but this season im getting an instructor to teach meand i dont know if i should get my own snowboard. ill only be in this state for another 2 seasons before i have to fly someplace else and i guess boards are a problem to travel with because it costs a lot of money?edit: thanks everyone your answers were really helpful                                                                                            1\n",
       "i have the 2020 thirty two crab grab boots. within 3 days this rivet wore through the material and the same thing is happening on the other side. the company said it’s not a manufacturing error so it’s not covered by the warranty. any ideas on why this might be happening/ advice?                                                                                                                                                                                                                                                                                                                                                                                                                                                                                                                                                                                                                                                                                                                                                                                                                                                                                                                                                                                                                                                                              1\n",
       "free snowboard - manchester,uk                                                                                                                                                                                                                                                                                                                                                                                                                                                                                                                                                                                                                                                                                                                                                                                                                                                                                                                                                                                                                                                                                                                                                                                                                                                                                                                                        1\n",
       "moving from learning into having a blast.                                                                                                                                                                                                                                                                                                                                                                                                                                                                                                                                                                                                                                                                                                                                                                                                                                                                                                                                                                                                                                                                                                                                                                                                                                                                                                                             1\n",
       "officially terrified of the lift i have been snowboarding probably 10 times in the last 15 years of my life. i have been on a chairlift at least 5 times. yesterday i brought my wife snowboarding. it was her first time. i couldn't stress enough that learning to skate and be able to turn/ stop with one foot strapped was key. after a few runs she insisted we get on the chair lift. welp not entirely sure what happened but as the chair approached somehow she made it on and i wound up flat on my back and under the chair. i was mortified, as there was 30 people behind us. i refused to get on the chair the rest of the day. help! i now have extreme anxiety regarding chair lifts. i am finally starting to make full runs without falling. i don't want this to hinder my progress.                                                                                                                                                                                                                                                                                                                                                                                                                                                                                                                                                              1\n",
       "first board ever:) setup and sizing looks good?                                                                                                                                                                                                                                                                                                                                                                                                                                                                                                                                                                                                                                                                                                                                                                                                                                                                                                                                                                                                                                                                                                                                                                                                                                                                                                                       1\n",
       "why even when i get injured and hurt i want to go back to the slopes? this season is my first season snowboarding and i feel a strong addiction to it. i'm not the best and two injuries that i'm still dealing with proof it. i just can't hold myself to wait to be 100% recovered because i know the end of the season is coming and i just want to go again and again and again even when that means be in pain for two or three days. why is this so addictive? i don't feel better than a drug addicted to a substance that know is gonna kill him.                                                                                                                                                                                                                                                                                                                                                                                                                                                                                                                                                                                                                                                                                                                                                                                                             1\n",
       "any tips for bending my knees more? i'm doing skidded turns on blues and consciously trying to bend my knees more. i'm feeling way better going over bumps on both edges, but on video, i still look fairly upright. occasionally, i get heel side chatter (maybe once a day) . does anyone have any tips for bending more? i already try to sit in a chair on heel side, and i thrust my hips out and lean forward on toe side. i can feel the edge dig in on toe side, but i never get the same feeling on heel side.                                                                                                                                                                                                                                                                                                                                                                                                                                                                                                                                                                                                                                                                                                                                                                                                                                               1\n",
       "my 2 babies - burton flight attendant 2018 and burton 3d kilroy 2021                                                                                                                                                                                                                                                                                                                                                                                                                                                                                                                                                                                                                                                                                                                                                                                                                                                                                                                                                                                                                                                                                                                                                                                                                                                                                                  1\n",
       "buying my first board and i figured to buy a used one. is this a good deal?                                                                                                                                                                                                                                                                                                                                                                                                                                                                                                                                                                                                                                                                                                                                                                                                                                                                                                                                                                                                                                                                                                                                                                                                                                                                                           1\n",
       "warmup routine the backbone of my warmup routine looks the following way:**before the season**i'm hitting the gym: many kettlebells squats with rotation on the medicine half ball. cardio.**day before**equipment check and tuning. that includes putting boots and board to fine-tune stance and balance. some balancing practice on the carpet or large pvc halfpipe. i'm doing 10 min meditation, thinking through each movement i'm working on this season.**riding day**early in the morning, stretching and foam rolling.no heavy food day before and energy bars right before and during.water backpack for constant hydration.knee compression sleeves to keep joints warm and support. **on the hill**- start with balance and basics, slides to learn snow conditions- couple kick stops on both edges to build confidence - ollies and nollies- slow, balanced rotations in each direction to twist and feel my board- rotations with offset center “buttering.”- quick dynamic edging with upper and lower part separation- switches (180) from each quadrant in each direction total 16 different types- carving with knees inside and outside to bend the board - jumps from edge to edge during carvingafter that, i'm ready for more advanced riding**end of the day**rolling stretching and saunaplease share your thoughts and recommendations.    1\n",
       "Name: text, dtype: int64"
      ]
     },
     "execution_count": 25,
     "metadata": {},
     "output_type": "execute_result"
    }
   ],
   "source": [
    "# Get Rid of Line Breaks\n",
    "snow['text'] = snow['text'].str.replace('\\n', '')\n",
    "snow.text.value_counts()[:15]"
   ]
  },
  {
   "cell_type": "code",
   "execution_count": 26,
   "id": "b6ab5182-f8d4-44ab-b351-3cce0d3ac9e8",
   "metadata": {},
   "outputs": [],
   "source": [
    "# Remove any other html code --> Do Not End Up Using\n",
    "# source: https://stackoverflow.com/questions/11331982/how-to-remove-any-url-within-a-string-in-python/40823105#40823105\n",
    "        # https://stackoverflow.com/questions/9662346/python-code-to-remove-html-tags-from-a-string\n",
    "rmv_html = r'''(?i)\\b((?:https?://|www\\d{0,3}[.]|[a-z0-9.\\-]+[.][a-z]{2,4}/)(?:[^\\s()<>]+|\\(([^\\s()<>]+|(\\([^\\s()<>]+\\)))*\\))+(?:\\(([^\\s()<>]+|(\\([^\\s()<>]+\\)))*\\)|[^\\s`!()\\[\\]{};:'\".,<>?«»“”‘’]))'''"
   ]
  },
  {
   "cell_type": "code",
   "execution_count": 27,
   "id": "752e1aad-da40-49cc-ab05-ef7568692526",
   "metadata": {},
   "outputs": [],
   "source": [
    "# Function for Lemmatizing\n",
    "def lemmatize_txt(text):\n",
    "       \n",
    "    # Remove Punctuation --> Unnecessary, RegexpTokenizer Handles This\n",
    "    # adapted from: https://www.machinelearningplus.com/nlp/lemmatization-examples-python/\n",
    "    #no_punc = [s for s in split_txt if s not in string.punctuation]\n",
    "    #txt_f = ' '.join(no_punc)\n",
    "        \n",
    "    # Remove HTML Pieces --> source: https://stackoverflow.com/questions/11331982/how-to-remove-any-url-within-a-string-in-python/40823105#40823105; https://stackoverflow.com/questions/9662346/python-code-to-remove-html-tags-from-a-string\n",
    "    # Did Not Need\n",
    "    #text = re.sub(rmv_html, '', text)\n",
    "        \n",
    "    # Tokenize Into Words\n",
    "    #split_txt = text.split()\n",
    "    tokenizer = RegexpTokenizer('\\w+')\n",
    "    split_txt = tokenizer.tokenize(text)\n",
    "\n",
    "    # Instantiate lemmatizer\n",
    "    lemmatizer = WordNetLemmatizer()\n",
    "        \n",
    "    # Lemmatize and Rejoin\n",
    "    return ' '.join([lemmatizer.lemmatize(word) for word in split_txt])"
   ]
  },
  {
   "cell_type": "code",
   "execution_count": 28,
   "id": "e34cc465-6c55-4391-bdc6-e5ff4da0b6e7",
   "metadata": {},
   "outputs": [
    {
     "name": "stdout",
     "output_type": "stream",
     "text": [
      "CPU times: total: 625 ms\n",
      "Wall time: 1.77 s\n"
     ]
    },
    {
     "data": {
      "text/plain": [
       "too much toe overhang                                                                                                                                                                                                                                                                                                                                                                                                                                                                                                                                                                                                                                                                                                                                                                                                                                                                                                                                                                                                                                                                                                                                                                                                                    2\n",
       "should i go for smaller binding                                                                                                                                                                                                                                                                                                                                                                                                                                                                                                                                                                                                                                                                                                                                                                                                                                                                                                                                                                                                                                                                                                                                                                                                          2\n",
       "how s my overhang                                                                                                                                                                                                                                                                                                                                                                                                                                                                                                                                                                                                                                                                                                                                                                                                                                                                                                                                                                                                                                                                                                                                                                                                                        2\n",
       "got my first board                                                                                                                                                                                                                                                                                                                                                                                                                                                                                                                                                                                                                                                                                                                                                                                                                                                                                                                                                                                                                                                                                                                                                                                                                       2\n",
       "my buddy s new display                                                                                                                                                                                                                                                                                                                                                                                                                                                                                                                                                                                                                                                                                                                                                                                                                                                                                                                                                                                                                                                                                                                                                                                                                   1\n",
       "moving from learning into having a blast                                                                                                                                                                                                                                                                                                                                                                                                                                                                                                                                                                                                                                                                                                                                                                                                                                                                                                                                                                                                                                                                                                                                                                                                 1\n",
       "i landed my first 180 today                                                                                                                                                                                                                                                                                                                                                                                                                                                                                                                                                                                                                                                                                                                                                                                                                                                                                                                                                                                                                                                                                                                                                                                                              1\n",
       "doe anybody have any idea how to adjust the toe ramp on these k2 indy binding                                                                                                                                                                                                                                                                                                                                                                                                                                                                                                                                                                                                                                                                                                                                                                                                                                                                                                                                                                                                                                                                                                                                                            1\n",
       "2016 trick pony w ridge wedgie binding good deal or na                                                                                                                                                                                                                                                                                                                                                                                                                                                                                                                                                                                                                                                                                                                                                                                                                                                                                                                                                                                                                                                                                                                                                                                   1\n",
       "am i going overboard i tried snowboarding for the first time last season and i loved it i wa ment to be skiing but my snowboarding friend convinced me to try it they showed me the basic but they aren t very experienced either i wa glad they gave up their time to teach me though i fell over a lot and it hurt my as and my knee and my hip and i hit my head a few time hard i wore a helment and a big jacket but i told myself next year ill get knee pad and a wrist gard and wa thinking of a butt pad too im still not very good at snowboarding so i dont want to look stupid with all the gear but i really hurt my as last year and i cant imagine not doing somethign to stop that this time so im thinking thermal knee pad wrist gard butt pad fleece top layer and a shell helmet no hat and goggles thermal glove and thick glove buff doe this sound fine i think im gonna fall a lot but this season im getting an instructor to teach meand i dont know if i should get my own snowboard ill only be in this state for another 2 season before i have to fly someplace else and i guess board are a problem to travel with because it cost a lot of money edit thanks everyone your answer were really helpful    1\n",
       "Name: lem_text, dtype: int64"
      ]
     },
     "execution_count": 28,
     "metadata": {},
     "output_type": "execute_result"
    }
   ],
   "source": [
    "%%time\n",
    "\n",
    "# Apply Lemmitazation - Create New Column w/ Lemmatized Results for EDA\n",
    "snow['lem_text'] = snow['text'].apply(lemmatize_txt)\n",
    "snow.lem_text.value_counts()[:10]"
   ]
  },
  {
   "cell_type": "code",
   "execution_count": 29,
   "id": "3fe2830a-66fb-4c92-9762-c2cc7856f3e2",
   "metadata": {},
   "outputs": [],
   "source": [
    "# Function for Stemming\n",
    "def stem_txt(text):\n",
    "    \n",
    "    # Remove HTML Pieces --> source: https://stackoverflow.com/questions/11331982/how-to-remove-any-url-within-a-string-in-python/40823105#40823105; https://stackoverflow.com/questions/9662346/python-code-to-remove-html-tags-from-a-string\n",
    "    # Did Not Need\n",
    "    #text = re.sub(rmv_html, '', text)\n",
    "\n",
    "    # Tokenize Into Words\n",
    "    #split_txt = text.split(' ')\n",
    "    tokenizer = RegexpTokenizer('\\w+')\n",
    "    split_txt = tokenizer.tokenize(text)\n",
    "\n",
    "    # Instantiate Stemmer\n",
    "    p_stemmer = PorterStemmer()\n",
    "\n",
    "    # Stem and Rejoin\n",
    "    return ' '.join([p_stemmer.stem(word) for word in split_txt])"
   ]
  },
  {
   "cell_type": "code",
   "execution_count": 30,
   "id": "5581e3f0-9edc-4c5a-b858-c79f383711df",
   "metadata": {},
   "outputs": [
    {
     "name": "stdout",
     "output_type": "stream",
     "text": [
      "CPU times: total: 719 ms\n",
      "Wall time: 1.88 s\n"
     ]
    },
    {
     "data": {
      "text/plain": [
       "too much toe overhang                                                                                                                                                                                                                                                                                                                                                                                                                                                                                                                                                                                                                                                                                                                                                                                                                                                                                                                                                                                                                                                                                                                                                              2\n",
       "should i go for smaller bind                                                                                                                                                                                                                                                                                                                                                                                                                                                                                                                                                                                                                                                                                                                                                                                                                                                                                                                                                                                                                                                                                                                                                       2\n",
       "how s my overhang                                                                                                                                                                                                                                                                                                                                                                                                                                                                                                                                                                                                                                                                                                                                                                                                                                                                                                                                                                                                                                                                                                                                                                  2\n",
       "got my first board                                                                                                                                                                                                                                                                                                                                                                                                                                                                                                                                                                                                                                                                                                                                                                                                                                                                                                                                                                                                                                                                                                                                                                 2\n",
       "my buddi s new display                                                                                                                                                                                                                                                                                                                                                                                                                                                                                                                                                                                                                                                                                                                                                                                                                                                                                                                                                                                                                                                                                                                                                             1\n",
       "move from learn into have a blast                                                                                                                                                                                                                                                                                                                                                                                                                                                                                                                                                                                                                                                                                                                                                                                                                                                                                                                                                                                                                                                                                                                                                  1\n",
       "i land my first 180 today                                                                                                                                                                                                                                                                                                                                                                                                                                                                                                                                                                                                                                                                                                                                                                                                                                                                                                                                                                                                                                                                                                                                                          1\n",
       "doe anybodi have ani idea how to adjust the toe ramp on these k2 indi bind                                                                                                                                                                                                                                                                                                                                                                                                                                                                                                                                                                                                                                                                                                                                                                                                                                                                                                                                                                                                                                                                                                         1\n",
       "2016 trick poni w ridg wedgi bind good deal or na                                                                                                                                                                                                                                                                                                                                                                                                                                                                                                                                                                                                                                                                                                                                                                                                                                                                                                                                                                                                                                                                                                                                  1\n",
       "am i go overboard i tri snowboard for the first time last season and i love it i wa ment to be ski but my snowboard friend convinc me to tri it they show me the basic but they aren t veri experienc either i wa glad they gave up their time to teach me though i fell over a lot and it hurt my ass and my knee and my hip and i hit my head a few time hard i wore a helment and a big jacket but i told myself next year ill get knee pad and a wrist gard and wa think of a butt pad too im still not veri good at snowboard so i dont want to look stupid with all the gear but i realli hurt my ass last year and i cant imagin not do somethign to stop that thi time so im think thermal knee pad wrist gard butt pad fleec top layer and a shell helmet no hat and goggl thermal glove and thick glove buff doe thi sound fine i think im gonna fall a lot but thi season im get an instructor to teach meand i dont know if i should get my own snowboard ill onli be in thi state for anoth 2 season befor i have to fli someplac els and i guess board are a problem to travel with becaus it cost a lot of money edit thank everyon your answer were realli help    1\n",
       "Name: stem_text, dtype: int64"
      ]
     },
     "execution_count": 30,
     "metadata": {},
     "output_type": "execute_result"
    }
   ],
   "source": [
    "%%time\n",
    "\n",
    "# Apply Stemming - Create New Column w/ Stemmed Results for EDA\n",
    "snow['stem_text'] = snow['text'].apply(stem_txt)\n",
    "snow.stem_text.value_counts()[:10]"
   ]
  },
  {
   "cell_type": "code",
   "execution_count": 31,
   "id": "95e98436-6c5f-4cb3-bd60-47ee419d0cd1",
   "metadata": {},
   "outputs": [
    {
     "data": {
      "text/html": [
       "<div>\n",
       "<style scoped>\n",
       "    .dataframe tbody tr th:only-of-type {\n",
       "        vertical-align: middle;\n",
       "    }\n",
       "\n",
       "    .dataframe tbody tr th {\n",
       "        vertical-align: top;\n",
       "    }\n",
       "\n",
       "    .dataframe thead th {\n",
       "        text-align: right;\n",
       "    }\n",
       "</style>\n",
       "<table border=\"1\" class=\"dataframe\">\n",
       "  <thead>\n",
       "    <tr style=\"text-align: right;\">\n",
       "      <th></th>\n",
       "      <th>created_utc</th>\n",
       "      <th>author</th>\n",
       "      <th>title</th>\n",
       "      <th>selftext</th>\n",
       "      <th>score</th>\n",
       "      <th>upvote_ratio</th>\n",
       "      <th>num_comments</th>\n",
       "      <th>subreddit</th>\n",
       "      <th>text</th>\n",
       "      <th>lem_text</th>\n",
       "      <th>stem_text</th>\n",
       "    </tr>\n",
       "  </thead>\n",
       "  <tbody>\n",
       "    <tr>\n",
       "      <th>0</th>\n",
       "      <td>1.686703e+09</td>\n",
       "      <td>dea_ton</td>\n",
       "      <td>My buddy’s new display</td>\n",
       "      <td></td>\n",
       "      <td>0</td>\n",
       "      <td>0.50</td>\n",
       "      <td>1</td>\n",
       "      <td>snowboardingnoobs</td>\n",
       "      <td>my buddy’s new display</td>\n",
       "      <td>my buddy s new display</td>\n",
       "      <td>my buddi s new display</td>\n",
       "    </tr>\n",
       "    <tr>\n",
       "      <th>1</th>\n",
       "      <td>1.686690e+09</td>\n",
       "      <td>Kerlebsky</td>\n",
       "      <td>What do I do about a chip like this?</td>\n",
       "      <td></td>\n",
       "      <td>3</td>\n",
       "      <td>0.80</td>\n",
       "      <td>13</td>\n",
       "      <td>snowboardingnoobs</td>\n",
       "      <td>what do i do about a chip like this?</td>\n",
       "      <td>what do i do about a chip like this</td>\n",
       "      <td>what do i do about a chip like thi</td>\n",
       "    </tr>\n",
       "    <tr>\n",
       "      <th>2</th>\n",
       "      <td>1.686681e+09</td>\n",
       "      <td>adknkd</td>\n",
       "      <td>Rome Katana v Bataleon Astro Asym?</td>\n",
       "      <td>A post on SnowboardingForum said these were co...</td>\n",
       "      <td>3</td>\n",
       "      <td>1.00</td>\n",
       "      <td>2</td>\n",
       "      <td>snowboardingnoobs</td>\n",
       "      <td>rome katana v bataleon astro asym? a post on s...</td>\n",
       "      <td>rome katana v bataleon astro asym a post on sn...</td>\n",
       "      <td>rome katana v bataleon astro asym a post on sn...</td>\n",
       "    </tr>\n",
       "    <tr>\n",
       "      <th>3</th>\n",
       "      <td>1.686675e+09</td>\n",
       "      <td>Alarmed_Cranberry313</td>\n",
       "      <td>How to stop boots from smelling (No dry rack)</td>\n",
       "      <td>Im about to go to my seasonal job at a snow re...</td>\n",
       "      <td>5</td>\n",
       "      <td>1.00</td>\n",
       "      <td>15</td>\n",
       "      <td>snowboardingnoobs</td>\n",
       "      <td>how to stop boots from smelling (no dry rack) ...</td>\n",
       "      <td>how to stop boot from smelling no dry rack im ...</td>\n",
       "      <td>how to stop boot from smell no dri rack im abo...</td>\n",
       "    </tr>\n",
       "    <tr>\n",
       "      <th>4</th>\n",
       "      <td>1.686640e+09</td>\n",
       "      <td>th04r_</td>\n",
       "      <td>Lamar Whisper?</td>\n",
       "      <td>Hi all! I recently picked up a used Lamar Whis...</td>\n",
       "      <td>3</td>\n",
       "      <td>0.81</td>\n",
       "      <td>5</td>\n",
       "      <td>snowboardingnoobs</td>\n",
       "      <td>lamar whisper? hi all! i recently picked up a ...</td>\n",
       "      <td>lamar whisper hi all i recently picked up a us...</td>\n",
       "      <td>lamar whisper hi all i recent pick up a use la...</td>\n",
       "    </tr>\n",
       "  </tbody>\n",
       "</table>\n",
       "</div>"
      ],
      "text/plain": [
       "    created_utc                author  \\\n",
       "0  1.686703e+09               dea_ton   \n",
       "1  1.686690e+09             Kerlebsky   \n",
       "2  1.686681e+09                adknkd   \n",
       "3  1.686675e+09  Alarmed_Cranberry313   \n",
       "4  1.686640e+09                th04r_   \n",
       "\n",
       "                                           title  \\\n",
       "0                         My buddy’s new display   \n",
       "1           What do I do about a chip like this?   \n",
       "2             Rome Katana v Bataleon Astro Asym?   \n",
       "3  How to stop boots from smelling (No dry rack)   \n",
       "4                                 Lamar Whisper?   \n",
       "\n",
       "                                            selftext  score  upvote_ratio  \\\n",
       "0                                                         0          0.50   \n",
       "1                                                         3          0.80   \n",
       "2  A post on SnowboardingForum said these were co...      3          1.00   \n",
       "3  Im about to go to my seasonal job at a snow re...      5          1.00   \n",
       "4  Hi all! I recently picked up a used Lamar Whis...      3          0.81   \n",
       "\n",
       "   num_comments          subreddit  \\\n",
       "0             1  snowboardingnoobs   \n",
       "1            13  snowboardingnoobs   \n",
       "2             2  snowboardingnoobs   \n",
       "3            15  snowboardingnoobs   \n",
       "4             5  snowboardingnoobs   \n",
       "\n",
       "                                                text  \\\n",
       "0                            my buddy’s new display    \n",
       "1              what do i do about a chip like this?    \n",
       "2  rome katana v bataleon astro asym? a post on s...   \n",
       "3  how to stop boots from smelling (no dry rack) ...   \n",
       "4  lamar whisper? hi all! i recently picked up a ...   \n",
       "\n",
       "                                            lem_text  \\\n",
       "0                             my buddy s new display   \n",
       "1                what do i do about a chip like this   \n",
       "2  rome katana v bataleon astro asym a post on sn...   \n",
       "3  how to stop boot from smelling no dry rack im ...   \n",
       "4  lamar whisper hi all i recently picked up a us...   \n",
       "\n",
       "                                           stem_text  \n",
       "0                             my buddi s new display  \n",
       "1                 what do i do about a chip like thi  \n",
       "2  rome katana v bataleon astro asym a post on sn...  \n",
       "3  how to stop boot from smell no dri rack im abo...  \n",
       "4  lamar whisper hi all i recent pick up a use la...  "
      ]
     },
     "execution_count": 31,
     "metadata": {},
     "output_type": "execute_result"
    }
   ],
   "source": [
    "snow.head()"
   ]
  },
  {
   "cell_type": "markdown",
   "id": "6b192afe-268a-402d-85bc-3ea60d362672",
   "metadata": {},
   "source": [
    "### Exploring/Cleaning Skiing DataFrame"
   ]
  },
  {
   "cell_type": "code",
   "execution_count": 32,
   "id": "eadf97e3-d672-4763-90eb-7a34dbef6184",
   "metadata": {},
   "outputs": [],
   "source": [
    "# Concatenate Title and Selftext\n",
    "ski['text'] = ski['title'].str.lower().str.strip() + \" \" + ski['selftext'].str.lower().str.strip()"
   ]
  },
  {
   "cell_type": "code",
   "execution_count": 33,
   "id": "ae0e0ab4-4c12-417b-ae08-150d33cce828",
   "metadata": {},
   "outputs": [
    {
     "data": {
      "text/plain": [
       "0"
      ]
     },
     "execution_count": 33,
     "metadata": {},
     "output_type": "execute_result"
    }
   ],
   "source": [
    "# Check for Missing Texts\n",
    "ski.text.isnull().sum()"
   ]
  },
  {
   "cell_type": "code",
   "execution_count": 34,
   "id": "269afdf3-9635-4808-b509-77419904e93d",
   "metadata": {},
   "outputs": [
    {
     "name": "stdout",
     "output_type": "stream",
     "text": [
      "<class 'pandas.core.frame.DataFrame'>\n",
      "Int64Index: 2887 entries, 0 to 3643\n",
      "Data columns (total 9 columns):\n",
      " #   Column        Non-Null Count  Dtype  \n",
      "---  ------        --------------  -----  \n",
      " 0   created_utc   2887 non-null   float64\n",
      " 1   author        2784 non-null   object \n",
      " 2   title         2887 non-null   object \n",
      " 3   selftext      2887 non-null   object \n",
      " 4   score         2887 non-null   int64  \n",
      " 5   upvote_ratio  2887 non-null   float64\n",
      " 6   num_comments  2887 non-null   int64  \n",
      " 7   subreddit     2887 non-null   object \n",
      " 8   text          2887 non-null   object \n",
      "dtypes: float64(2), int64(2), object(5)\n",
      "memory usage: 225.5+ KB\n"
     ]
    }
   ],
   "source": [
    "# Check for Other Missing Variables\n",
    "ski.info()"
   ]
  },
  {
   "cell_type": "code",
   "execution_count": 35,
   "id": "c1e917f1-4754-4d37-8a12-346ae734ee61",
   "metadata": {},
   "outputs": [
    {
     "data": {
      "text/plain": [
       "learned to 360 at 53 this was the first day i felt i could throw a 3 consistently after several months of tiny progressions and getting a few 3’s along the way.    this was the first batch of 3s where i had air awareness and was actually seeing the horizon and the landing.    \\n\\ni kinda was forced to do them over and over again this day as each time i recruited a random stranger to get my first video they botched it 😂 and i had to go do it again. thanks brian from co for getting this.. the only one i have ever had recorded.  also thanks mammoth lifty who out of the blue told me he had been watching me over a couple days and i was going to get “it.”  dude you seemed genuinely invested and interested and it was appreciated. it’s not easy trying to learn this stuff in your 50s and it’s a bit lonely at times. \\n\\ni see a lot of older skiers (i sometimes have to laugh when they are 32 acting like they have accomplished all they can😂) commenting under 360 posts on here about how they “day dream” of this but it’s probably to late.  that was me and i had all but given up but i just couldn’t get it out of my craw.  now i can tell you it’s very very possible.  \\n\\nthe problem is adults need coached through it in it’s small parts and it needs to be broken down into small achievable pieces that don’t come naturally until they are repeated like 100x each.    \\n\\ni went to a stomp it camp and it was the game changer. i was just doing too many things wrong on my own.    these stomp it coaches love teaching adults. i couldn’t find much in the us where anyone took me seriously or really got stoked. kinda mind boggling to me as i’m guessing between 30-60 year old skiers there are thousands who would pay for basic coaching. \\n\\nsome examples of why i was failing on my own: i wasn’t popping up and forward even though i thought i was. mainly because i was starting my pop from too much in a seated position.    i don’t even think i’m good at the pop now but just barely good enough. \\n\\ni somehow didn’t realise that all the rotation happens once you are in the air. i’d try to start spinning a 180 on the snow as i popped. there was no way i was going to correct these things without coaching let alone learn the other 7-12 small skills or micro movements that make up popping, 180s and eventually 360s.    \\n\\ninterestingly i got the first 2 360s i tried. largely because i had practiced 100s of the pre skills and was getting good at all the skills leading up to it. i got these two the last hour of camp. so i went back home to the us and i wasn’t consistent at it. it was mostly that i kinda reverted to being scared to go for them.  i was again a little demoralized. i thought i was done till next year until the vids and pics out of mammoth got me on a plane for 4 final days.  the first two days were so so. plenty of good 180s but still hesitant on actually committing to 3s. then day 3 all that progression and practice just came together and it started to feel kinda easy.\\n\\nhappy to answer any questions or try to meet up with any others who feel they missed the boat on freestyle and are a little bitter about it 😉😂.    2\n",
       "curated referral code c-oliver-591                                                                                                                                                                                                                                                                                                                                                                                                                                                                                                                                                                                                                                                                                                                                                                                                                                                                                                                                                                                                                                                                                                                                                                                                                                                                                                                                                                                                                                                                                                                                                                                                                                                                                                                                                                                                                                                                                                                                                                                                                                                                                                                                                                                                                                                                                                                                                                                                                                                                                                                                                                                                                                                                                                                                                                                                                                                                                                                                                                                                                                                                                                                                                                                                                                        1\n",
       "it needs to be winter.                                                                                                                                                                                                                                                                                                                                                                                                                                                                                                                                                                                                                                                                                                                                                                                                                                                                                                                                                                                                                                                                                                                                                                                                                                                                                                                                                                                                                                                                                                                                                                                                                                                                                                                                                                                                                                                                                                                                                                                                                                                                                                                                                                                                                                                                                                                                                                                                                                                                                                                                                                                                                                                                                                                                                                                                                                                                                                                                                                                                                                                                                                                                                                                                                                                    1\n",
       "my first backflip attempt (almost took out the chairlift)                                                                                                                                                                                                                                                                                                                                                                                                                                                                                                                                                                                                                                                                                                                                                                                                                                                                                                                                                                                                                                                                                                                                                                                                                                                                                                                                                                                                                                                                                                                                                                                                                                                                                                                                                                                                                                                                                                                                                                                                                                                                                                                                                                                                                                                                                                                                                                                                                                                                                                                                                                                                                                                                                                                                                                                                                                                                                                                                                                                                                                                                                                                                                                                                                 1\n",
       "reminder to not cut people in long lift lines :)                                                                                                                                                                                                                                                                                                                                                                                                                                                                                                                                                                                                                                                                                                                                                                                                                                                                                                                                                                                                                                                                                                                                                                                                                                                                                                                                                                                                                                                                                                                                                                                                                                                                                                                                                                                                                                                                                                                                                                                                                                                                                                                                                                                                                                                                                                                                                                                                                                                                                                                                                                                                                                                                                                                                                                                                                                                                                                                                                                                                                                                                                                                                                                                                                          1\n",
       "upvote if...                                                                                                                                                                                                                                                                                                                                                                                                                                                                                                                                                                                                                                                                                                                                                                                                                                                                                                                                                                                                                                                                                                                                                                                                                                                                                                                                                                                                                                                                                                                                                                                                                                                                                                                                                                                                                                                                                                                                                                                                                                                                                                                                                                                                                                                                                                                                                                                                                                                                                                                                                                                                                                                                                                                                                                                                                                                                                                                                                                                                                                                                                                                                                                                                                                                              1\n",
       "salt lake city right now                                                                                                                                                                                                                                                                                                                                                                                                                                                                                                                                                                                                                                                                                                                                                                                                                                                                                                                                                                                                                                                                                                                                                                                                                                                                                                                                                                                                                                                                                                                                                                                                                                                                                                                                                                                                                                                                                                                                                                                                                                                                                                                                                                                                                                                                                                                                                                                                                                                                                                                                                                                                                                                                                                                                                                                                                                                                                                                                                                                                                                                                                                                                                                                                                                                  1\n",
       "what’s your all time top recorded speed?                                                                                                                                                                                                                                                                                                                                                                                                                                                                                                                                                                                                                                                                                                                                                                                                                                                                                                                                                                                                                                                                                                                                                                                                                                                                                                                                                                                                                                                                                                                                                                                                                                                                                                                                                                                                                                                                                                                                                                                                                                                                                                                                                                                                                                                                                                                                                                                                                                                                                                                                                                                                                                                                                                                                                                                                                                                                                                                                                                                                                                                                                                                                                                                                                                  1\n",
       "any skiers watch college football?                                                                                                                                                                                                                                                                                                                                                                                                                                                                                                                                                                                                                                                                                                                                                                                                                                                                                                                                                                                                                                                                                                                                                                                                                                                                                                                                                                                                                                                                                                                                                                                                                                                                                                                                                                                                                                                                                                                                                                                                                                                                                                                                                                                                                                                                                                                                                                                                                                                                                                                                                                                                                                                                                                                                                                                                                                                                                                                                                                                                                                                                                                                                                                                                                                        1\n",
       "no one cares about your lift line pics.                                                                                                                                                                                                                                                                                                                                                                                                                                                                                                                                                                                                                                                                                                                                                                                                                                                                                                                                                                                                                                                                                                                                                                                                                                                                                                                                                                                                                                                                                                                                                                                                                                                                                                                                                                                                                                                                                                                                                                                                                                                                                                                                                                                                                                                                                                                                                                                                                                                                                                                                                                                                                                                                                                                                                                                                                                                                                                                                                                                                                                                                                                                                                                                                                                   1\n",
       "what makes midwest skiing better than out west?                                                                                                                                                                                                                                                                                                                                                                                                                                                                                                                                                                                                                                                                                                                                                                                                                                                                                                                                                                                                                                                                                                                                                                                                                                                                                                                                                                                                                                                                                                                                                                                                                                                                                                                                                                                                                                                                                                                                                                                                                                                                                                                                                                                                                                                                                                                                                                                                                                                                                                                                                                                                                                                                                                                                                                                                                                                                                                                                                                                                                                                                                                                                                                                                                           1\n",
       "why are skiers so passive aggressive?? disclaimer: am skier\\n\\ntoday i was on a 6 person lift (all singles so no one knew each other) and one guy was playing music out loud. i didn't mind, the other 4 people clearly minded though because they kept making all these passive aggressive comments.\\n\\none example was when the music would fade in between two songs, one guy would quietly say \"this is my favorite part\". or the ski patrol guy who was on the end of the lift who kept saying \"this sucks\" but looking completely away while saying it. just the lamest passive aggression i've ever seen. no one said \"hey man could you turn that off?\" or anything of the sort.\\n\\nfinally after 3 songs the ski patrol guy looked at him and said \"yeah this music fuckin sucks\" and the guy didn't really know what to say, turns out he was european and kinda speaking broken english so i explained some people don't like the music, he got kinda sad and then the ride ended. \\n\\nwhy all the lame passive aggressive comments?? what is up with that? don't be a bully ok rant over\\n\\nedit: after reading all the comments and basically only agreeing with the most downvoted ones, all i can say is:\\n\\nlearn how to talk to people\\n\\nok fine edit pt 2: i maintain my stance but i was pretty angsty when i wrote this, i get that confrontation is uncomfortable for some people. i think skiers though (gender-neutral skiers aka skiers and boarders) are pretty friendly people and in any case the absolute worst that could happen is that they tell you no, or to fuck off or something which would be unfortunate but also unlikely and not physically harmful. no one is really angrily blasting music on the slopes, theyre just trying to have a good time like you and maybe lack some of the self awareness that you might possess which would compel you to not force your music choices onto others. try having a conversation w them rather than being kinda like a bully like these others on my lift were. (once this guy realized all the comments were directed at him, how do you think it made him feel?) maybe no one has ever tried talking to them about it and you can teach them about this common courtesy rule.                                                                                                                                                                                                                                                                                                                                                                                                                                                                                                                                                                                                                                                                                                                                                                                                                                                                                                                                                                                                        1\n",
       "sick ski edit filmed at palisades tahoe this past week :)                                                                                                                                                                                                                                                                                                                                                                                                                                                                                                                                                                                                                                                                                                                                                                                                                                                                                                                                                                                                                                                                                                                                                                                                                                                                                                                                                                                                                                                                                                                                                                                                                                                                                                                                                                                                                                                                                                                                                                                                                                                                                                                                                                                                                                                                                                                                                                                                                                                                                                                                                                                                                                                                                                                                                                                                                                                                                                                                                                                                                                                                                                                                                                                                                 1\n",
       "skied my first black ever today!!                                                                                                                                                                                                                                                                                                                                                                                                                                                                                                                                                                                                                                                                                                                                                                                                                                                                                                                                                                                                                                                                                                                                                                                                                                                                                                                                                                                                                                                                                                                                                                                                                                                                                                                                                                                                                                                                                                                                                                                                                                                                                                                                                                                                                                                                                                                                                                                                                                                                                                                                                                                                                                                                                                                                                                                                                                                                                                                                                                                                                                                                                                                                                                                                                                         1\n",
       "does it piss anyone else off when people who aren’t singles use the singles lane? or am i just an ass                                                                                                                                                                                                                                                                                                                                                                                                                                                                                                                                                                                                                                                                                                                                                                                                                                                                                                                                                                                                                                                                                                                                                                                                                                                                                                                                                                                                                                                                                                                                                                                                                                                                                                                                                                                                                                                                                                                                                                                                                                                                                                                                                                                                                                                                                                                                                                                                                                                                                                                                                                                                                                                                                                                                                                                                                                                                                                                                                                                                                                                                                                                                                                     1\n",
       "Name: text, dtype: int64"
      ]
     },
     "execution_count": 35,
     "metadata": {},
     "output_type": "execute_result"
    }
   ],
   "source": [
    "ski['text'].value_counts()[:15]"
   ]
  },
  {
   "cell_type": "code",
   "execution_count": 36,
   "id": "1e638c77-dee5-456b-9147-c30b8d7d51bb",
   "metadata": {},
   "outputs": [
    {
     "data": {
      "text/html": [
       "<div>\n",
       "<style scoped>\n",
       "    .dataframe tbody tr th:only-of-type {\n",
       "        vertical-align: middle;\n",
       "    }\n",
       "\n",
       "    .dataframe tbody tr th {\n",
       "        vertical-align: top;\n",
       "    }\n",
       "\n",
       "    .dataframe thead th {\n",
       "        text-align: right;\n",
       "    }\n",
       "</style>\n",
       "<table border=\"1\" class=\"dataframe\">\n",
       "  <thead>\n",
       "    <tr style=\"text-align: right;\">\n",
       "      <th></th>\n",
       "      <th>created_utc</th>\n",
       "      <th>author</th>\n",
       "      <th>title</th>\n",
       "      <th>selftext</th>\n",
       "      <th>score</th>\n",
       "      <th>upvote_ratio</th>\n",
       "      <th>num_comments</th>\n",
       "      <th>subreddit</th>\n",
       "      <th>text</th>\n",
       "    </tr>\n",
       "  </thead>\n",
       "  <tbody>\n",
       "  </tbody>\n",
       "</table>\n",
       "</div>"
      ],
      "text/plain": [
       "Empty DataFrame\n",
       "Columns: [created_utc, author, title, selftext, score, upvote_ratio, num_comments, subreddit, text]\n",
       "Index: []"
      ]
     },
     "execution_count": 36,
     "metadata": {},
     "output_type": "execute_result"
    }
   ],
   "source": [
    "# Confirm no nulls - blank may not be captured as NaN or None\n",
    "ski[ski['text'] == \"\"]"
   ]
  },
  {
   "cell_type": "code",
   "execution_count": 37,
   "id": "2b2b234c-6922-4767-971c-42997fc42754",
   "metadata": {},
   "outputs": [
    {
     "data": {
      "text/html": [
       "<div>\n",
       "<style scoped>\n",
       "    .dataframe tbody tr th:only-of-type {\n",
       "        vertical-align: middle;\n",
       "    }\n",
       "\n",
       "    .dataframe tbody tr th {\n",
       "        vertical-align: top;\n",
       "    }\n",
       "\n",
       "    .dataframe thead th {\n",
       "        text-align: right;\n",
       "    }\n",
       "</style>\n",
       "<table border=\"1\" class=\"dataframe\">\n",
       "  <thead>\n",
       "    <tr style=\"text-align: right;\">\n",
       "      <th></th>\n",
       "      <th>created_utc</th>\n",
       "      <th>author</th>\n",
       "      <th>title</th>\n",
       "      <th>selftext</th>\n",
       "      <th>score</th>\n",
       "      <th>upvote_ratio</th>\n",
       "      <th>num_comments</th>\n",
       "      <th>subreddit</th>\n",
       "      <th>text</th>\n",
       "    </tr>\n",
       "  </thead>\n",
       "  <tbody>\n",
       "  </tbody>\n",
       "</table>\n",
       "</div>"
      ],
      "text/plain": [
       "Empty DataFrame\n",
       "Columns: [created_utc, author, title, selftext, score, upvote_ratio, num_comments, subreddit, text]\n",
       "Index: []"
      ]
     },
     "execution_count": 37,
     "metadata": {},
     "output_type": "execute_result"
    }
   ],
   "source": [
    "# Confirm no nulls - blank may not be captured as NaN or None\n",
    "ski[ski['text'] == \" \"]"
   ]
  },
  {
   "cell_type": "code",
   "execution_count": 38,
   "id": "be968819-0031-4612-8db3-dabeddd00aad",
   "metadata": {},
   "outputs": [
    {
     "data": {
      "text/plain": [
       "learned to 360 at 53 this was the first day i felt i could throw a 3 consistently after several months of tiny progressions and getting a few 3’s along the way.    this was the first batch of 3s where i had air awareness and was actually seeing the horizon and the landing.    i kinda was forced to do them over and over again this day as each time i recruited a random stranger to get my first video they botched it 😂 and i had to go do it again. thanks brian from co for getting this.. the only one i have ever had recorded.  also thanks mammoth lifty who out of the blue told me he had been watching me over a couple days and i was going to get “it.”  dude you seemed genuinely invested and interested and it was appreciated. it’s not easy trying to learn this stuff in your 50s and it’s a bit lonely at times. i see a lot of older skiers (i sometimes have to laugh when they are 32 acting like they have accomplished all they can😂) commenting under 360 posts on here about how they “day dream” of this but it’s probably to late.  that was me and i had all but given up but i just couldn’t get it out of my craw.  now i can tell you it’s very very possible.  the problem is adults need coached through it in it’s small parts and it needs to be broken down into small achievable pieces that don’t come naturally until they are repeated like 100x each.    i went to a stomp it camp and it was the game changer. i was just doing too many things wrong on my own.    these stomp it coaches love teaching adults. i couldn’t find much in the us where anyone took me seriously or really got stoked. kinda mind boggling to me as i’m guessing between 30-60 year old skiers there are thousands who would pay for basic coaching. some examples of why i was failing on my own: i wasn’t popping up and forward even though i thought i was. mainly because i was starting my pop from too much in a seated position.    i don’t even think i’m good at the pop now but just barely good enough. i somehow didn’t realise that all the rotation happens once you are in the air. i’d try to start spinning a 180 on the snow as i popped. there was no way i was going to correct these things without coaching let alone learn the other 7-12 small skills or micro movements that make up popping, 180s and eventually 360s.    interestingly i got the first 2 360s i tried. largely because i had practiced 100s of the pre skills and was getting good at all the skills leading up to it. i got these two the last hour of camp. so i went back home to the us and i wasn’t consistent at it. it was mostly that i kinda reverted to being scared to go for them.  i was again a little demoralized. i thought i was done till next year until the vids and pics out of mammoth got me on a plane for 4 final days.  the first two days were so so. plenty of good 180s but still hesitant on actually committing to 3s. then day 3 all that progression and practice just came together and it started to feel kinda easy.happy to answer any questions or try to meet up with any others who feel they missed the boat on freestyle and are a little bitter about it 😉😂.    2\n",
       "curated referral code c-oliver-591                                                                                                                                                                                                                                                                                                                                                                                                                                                                                                                                                                                                                                                                                                                                                                                                                                                                                                                                                                                                                                                                                                                                                                                                                                                                                                                                                                                                                                                                                                                                                                                                                                                                                                                                                                                                                                                                                                                                                                                                                                                                                                                                                                                                                                                                                                                                                                                                                                                                                                                                                                                                                                                                                                                                                                                                                                                                                                                                                                                                                                                                                                                                                                                                        1\n",
       "it needs to be winter.                                                                                                                                                                                                                                                                                                                                                                                                                                                                                                                                                                                                                                                                                                                                                                                                                                                                                                                                                                                                                                                                                                                                                                                                                                                                                                                                                                                                                                                                                                                                                                                                                                                                                                                                                                                                                                                                                                                                                                                                                                                                                                                                                                                                                                                                                                                                                                                                                                                                                                                                                                                                                                                                                                                                                                                                                                                                                                                                                                                                                                                                                                                                                                                                                    1\n",
       "my first backflip attempt (almost took out the chairlift)                                                                                                                                                                                                                                                                                                                                                                                                                                                                                                                                                                                                                                                                                                                                                                                                                                                                                                                                                                                                                                                                                                                                                                                                                                                                                                                                                                                                                                                                                                                                                                                                                                                                                                                                                                                                                                                                                                                                                                                                                                                                                                                                                                                                                                                                                                                                                                                                                                                                                                                                                                                                                                                                                                                                                                                                                                                                                                                                                                                                                                                                                                                                                                                 1\n",
       "reminder to not cut people in long lift lines :)                                                                                                                                                                                                                                                                                                                                                                                                                                                                                                                                                                                                                                                                                                                                                                                                                                                                                                                                                                                                                                                                                                                                                                                                                                                                                                                                                                                                                                                                                                                                                                                                                                                                                                                                                                                                                                                                                                                                                                                                                                                                                                                                                                                                                                                                                                                                                                                                                                                                                                                                                                                                                                                                                                                                                                                                                                                                                                                                                                                                                                                                                                                                                                                          1\n",
       "upvote if...                                                                                                                                                                                                                                                                                                                                                                                                                                                                                                                                                                                                                                                                                                                                                                                                                                                                                                                                                                                                                                                                                                                                                                                                                                                                                                                                                                                                                                                                                                                                                                                                                                                                                                                                                                                                                                                                                                                                                                                                                                                                                                                                                                                                                                                                                                                                                                                                                                                                                                                                                                                                                                                                                                                                                                                                                                                                                                                                                                                                                                                                                                                                                                                                                              1\n",
       "salt lake city right now                                                                                                                                                                                                                                                                                                                                                                                                                                                                                                                                                                                                                                                                                                                                                                                                                                                                                                                                                                                                                                                                                                                                                                                                                                                                                                                                                                                                                                                                                                                                                                                                                                                                                                                                                                                                                                                                                                                                                                                                                                                                                                                                                                                                                                                                                                                                                                                                                                                                                                                                                                                                                                                                                                                                                                                                                                                                                                                                                                                                                                                                                                                                                                                                                  1\n",
       "what’s your all time top recorded speed?                                                                                                                                                                                                                                                                                                                                                                                                                                                                                                                                                                                                                                                                                                                                                                                                                                                                                                                                                                                                                                                                                                                                                                                                                                                                                                                                                                                                                                                                                                                                                                                                                                                                                                                                                                                                                                                                                                                                                                                                                                                                                                                                                                                                                                                                                                                                                                                                                                                                                                                                                                                                                                                                                                                                                                                                                                                                                                                                                                                                                                                                                                                                                                                                  1\n",
       "any skiers watch college football?                                                                                                                                                                                                                                                                                                                                                                                                                                                                                                                                                                                                                                                                                                                                                                                                                                                                                                                                                                                                                                                                                                                                                                                                                                                                                                                                                                                                                                                                                                                                                                                                                                                                                                                                                                                                                                                                                                                                                                                                                                                                                                                                                                                                                                                                                                                                                                                                                                                                                                                                                                                                                                                                                                                                                                                                                                                                                                                                                                                                                                                                                                                                                                                                        1\n",
       "no one cares about your lift line pics.                                                                                                                                                                                                                                                                                                                                                                                                                                                                                                                                                                                                                                                                                                                                                                                                                                                                                                                                                                                                                                                                                                                                                                                                                                                                                                                                                                                                                                                                                                                                                                                                                                                                                                                                                                                                                                                                                                                                                                                                                                                                                                                                                                                                                                                                                                                                                                                                                                                                                                                                                                                                                                                                                                                                                                                                                                                                                                                                                                                                                                                                                                                                                                                                   1\n",
       "what makes midwest skiing better than out west?                                                                                                                                                                                                                                                                                                                                                                                                                                                                                                                                                                                                                                                                                                                                                                                                                                                                                                                                                                                                                                                                                                                                                                                                                                                                                                                                                                                                                                                                                                                                                                                                                                                                                                                                                                                                                                                                                                                                                                                                                                                                                                                                                                                                                                                                                                                                                                                                                                                                                                                                                                                                                                                                                                                                                                                                                                                                                                                                                                                                                                                                                                                                                                                           1\n",
       "why are skiers so passive aggressive?? disclaimer: am skiertoday i was on a 6 person lift (all singles so no one knew each other) and one guy was playing music out loud. i didn't mind, the other 4 people clearly minded though because they kept making all these passive aggressive comments.one example was when the music would fade in between two songs, one guy would quietly say \"this is my favorite part\". or the ski patrol guy who was on the end of the lift who kept saying \"this sucks\" but looking completely away while saying it. just the lamest passive aggression i've ever seen. no one said \"hey man could you turn that off?\" or anything of the sort.finally after 3 songs the ski patrol guy looked at him and said \"yeah this music fuckin sucks\" and the guy didn't really know what to say, turns out he was european and kinda speaking broken english so i explained some people don't like the music, he got kinda sad and then the ride ended. why all the lame passive aggressive comments?? what is up with that? don't be a bully ok rant overedit: after reading all the comments and basically only agreeing with the most downvoted ones, all i can say is:learn how to talk to peopleok fine edit pt 2: i maintain my stance but i was pretty angsty when i wrote this, i get that confrontation is uncomfortable for some people. i think skiers though (gender-neutral skiers aka skiers and boarders) are pretty friendly people and in any case the absolute worst that could happen is that they tell you no, or to fuck off or something which would be unfortunate but also unlikely and not physically harmful. no one is really angrily blasting music on the slopes, theyre just trying to have a good time like you and maybe lack some of the self awareness that you might possess which would compel you to not force your music choices onto others. try having a conversation w them rather than being kinda like a bully like these others on my lift were. (once this guy realized all the comments were directed at him, how do you think it made him feel?) maybe no one has ever tried talking to them about it and you can teach them about this common courtesy rule.                                                                                                                                                                                                                                                                                                                                                                                                                                                                                                                                                                                                                                                                                                                                                                                                                                                                                                                                                                                                    1\n",
       "sick ski edit filmed at palisades tahoe this past week :)                                                                                                                                                                                                                                                                                                                                                                                                                                                                                                                                                                                                                                                                                                                                                                                                                                                                                                                                                                                                                                                                                                                                                                                                                                                                                                                                                                                                                                                                                                                                                                                                                                                                                                                                                                                                                                                                                                                                                                                                                                                                                                                                                                                                                                                                                                                                                                                                                                                                                                                                                                                                                                                                                                                                                                                                                                                                                                                                                                                                                                                                                                                                                                                 1\n",
       "skied my first black ever today!!                                                                                                                                                                                                                                                                                                                                                                                                                                                                                                                                                                                                                                                                                                                                                                                                                                                                                                                                                                                                                                                                                                                                                                                                                                                                                                                                                                                                                                                                                                                                                                                                                                                                                                                                                                                                                                                                                                                                                                                                                                                                                                                                                                                                                                                                                                                                                                                                                                                                                                                                                                                                                                                                                                                                                                                                                                                                                                                                                                                                                                                                                                                                                                                                         1\n",
       "does it piss anyone else off when people who aren’t singles use the singles lane? or am i just an ass                                                                                                                                                                                                                                                                                                                                                                                                                                                                                                                                                                                                                                                                                                                                                                                                                                                                                                                                                                                                                                                                                                                                                                                                                                                                                                                                                                                                                                                                                                                                                                                                                                                                                                                                                                                                                                                                                                                                                                                                                                                                                                                                                                                                                                                                                                                                                                                                                                                                                                                                                                                                                                                                                                                                                                                                                                                                                                                                                                                                                                                                                                                                     1\n",
       "Name: text, dtype: int64"
      ]
     },
     "execution_count": 38,
     "metadata": {},
     "output_type": "execute_result"
    }
   ],
   "source": [
    "# Get Rid of Line Breaks\n",
    "ski['text'] = ski['text'].str.replace('\\n', '')\n",
    "ski.text.value_counts()[:15]"
   ]
  },
  {
   "cell_type": "code",
   "execution_count": 39,
   "id": "63aaef51-add0-4637-8cce-2768fa456e0b",
   "metadata": {},
   "outputs": [
    {
     "name": "stdout",
     "output_type": "stream",
     "text": [
      "CPU times: total: 15.6 ms\n",
      "Wall time: 268 ms\n"
     ]
    },
    {
     "data": {
      "text/plain": [
       "wait for it                                                                                                                                                                                                                                                                                                                                                                                                                                                                                                                                                                                                                                                                                                                                                                                                                                                                                                                                                                                                                                                                                                                                                                                                                                                                                                                                                                                                                                                                                                                                                                                                                                                                                                                                                                                                                                                                                                                                                                                                                                                                                                                                                                                                                                                                                                                                                                                                                                                                                                                                                                                                                                                                                                                                                                                                                                                                                                                                                                                                                                                                                                 2\n",
       "                                                                                                                                                                                                                                                                                                                                                                                                                                                                                                                                                                                                                                                                                                                                                                                                                                                                                                                                                                                                                                                                                                                                                                                                                                                                                                                                                                                                                                                                                                                                                                                                                                                                                                                                                                                                                                                                                                                                                                                                                                                                                                                                                                                                                                                                                                                                                                                                                                                                                                                                                                                                                                                                                                                                                                                                                                                                                                                                                                                                                                                                                                            2\n",
       "learned to 360 at 53 this wa the first day i felt i could throw a 3 consistently after several month of tiny progression and getting a few 3 s along the way this wa the first batch of 3 where i had air awareness and wa actually seeing the horizon and the landing i kinda wa forced to do them over and over again this day a each time i recruited a random stranger to get my first video they botched it and i had to go do it again thanks brian from co for getting this the only one i have ever had recorded also thanks mammoth lifty who out of the blue told me he had been watching me over a couple day and i wa going to get it dude you seemed genuinely invested and interested and it wa appreciated it s not easy trying to learn this stuff in your 50 and it s a bit lonely at time i see a lot of older skier i sometimes have to laugh when they are 32 acting like they have accomplished all they can commenting under 360 post on here about how they day dream of this but it s probably to late that wa me and i had all but given up but i just couldn t get it out of my craw now i can tell you it s very very possible the problem is adult need coached through it in it s small part and it need to be broken down into small achievable piece that don t come naturally until they are repeated like 100x each i went to a stomp it camp and it wa the game changer i wa just doing too many thing wrong on my own these stomp it coach love teaching adult i couldn t find much in the u where anyone took me seriously or really got stoked kinda mind boggling to me a i m guessing between 30 60 year old skier there are thousand who would pay for basic coaching some example of why i wa failing on my own i wasn t popping up and forward even though i thought i wa mainly because i wa starting my pop from too much in a seated position i don t even think i m good at the pop now but just barely good enough i somehow didn t realise that all the rotation happens once you are in the air i d try to start spinning a 180 on the snow a i popped there wa no way i wa going to correct these thing without coaching let alone learn the other 7 12 small skill or micro movement that make up popping 180s and eventually 360s interestingly i got the first 2 360s i tried largely because i had practiced 100 of the pre skill and wa getting good at all the skill leading up to it i got these two the last hour of camp so i went back home to the u and i wasn t consistent at it it wa mostly that i kinda reverted to being scared to go for them i wa again a little demoralized i thought i wa done till next year until the vids and pic out of mammoth got me on a plane for 4 final day the first two day were so so plenty of good 180s but still hesitant on actually committing to 3 then day 3 all that progression and practice just came together and it started to feel kinda easy happy to answer any question or try to meet up with any others who feel they missed the boat on freestyle and are a little bitter about it    2\n",
       "if you know you know                                                                                                                                                                                                                                                                                                                                                                                                                                                                                                                                                                                                                                                                                                                                                                                                                                                                                                                                                                                                                                                                                                                                                                                                                                                                                                                                                                                                                                                                                                                                                                                                                                                                                                                                                                                                                                                                                                                                                                                                                                                                                                                                                                                                                                                                                                                                                                                                                                                                                                                                                                                                                                                                                                                                                                                                                                                                                                                                                                                                                                                                                        2\n",
       "curated referral code c oliver 591                                                                                                                                                                                                                                                                                                                                                                                                                                                                                                                                                                                                                                                                                                                                                                                                                                                                                                                                                                                                                                                                                                                                                                                                                                                                                                                                                                                                                                                                                                                                                                                                                                                                                                                                                                                                                                                                                                                                                                                                                                                                                                                                                                                                                                                                                                                                                                                                                                                                                                                                                                                                                                                                                                                                                                                                                                                                                                                                                                                                                                                                          1\n",
       "any skier watch college football                                                                                                                                                                                                                                                                                                                                                                                                                                                                                                                                                                                                                                                                                                                                                                                                                                                                                                                                                                                                                                                                                                                                                                                                                                                                                                                                                                                                                                                                                                                                                                                                                                                                                                                                                                                                                                                                                                                                                                                                                                                                                                                                                                                                                                                                                                                                                                                                                                                                                                                                                                                                                                                                                                                                                                                                                                                                                                                                                                                                                                                                            1\n",
       "skied my first black ever today                                                                                                                                                                                                                                                                                                                                                                                                                                                                                                                                                                                                                                                                                                                                                                                                                                                                                                                                                                                                                                                                                                                                                                                                                                                                                                                                                                                                                                                                                                                                                                                                                                                                                                                                                                                                                                                                                                                                                                                                                                                                                                                                                                                                                                                                                                                                                                                                                                                                                                                                                                                                                                                                                                                                                                                                                                                                                                                                                                                                                                                                             1\n",
       "not my best flip but i m proud of how i m progressing in the bump                                                                                                                                                                                                                                                                                                                                                                                                                                                                                                                                                                                                                                                                                                                                                                                                                                                                                                                                                                                                                                                                                                                                                                                                                                                                                                                                                                                                                                                                                                                                                                                                                                                                                                                                                                                                                                                                                                                                                                                                                                                                                                                                                                                                                                                                                                                                                                                                                                                                                                                                                                                                                                                                                                                                                                                                                                                                                                                                                                                                                                           1\n",
       "my first backflip attempt almost took out the chairlift                                                                                                                                                                                                                                                                                                                                                                                                                                                                                                                                                                                                                                                                                                                                                                                                                                                                                                                                                                                                                                                                                                                                                                                                                                                                                                                                                                                                                                                                                                                                                                                                                                                                                                                                                                                                                                                                                                                                                                                                                                                                                                                                                                                                                                                                                                                                                                                                                                                                                                                                                                                                                                                                                                                                                                                                                                                                                                                                                                                                                                                     1\n",
       "reminder to not cut people in long lift line                                                                                                                                                                                                                                                                                                                                                                                                                                                                                                                                                                                                                                                                                                                                                                                                                                                                                                                                                                                                                                                                                                                                                                                                                                                                                                                                                                                                                                                                                                                                                                                                                                                                                                                                                                                                                                                                                                                                                                                                                                                                                                                                                                                                                                                                                                                                                                                                                                                                                                                                                                                                                                                                                                                                                                                                                                                                                                                                                                                                                                                                1\n",
       "Name: lem_text, dtype: int64"
      ]
     },
     "execution_count": 39,
     "metadata": {},
     "output_type": "execute_result"
    }
   ],
   "source": [
    "%%time\n",
    "\n",
    "# Apply Lemmitazation - Create New Column w/ Lemmatized Results for EDA\n",
    "ski['lem_text'] = ski['text'].apply(lemmatize_txt)\n",
    "ski.lem_text.value_counts()[:10]"
   ]
  },
  {
   "cell_type": "code",
   "execution_count": 40,
   "id": "6943d199-62a6-4c80-9a59-228c2e28aa1d",
   "metadata": {},
   "outputs": [
    {
     "name": "stdout",
     "output_type": "stream",
     "text": [
      "CPU times: total: 15.6 ms\n",
      "Wall time: 1 s\n"
     ]
    },
    {
     "data": {
      "text/plain": [
       "wait for it                                                                                                                                                                                                                                                                                                                                                                                                                                                                                                                                                                                                                                                                                                                                                                                                                                                                                                                                                                                                                                                                                                                                                                                                                                                                                                                                                                                                                                                                                                                                                                                                                                                                                                                                                                                                                                                                                                                                                                                                                                                                                                                                                                                                                                                                                                                                                                                                                                                                                                                                                                                                                                                                                                                                                                                                                                                                         2\n",
       "                                                                                                                                                                                                                                                                                                                                                                                                                                                                                                                                                                                                                                                                                                                                                                                                                                                                                                                                                                                                                                                                                                                                                                                                                                                                                                                                                                                                                                                                                                                                                                                                                                                                                                                                                                                                                                                                                                                                                                                                                                                                                                                                                                                                                                                                                                                                                                                                                                                                                                                                                                                                                                                                                                                                                                                                                                                                                    2\n",
       "learn to 360 at 53 thi wa the first day i felt i could throw a 3 consist after sever month of tini progress and get a few 3 s along the way thi wa the first batch of 3s where i had air awar and wa actual see the horizon and the land i kinda wa forc to do them over and over again thi day as each time i recruit a random stranger to get my first video they botch it and i had to go do it again thank brian from co for get thi the onli one i have ever had record also thank mammoth lifti who out of the blue told me he had been watch me over a coupl day and i wa go to get it dude you seem genuin invest and interest and it wa appreci it s not easi tri to learn thi stuff in your 50 and it s a bit lone at time i see a lot of older skier i sometim have to laugh when they are 32 act like they have accomplish all they can comment under 360 post on here about how they day dream of thi but it s probabl to late that wa me and i had all but given up but i just couldn t get it out of my craw now i can tell you it s veri veri possibl the problem is adult need coach through it in it s small part and it need to be broken down into small achiev piec that don t come natur until they are repeat like 100x each i went to a stomp it camp and it wa the game changer i wa just do too mani thing wrong on my own these stomp it coach love teach adult i couldn t find much in the us where anyon took me serious or realli got stoke kinda mind boggl to me as i m guess between 30 60 year old skier there are thousand who would pay for basic coach some exampl of whi i wa fail on my own i wasn t pop up and forward even though i thought i wa mainli becaus i wa start my pop from too much in a seat posit i don t even think i m good at the pop now but just bare good enough i somehow didn t realis that all the rotat happen onc you are in the air i d tri to start spin a 180 on the snow as i pop there wa no way i wa go to correct these thing without coach let alon learn the other 7 12 small skill or micro movement that make up pop 180 and eventu 360 interestingli i got the first 2 360 i tri larg becaus i had practic 100 of the pre skill and wa get good at all the skill lead up to it i got these two the last hour of camp so i went back home to the us and i wasn t consist at it it wa mostli that i kinda revert to be scare to go for them i wa again a littl demor i thought i wa done till next year until the vid and pic out of mammoth got me on a plane for 4 final day the first two day were so so plenti of good 180 but still hesit on actual commit to 3s then day 3 all that progress and practic just came togeth and it start to feel kinda easi happi to answer ani question or tri to meet up with ani other who feel they miss the boat on freestyl and are a littl bitter about it    2\n",
       "if you know you know                                                                                                                                                                                                                                                                                                                                                                                                                                                                                                                                                                                                                                                                                                                                                                                                                                                                                                                                                                                                                                                                                                                                                                                                                                                                                                                                                                                                                                                                                                                                                                                                                                                                                                                                                                                                                                                                                                                                                                                                                                                                                                                                                                                                                                                                                                                                                                                                                                                                                                                                                                                                                                                                                                                                                                                                                                                                2\n",
       "curat referr code c oliv 591                                                                                                                                                                                                                                                                                                                                                                                                                                                                                                                                                                                                                                                                                                                                                                                                                                                                                                                                                                                                                                                                                                                                                                                                                                                                                                                                                                                                                                                                                                                                                                                                                                                                                                                                                                                                                                                                                                                                                                                                                                                                                                                                                                                                                                                                                                                                                                                                                                                                                                                                                                                                                                                                                                                                                                                                                                                        1\n",
       "ani skier watch colleg footbal                                                                                                                                                                                                                                                                                                                                                                                                                                                                                                                                                                                                                                                                                                                                                                                                                                                                                                                                                                                                                                                                                                                                                                                                                                                                                                                                                                                                                                                                                                                                                                                                                                                                                                                                                                                                                                                                                                                                                                                                                                                                                                                                                                                                                                                                                                                                                                                                                                                                                                                                                                                                                                                                                                                                                                                                                                                      1\n",
       "ski my first black ever today                                                                                                                                                                                                                                                                                                                                                                                                                                                                                                                                                                                                                                                                                                                                                                                                                                                                                                                                                                                                                                                                                                                                                                                                                                                                                                                                                                                                                                                                                                                                                                                                                                                                                                                                                                                                                                                                                                                                                                                                                                                                                                                                                                                                                                                                                                                                                                                                                                                                                                                                                                                                                                                                                                                                                                                                                                                       1\n",
       "not my best flip but i m proud of how i m progress in the bump                                                                                                                                                                                                                                                                                                                                                                                                                                                                                                                                                                                                                                                                                                                                                                                                                                                                                                                                                                                                                                                                                                                                                                                                                                                                                                                                                                                                                                                                                                                                                                                                                                                                                                                                                                                                                                                                                                                                                                                                                                                                                                                                                                                                                                                                                                                                                                                                                                                                                                                                                                                                                                                                                                                                                                                                                      1\n",
       "my first backflip attempt almost took out the chairlift                                                                                                                                                                                                                                                                                                                                                                                                                                                                                                                                                                                                                                                                                                                                                                                                                                                                                                                                                                                                                                                                                                                                                                                                                                                                                                                                                                                                                                                                                                                                                                                                                                                                                                                                                                                                                                                                                                                                                                                                                                                                                                                                                                                                                                                                                                                                                                                                                                                                                                                                                                                                                                                                                                                                                                                                                             1\n",
       "remind to not cut peopl in long lift line                                                                                                                                                                                                                                                                                                                                                                                                                                                                                                                                                                                                                                                                                                                                                                                                                                                                                                                                                                                                                                                                                                                                                                                                                                                                                                                                                                                                                                                                                                                                                                                                                                                                                                                                                                                                                                                                                                                                                                                                                                                                                                                                                                                                                                                                                                                                                                                                                                                                                                                                                                                                                                                                                                                                                                                                                                           1\n",
       "Name: stem_text, dtype: int64"
      ]
     },
     "execution_count": 40,
     "metadata": {},
     "output_type": "execute_result"
    }
   ],
   "source": [
    "%%time\n",
    "\n",
    "# Apply Stemming - Create New Column w/ Stemmed Results for EDA\n",
    "ski['stem_text'] = ski['text'].apply(stem_txt)\n",
    "ski.stem_text.value_counts()[:10]"
   ]
  },
  {
   "cell_type": "code",
   "execution_count": 41,
   "id": "80df7af4-7d27-48d9-91fc-b1429e460377",
   "metadata": {},
   "outputs": [
    {
     "data": {
      "text/html": [
       "<div>\n",
       "<style scoped>\n",
       "    .dataframe tbody tr th:only-of-type {\n",
       "        vertical-align: middle;\n",
       "    }\n",
       "\n",
       "    .dataframe tbody tr th {\n",
       "        vertical-align: top;\n",
       "    }\n",
       "\n",
       "    .dataframe thead th {\n",
       "        text-align: right;\n",
       "    }\n",
       "</style>\n",
       "<table border=\"1\" class=\"dataframe\">\n",
       "  <thead>\n",
       "    <tr style=\"text-align: right;\">\n",
       "      <th></th>\n",
       "      <th>created_utc</th>\n",
       "      <th>author</th>\n",
       "      <th>title</th>\n",
       "      <th>selftext</th>\n",
       "      <th>score</th>\n",
       "      <th>upvote_ratio</th>\n",
       "      <th>num_comments</th>\n",
       "      <th>subreddit</th>\n",
       "      <th>text</th>\n",
       "      <th>lem_text</th>\n",
       "      <th>stem_text</th>\n",
       "    </tr>\n",
       "  </thead>\n",
       "  <tbody>\n",
       "    <tr>\n",
       "      <th>2184</th>\n",
       "      <td>1.598200e+09</td>\n",
       "      <td>snusmumien</td>\n",
       "      <td>Wait for it..</td>\n",
       "      <td></td>\n",
       "      <td>1789</td>\n",
       "      <td>1.00</td>\n",
       "      <td>57</td>\n",
       "      <td>skiing</td>\n",
       "      <td>wait for it..</td>\n",
       "      <td>wait for it</td>\n",
       "      <td>wait for it</td>\n",
       "    </tr>\n",
       "    <tr>\n",
       "      <th>2395</th>\n",
       "      <td>1.637766e+09</td>\n",
       "      <td>shredmeister404</td>\n",
       "      <td>Wait for it</td>\n",
       "      <td></td>\n",
       "      <td>1558</td>\n",
       "      <td>0.97</td>\n",
       "      <td>56</td>\n",
       "      <td>skiing</td>\n",
       "      <td>wait for it</td>\n",
       "      <td>wait for it</td>\n",
       "      <td>wait for it</td>\n",
       "    </tr>\n",
       "  </tbody>\n",
       "</table>\n",
       "</div>"
      ],
      "text/plain": [
       "       created_utc           author          title selftext  score  \\\n",
       "2184  1.598200e+09       snusmumien  Wait for it..            1789   \n",
       "2395  1.637766e+09  shredmeister404    Wait for it            1558   \n",
       "\n",
       "      upvote_ratio  num_comments subreddit            text     lem_text  \\\n",
       "2184          1.00            57    skiing  wait for it..   wait for it   \n",
       "2395          0.97            56    skiing    wait for it   wait for it   \n",
       "\n",
       "        stem_text  \n",
       "2184  wait for it  \n",
       "2395  wait for it  "
      ]
     },
     "execution_count": 41,
     "metadata": {},
     "output_type": "execute_result"
    }
   ],
   "source": [
    "# Duplicates after Lemming and Stemming, Take a Look at an Example\n",
    "\n",
    "ski[ski.stem_text == 'wait for it']\n",
    "# Duplicates after stemming/lemmatizing are okay - they are coming from different post/authors"
   ]
  },
  {
   "cell_type": "code",
   "execution_count": 42,
   "id": "c1b4573e-6fbf-4b4e-abf4-34de1d3325c3",
   "metadata": {},
   "outputs": [
    {
     "data": {
      "text/html": [
       "<div>\n",
       "<style scoped>\n",
       "    .dataframe tbody tr th:only-of-type {\n",
       "        vertical-align: middle;\n",
       "    }\n",
       "\n",
       "    .dataframe tbody tr th {\n",
       "        vertical-align: top;\n",
       "    }\n",
       "\n",
       "    .dataframe thead th {\n",
       "        text-align: right;\n",
       "    }\n",
       "</style>\n",
       "<table border=\"1\" class=\"dataframe\">\n",
       "  <thead>\n",
       "    <tr style=\"text-align: right;\">\n",
       "      <th></th>\n",
       "      <th>created_utc</th>\n",
       "      <th>author</th>\n",
       "      <th>title</th>\n",
       "      <th>selftext</th>\n",
       "      <th>score</th>\n",
       "      <th>upvote_ratio</th>\n",
       "      <th>num_comments</th>\n",
       "      <th>subreddit</th>\n",
       "      <th>text</th>\n",
       "      <th>lem_text</th>\n",
       "      <th>stem_text</th>\n",
       "    </tr>\n",
       "  </thead>\n",
       "  <tbody>\n",
       "    <tr>\n",
       "      <th>0</th>\n",
       "      <td>1.686693e+09</td>\n",
       "      <td>OLIIIIIEVR</td>\n",
       "      <td>Curated referral code c-Oliver-591</td>\n",
       "      <td></td>\n",
       "      <td>0</td>\n",
       "      <td>0.13</td>\n",
       "      <td>0</td>\n",
       "      <td>skiing</td>\n",
       "      <td>curated referral code c-oliver-591</td>\n",
       "      <td>curated referral code c oliver 591</td>\n",
       "      <td>curat referr code c oliv 591</td>\n",
       "    </tr>\n",
       "    <tr>\n",
       "      <th>1</th>\n",
       "      <td>1.686677e+09</td>\n",
       "      <td>Asby2151</td>\n",
       "      <td>Are monoskis anymore dangerous than regular sk...</td>\n",
       "      <td></td>\n",
       "      <td>5</td>\n",
       "      <td>0.73</td>\n",
       "      <td>9</td>\n",
       "      <td>skiing</td>\n",
       "      <td>are monoskis anymore dangerous than regular sk...</td>\n",
       "      <td>are monoskis anymore dangerous than regular sk...</td>\n",
       "      <td>are monoski anymor danger than regular ski for...</td>\n",
       "    </tr>\n",
       "    <tr>\n",
       "      <th>2</th>\n",
       "      <td>1.686672e+09</td>\n",
       "      <td>IBTaylor</td>\n",
       "      <td>A big steep line I sent this winter.</td>\n",
       "      <td></td>\n",
       "      <td>2311</td>\n",
       "      <td>0.94</td>\n",
       "      <td>175</td>\n",
       "      <td>skiing</td>\n",
       "      <td>a big steep line i sent this winter.</td>\n",
       "      <td>a big steep line i sent this winter</td>\n",
       "      <td>a big steep line i sent thi winter</td>\n",
       "    </tr>\n",
       "    <tr>\n",
       "      <th>3</th>\n",
       "      <td>1.686665e+09</td>\n",
       "      <td>avalanchepacifist</td>\n",
       "      <td>Vail Sun Down Express: A Game Changer for the ...</td>\n",
       "      <td></td>\n",
       "      <td>19</td>\n",
       "      <td>0.77</td>\n",
       "      <td>3</td>\n",
       "      <td>skiing</td>\n",
       "      <td>vail sun down express: a game changer for the ...</td>\n",
       "      <td>vail sun down express a game changer for the b...</td>\n",
       "      <td>vail sun down express a game changer for the b...</td>\n",
       "    </tr>\n",
       "    <tr>\n",
       "      <th>4</th>\n",
       "      <td>1.686623e+09</td>\n",
       "      <td>bradbrookequincy</td>\n",
       "      <td>Learned to 360 at 53</td>\n",
       "      <td>This was the first day I felt I could throw a ...</td>\n",
       "      <td>440</td>\n",
       "      <td>0.98</td>\n",
       "      <td>38</td>\n",
       "      <td>skiing</td>\n",
       "      <td>learned to 360 at 53 this was the first day i ...</td>\n",
       "      <td>learned to 360 at 53 this wa the first day i f...</td>\n",
       "      <td>learn to 360 at 53 thi wa the first day i felt...</td>\n",
       "    </tr>\n",
       "  </tbody>\n",
       "</table>\n",
       "</div>"
      ],
      "text/plain": [
       "    created_utc             author  \\\n",
       "0  1.686693e+09         OLIIIIIEVR   \n",
       "1  1.686677e+09           Asby2151   \n",
       "2  1.686672e+09           IBTaylor   \n",
       "3  1.686665e+09  avalanchepacifist   \n",
       "4  1.686623e+09   bradbrookequincy   \n",
       "\n",
       "                                               title  \\\n",
       "0                 Curated referral code c-Oliver-591   \n",
       "1  Are monoskis anymore dangerous than regular sk...   \n",
       "2               A big steep line I sent this winter.   \n",
       "3  Vail Sun Down Express: A Game Changer for the ...   \n",
       "4                               Learned to 360 at 53   \n",
       "\n",
       "                                            selftext  score  upvote_ratio  \\\n",
       "0                                                         0          0.13   \n",
       "1                                                         5          0.73   \n",
       "2                                                      2311          0.94   \n",
       "3                                                        19          0.77   \n",
       "4  This was the first day I felt I could throw a ...    440          0.98   \n",
       "\n",
       "   num_comments subreddit                                               text  \\\n",
       "0             0    skiing                curated referral code c-oliver-591    \n",
       "1             9    skiing  are monoskis anymore dangerous than regular sk...   \n",
       "2           175    skiing              a big steep line i sent this winter.    \n",
       "3             3    skiing  vail sun down express: a game changer for the ...   \n",
       "4            38    skiing  learned to 360 at 53 this was the first day i ...   \n",
       "\n",
       "                                            lem_text  \\\n",
       "0                 curated referral code c oliver 591   \n",
       "1  are monoskis anymore dangerous than regular sk...   \n",
       "2                a big steep line i sent this winter   \n",
       "3  vail sun down express a game changer for the b...   \n",
       "4  learned to 360 at 53 this wa the first day i f...   \n",
       "\n",
       "                                           stem_text  \n",
       "0                       curat referr code c oliv 591  \n",
       "1  are monoski anymor danger than regular ski for...  \n",
       "2                 a big steep line i sent thi winter  \n",
       "3  vail sun down express a game changer for the b...  \n",
       "4  learn to 360 at 53 thi wa the first day i felt...  "
      ]
     },
     "execution_count": 42,
     "metadata": {},
     "output_type": "execute_result"
    }
   ],
   "source": [
    "ski.head()"
   ]
  },
  {
   "cell_type": "markdown",
   "id": "c6e1c12d-622a-42aa-9003-97e33aaaa2a5",
   "metadata": {},
   "source": [
    "### Save Dataset for EDA"
   ]
  },
  {
   "cell_type": "code",
   "execution_count": 43,
   "id": "a02c5c6a-5463-4b7e-a0e2-3693b0b9cfef",
   "metadata": {},
   "outputs": [],
   "source": [
    "combo = pd.concat([snow, ski])"
   ]
  },
  {
   "cell_type": "code",
   "execution_count": 46,
   "id": "12fc33c5-b9e6-401e-b758-f126150530bc",
   "metadata": {},
   "outputs": [],
   "source": [
    "combo.to_csv('../data/Clean/snow_ski.csv', index=False)"
   ]
  }
 ],
 "metadata": {
  "kernelspec": {
   "display_name": "Python 3 (ipykernel)",
   "language": "python",
   "name": "python3"
  },
  "language_info": {
   "codemirror_mode": {
    "name": "ipython",
    "version": 3
   },
   "file_extension": ".py",
   "mimetype": "text/x-python",
   "name": "python",
   "nbconvert_exporter": "python",
   "pygments_lexer": "ipython3",
   "version": "3.10.9"
  }
 },
 "nbformat": 4,
 "nbformat_minor": 5
}
